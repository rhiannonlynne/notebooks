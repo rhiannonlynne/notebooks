{
 "cells": [
  {
   "cell_type": "code",
   "execution_count": 1,
   "id": "e786fbbe-2f46-4891-8475-95a58a59d140",
   "metadata": {
    "tags": []
   },
   "outputs": [],
   "source": [
    "import os\n",
    "import pickle\n",
    "from astropy.time import Time\n",
    "from lsst_efd_client import EfdClient\n",
    "#from lsst.resources import ResourcePath\n",
    "\n",
    "from rubin_sim.scheduler.schedulers import CoreScheduler\n",
    "from rubin_sim.scheduler.features import Conditions\n",
    "from rubin_sim.site_models import Almanac\n",
    "\n",
    "#from lsst.rsp import get_access_token"
   ]
  },
  {
   "cell_type": "code",
   "execution_count": 2,
   "id": "767c7e6c-1f17-42d7-aa8d-5fe7fcede211",
   "metadata": {
    "tags": []
   },
   "outputs": [
    {
     "data": {
      "text/plain": [
       "['lsst.sal.Scheduler.ackcmd',\n",
       " 'lsst.sal.Scheduler.command_addBlock',\n",
       " 'lsst.sal.Scheduler.command_disable',\n",
       " 'lsst.sal.Scheduler.command_enable',\n",
       " 'lsst.sal.Scheduler.command_exitControl',\n",
       " 'lsst.sal.Scheduler.command_resume',\n",
       " 'lsst.sal.Scheduler.command_setLogLevel',\n",
       " 'lsst.sal.Scheduler.command_standby',\n",
       " 'lsst.sal.Scheduler.command_start',\n",
       " 'lsst.sal.Scheduler.command_stop',\n",
       " 'lsst.sal.Scheduler.logevent_authList',\n",
       " 'lsst.sal.Scheduler.logevent_blockInventory',\n",
       " 'lsst.sal.Scheduler.logevent_blockStatus',\n",
       " 'lsst.sal.Scheduler.logevent_configurationApplied',\n",
       " 'lsst.sal.Scheduler.logevent_configurationsAvailable',\n",
       " 'lsst.sal.Scheduler.logevent_dependenciesVersions',\n",
       " 'lsst.sal.Scheduler.logevent_detailedState',\n",
       " 'lsst.sal.Scheduler.logevent_domeConfig',\n",
       " 'lsst.sal.Scheduler.logevent_errorCode',\n",
       " 'lsst.sal.Scheduler.logevent_generalInfo',\n",
       " 'lsst.sal.Scheduler.logevent_heartbeat',\n",
       " 'lsst.sal.Scheduler.logevent_largeFileObjectAvailable',\n",
       " 'lsst.sal.Scheduler.logevent_logLevel',\n",
       " 'lsst.sal.Scheduler.logevent_logMessage',\n",
       " 'lsst.sal.Scheduler.logevent_obsSiteConfig',\n",
       " 'lsst.sal.Scheduler.logevent_observation',\n",
       " 'lsst.sal.Scheduler.logevent_opticsLoopCorrConfig',\n",
       " 'lsst.sal.Scheduler.logevent_parkConfig',\n",
       " 'lsst.sal.Scheduler.logevent_predictedSchedule',\n",
       " 'lsst.sal.Scheduler.logevent_rotatorConfig',\n",
       " 'lsst.sal.Scheduler.logevent_simulationMode',\n",
       " 'lsst.sal.Scheduler.logevent_slewConfig',\n",
       " 'lsst.sal.Scheduler.logevent_softwareVersions',\n",
       " 'lsst.sal.Scheduler.logevent_summaryState',\n",
       " 'lsst.sal.Scheduler.logevent_surveyTopology',\n",
       " 'lsst.sal.Scheduler.logevent_target',\n",
       " 'lsst.sal.Scheduler.logevent_telescopeConfig',\n",
       " 'lsst.sal.Scheduler.logevent_timeToNextTarget',\n",
       " 'lsst.sal.Scheduler.observatoryState']"
      ]
     },
     "execution_count": 2,
     "metadata": {},
     "output_type": "execute_result"
    }
   ],
   "source": [
    "efd_client = EfdClient(\"usdf_efd\")\n",
    "\n",
    "topics = await efd_client.get_topics()\n",
    "[t for t in topics if \"Scheduler\" in t]\n",
    "#topics"
   ]
  },
  {
   "cell_type": "code",
   "execution_count": 3,
   "id": "d300bde4-e18d-45de-94c6-0b2c29472b80",
   "metadata": {
    "tags": []
   },
   "outputs": [
    {
     "data": {
      "text/plain": [
       "['generalPropos',\n",
       " 'numGeneralProps',\n",
       " 'numSeqProps',\n",
       " 'private_efdStamp',\n",
       " 'private_identity',\n",
       " 'private_kafkaStamp',\n",
       " 'private_origin',\n",
       " 'private_rcvStamp',\n",
       " 'private_revCode',\n",
       " 'private_seqNum',\n",
       " 'private_sndStamp',\n",
       " 'salIndex',\n",
       " 'sequencePropos']"
      ]
     },
     "execution_count": 3,
     "metadata": {},
     "output_type": "execute_result"
    }
   ],
   "source": [
    "await efd_client.get_fields('lsst.sal.Scheduler.logevent_surveyTopology')"
   ]
  },
  {
   "cell_type": "code",
   "execution_count": 4,
   "id": "b01b9a7c-68bd-4038-b5b0-a9b717d698e4",
   "metadata": {
    "tags": []
   },
   "outputs": [
    {
     "data": {
      "text/html": [
       "<div>\n",
       "<style scoped>\n",
       "    .dataframe tbody tr th:only-of-type {\n",
       "        vertical-align: middle;\n",
       "    }\n",
       "\n",
       "    .dataframe tbody tr th {\n",
       "        vertical-align: top;\n",
       "    }\n",
       "\n",
       "    .dataframe thead th {\n",
       "        text-align: right;\n",
       "    }\n",
       "</style>\n",
       "<table border=\"1\" class=\"dataframe\">\n",
       "  <thead>\n",
       "    <tr style=\"text-align: right;\">\n",
       "      <th></th>\n",
       "      <th>url</th>\n",
       "    </tr>\n",
       "  </thead>\n",
       "  <tbody>\n",
       "    <tr>\n",
       "      <th>2023-10-10 23:57:26.220941+00:00</th>\n",
       "      <td>https://s3.cp.lsst.org/rubinobs-lfa-cp/Schedul...</td>\n",
       "    </tr>\n",
       "    <tr>\n",
       "      <th>2023-10-11 00:09:08.652330+00:00</th>\n",
       "      <td>https://s3.cp.lsst.org/rubinobs-lfa-cp/Schedul...</td>\n",
       "    </tr>\n",
       "    <tr>\n",
       "      <th>2023-10-11 00:15:16.909856+00:00</th>\n",
       "      <td>https://s3.cp.lsst.org/rubinobs-lfa-cp/Schedul...</td>\n",
       "    </tr>\n",
       "    <tr>\n",
       "      <th>2023-10-11 00:30:49.973907+00:00</th>\n",
       "      <td>https://s3.cp.lsst.org/rubinobs-lfa-cp/Schedul...</td>\n",
       "    </tr>\n",
       "    <tr>\n",
       "      <th>2023-10-11 00:35:23.006927+00:00</th>\n",
       "      <td>https://s3.cp.lsst.org/rubinobs-lfa-cp/Schedul...</td>\n",
       "    </tr>\n",
       "    <tr>\n",
       "      <th>...</th>\n",
       "      <td>...</td>\n",
       "    </tr>\n",
       "    <tr>\n",
       "      <th>2023-10-11 08:44:29.629887+00:00</th>\n",
       "      <td>https://s3.cp.lsst.org/rubinobs-lfa-cp/Schedul...</td>\n",
       "    </tr>\n",
       "    <tr>\n",
       "      <th>2023-10-11 08:48:58.712387+00:00</th>\n",
       "      <td>https://s3.cp.lsst.org/rubinobs-lfa-cp/Schedul...</td>\n",
       "    </tr>\n",
       "    <tr>\n",
       "      <th>2023-10-11 08:58:01.292416+00:00</th>\n",
       "      <td>https://s3.cp.lsst.org/rubinobs-lfa-cp/Schedul...</td>\n",
       "    </tr>\n",
       "    <tr>\n",
       "      <th>2023-10-11 08:58:11.318659+00:00</th>\n",
       "      <td>https://s3.cp.lsst.org/rubinobs-lfa-cp/Schedul...</td>\n",
       "    </tr>\n",
       "    <tr>\n",
       "      <th>2023-10-11 09:03:20.864945+00:00</th>\n",
       "      <td>https://s3.cp.lsst.org/rubinobs-lfa-cp/Schedul...</td>\n",
       "    </tr>\n",
       "  </tbody>\n",
       "</table>\n",
       "<p>83 rows × 1 columns</p>\n",
       "</div>"
      ],
      "text/plain": [
       "                                                                                url\n",
       "2023-10-10 23:57:26.220941+00:00  https://s3.cp.lsst.org/rubinobs-lfa-cp/Schedul...\n",
       "2023-10-11 00:09:08.652330+00:00  https://s3.cp.lsst.org/rubinobs-lfa-cp/Schedul...\n",
       "2023-10-11 00:15:16.909856+00:00  https://s3.cp.lsst.org/rubinobs-lfa-cp/Schedul...\n",
       "2023-10-11 00:30:49.973907+00:00  https://s3.cp.lsst.org/rubinobs-lfa-cp/Schedul...\n",
       "2023-10-11 00:35:23.006927+00:00  https://s3.cp.lsst.org/rubinobs-lfa-cp/Schedul...\n",
       "...                                                                             ...\n",
       "2023-10-11 08:44:29.629887+00:00  https://s3.cp.lsst.org/rubinobs-lfa-cp/Schedul...\n",
       "2023-10-11 08:48:58.712387+00:00  https://s3.cp.lsst.org/rubinobs-lfa-cp/Schedul...\n",
       "2023-10-11 08:58:01.292416+00:00  https://s3.cp.lsst.org/rubinobs-lfa-cp/Schedul...\n",
       "2023-10-11 08:58:11.318659+00:00  https://s3.cp.lsst.org/rubinobs-lfa-cp/Schedul...\n",
       "2023-10-11 09:03:20.864945+00:00  https://s3.cp.lsst.org/rubinobs-lfa-cp/Schedul...\n",
       "\n",
       "[83 rows x 1 columns]"
      ]
     },
     "execution_count": 4,
     "metadata": {},
     "output_type": "execute_result"
    }
   ],
   "source": [
    "good_locs = {\"USDF\" : \"usdf\", \"SUMMIT\": \"summit\"}\n",
    "\n",
    "loc = \"usdf\"\n",
    "efd_client = EfdClient(f\"{loc}_efd\")\n",
    "\n",
    "# Look at EFD events in a particular night\n",
    "night = Time('2023-10-11', format='isot')\n",
    "almanac = Almanac()\n",
    "sunset = Time(almanac.get_sunset_info(night.mjd)[1], format='mjd', scale='utc')\n",
    "sunrise = Time(almanac.get_sunset_info(night.mjd)[-1], format='mjd', scale='utc')\n",
    "\n",
    "# Get all scheduler snapshots for a given night\n",
    "topic = \"lsst.sal.Scheduler.logevent_largeFileObjectAvailable\"\n",
    "fields = [\"url\"]\n",
    "\n",
    "# or if we wanted all exposures taken in that night \n",
    "#topic = \"lsst.sal.Scheduler.logevent_observation\"\n",
    "#fields = [\"mjd\", \"ra\", \"decl\", \"filter\", \"rotSkyPos\", \"exptime\", \"nexp\", \"targetId\", \"additionalInfo\"]\n",
    "\n",
    "dd = await efd_client.select_time_series(topic, fields, sunset, sunrise, index=2)\n",
    "dd"
   ]
  },
  {
   "cell_type": "code",
   "execution_count": 6,
   "id": "21e04aa2",
   "metadata": {},
   "outputs": [
    {
     "data": {
      "text/plain": [
       "'2.1.0'"
      ]
     },
     "execution_count": 6,
     "metadata": {},
     "output_type": "execute_result"
    }
   ],
   "source": [
    "import pandas\n",
    "pandas.__version__"
   ]
  },
  {
   "cell_type": "code",
   "execution_count": 5,
   "id": "b806450e-9a46-44c5-998c-a1181cd16724",
   "metadata": {
    "tags": []
   },
   "outputs": [],
   "source": [
    "url = dd.url[0]\n",
    "from urllib.parse import urlparse\n",
    "bucket = \"s3://rubin:\"\n",
    "uri = ResourcePath(bucket + urlparse(url).path.lstrip('/'))"
   ]
  },
  {
   "cell_type": "code",
   "execution_count": 6,
   "id": "1ef95f73-12a6-4cc9-84a6-ff54e20ae3cf",
   "metadata": {},
   "outputs": [],
   "source": [
    "token_path = '/Users/lynnej/lj_rsp_token'\n",
    "os.environ['ACCESS_TOKEN'] = token_path\n",
    "get_access_token()\n",
    "\n",
    "os.environ[\"S3_ENDPOINT_URL\"] = \"https://s3dfrgw.slac.stanford.edu\"\n",
    "os.environ[\"LSST_DISABLE_BUCKET_VALIDATION\"] = \"1\""
   ]
  },
  {
   "cell_type": "code",
   "execution_count": 7,
   "id": "9ad9b25d-c02d-4a50-bac5-57731baf948d",
   "metadata": {
    "tags": []
   },
   "outputs": [],
   "source": [
    "result = uri.read()"
   ]
  },
  {
   "cell_type": "code",
   "execution_count": 8,
   "id": "8b1cf06f-d3b7-4949-b91b-3ebf12f936e8",
   "metadata": {
    "tags": []
   },
   "outputs": [],
   "source": [
    "sched, conditions = pickle.loads(result)\n",
    "assert isinstance(sched, CoreScheduler)\n",
    "assert isinstance(conditions, Conditions)"
   ]
  },
  {
   "cell_type": "code",
   "execution_count": null,
   "id": "cf07443c-fb51-4ea6-b19d-5b7e3e5a938a",
   "metadata": {},
   "outputs": [],
   "source": []
  }
 ],
 "metadata": {
  "kernelspec": {
   "display_name": "Python 3 (ipykernel)",
   "language": "python",
   "name": "python3"
  },
  "language_info": {
   "codemirror_mode": {
    "name": "ipython",
    "version": 3
   },
   "file_extension": ".py",
   "mimetype": "text/x-python",
   "name": "python",
   "nbconvert_exporter": "python",
   "pygments_lexer": "ipython3",
   "version": "3.11.5"
  }
 },
 "nbformat": 4,
 "nbformat_minor": 5
}
