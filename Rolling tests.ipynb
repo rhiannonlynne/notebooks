{
 "cells": [
  {
   "cell_type": "code",
   "execution_count": 2,
   "metadata": {},
   "outputs": [],
   "source": [
    "import numpy as np\n",
    "import pandas as pd\n",
    "import matplotlib.pyplot as plt\n",
    "%matplotlib inline"
   ]
  },
  {
   "cell_type": "code",
   "execution_count": 3,
   "metadata": {},
   "outputs": [],
   "source": [
    "import sys\n",
    "sys.path.append('/Users/lynnej/otherRepos/survey_strategy_wp/tools/')\n",
    "from lynnesim import LynneSim"
   ]
  },
  {
   "cell_type": "code",
   "execution_count": 4,
   "metadata": {},
   "outputs": [],
   "source": [
    "wfd_visit_distrib = {'u': 56, 'g': 80, 'r': 184, 'i': 184, 'z': 160, 'y':160}"
   ]
  },
  {
   "cell_type": "code",
   "execution_count": 6,
   "metadata": {},
   "outputs": [],
   "source": [
    "season = 5 * 30\n",
    "years = 10"
   ]
  },
  {
   "cell_type": "code",
   "execution_count": 20,
   "metadata": {},
   "outputs": [
    {
     "name": "stdout",
     "output_type": "stream",
     "text": [
      "Arranging 60.800000 visits per year (150 day season)\n"
     ]
    }
   ],
   "source": [
    "griz = wfd_visit_distrib['g'] + wfd_visit_distrib['r']  + wfd_visit_distrib['i'] + wfd_visit_distrib['z']\n",
    "griz_season = griz / years\n",
    "print('Arranging %f visits per year (%d day season)' % (griz_season, season))"
   ]
  },
  {
   "cell_type": "code",
   "execution_count": 19,
   "metadata": {},
   "outputs": [
    {
     "name": "stdout",
     "output_type": "stream",
     "text": [
      "g 10 18.75\n",
      "r 5 8.152173913043478\n",
      "i 6 8.152173913043478\n",
      "z 6 9.375\n"
     ]
    }
   ],
   "source": [
    "# Assuming we just distribute the expected visits over the entire season .. \n",
    "# .. how does it compare with desired mean gaps?\n",
    "mean_gaps = {'g': 10, 'r': 5, 'i': 6, 'z': 6}\n",
    "\n",
    "for f in ('g', 'r', 'i', 'z'):\n",
    "    print(f, mean_gaps[f], 1 / (wfd_visit_distrib[f] / years / season))"
   ]
  },
  {
   "cell_type": "code",
   "execution_count": 21,
   "metadata": {},
   "outputs": [
    {
     "name": "stdout",
     "output_type": "stream",
     "text": [
      "{'u': 56, 'g': 100.0, 'r': 204.0, 'i': 204.0, 'z': 180.0, 'y': 80}\n",
      "g 10 15.0\n",
      "r 5 7.35294117647059\n",
      "i 6 7.35294117647059\n",
      "z 6 8.333333333333334\n"
     ]
    }
   ],
   "source": [
    "# Redistribute visits among filters?\n",
    "visit_distrib = {'u': 56, 'g': 80, 'r': 184, 'i': 184, 'z': 160, 'y':160}\n",
    "redistribute = 80  # out of y band\n",
    "visit_distrib['y'] -= redistribute\n",
    "for f in ('g', 'r', 'i', 'z'):\n",
    "    visit_distrib[f] += redistribute / 4\n",
    "\n",
    "print(visit_distrib)\n",
    "for f in ('g', 'r', 'i', 'z'):\n",
    "    print(f, mean_gaps[f], 1 / (visit_distrib[f] / years / season))"
   ]
  },
  {
   "cell_type": "code",
   "execution_count": 22,
   "metadata": {},
   "outputs": [],
   "source": [
    "# So these inter-night gaps pretty much do require rolling cadence -- we haven't even included 2 visits/night yet."
   ]
  },
  {
   "cell_type": "code",
   "execution_count": 25,
   "metadata": {},
   "outputs": [
    {
     "name": "stdout",
     "output_type": "stream",
     "text": [
      "g 10 10.499999999999998\n",
      "r 5 5.147058823529412\n",
      "i 6 5.147058823529412\n",
      "z 6 5.833333333333333\n"
     ]
    }
   ],
   "source": [
    "# For simple rolling cadence, looking at condensing years 1.5 -  8.5 into on/off. \n",
    "# Let's call it 7 'active' years.\n",
    "active_years = 7\n",
    "for f in ('g', 'r', 'i', 'z'):\n",
    "    print(f, mean_gaps[f], 1 / (visit_distrib[f] / active_years / season))"
   ]
  },
  {
   "cell_type": "code",
   "execution_count": null,
   "metadata": {},
   "outputs": [],
   "source": [
    "# So 7 years comes close, 6 years does it. Haven't looked at 15 night gaps yet. "
   ]
  }
 ],
 "metadata": {
  "kernelspec": {
   "display_name": "Python 3",
   "language": "python",
   "name": "python3"
  },
  "language_info": {
   "codemirror_mode": {
    "name": "ipython",
    "version": 3
   },
   "file_extension": ".py",
   "mimetype": "text/x-python",
   "name": "python",
   "nbconvert_exporter": "python",
   "pygments_lexer": "ipython3",
   "version": "3.6.7"
  }
 },
 "nbformat": 4,
 "nbformat_minor": 2
}
