{
 "cells": [
  {
   "cell_type": "code",
   "execution_count": 1,
   "metadata": {},
   "outputs": [],
   "source": [
    "import os\n",
    "import numpy as np\n",
    "import matplotlib.pyplot as plt\n",
    "%matplotlib inline\n",
    "from astropy.time import Time, TimeDelta\n",
    "import lsst.sims.downtimeModel as dt"
   ]
  },
  {
   "cell_type": "code",
   "execution_count": 2,
   "metadata": {},
   "outputs": [],
   "source": [
    "tstart = Time('2022-01-01', format='isot', scale='tai')\n",
    "day_offset = TimeDelta(-0.34, format='jd')"
   ]
  },
  {
   "cell_type": "code",
   "execution_count": 3,
   "metadata": {},
   "outputs": [],
   "source": [
    "scheduledDowntimeData = dt.ScheduledDowntimeData(tstart, start_of_night_offset=day_offset)\n",
    "scheduledDowntimeData.read_data()"
   ]
  },
  {
   "cell_type": "code",
   "execution_count": 61,
   "metadata": {},
   "outputs": [
    {
     "name": "stdout",
     "output_type": "stream",
     "text": [
      "31\n",
      "First downtime start 2022-06-07T15:50:24.000 end 2022-06-14T15:50:24.000\n",
      "Last downtime start 2041-10-29T15:50:24.000 end 2041-11-05T15:50:24.000\n"
     ]
    }
   ],
   "source": [
    "print(len(scheduledDowntimeData.downtime))\n",
    "print(\"First downtime\", \"start\", scheduledDowntimeData.downtime[0]['start'].isot, \n",
    "      \"end\", scheduledDowntimeData.downtime[0]['end'].isot)\n",
    "print(\"Last downtime\", \"start\", scheduledDowntimeData.downtime[-1]['start'].isot, \n",
    "      \"end\", scheduledDowntimeData.downtime[-1]['end'].isot)"
   ]
  },
  {
   "cell_type": "code",
   "execution_count": 5,
   "metadata": {},
   "outputs": [],
   "source": [
    "unscheduledDowntimeData = dt.UnscheduledDowntimeData(tstart, start_of_night_offset=day_offset,\n",
    "                                                    survey_length=3650*2, seed=3)\n",
    "unscheduledDowntimeData.make_data()"
   ]
  },
  {
   "cell_type": "code",
   "execution_count": 6,
   "metadata": {},
   "outputs": [
    {
     "name": "stdout",
     "output_type": "stream",
     "text": [
      "145\n",
      "(<Time object: scale='tai' format='isot' value=2022-03-01T15:50:24.000>, <Time object: scale='tai' format='isot' value=2022-03-02T15:50:24.000>, 'minor event')\n"
     ]
    }
   ],
   "source": [
    "print(len(unscheduledDowntimeData.downtime))\n",
    "print(unscheduledDowntimeData.downtime[0])"
   ]
  },
  {
   "cell_type": "code",
   "execution_count": 7,
   "metadata": {},
   "outputs": [],
   "source": [
    "dtModel = dt.DowntimeModel()"
   ]
  },
  {
   "cell_type": "code",
   "execution_count": 8,
   "metadata": {},
   "outputs": [
    {
     "data": {
      "text/plain": [
       "OrderedDict([('DowntimeModel_version', 'unknown'),\n",
       "             ('DowntimeModel_sha',\n",
       "              '10610aff95d2f5972de94dafb0175be63342ea0d *'),\n",
       "             ('efd_columns', ['scheduled_downtimes', 'unscheduled_downtimes']),\n",
       "             ('efd_delta_time', 0.0),\n",
       "             ('target_columns', ['time'])])"
      ]
     },
     "execution_count": 8,
     "metadata": {},
     "output_type": "execute_result"
    }
   ],
   "source": [
    "dtModel.config_info()"
   ]
  },
  {
   "cell_type": "code",
   "execution_count": 9,
   "metadata": {},
   "outputs": [],
   "source": [
    "# The EFD data for the downtime models is a little different than some of the other *Data values.\n",
    "# Basically, you don't repeatedly query it (although that may make sense in production),\n",
    "# and then you just pass the entire downtime arrays into the model.\n",
    "sched_downtime = scheduledDowntimeData()\n",
    "unsched_downtime = unscheduledDowntimeData()\n",
    "efdData = {'scheduled_downtimes': sched_downtime,\n",
    "           'unscheduled_downtimes': unsched_downtime}"
   ]
  },
  {
   "cell_type": "code",
   "execution_count": 10,
   "metadata": {},
   "outputs": [],
   "source": [
    "# However, the target dict takes the current (or desired) time as its 'target'.\n",
    "targetDict = {'time': tstart}"
   ]
  },
  {
   "cell_type": "code",
   "execution_count": 11,
   "metadata": {},
   "outputs": [],
   "source": [
    "# And then the downtime model tells you:\n",
    "# State of the system (True = system is down)\n",
    "# End of current downtime\n",
    "# Next expected (scheduled) downtime.\n",
    "#  .. so the model provides some 'blindness' to the unscheduled downtime.\n",
    "\n",
    "modelData = dtModel(efdData, targetDict)"
   ]
  },
  {
   "cell_type": "code",
   "execution_count": 12,
   "metadata": {},
   "outputs": [
    {
     "data": {
      "text/plain": [
       "{'status': False,\n",
       " 'end': None,\n",
       " 'next': <Time object: scale='tai' format='isot' value=2022-06-07T15:50:24.000>}"
      ]
     },
     "execution_count": 12,
     "metadata": {},
     "output_type": "execute_result"
    }
   ],
   "source": [
    "modelData"
   ]
  },
  {
   "cell_type": "code",
   "execution_count": 13,
   "metadata": {},
   "outputs": [
    {
     "data": {
      "text/plain": [
       "{'status': True,\n",
       " 'end': <Time object: scale='tai' format='isot' value=2022-06-14T15:50:24.000>,\n",
       " 'next': <Time object: scale='tai' format='isot' value=2022-11-03T15:50:24.000>}"
      ]
     },
     "execution_count": 13,
     "metadata": {},
     "output_type": "execute_result"
    }
   ],
   "source": [
    "# Fast forward to a time that we know is in a downtime period..\n",
    "targetDict = {'time': scheduledDowntimeData.downtime[0]['start']}\n",
    "modelData = dtModel(efdData, targetDict)\n",
    "modelData"
   ]
  },
  {
   "cell_type": "code",
   "execution_count": 62,
   "metadata": {},
   "outputs": [],
   "source": [
    "# And let's check in on the number of downtime nights and what they look like.\n",
    "# Remember that defaults cover 20 years so we must cut down to the downtime within 10 years for 'defaults'."
   ]
  },
  {
   "cell_type": "code",
   "execution_count": 108,
   "metadata": {},
   "outputs": [
    {
     "data": {
      "text/plain": [
       "((<Time object: scale='tai' format='isot' value=2022-03-01T15:50:24.000>, <Time object: scale='tai' format='isot' value=2022-03-02T15:50:24.000>, 'minor event'),\n",
       " (<Time object: scale='tai' format='isot' value=2032-08-27T15:50:24.000>, <Time object: scale='tai' format='isot' value=2032-08-28T15:50:24.000>, 'minor event'))"
      ]
     },
     "execution_count": 108,
     "metadata": {},
     "output_type": "execute_result"
    }
   ],
   "source": [
    "unschedT = unscheduledDowntimeData.downtime[0:73]\n",
    "unschedT[0], unschedT[-1]"
   ]
  },
  {
   "cell_type": "code",
   "execution_count": 127,
   "metadata": {},
   "outputs": [
    {
     "name": "stdout",
     "output_type": "stream",
     "text": [
      "2022-06-07 2022-06-14 7.0\n",
      "2022-11-03 2022-11-10 7.0\n",
      "2023-06-07 2023-06-14 7.0\n",
      "2023-11-03 2023-11-10 7.0\n",
      "2024-06-06 2024-06-20 14.0\n",
      "2025-06-06 2025-06-13 7.0\n",
      "2025-11-02 2025-11-09 7.0\n",
      "2026-06-06 2026-06-20 14.0\n",
      "2027-06-06 2027-06-13 7.0\n",
      "2027-11-02 2027-11-09 7.0\n",
      "2028-06-05 2028-06-19 14.0\n",
      "2029-06-05 2029-06-12 7.0\n",
      "2029-11-01 2029-11-08 7.0\n",
      "2030-06-05 2030-06-19 14.0\n",
      "2031-06-05 2031-06-12 7.0\n",
      "2031-11-01 2031-11-08 7.0\n",
      "2032-06-04 2032-06-18 14.0\n"
     ]
    }
   ],
   "source": [
    "schedT = scheduledDowntimeData.downtime[0:17]\n",
    "schedT[0], schedT[-1]\n",
    "g = lambda x : print(x['start'].datetime.date(), x['end'].datetime.date(), (x['end'] - x['start']).jd)\n",
    "for dt in schedT:\n",
    "    g(dt)"
   ]
  },
  {
   "cell_type": "code",
   "execution_count": 109,
   "metadata": {},
   "outputs": [
    {
     "data": {
      "text/plain": [
       "Text(0, 0.5, 'Number of unscheduled downtime intervals')"
      ]
     },
     "execution_count": 109,
     "metadata": {},
     "output_type": "execute_result"
    },
    {
     "data": {
      "image/png": "[encoded data removed]",
      "text/plain": [
       "<Figure size 432x288 with 1 Axes>"
      ]
     },
     "metadata": {
      "needs_background": "light"
     },
     "output_type": "display_data"
    }
   ],
   "source": [
    "g = lambda x: (x['end'] - x['start']).jd\n",
    "dts = []\n",
    "for dt in unschedT:\n",
    "    dts.append((g(dt)))\n",
    "\n",
    "n, b, p = plt.hist(dts)\n",
    "plt.figtext(.3, .6, f'Total unscheduled downtime nights {sum(dts)}')\n",
    "plt.xlabel(\"Number of nights per unscheduled downtime\")\n",
    "plt.ylabel(\"Number of unscheduled downtime intervals\")"
   ]
  },
  {
   "cell_type": "code",
   "execution_count": 110,
   "metadata": {},
   "outputs": [
    {
     "data": {
      "text/plain": [
       "Text(0, 0.5, 'Number of scheduled downtime intervals')"
      ]
     },
     "execution_count": 110,
     "metadata": {},
     "output_type": "execute_result"
    },
    {
     "data": {
      "image/png": "[encoded data removed]",
      "text/plain": [
       "<Figure size 432x288 with 1 Axes>"
      ]
     },
     "metadata": {
      "needs_background": "light"
     },
     "output_type": "display_data"
    }
   ],
   "source": [
    "g = lambda x: (x['end'] - x['start']).jd\n",
    "dts = []\n",
    "for dt in schedT:\n",
    "    dts.append((g(dt)))\n",
    "n, b, p = plt.hist(dts)\n",
    "plt.figtext(.3, .6, f'Total scheduled downtime nights {sum(dts)}')\n",
    "plt.xlabel(\"Number of nights per scheduled downtime\")\n",
    "plt.ylabel(\"Number of scheduled downtime intervals\")"
   ]
  },
  {
   "cell_type": "code",
   "execution_count": 136,
   "metadata": {},
   "outputs": [
    {
     "data": {
      "text/plain": [
       "(0, 4006.460000000149)"
      ]
     },
     "execution_count": 136,
     "metadata": {},
     "output_type": "execute_result"
    },
    {
     "data": {
      "image/png": "[encoded data removed]",
      "text/plain": [
       "<Figure size 864x360 with 1 Axes>"
      ]
     },
     "metadata": {
      "needs_background": "light"
     },
     "output_type": "display_data"
    }
   ],
   "source": [
    "val = []\n",
    "dts = []\n",
    "for dt in schedT:\n",
    "    val.append(0)\n",
    "    dts.append(dt['start'].jd - 1)\n",
    "    val.append(1)\n",
    "    dts.append(dt['start'].jd)\n",
    "    val.append(1)\n",
    "    dts.append(dt['end'].jd)\n",
    "    val.append(0)\n",
    "    dts.append(dt['end'].jd + 1)\n",
    "dts = np.array(dts)\n",
    "dts = dts - 2459580\n",
    "x = np.arange(0, 3652, 365)\n",
    "plt.figure(figsize=(12, 5))\n",
    "plt.plot(dts, val)\n",
    "for yr in x:\n",
    "    plt.axvline(yr, color='k', linestyle=':')\n",
    "plt.ylim(0, 1.1)\n",
    "plt.xlim(left=0)"
   ]
  },
  {
   "cell_type": "code",
   "execution_count": null,
   "metadata": {},
   "outputs": [],
   "source": []
  }
 ],
 "metadata": {
  "kernelspec": {
   "display_name": "Python 3",
   "language": "python",
   "name": "python3"
  },
  "language_info": {
   "codemirror_mode": {
    "name": "ipython",
    "version": 3
   },
   "file_extension": ".py",
   "mimetype": "text/x-python",
   "name": "python",
   "nbconvert_exporter": "python",
   "pygments_lexer": "ipython3",
   "version": "3.7.1"
  }
 },
 "nbformat": 4,
 "nbformat_minor": 2
}
