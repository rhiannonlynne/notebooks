{
 "cells": [
  {
   "cell_type": "code",
   "execution_count": 80,
   "metadata": {},
   "outputs": [],
   "source": [
    "import os\n",
    "import numpy as np\n",
    "import matplotlib.pyplot as plt\n",
    "%matplotlib inline\n",
    "from astropy.time import Time, TimeDelta\n",
    "import lsst.sims.downtimeModel as down"
   ]
  },
  {
   "cell_type": "code",
   "execution_count": 111,
   "metadata": {},
   "outputs": [],
   "source": [
    "tstart = Time('2023-01-01', format='isot', scale='tai')\n",
    "day_offset = TimeDelta(-0.34, format='jd')"
   ]
  },
  {
   "cell_type": "code",
   "execution_count": 112,
   "metadata": {},
   "outputs": [],
   "source": [
    "scheduledDowntimeData = down.ScheduledDowntimeData(tstart, start_of_night_offset=day_offset)\n",
    "scheduledDowntimeData.read_data()"
   ]
  },
  {
   "cell_type": "code",
   "execution_count": 113,
   "metadata": {},
   "outputs": [
    {
     "name": "stdout",
     "output_type": "stream",
     "text": [
      "31\n",
      "First downtime start 2023-06-07T15:50:24.000 end 2023-06-14T15:50:24.000\n",
      "Last downtime start 2042-10-29T15:50:24.000 end 2042-11-05T15:50:24.000\n"
     ]
    }
   ],
   "source": [
    "print(len(scheduledDowntimeData.downtime))\n",
    "print(\"First downtime\", \"start\", scheduledDowntimeData.downtime[0]['start'].isot, \n",
    "      \"end\", scheduledDowntimeData.downtime[0]['end'].isot)\n",
    "print(\"Last downtime\", \"start\", scheduledDowntimeData.downtime[-1]['start'].isot, \n",
    "      \"end\", scheduledDowntimeData.downtime[-1]['end'].isot)"
   ]
  },
  {
   "cell_type": "code",
   "execution_count": 114,
   "metadata": {},
   "outputs": [],
   "source": [
    "unscheduledDowntimeData = down.UnscheduledDowntimeData(tstart, start_of_night_offset=day_offset,\n",
    "                                                    survey_length=3650*2)#, seed=3)\n",
    "unscheduledDowntimeData.make_data()"
   ]
  },
  {
   "cell_type": "code",
   "execution_count": 115,
   "metadata": {},
   "outputs": [
    {
     "name": "stdout",
     "output_type": "stream",
     "text": [
      "155\n",
      "First downtime start 2023-01-29T15:50:24.000 end 2023-01-30T15:50:24.000\n",
      "Last downtime start 2042-11-18T15:50:24.000 end 2042-11-19T15:50:24.000\n"
     ]
    }
   ],
   "source": [
    "print(len(unscheduledDowntimeData.downtime))\n",
    "print(\"First downtime\", \"start\", unscheduledDowntimeData.downtime[0]['start'].isot, \n",
    "      \"end\", unscheduledDowntimeData.downtime[0]['end'].isot)\n",
    "print(\"Last downtime\", \"start\", unscheduledDowntimeData.downtime[-1]['start'].isot, \n",
    "      \"end\", unscheduledDowntimeData.downtime[-1]['end'].isot)"
   ]
  },
  {
   "cell_type": "code",
   "execution_count": 116,
   "metadata": {},
   "outputs": [],
   "source": [
    "dtModel = down.DowntimeModel()"
   ]
  },
  {
   "cell_type": "code",
   "execution_count": 117,
   "metadata": {},
   "outputs": [
    {
     "data": {
      "text/plain": [
       "OrderedDict([('DowntimeModel_version', '0bec6a0'),\n",
       "             ('DowntimeModel_sha', '0bec6a04497600aa71a01ebe8d9343335ed55342'),\n",
       "             ('efd_columns', ['scheduled_downtimes', 'unscheduled_downtimes']),\n",
       "             ('efd_delta_time', 0.0),\n",
       "             ('target_columns', ['time'])])"
      ]
     },
     "execution_count": 117,
     "metadata": {},
     "output_type": "execute_result"
    }
   ],
   "source": [
    "dtModel.config_info()"
   ]
  },
  {
   "cell_type": "code",
   "execution_count": 118,
   "metadata": {},
   "outputs": [],
   "source": [
    "# The EFD data for the downtime models is a little different than some of the other *Data values.\n",
    "# Basically, you don't repeatedly query it (although that may make sense in production),\n",
    "# and then you just pass the entire downtime arrays into the model.\n",
    "sched_downtime = scheduledDowntimeData()\n",
    "unsched_downtime = unscheduledDowntimeData()\n",
    "efdData = {'scheduled_downtimes': sched_downtime,\n",
    "           'unscheduled_downtimes': unsched_downtime}"
   ]
  },
  {
   "cell_type": "code",
   "execution_count": 119,
   "metadata": {},
   "outputs": [],
   "source": [
    "# However, the target dict takes the current (or desired) time as its 'target'.\n",
    "targetDict = {'time': tstart}"
   ]
  },
  {
   "cell_type": "code",
   "execution_count": 120,
   "metadata": {},
   "outputs": [],
   "source": [
    "# And then the downtime model tells you:\n",
    "# State of the system (True = system is down)\n",
    "# End of current downtime\n",
    "# Next expected (scheduled) downtime.\n",
    "#  .. so the model provides some 'blindness' to the unscheduled downtime.\n",
    "\n",
    "modelData = dtModel(efdData, targetDict)"
   ]
  },
  {
   "cell_type": "code",
   "execution_count": 121,
   "metadata": {},
   "outputs": [
    {
     "data": {
      "text/plain": [
       "{'status': False,\n",
       " 'end': None,\n",
       " 'next': <Time object: scale='tai' format='isot' value=2023-06-07T15:50:24.000>}"
      ]
     },
     "execution_count": 121,
     "metadata": {},
     "output_type": "execute_result"
    }
   ],
   "source": [
    "modelData"
   ]
  },
  {
   "cell_type": "code",
   "execution_count": 122,
   "metadata": {},
   "outputs": [
    {
     "data": {
      "text/plain": [
       "{'status': True,\n",
       " 'end': <Time object: scale='tai' format='isot' value=2023-06-14T15:50:24.000>,\n",
       " 'next': <Time object: scale='tai' format='isot' value=2023-11-03T15:50:24.000>}"
      ]
     },
     "execution_count": 122,
     "metadata": {},
     "output_type": "execute_result"
    }
   ],
   "source": [
    "# Fast forward to a time that we know is in a downtime period..\n",
    "targetDict = {'time': scheduledDowntimeData.downtime[0]['start']}\n",
    "modelData = dtModel(efdData, targetDict)\n",
    "modelData"
   ]
  },
  {
   "cell_type": "code",
   "execution_count": 125,
   "metadata": {},
   "outputs": [],
   "source": [
    "# And let's check in on the number of downtime nights and what they look like.\n",
    "# Remember that defaults cover 20 years (so cut results in half)"
   ]
  },
  {
   "cell_type": "code",
   "execution_count": 126,
   "metadata": {},
   "outputs": [
    {
     "name": "stdout",
     "output_type": "stream",
     "text": [
      "(<Time object: scale='tai' format='isot' value=2023-01-29T15:50:24.000>, <Time object: scale='tai' format='isot' value=2023-01-30T15:50:24.000>, 'minor event') (<Time object: scale='tai' format='isot' value=2042-11-18T15:50:24.000>, <Time object: scale='tai' format='isot' value=2042-11-19T15:50:24.000>, 'minor event')\n",
      "2023-01-29 2023-01-30 1.0\n",
      "2023-02-03 2023-02-06 3.0\n",
      "2023-03-02 2023-03-09 7.0\n",
      "2023-04-02 2023-04-03 1.0\n",
      "2023-04-07 2023-04-08 1.0\n",
      "2023-04-24 2023-04-25 1.0\n",
      "2023-06-04 2023-06-05 1.0\n",
      "2023-08-05 2023-08-06 1.0\n",
      "2023-09-22 2023-09-29 7.0\n",
      "2023-10-19 2023-10-20 1.0\n",
      "2023-12-25 2023-12-28 3.0\n",
      "2024-02-20 2024-02-21 1.0\n",
      "2024-07-17 2024-07-18 1.0\n",
      "2024-07-30 2024-07-31 1.0\n",
      "2024-08-09 2024-08-10 1.0\n",
      "2025-02-21 2025-02-22 1.0\n",
      "2025-05-05 2025-05-08 3.0\n",
      "2025-05-09 2025-05-10 1.0\n",
      "2025-06-15 2025-06-16 1.0\n",
      "2025-08-08 2025-08-09 1.0\n",
      "2025-09-14 2025-09-15 1.0\n",
      "2025-09-27 2025-09-28 1.0\n",
      "2025-11-20 2025-11-23 3.0\n",
      "2025-12-08 2025-12-11 3.0\n",
      "2026-01-01 2026-01-02 1.0\n",
      "2026-04-01 2026-04-02 1.0\n",
      "2026-04-07 2026-04-08 1.0\n",
      "2026-04-18 2026-04-21 3.0\n",
      "2026-06-14 2026-06-21 7.0\n",
      "2026-08-16 2026-08-17 1.0\n",
      "2026-09-22 2026-09-23 1.0\n",
      "2026-12-16 2026-12-19 3.0\n",
      "2027-02-07 2027-02-08 1.0\n",
      "2027-02-17 2027-02-18 1.0\n",
      "2027-03-11 2027-03-12 1.0\n",
      "2027-04-20 2027-04-21 1.0\n",
      "2027-09-15 2027-09-16 1.0\n",
      "2027-10-25 2027-10-26 1.0\n",
      "2027-10-28 2027-10-31 3.0\n",
      "2027-11-11 2027-11-12 1.0\n",
      "2027-12-27 2027-12-28 1.0\n",
      "2028-02-08 2028-02-09 1.0\n",
      "2028-02-17 2028-02-20 3.0\n",
      "2028-04-26 2028-04-27 1.0\n",
      "2028-06-28 2028-06-29 1.0\n",
      "2028-08-11 2028-08-14 3.0\n",
      "2028-09-11 2028-09-12 1.0\n",
      "2028-10-06 2028-10-13 7.0\n",
      "2028-11-21 2028-11-22 1.0\n",
      "2028-12-31 2029-01-14 14.0\n",
      "2029-04-27 2029-04-28 1.0\n",
      "2029-05-20 2029-05-21 1.0\n",
      "2029-05-29 2029-06-01 3.0\n",
      "2029-06-13 2029-06-16 3.0\n",
      "2029-07-10 2029-07-11 1.0\n",
      "2029-10-08 2029-10-09 1.0\n",
      "2029-10-16 2029-10-17 1.0\n",
      "2030-02-17 2030-02-18 1.0\n",
      "2030-02-21 2030-02-22 1.0\n",
      "2030-06-12 2030-06-13 1.0\n",
      "2030-09-22 2030-09-23 1.0\n",
      "2030-10-03 2030-10-06 3.0\n",
      "2030-10-30 2030-11-02 3.0\n",
      "2030-11-24 2030-11-25 1.0\n",
      "2030-11-27 2030-11-28 1.0\n",
      "2030-12-06 2030-12-07 1.0\n",
      "2031-01-11 2031-01-12 1.0\n",
      "2031-03-04 2031-03-05 1.0\n",
      "2031-03-14 2031-03-21 7.0\n",
      "2031-06-14 2031-06-17 3.0\n",
      "2031-07-03 2031-07-04 1.0\n",
      "2031-07-09 2031-07-10 1.0\n",
      "2031-07-16 2031-07-17 1.0\n",
      "2031-08-16 2031-08-17 1.0\n",
      "2031-10-15 2031-10-16 1.0\n",
      "2031-11-03 2031-11-04 1.0\n",
      "2031-11-07 2031-11-10 3.0\n",
      "2031-12-09 2031-12-10 1.0\n",
      "2032-01-18 2032-01-19 1.0\n",
      "2032-02-18 2032-02-19 1.0\n",
      "2032-04-07 2032-04-10 3.0\n",
      "2032-06-10 2032-06-11 1.0\n",
      "2032-07-03 2032-07-04 1.0\n",
      "2032-09-19 2032-09-20 1.0\n",
      "2032-10-07 2032-10-08 1.0\n",
      "2032-10-19 2032-10-20 1.0\n",
      "2032-11-16 2032-11-17 1.0\n",
      "2033-01-05 2033-01-08 3.0\n",
      "2033-02-02 2033-02-03 1.0\n",
      "2033-02-13 2033-02-14 1.0\n",
      "2033-04-23 2033-04-24 1.0\n",
      "2033-05-31 2033-06-03 3.0\n",
      "2033-06-07 2033-06-08 1.0\n",
      "2033-10-31 2033-11-03 3.0\n",
      "2033-11-18 2033-11-19 1.0\n",
      "2033-12-12 2033-12-13 1.0\n",
      "2034-01-10 2034-01-11 1.0\n",
      "2034-04-27 2034-04-30 3.0\n",
      "2034-08-07 2034-08-10 3.0\n",
      "2034-08-30 2034-08-31 1.0\n",
      "2034-09-17 2034-09-18 1.0\n",
      "2034-10-24 2034-10-25 1.0\n",
      "2035-01-18 2035-01-19 1.0\n",
      "2035-05-04 2035-05-05 1.0\n",
      "2035-09-01 2035-09-04 3.0\n",
      "2035-11-30 2035-12-07 7.0\n",
      "2035-12-11 2035-12-14 3.0\n",
      "2036-02-13 2036-02-16 3.0\n",
      "2036-03-19 2036-03-20 1.0\n",
      "2036-07-14 2036-07-15 1.0\n",
      "2036-07-19 2036-07-20 1.0\n",
      "2036-08-03 2036-08-10 7.0\n",
      "2036-08-23 2036-08-24 1.0\n",
      "2036-10-07 2036-10-08 1.0\n",
      "2036-10-19 2036-10-20 1.0\n",
      "2036-11-28 2036-12-05 7.0\n",
      "2036-12-09 2036-12-10 1.0\n",
      "2037-04-23 2037-04-24 1.0\n",
      "2037-05-22 2037-06-05 14.0\n",
      "2037-06-06 2037-06-07 1.0\n",
      "2037-07-16 2037-07-19 3.0\n",
      "2037-08-09 2037-08-10 1.0\n",
      "2037-09-09 2037-09-10 1.0\n",
      "2037-09-22 2037-09-29 7.0\n",
      "2038-03-21 2038-03-22 1.0\n",
      "2038-05-26 2038-05-27 1.0\n",
      "2038-06-17 2038-06-20 3.0\n",
      "2038-08-28 2038-08-31 3.0\n",
      "2038-09-13 2038-09-14 1.0\n",
      "2039-07-24 2039-07-25 1.0\n",
      "2039-12-13 2039-12-14 1.0\n",
      "2039-12-18 2039-12-19 1.0\n",
      "2039-12-24 2039-12-25 1.0\n",
      "2040-01-10 2040-01-13 3.0\n",
      "2040-03-29 2040-03-30 1.0\n",
      "2040-04-06 2040-04-07 1.0\n",
      "2040-09-21 2040-09-22 1.0\n",
      "2040-12-26 2040-12-27 1.0\n",
      "2041-06-16 2041-06-17 1.0\n",
      "2041-07-08 2041-07-11 3.0\n",
      "2041-07-13 2041-07-14 1.0\n",
      "2041-08-15 2041-08-18 3.0\n",
      "2041-09-26 2041-09-29 3.0\n",
      "2041-10-15 2041-10-18 3.0\n",
      "2041-10-31 2041-11-01 1.0\n",
      "2041-12-26 2041-12-27 1.0\n",
      "2042-01-10 2042-01-13 3.0\n",
      "2042-01-19 2042-01-22 3.0\n",
      "2042-01-30 2042-01-31 1.0\n",
      "2042-02-08 2042-02-15 7.0\n",
      "2042-03-10 2042-03-17 7.0\n",
      "2042-05-02 2042-05-03 1.0\n",
      "2042-07-02 2042-07-03 1.0\n",
      "2042-08-02 2042-08-03 1.0\n",
      "2042-11-18 2042-11-19 1.0\n"
     ]
    }
   ],
   "source": [
    "unschedT = unscheduledDowntimeData.downtime\n",
    "print(unschedT[0], unschedT[-1])\n",
    "g = lambda x : print(x['start'].datetime.date(), x['end'].datetime.date(), (x['end'] - x['start']).jd)\n",
    "for dt in unschedT:\n",
    "    g(dt)"
   ]
  },
  {
   "cell_type": "code",
   "execution_count": 127,
   "metadata": {},
   "outputs": [
    {
     "name": "stdout",
     "output_type": "stream",
     "text": [
      "(<Time object: scale='tai' format='isot' value=2023-06-07T15:50:24.000>, <Time object: scale='tai' format='isot' value=2023-06-14T15:50:24.000>, 'general maintenance') (<Time object: scale='tai' format='isot' value=2042-10-29T15:50:24.000>, <Time object: scale='tai' format='isot' value=2042-11-05T15:50:24.000>, 'general maintenance')\n",
      "2023-06-07 2023-06-14 7.0\n",
      "2023-11-03 2023-11-10 7.0\n",
      "2024-06-06 2024-06-13 7.0\n",
      "2024-11-02 2024-11-09 7.0\n",
      "2025-06-06 2025-06-20 14.0\n",
      "2026-06-06 2026-06-13 7.0\n",
      "2026-11-02 2026-11-09 7.0\n",
      "2027-06-06 2027-06-20 14.0\n",
      "2028-06-05 2028-06-12 7.0\n",
      "2028-11-01 2028-11-08 7.0\n",
      "2029-06-05 2029-06-19 14.0\n",
      "2030-06-05 2030-06-12 7.0\n",
      "2030-11-01 2030-11-08 7.0\n",
      "2031-06-05 2031-06-19 14.0\n",
      "2032-06-04 2032-06-11 7.0\n",
      "2032-10-31 2032-11-07 7.0\n",
      "2033-06-04 2033-06-18 14.0\n",
      "2034-06-04 2034-06-11 7.0\n",
      "2034-10-31 2034-11-07 7.0\n",
      "2035-06-04 2035-06-18 14.0\n",
      "2036-06-03 2036-06-10 7.0\n",
      "2036-10-30 2036-11-06 7.0\n",
      "2037-06-03 2037-06-17 14.0\n",
      "2038-06-03 2038-06-10 7.0\n",
      "2038-10-30 2038-11-06 7.0\n",
      "2039-06-03 2039-06-17 14.0\n",
      "2040-06-02 2040-06-09 7.0\n",
      "2040-10-29 2040-11-05 7.0\n",
      "2041-06-02 2041-06-16 14.0\n",
      "2042-06-02 2042-06-09 7.0\n",
      "2042-10-29 2042-11-05 7.0\n"
     ]
    }
   ],
   "source": [
    "schedT = scheduledDowntimeData.downtime\n",
    "print(schedT[0], schedT[-1])\n",
    "g = lambda x : print(x['start'].datetime.date(), x['end'].datetime.date(), (x['end'] - x['start']).jd)\n",
    "for dt in schedT:\n",
    "    g(dt)"
   ]
  },
  {
   "cell_type": "code",
   "execution_count": 129,
   "metadata": {},
   "outputs": [
    {
     "data": {
      "text/plain": [
       "Text(0, 0.5, 'Number of unscheduled downtime intervals')"
      ]
     },
     "execution_count": 129,
     "metadata": {},
     "output_type": "execute_result"
    },
    {
     "data": {
      "image/png": "[encoded data removed]",
      "text/plain": [
       "<Figure size 432x288 with 1 Axes>"
      ]
     },
     "metadata": {
      "needs_background": "light"
     },
     "output_type": "display_data"
    }
   ],
   "source": [
    "g = lambda x: (x['end'] - x['start']).jd\n",
    "dts = []\n",
    "for dt in unschedT:\n",
    "    dts.append((g(dt)))\n",
    "\n",
    "n, b, p = plt.hist(dts)\n",
    "plt.figtext(.3, .6, f'Total unscheduled downtime nights {sum(dts)/2}')\n",
    "plt.xlabel(\"Number of nights per unscheduled downtime\")\n",
    "plt.ylabel(\"Number of unscheduled downtime intervals\")"
   ]
  },
  {
   "cell_type": "code",
   "execution_count": 130,
   "metadata": {},
   "outputs": [
    {
     "data": {
      "text/plain": [
       "Text(0, 0.5, 'Number of scheduled downtime intervals')"
      ]
     },
     "execution_count": 130,
     "metadata": {},
     "output_type": "execute_result"
    },
    {
     "data": {
      "image/png": "[encoded data removed]",
      "text/plain": [
       "<Figure size 432x288 with 1 Axes>"
      ]
     },
     "metadata": {
      "needs_background": "light"
     },
     "output_type": "display_data"
    }
   ],
   "source": [
    "g = lambda x: (x['end'] - x['start']).jd\n",
    "dts = []\n",
    "for dt in schedT:\n",
    "    dts.append((g(dt)))\n",
    "n, b, p = plt.hist(dts)\n",
    "plt.figtext(.3, .6, f'Total scheduled downtime nights {sum(dts)/2}')\n",
    "plt.xlabel(\"Number of nights per scheduled downtime\")\n",
    "plt.ylabel(\"Number of scheduled downtime intervals\")"
   ]
  },
  {
   "cell_type": "code",
   "execution_count": 131,
   "metadata": {},
   "outputs": [
    {
     "data": {
      "text/plain": [
       "(0, 7995.918000000156)"
      ]
     },
     "execution_count": 131,
     "metadata": {},
     "output_type": "execute_result"
    },
    {
     "data": {
      "image/png": "[encoded data removed]",
      "text/plain": [
       "<Figure size 864x360 with 1 Axes>"
      ]
     },
     "metadata": {
      "needs_background": "light"
     },
     "output_type": "display_data"
    }
   ],
   "source": [
    "val = []\n",
    "dts = []\n",
    "for dt in schedT:\n",
    "    val.append(0)\n",
    "    dts.append(dt['start'].jd - 1)\n",
    "    val.append(1)\n",
    "    dts.append(dt['start'].jd)\n",
    "    val.append(1)\n",
    "    dts.append(dt['end'].jd)\n",
    "    val.append(0)\n",
    "    dts.append(dt['end'].jd + 1)\n",
    "dts = np.array(dts)\n",
    "dts = dts - 2459580\n",
    "x = np.arange(0, 3652, 365)\n",
    "plt.figure(figsize=(12, 5))\n",
    "plt.plot(dts, val)\n",
    "for yr in x:\n",
    "    plt.axvline(yr, color='k', linestyle=':')\n",
    "plt.ylim(0, 1.1)\n",
    "plt.xlim(left=0)"
   ]
  },
  {
   "cell_type": "code",
   "execution_count": null,
   "metadata": {},
   "outputs": [],
   "source": []
  }
 ],
 "metadata": {
  "kernelspec": {
   "display_name": "Python 3",
   "language": "python",
   "name": "python3"
  },
  "language_info": {
   "codemirror_mode": {
    "name": "ipython",
    "version": 3
   },
   "file_extension": ".py",
   "mimetype": "text/x-python",
   "name": "python",
   "nbconvert_exporter": "python",
   "pygments_lexer": "ipython3",
   "version": "3.7.6"
  }
 },
 "nbformat": 4,
 "nbformat_minor": 2
}
