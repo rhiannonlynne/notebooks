{
 "cells": [
  {
   "cell_type": "code",
   "execution_count": 1,
   "metadata": {},
   "outputs": [],
   "source": [
    "import os\n",
    "import numpy as np\n",
    "import pandas as pd\n",
    "import matplotlib.pyplot as plt\n",
    "%matplotlib inline"
   ]
  },
  {
   "cell_type": "code",
   "execution_count": 2,
   "metadata": {},
   "outputs": [],
   "source": [
    "import lsst.sims.maf.metrics as metrics\n",
    "import lsst.sims.maf.stackers as stackers\n",
    "import lsst.sims.maf.slicers as slicers\n",
    "import lsst.sims.maf.plots as plots\n",
    "import lsst.sims.maf.metricBundles as mb"
   ]
  },
  {
   "cell_type": "code",
   "execution_count": 63,
   "metadata": {},
   "outputs": [],
   "source": [
    "try:\n",
    "    del metrics.BaseMetric.registry['__main__.LightcurveInversionMetric']\n",
    "except:\n",
    "    pass\n",
    "\n",
    "def _setVis(ssoObs, snrLimit, snrCol, visCol):\n",
    "    if snrLimit is not None:\n",
    "        vis = np.where(ssoObs[snrCol] >= snrLimit)[0]\n",
    "    else:\n",
    "        vis = np.where(ssoObs[visCol] > 0)[0]\n",
    "    return vis\n",
    "\n",
    "\n",
    "class LightcurveInversionMetric(metrics.BaseMoMetric):\n",
    "    \"\"\"\n",
    "    Determine if the cumulative sum of observations of a target are enough to enable lightcurve\n",
    "    inversion for shape modeling. For this to be true, multiple conditions need to be\n",
    "    satisfied:\n",
    "\n",
    "    1) The SNR-weighted number of observations (each observation is weighted by its SNR, up to a max of 100)\n",
    "    must be larger than the threshhold weightDet (default 50)\n",
    "    2) Ecliptic longitudinal coverage needs to be at least 90 degrees, and the absolute deviation\n",
    "    needs to be at least 1/8th the longitudinal coverage.\n",
    "    3) The phase angle coverage needs to span at least 5 degrees.\n",
    "\n",
    "    For evaluation of condition 2, the median ecliptic longitude is subtracted from all longitudes,\n",
    "    and the modulo 360 of those values is taken. This ensures that the wrap around 360 is handled\n",
    "    correctly.\n",
    "\n",
    "    For more information on the above conditions, please see\n",
    "    https://docs.google.com/document/d/1GAriM7trpTS08uanjUF7PyKALB2JBTjVT7Y6R30i0-8/edit?usp=sharing\n",
    "\n",
    "    Parameters\n",
    "    ----------\n",
    "    weightDet: float, opt\n",
    "        The SNR-weighted number of detections required (per bandpass in any ONE of the filters in filterlist).\n",
    "        Default 50.\n",
    "    snrLimit: float or None, opt\n",
    "        If snrLimit is set as a float, then requires object to be above snrLimit SNR in the image.\n",
    "        If snrLimit is None, this uses the probabilistic 'visibility' calculated by the vis stacker,\n",
    "        which means SNR ~ 5.   Default is None.\n",
    "    snrMax: float, opt\n",
    "        Maximum value toward the SNR-weighting to consider. Default 100.\n",
    "    filterlist: list of str, opt\n",
    "        The filters which the lightcurve inversion could be based on. Requirements must be met in one of\n",
    "        these filters.\n",
    "\n",
    "    Returns\n",
    "    -------\n",
    "    int\n",
    "        0 (could not perform lightcurve inversion) or 1 (could)\n",
    "    \"\"\"\n",
    "\n",
    "    def __init__(self, weightDet=50, snrLimit=None, snrMax=100,\n",
    "                 filterlist=('u', 'g', 'r', 'i', 'z', 'y'), **kwargs):\n",
    "        super().__init__(**kwargs)\n",
    "        self.snrLimit = snrLimit\n",
    "        self.snrMax = snrMax\n",
    "        self.weightDet = weightDet\n",
    "        self.filterlist = filterlist\n",
    "        self.badval = 0\n",
    "\n",
    "    def run(self, ssoObs, orb, Hval):\n",
    "        # Calculate the clipped SNR - ranges from snrLimit / SNR+vis to snrMax.\n",
    "        clipSnr = np.minimum(ssoObs[self.snrCol], self.snrMax)\n",
    "        if self.snrLimit is not None:\n",
    "            clipSnr = np.where(ssoObs[self.snrCol] <= self.snrLimit, 0, clipSnr)\n",
    "        else:\n",
    "            clipSnr = np.where(ssoObs[self.visCol] == 0, 0, clipSnr)\n",
    "        if len(np.where(clipSnr > 0)[0]) == 0:\n",
    "            return self.badval\n",
    "        # Check each filter in filterlist: \n",
    "        # stop as soon as find a filter that matches requirements.\n",
    "        inversion_possible = 0\n",
    "        for f in self.filterlist:\n",
    "            # Is the SNR-weight sum of observations in this filter high enough?\n",
    "            match = np.where(ssoObs[self.filterCol] == f)\n",
    "            snrSum = np.sum(clipSnr[match]) / self.snrMax\n",
    "            if snrSum < self.weightDet:\n",
    "                # Do not have enough SNR-weighted observations, so skip on to the next filter.\n",
    "                continue\n",
    "            # Is the ecliptic longitude coverage for the visible observations sufficient?\n",
    "            # Is the phase coverage sufficient?\n",
    "            vis = np.where(clipSnr[match] > 0)\n",
    "            ecL = ssoObs['ecLon'][match][vis]\n",
    "            phaseAngle = ssoObs['phase'][match][vis]\n",
    "            # Calculate the absolute deviation and range of ecliptic longitude.\n",
    "            ecL_centred = (ecL - np.median(ecL)) % 360.0\n",
    "            aDev = np.sum(np.abs(ecL_centred - np.mean(ecL_centred))) / len(ecL_centred)\n",
    "            dL = np.max(ecL) - np.min(ecL)\n",
    "            # Calculate the range of the phase angle\n",
    "            dp = np.max(phaseAngle) - np.min(phaseAngle)\n",
    "            # Metric requirement is that dL >= 90 deg, absolute deviation is greater than dL/8\n",
    "            # and then that the phase coverage is more than 5 degrees.\n",
    "            # Stop as soon as find a case where this is true.\n",
    "            if dL >= 90.0 and aDev >= dL / 8 and dp >= 5:\n",
    "                inversion_possible += 1\n",
    "                break\n",
    "        return inversion_possible"
   ]
  },
  {
   "cell_type": "code",
   "execution_count": 15,
   "metadata": {},
   "outputs": [],
   "source": [
    "# Read in some test observations and test orbits\n",
    "orbitfile = 'mbas_test.des'\n",
    "obsfile = 'baseline2018a__mbas_test_obs.txt'\n",
    "Hrange = np.arange(15, 20.5, 5)\n",
    "s = slicers.MoObjSlicer(Hrange=Hrange)\n",
    "s.setupSlicer(orbitFile=orbitfile, obsFile=obsfile)"
   ]
  },
  {
   "cell_type": "code",
   "execution_count": 76,
   "metadata": {},
   "outputs": [
    {
     "data": {
      "text/plain": [
       "(array([17.29546906, 12.6477188 , 13.33466695, 13.66672833, 13.95747481,\n",
       "        16.57374877,  5.48605043,  7.00638719, 60.91702622, 57.17374023]),\n",
       " 227.3946049271624,\n",
       " 1.393902861084676)"
      ]
     },
     "execution_count": 76,
     "metadata": {},
     "output_type": "execute_result"
    }
   ],
   "source": [
    "# We can test the metric on a single observation/H value by using it directly.\n",
    "# But we do still need to run the MoMag stacker to add the apparent magnitude etc to the provided observations.\n",
    "# We also need to run the ecliptic lat/lon stacker.\n",
    "magstacker = stackers.MoMagStacker()\n",
    "eclstacker = stackers.EclStacker()\n",
    "Hval = 16\n",
    "i = 0\n",
    "testobs = magstacker.run(s[i]['obs'], Hval=Hval, Href=s[i]['orbit']['H'])\n",
    "testobs = eclstacker.run(testobs, Hval=None, Href=None)\n",
    "# See .. now we have SNR and vis and mag.\n",
    "testobs['SNR'][0:10], testobs['SNR'].max(), testobs['SNR'].min()"
   ]
  },
  {
   "cell_type": "code",
   "execution_count": 77,
   "metadata": {},
   "outputs": [
    {
     "data": {
      "text/plain": [
       "1"
      ]
     },
     "execution_count": 77,
     "metadata": {},
     "output_type": "execute_result"
    }
   ],
   "source": [
    "# So now we can test the new metric on a single observation/H value..\n",
    "m = LightcurveInversionMetric(snrLimit=None)\n",
    "m.run(testobs, s[i]['orbit'], Hval)"
   ]
  },
  {
   "cell_type": "code",
   "execution_count": 78,
   "metadata": {},
   "outputs": [],
   "source": [
    "# And we can test it on more H values / orbits using the metric bundle & group\n",
    "bundle = mb.MoMetricBundle(m, s, stackerList=[magstacker, eclstacker])"
   ]
  },
  {
   "cell_type": "code",
   "execution_count": 80,
   "metadata": {},
   "outputs": [
    {
     "name": "stdout",
     "output_type": "stream",
     "text": [
      "Running metrics ['test']\n",
      "Calculated and saved all metrics.\n"
     ]
    }
   ],
   "source": [
    "g = mb.MoMetricBundleGroup({'test': bundle})\n",
    "g.runAll()"
   ]
  },
  {
   "cell_type": "code",
   "execution_count": 81,
   "metadata": {},
   "outputs": [
    {
     "data": {
      "text/plain": [
       "masked_array(\n",
       "  data=[[1.0, --],\n",
       "        [1.0, --],\n",
       "        [1.0, --]],\n",
       "  mask=[[False,  True],\n",
       "        [False,  True],\n",
       "        [False,  True]],\n",
       "  fill_value=0.0)"
      ]
     },
     "execution_count": 81,
     "metadata": {},
     "output_type": "execute_result"
    }
   ],
   "source": [
    "bundle.metricValues"
   ]
  },
  {
   "cell_type": "code",
   "execution_count": null,
   "metadata": {},
   "outputs": [],
   "source": []
  }
 ],
 "metadata": {
  "kernelspec": {
   "display_name": "Python 3",
   "language": "python",
   "name": "python3"
  },
  "language_info": {
   "codemirror_mode": {
    "name": "ipython",
    "version": 3
   },
   "file_extension": ".py",
   "mimetype": "text/x-python",
   "name": "python",
   "nbconvert_exporter": "python",
   "pygments_lexer": "ipython3",
   "version": "3.7.1"
  }
 },
 "nbformat": 4,
 "nbformat_minor": 2
}
