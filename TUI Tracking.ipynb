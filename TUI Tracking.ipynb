{
 "cells": [
  {
   "cell_type": "code",
   "execution_count": 1,
   "metadata": {},
   "outputs": [],
   "source": [
    "import os\n",
    "import numpy as np\n",
    "import matplotlib.pyplot as plt\n",
    "%matplotlib inline"
   ]
  },
  {
   "cell_type": "code",
   "execution_count": 2,
   "metadata": {},
   "outputs": [],
   "source": [
    "import ephem\n",
    "from sbpy.data import Ephem\n",
    "import astropy.units as u\n",
    "from astropy.time import Time"
   ]
  },
  {
   "cell_type": "code",
   "execution_count": 4,
   "metadata": {},
   "outputs": [],
   "source": [
    "apo = ephem.Observer()\n",
    "apo.lat = '32:46:49'\n",
    "apo.lon = '-105:49:13'\n",
    "apo.elevation = 2788\n",
    "# UTC night of interest (APO = -7 hrs to UTC most of the time .. midnight UTC is around or before sunset)\n",
    "apo.date = '2020/01/12 13:00:00'\n",
    "#civil twilight -6, nautical twilight -12, astronomical twilight -18\n",
    "apo.pressure = 0   # set pressure to 0 and horizon to -0:34 from whatever, for refraction magic (well .. approximate?)\n",
    "apo.horizon = '-12:34'\n",
    "\n",
    "sunset = apo.next_setting(ephem.Sun(), use_center=True)\n",
    "sunrise = apo.next_rising(ephem.Sun(), use_center=True)"
   ]
  },
  {
   "cell_type": "code",
   "execution_count": 6,
   "metadata": {},
   "outputs": [
    {
     "name": "stdout",
     "output_type": "stream",
     "text": [
      "UTC Sunset  2020/1/13 01:16:58\n",
      "Sunset converted to your current local time  2020-01-12 17:16:57.000006\n",
      "UTC Sunrise  2020/1/12 13:06:15\n"
     ]
    }
   ],
   "source": [
    "# UTC sunset sunrise .. but this seems like it might not be quite right? Close.\n",
    "print(\"UTC Sunset \", sunset)\n",
    "print(\"Sunset converted to your current local time \", ephem.localtime(sunset))\n",
    "print(\"UTC Sunrise \", sunrise)"
   ]
  },
  {
   "cell_type": "code",
   "execution_count": 7,
   "metadata": {},
   "outputs": [],
   "source": [
    "# NICFPS: 1024x1024 HgCdTe device with a 0.273 arsec/pixel scale -- 4.58 arcmin across FOV"
   ]
  },
  {
   "cell_type": "code",
   "execution_count": 9,
   "metadata": {},
   "outputs": [],
   "source": [
    "# Get target information from Horizons.\n",
    "\n",
    "targets = ['2020 AV2']\n",
    "\n",
    "start = Time('2020-01-13T0:00:00')\n",
    "end = Time('2020-01-13T03:00:00')\n",
    "\n",
    "ephs = Ephem.from_horizons(targets, location=705, \n",
    "                          epochs={'start': start,\n",
    "                                  'stop': end,\n",
    "                                  'step':5*u.min})"
   ]
  },
  {
   "cell_type": "code",
   "execution_count": 10,
   "metadata": {
    "scrolled": true
   },
   "outputs": [
    {
     "data": {
      "text/html": [
       "<i>QTable length=20</i>\n",
       "<table id=\"table4773523408\" class=\"table-striped table-bordered table-condensed\">\n",
       "<thead><tr><th>targetname</th><th>H</th><th>G</th><th>solar_presence</th><th>flags</th><th>RA</th><th>DEC</th><th>RA_app</th><th>DEC_app</th><th>RA*cos(Dec)_rate</th><th>DEC_rate</th><th>AZ</th><th>EL</th><th>AZ_rate</th><th>EL_rate</th><th>sat_X</th><th>sat_Y</th><th>sat_PANG</th><th>siderealtime</th><th>airmass</th><th>magextinct</th><th>V</th><th>illumination</th><th>illum_defect</th><th>sat_sep</th><th>sat_vis</th><th>ang_width</th><th>PDObsLon</th><th>PDObsLat</th><th>PDSunLon</th><th>PDSunLat</th><th>SubSol_ang</th><th>SubSol_dist</th><th>NPole_ang</th><th>NPole_dist</th><th>EclLon</th><th>EclLat</th><th>r</th><th>r_rate</th><th>delta</th><th>delta_rate</th><th>lighttime</th><th>vel_sun</th><th>vel_obs</th><th>elong</th><th>elongFlag</th><th>alpha</th><th>lunar_elong</th><th>lunar_illum</th><th>sat_alpha</th><th>sunTargetPA</th><th>velocityPA</th><th>OrbPlaneAng</th><th>constellation</th><th>TDB-UT</th><th>ObsEclLon</th><th>ObsEclLat</th><th>NPole_RA</th><th>NPole_DEC</th><th>GlxLon</th><th>GlxLat</th><th>solartime</th><th>earth_lighttime</th><th>RA_3sigma</th><th>DEC_3sigma</th><th>SMAA_3sigma</th><th>SMIA_3sigma</th><th>Theta_3sigma</th><th>Area_3sigma</th><th>RSS_3sigma</th><th>r_3sigma</th><th>r_rate_3sigma</th><th>SBand_3sigma</th><th>XBand_3sigma</th><th>DoppDelay_3sigma</th><th>true_anom</th><th>hour_angle</th><th>alpha_true</th><th>PABLon</th><th>PABLat</th><th>epoch</th></tr></thead>\n",
       "<thead><tr><th></th><th>mag</th><th></th><th></th><th></th><th>deg</th><th>deg</th><th>deg</th><th>deg</th><th>arcsec / h</th><th>arcsec / h</th><th>deg</th><th>deg</th><th>arcsec / min</th><th>arcsec / min</th><th>arcsec</th><th>arcsec</th><th>deg</th><th>h</th><th></th><th>mag</th><th>mag</th><th>%</th><th>arcsec</th><th>arcsec</th><th></th><th>arcsec</th><th>deg</th><th>deg</th><th>deg</th><th>deg</th><th>deg</th><th>arcsec</th><th>deg</th><th>arcsec</th><th>deg</th><th>deg</th><th>AU</th><th>km / s</th><th>AU</th><th>km / s</th><th>min</th><th>km / s</th><th>km / s</th><th>deg</th><th></th><th>deg</th><th>deg</th><th>%</th><th>deg</th><th>deg</th><th>deg</th><th>deg</th><th></th><th>s</th><th>deg</th><th>deg</th><th>deg</th><th>deg</th><th>deg</th><th>deg</th><th></th><th>min</th><th>arcsec</th><th>arcsec</th><th>arcsec</th><th>arcsec</th><th>deg</th><th>arcsec2</th><th>arcsec</th><th>km</th><th>km / s</th><th>Hz</th><th>Hz</th><th>s</th><th>deg</th><th></th><th>deg</th><th>deg</th><th>deg</th><th></th></tr></thead>\n",
       "<thead><tr><th>str10</th><th>float64</th><th>float64</th><th>str1</th><th>str1</th><th>float64</th><th>float64</th><th>float64</th><th>float64</th><th>float64</th><th>float64</th><th>float64</th><th>float64</th><th>float64</th><th>float64</th><th>float64</th><th>float64</th><th>float64</th><th>float64</th><th>float64</th><th>float64</th><th>float64</th><th>float64</th><th>float64</th><th>float64</th><th>str1</th><th>float64</th><th>float64</th><th>float64</th><th>float64</th><th>float64</th><th>float64</th><th>float64</th><th>float64</th><th>float64</th><th>float64</th><th>float64</th><th>float64</th><th>float64</th><th>float64</th><th>float64</th><th>float64</th><th>float64</th><th>float64</th><th>float64</th><th>str2</th><th>float64</th><th>float64</th><th>float64</th><th>float64</th><th>float64</th><th>float64</th><th>float64</th><th>str3</th><th>float64</th><th>float64</th><th>float64</th><th>float64</th><th>float64</th><th>float64</th><th>float64</th><th>float64</th><th>float64</th><th>float64</th><th>float64</th><th>float64</th><th>float64</th><th>float64</th><th>float64</th><th>float64</th><th>float64</th><th>float64</th><th>float64</th><th>float64</th><th>float64</th><th>float64</th><th>float64</th><th>float64</th><th>float64</th><th>float64</th><th>object</th></tr></thead>\n",
       "<tr><td>(2020 AV2)</td><td>16.26</td><td>0.15</td><td>*</td><td></td><td>326.05327</td><td>-1.38036</td><td>326.30269</td><td>-1.28989</td><td>60.76042</td><td>71.55183</td><td>235.8273</td><td>39.3001</td><td>648.15</td><td>-626.19</td><td>108063.7</td><td>73125.73</td><td>61.475</td><td>0.4082757405</td><td>1.576</td><td>0.216</td><td>17.87</td><td>44.957</td><td>0.0</td><td>134744.9</td><td>*</td><td>0.0</td><td>0.0</td><td>0.0</td><td>0.0</td><td>0.0</td><td>234.8</td><td>0.0</td><td>0.0</td><td>0.0</td><td>66.8294</td><td>13.8694</td><td>0.600758999756</td><td>-5.8251524</td><td>0.72029430201894</td><td>-15.4280538</td><td>5.990505</td><td>36.81644</td><td>20.58163</td><td>37.4291</td><td>/T</td><td>95.7929</td><td>164.2</td><td>93.3</td><td>46.7714</td><td>54.856</td><td>109.894</td><td>-21.09242</td><td>Aqr</td><td>69.184249</td><td>328.0935876</td><td>11.5341663</td><td>0.0</td><td>0.0</td><td>54.664229</td><td>-38.311128</td><td>16.8071243089</td><td>0.000354</td><td>6.194</td><td>5.9</td><td>6.197</td><td>5.896</td><td>6.387</td><td>229.6</td><td>8.554</td><td>1075916.24</td><td>0.1321522</td><td>2094.9</td><td>7613.8</td><td>7.177741</td><td>233.7691</td><td>2.654763392</td><td>95.7886</td><td>17.0149</td><td>19.1387</td><td>2458861.5</td></tr>\n",
       "<tr><td>(2020 AV2)</td><td>16.26</td><td>0.15</td><td>*</td><td></td><td>326.05468</td><td>-1.37871</td><td>326.30409</td><td>-1.28823</td><td>60.78258</td><td>71.54396</td><td>236.9761</td><td>38.4244</td><td>639.91</td><td>-634.61</td><td>108056.3</td><td>73129.57</td><td>61.471</td><td>0.4918372353</td><td>1.606</td><td>0.22</td><td>17.87</td><td>44.953</td><td>0.0</td><td>134740.5</td><td>*</td><td>0.0</td><td>0.0</td><td>0.0</td><td>0.0</td><td>0.0</td><td>234.8</td><td>0.0</td><td>0.0</td><td>0.0</td><td>66.8365</td><td>13.8703</td><td>0.600747317014</td><td>-5.8256704</td><td>0.72026336566812</td><td>-15.4219717</td><td>5.990248</td><td>36.81722</td><td>20.57749</td><td>37.4279</td><td>/T</td><td>95.7973</td><td>164.2</td><td>93.3</td><td>46.7683</td><td>54.853</td><td>109.884</td><td>-21.09302</td><td>Aqr</td><td>69.184249</td><td>328.095509</td><td>11.5352505</td><td>0.0</td><td>0.0</td><td>54.666982</td><td>-38.311361</td><td>16.8904366308</td><td>0.000354</td><td>6.202</td><td>5.907</td><td>6.205</td><td>5.903</td><td>6.274</td><td>230.14</td><td>8.564</td><td>1075950.42</td><td>0.1321071</td><td>2094.18</td><td>7611.19</td><td>7.177969</td><td>233.776</td><td>2.738231141</td><td>95.793</td><td>17.0193</td><td>19.1411</td><td>2458861.503472222</td></tr>\n",
       "<tr><td>(2020 AV2)</td><td>16.26</td><td>0.15</td><td>*</td><td></td><td>326.05609</td><td>-1.37706</td><td>326.3055</td><td>-1.28658</td><td>60.8057</td><td>71.53606</td><td>238.0966</td><td>37.5375</td><td>631.91</td><td>-642.57</td><td>108048.9</td><td>73133.41</td><td>61.468</td><td>0.5753987301</td><td>1.638</td><td>0.224</td><td>17.87</td><td>44.949</td><td>0.0</td><td>134736.1</td><td>*</td><td>0.0</td><td>0.0</td><td>0.0</td><td>0.0</td><td>0.0</td><td>234.79</td><td>0.0</td><td>0.0</td><td>0.0</td><td>66.8436</td><td>13.8713</td><td>0.600735633234</td><td>-5.8261882</td><td>0.72023244139327</td><td>-15.4160121</td><td>5.989991</td><td>36.818</td><td>20.57349</td><td>37.4267</td><td>/T</td><td>95.8017</td><td>164.2</td><td>93.2</td><td>46.7652</td><td>54.851</td><td>109.873</td><td>-21.09363</td><td>Aqr</td><td>69.184249</td><td>328.0974308</td><td>11.5363344</td><td>0.0</td><td>0.0</td><td>54.669734</td><td>-38.311595</td><td>16.9737488871</td><td>0.000354</td><td>6.21</td><td>5.913</td><td>6.213</td><td>5.91</td><td>6.163</td><td>230.69</td><td>8.575</td><td>1075984.59</td><td>0.1320621</td><td>2093.46</td><td>7608.58</td><td>7.178196</td><td>233.783</td><td>2.821698857</td><td>95.7974</td><td>17.0238</td><td>19.1435</td><td>2458861.506944444</td></tr>\n",
       "<tr><td>(2020 AV2)</td><td>16.26</td><td>0.15</td><td>*</td><td></td><td>326.0575</td><td>-1.3754</td><td>326.30691</td><td>-1.28492</td><td>60.82978</td><td>71.52813</td><td>239.1901</td><td>36.6397</td><td>624.15</td><td>-650.11</td><td>108041.6</td><td>73137.25</td><td>61.464</td><td>0.6589602249</td><td>1.672</td><td>0.229</td><td>17.87</td><td>44.946</td><td>0.0</td><td>134731.6</td><td>*</td><td>0.0</td><td>0.0</td><td>0.0</td><td>0.0</td><td>0.0</td><td>234.79</td><td>0.0</td><td>0.0</td><td>0.0</td><td>66.8507</td><td>13.8722</td><td>0.600723948415</td><td>-5.826706</td><td>0.72020152894565</td><td>-15.410178</td><td>5.989733</td><td>36.81878</td><td>20.56966</td><td>37.4255</td><td>/T</td><td>95.8061</td><td>164.3</td><td>93.2</td><td>46.762</td><td>54.848</td><td>109.863</td><td>-21.09423</td><td>Aqr</td><td>69.184249</td><td>328.0993531</td><td>11.5374178</td><td>0.0</td><td>0.0</td><td>54.672487</td><td>-38.31183</td><td>17.0570610773</td><td>0.000354</td><td>6.217</td><td>5.92</td><td>6.221</td><td>5.916</td><td>6.056</td><td>231.23</td><td>8.585</td><td>1076018.73</td><td>0.132017</td><td>2092.74</td><td>7605.97</td><td>7.178424</td><td>233.7899</td><td>2.905166539</td><td>95.8018</td><td>17.0283</td><td>19.1459</td><td>2458861.510416667</td></tr>\n",
       "<tr><td>(2020 AV2)</td><td>16.26</td><td>0.15</td><td>*</td><td></td><td>326.05891</td><td>-1.37375</td><td>326.30831</td><td>-1.28326</td><td>60.8548</td><td>71.52018</td><td>240.2577</td><td>35.7318</td><td>616.64</td><td>-657.24</td><td>108034.2</td><td>73141.09</td><td>61.46</td><td>0.7425217197</td><td>1.708</td><td>0.234</td><td>17.87</td><td>44.942</td><td>0.0</td><td>134727.2</td><td>*</td><td>0.0</td><td>0.0</td><td>0.0</td><td>0.0</td><td>0.0</td><td>234.79</td><td>0.0</td><td>0.0</td><td>0.0</td><td>66.8577</td><td>13.8732</td><td>0.600712262559</td><td>-5.8272238</td><td>0.72017062807048</td><td>-15.4044725</td><td>5.989476</td><td>36.81956</td><td>20.56597</td><td>37.4242</td><td>/T</td><td>95.8104</td><td>164.3</td><td>93.2</td><td>46.7589</td><td>54.845</td><td>109.853</td><td>-21.09483</td><td>Aqr</td><td>69.184249</td><td>328.1012759</td><td>11.5385009</td><td>0.0</td><td>0.0</td><td>54.67524</td><td>-38.312065</td><td>17.1403732009</td><td>0.000354</td><td>6.225</td><td>5.926</td><td>6.228</td><td>5.923</td><td>5.952</td><td>231.78</td><td>8.595</td><td>1076052.87</td><td>0.131972</td><td>2092.02</td><td>7603.36</td><td>7.178652</td><td>233.7969</td><td>2.988634184</td><td>95.8061</td><td>17.0328</td><td>19.1483</td><td>2458861.513888889</td></tr>\n",
       "<tr><td>(2020 AV2)</td><td>16.26</td><td>0.15</td><td>*</td><td></td><td>326.06032</td><td>-1.37209</td><td>326.30972</td><td>-1.28161</td><td>60.88073</td><td>71.5122</td><td>241.3006</td><td>34.8142</td><td>609.37</td><td>-663.98</td><td>108026.8</td><td>73144.93</td><td>61.456</td><td>0.8260832144</td><td>1.747</td><td>0.239</td><td>17.87</td><td>44.938</td><td>0.0</td><td>134722.8</td><td>*</td><td>0.0</td><td>0.0</td><td>0.0</td><td>0.0</td><td>0.0</td><td>234.78</td><td>0.0</td><td>0.0</td><td>0.0</td><td>66.8648</td><td>13.8741</td><td>0.600700575664</td><td>-5.8277414</td><td>0.72013973850703</td><td>-15.3988984</td><td>5.98922</td><td>36.82034</td><td>20.56244</td><td>37.423</td><td>/T</td><td>95.8148</td><td>164.3</td><td>93.2</td><td>46.7557</td><td>54.843</td><td>109.843</td><td>-21.09544</td><td>Aqr</td><td>69.184249</td><td>328.1031991</td><td>11.5395837</td><td>0.0</td><td>0.0</td><td>54.677994</td><td>-38.3123</td><td>17.2236852576</td><td>0.000354</td><td>6.233</td><td>5.933</td><td>6.236</td><td>5.929</td><td>5.851</td><td>232.32</td><td>8.605</td><td>1076086.99</td><td>0.1319269</td><td>2091.31</td><td>7600.75</td><td>7.17888</td><td>233.8038</td><td>3.072101792</td><td>95.8105</td><td>17.0372</td><td>19.1507</td><td>2458861.517361111</td></tr>\n",
       "<tr><td>(2020 AV2)</td><td>16.26</td><td>0.15</td><td>C</td><td></td><td>326.06173</td><td>-1.37044</td><td>326.31113</td><td>-1.27995</td><td>60.90756</td><td>71.50419</td><td>242.3198</td><td>33.8876</td><td>602.35</td><td>-670.36</td><td>108019.4</td><td>73148.77</td><td>61.453</td><td>0.9096447092</td><td>1.788</td><td>0.245</td><td>17.87</td><td>44.934</td><td>0.0</td><td>134718.3</td><td>*</td><td>0.0</td><td>0.0</td><td>0.0</td><td>0.0</td><td>0.0</td><td>234.78</td><td>0.0</td><td>0.0</td><td>0.0</td><td>66.8719</td><td>13.8751</td><td>0.600688887732</td><td>-5.828259</td><td>0.72010885998877</td><td>-15.3934586</td><td>5.988963</td><td>36.82112</td><td>20.55907</td><td>37.4218</td><td>/T</td><td>95.8192</td><td>164.3</td><td>93.1</td><td>46.7526</td><td>54.84</td><td>109.833</td><td>-21.09604</td><td>Aqr</td><td>69.18425</td><td>328.1051229</td><td>11.540666</td><td>0.0</td><td>0.0</td><td>54.680747</td><td>-38.312536</td><td>17.306997247</td><td>0.000354</td><td>6.241</td><td>5.939</td><td>6.244</td><td>5.936</td><td>5.754</td><td>232.87</td><td>8.615</td><td>1076121.09</td><td>0.1318819</td><td>2090.59</td><td>7598.14</td><td>7.179107</td><td>233.8108</td><td>3.155569361</td><td>95.8149</td><td>17.0417</td><td>19.1531</td><td>2458861.520833333</td></tr>\n",
       "<tr><td>(2020 AV2)</td><td>16.26</td><td>0.15</td><td>C</td><td></td><td>326.06314</td><td>-1.36878</td><td>326.31254</td><td>-1.2783</td><td>60.93527</td><td>71.49616</td><td>243.3165</td><td>32.9523</td><td>595.57</td><td>-676.39</td><td>108012.1</td><td>73152.6</td><td>61.449</td><td>0.993206204</td><td>1.833</td><td>0.251</td><td>17.87</td><td>44.93</td><td>0.0</td><td>134713.9</td><td>*</td><td>0.0</td><td>0.0</td><td>0.0</td><td>0.0</td><td>0.0</td><td>234.78</td><td>0.0</td><td>0.0</td><td>0.0</td><td>66.879</td><td>13.876</td><td>0.600677198761</td><td>-5.8287766</td><td>0.7200779922435</td><td>-15.388156</td><td>5.988706</td><td>36.8219</td><td>20.55585</td><td>37.4205</td><td>/T</td><td>95.8236</td><td>164.3</td><td>93.1</td><td>46.7494</td><td>54.838</td><td>109.823</td><td>-21.09664</td><td>Aqr</td><td>69.18425</td><td>328.1070472</td><td>11.541748</td><td>0.0</td><td>0.0</td><td>54.683501</td><td>-38.312772</td><td>17.3903091687</td><td>0.000354</td><td>6.248</td><td>5.946</td><td>6.251</td><td>5.943</td><td>5.66</td><td>233.42</td><td>8.625</td><td>1076155.18</td><td>0.1318369</td><td>2089.87</td><td>7595.54</td><td>7.179335</td><td>233.8177</td><td>3.239036889</td><td>95.8193</td><td>17.0462</td><td>19.1555</td><td>2458861.524305556</td></tr>\n",
       "<tr><td>(2020 AV2)</td><td>16.26</td><td>0.15</td><td>C</td><td></td><td>326.06456</td><td>-1.36713</td><td>326.31395</td><td>-1.27664</td><td>60.96383</td><td>71.4881</td><td>244.2917</td><td>32.0088</td><td>589.03</td><td>-682.09</td><td>108004.7</td><td>73156.44</td><td>61.445</td><td>1.0767676987</td><td>1.881</td><td>0.257</td><td>17.87</td><td>44.927</td><td>0.0</td><td>134709.4</td><td>*</td><td>0.0</td><td>0.0</td><td>0.0</td><td>0.0</td><td>0.0</td><td>234.78</td><td>0.0</td><td>0.0</td><td>0.0</td><td>66.8861</td><td>13.877</td><td>0.600665508753</td><td>-5.8292941</td><td>0.72004713499347</td><td>-15.3829931</td><td>5.988449</td><td>36.82268</td><td>20.55279</td><td>37.4193</td><td>/T</td><td>95.8279</td><td>164.3</td><td>93.1</td><td>46.7463</td><td>54.835</td><td>109.813</td><td>-21.09724</td><td>Aqr</td><td>69.18425</td><td>328.1089721</td><td>11.5428295</td><td>0.0</td><td>0.0</td><td>54.686255</td><td>-38.313009</td><td>17.4736210224</td><td>0.000354</td><td>6.256</td><td>5.952</td><td>6.259</td><td>5.949</td><td>5.569</td><td>233.96</td><td>8.635</td><td>1076189.26</td><td>0.1317918</td><td>2089.15</td><td>7592.93</td><td>7.179562</td><td>233.8247</td><td>3.322504376</td><td>95.8236</td><td>17.0507</td><td>19.1579</td><td>2458861.527777778</td></tr>\n",
       "<tr><td>(2020 AV2)</td><td>16.26</td><td>0.15</td><td>N</td><td></td><td>326.06597</td><td>-1.36548</td><td>326.31536</td><td>-1.27499</td><td>60.99322</td><td>71.48001</td><td>245.2464</td><td>31.0577</td><td>582.73</td><td>-687.49</td><td>107997.3</td><td>73160.27</td><td>61.441</td><td>1.1603291934</td><td>1.932</td><td>0.264</td><td>17.87</td><td>44.923</td><td>0.0</td><td>134705.0</td><td>*</td><td>0.0</td><td>0.0</td><td>0.0</td><td>0.0</td><td>0.0</td><td>234.77</td><td>0.0</td><td>0.0</td><td>0.0</td><td>66.8932</td><td>13.8779</td><td>0.600653817708</td><td>-5.8298115</td><td>0.72001628795552</td><td>-15.3779728</td><td>5.988193</td><td>36.82346</td><td>20.54989</td><td>37.4181</td><td>/T</td><td>95.8323</td><td>164.3</td><td>93.1</td><td>46.7432</td><td>54.832</td><td>109.802</td><td>-21.09785</td><td>Aqr</td><td>69.18425</td><td>328.1108975</td><td>11.5439107</td><td>0.0</td><td>0.0</td><td>54.689009</td><td>-38.313247</td><td>17.5569328078</td><td>0.000354</td><td>6.264</td><td>5.959</td><td>6.267</td><td>5.956</td><td>5.481</td><td>234.51</td><td>8.645</td><td>1076223.31</td><td>0.1317468</td><td>2088.43</td><td>7590.32</td><td>7.179789</td><td>233.8317</td><td>3.40597182</td><td>95.828</td><td>17.0551</td><td>19.1603</td><td>2458861.53125</td></tr>\n",
       "<tr><td>(2020 AV2)</td><td>16.26</td><td>0.15</td><td>N</td><td></td><td>326.06738</td><td>-1.36382</td><td>326.31677</td><td>-1.27333</td><td>61.02343</td><td>71.4719</td><td>246.1815</td><td>30.0993</td><td>576.66</td><td>-692.58</td><td>107989.9</td><td>73164.1</td><td>61.438</td><td>1.2438906881</td><td>1.987</td><td>0.272</td><td>17.87</td><td>44.919</td><td>0.0</td><td>134700.5</td><td>*</td><td>0.0</td><td>0.0</td><td>0.0</td><td>0.0</td><td>0.0</td><td>234.77</td><td>0.0</td><td>0.0</td><td>0.0</td><td>66.9003</td><td>13.8789</td><td>0.600642125625</td><td>-5.8303288</td><td>0.7199854508412</td><td>-15.3730977</td><td>5.987936</td><td>36.82424</td><td>20.54715</td><td>37.4168</td><td>/T</td><td>95.8367</td><td>164.3</td><td>93.0</td><td>46.74</td><td>54.83</td><td>109.792</td><td>-21.09845</td><td>Aqr</td><td>69.18425</td><td>328.1128235</td><td>11.5449914</td><td>0.0</td><td>0.0</td><td>54.691764</td><td>-38.313485</td><td>17.6402445247</td><td>0.000354</td><td>6.271</td><td>5.965</td><td>6.274</td><td>5.963</td><td>5.397</td><td>235.05</td><td>8.655</td><td>1076257.36</td><td>0.1317018</td><td>2087.72</td><td>7587.71</td><td>7.180016</td><td>233.8386</td><td>3.489439219</td><td>95.8324</td><td>17.0596</td><td>19.1627</td><td>2458861.534722222</td></tr>\n",
       "<tr><td>(2020 AV2)</td><td>16.26</td><td>0.15</td><td>N</td><td></td><td>326.0688</td><td>-1.36217</td><td>326.31818</td><td>-1.27168</td><td>61.05442</td><td>71.46375</td><td>247.0982</td><td>29.134</td><td>570.83</td><td>-697.4</td><td>107982.6</td><td>73167.94</td><td>61.434</td><td>1.3274521828</td><td>2.046</td><td>0.28</td><td>17.87</td><td>44.915</td><td>0.0</td><td>134696.1</td><td>*</td><td>0.0</td><td>0.0</td><td>0.0</td><td>0.0</td><td>0.0</td><td>234.77</td><td>0.0</td><td>0.0</td><td>0.0</td><td>66.9074</td><td>13.8798</td><td>0.600630432505</td><td>-5.8308461</td><td>0.71995462335695</td><td>-15.3683701</td><td>5.98768</td><td>36.82502</td><td>20.54456</td><td>37.4156</td><td>/T</td><td>95.8411</td><td>164.3</td><td>93.0</td><td>46.7369</td><td>54.827</td><td>109.782</td><td>-21.09905</td><td>Aqr</td><td>69.18425</td><td>328.1147502</td><td>11.5460717</td><td>0.0</td><td>0.0</td><td>54.694519</td><td>-38.313724</td><td>17.7235561728</td><td>0.000354</td><td>6.279</td><td>5.972</td><td>6.282</td><td>5.969</td><td>5.316</td><td>235.6</td><td>8.665</td><td>1076291.39</td><td>0.1316568</td><td>2087.0</td><td>7585.1</td><td>7.180243</td><td>233.8456</td><td>3.572906572</td><td>95.8368</td><td>17.0641</td><td>19.1651</td><td>2458861.538194444</td></tr>\n",
       "<tr><td>(2020 AV2)</td><td>16.26</td><td>0.15</td><td>N</td><td></td><td>326.07022</td><td>-1.36052</td><td>326.3196</td><td>-1.27002</td><td>61.08619</td><td>71.45558</td><td>247.9971</td><td>28.1622</td><td>565.23</td><td>-701.94</td><td>107975.2</td><td>73171.77</td><td>61.43</td><td>1.4110136775</td><td>2.11</td><td>0.289</td><td>17.87</td><td>44.911</td><td>0.0</td><td>134691.7</td><td>*</td><td>0.0</td><td>0.0</td><td>0.0</td><td>0.0</td><td>0.0</td><td>234.77</td><td>0.0</td><td>0.0</td><td>0.0</td><td>66.9145</td><td>13.8808</td><td>0.600618738347</td><td>-5.8313633</td><td>0.71992380520416</td><td>-15.3637927</td><td>5.987424</td><td>36.82581</td><td>20.54214</td><td>37.4143</td><td>/T</td><td>95.8454</td><td>164.3</td><td>93.0</td><td>46.7337</td><td>54.824</td><td>109.772</td><td>-21.09965</td><td>Aqr</td><td>69.18425</td><td>328.1166774</td><td>11.5471516</td><td>0.0</td><td>0.0</td><td>54.697274</td><td>-38.313964</td><td>17.806867752</td><td>0.000354</td><td>6.287</td><td>5.978</td><td>6.289</td><td>5.976</td><td>5.238</td><td>236.14</td><td>8.675</td><td>1076325.4</td><td>0.1316117</td><td>2086.28</td><td>7582.49</td><td>7.18047</td><td>233.8525</td><td>3.656373878</td><td>95.8411</td><td>17.0686</td><td>19.1675</td><td>2458861.541666667</td></tr>\n",
       "<tr><td>(2020 AV2)</td><td>16.26</td><td>0.15</td><td>N</td><td></td><td>326.07163</td><td>-1.35887</td><td>326.32101</td><td>-1.26837</td><td>61.1187</td><td>71.44737</td><td>248.8794</td><td>27.1843</td><td>559.85</td><td>-706.24</td><td>107967.8</td><td>73175.59</td><td>61.426</td><td>1.4945751721</td><td>2.179</td><td>0.298</td><td>17.87</td><td>44.908</td><td>0.0</td><td>134687.2</td><td>*</td><td>0.0</td><td>0.0</td><td>0.0</td><td>0.0</td><td>0.0</td><td>234.76</td><td>0.0</td><td>0.0</td><td>0.0</td><td>66.9216</td><td>13.8817</td><td>0.600607043153</td><td>-5.8318804</td><td>0.71989299607941</td><td>-15.3593677</td><td>5.987167</td><td>36.82659</td><td>20.53988</td><td>37.4131</td><td>/T</td><td>95.8498</td><td>164.3</td><td>93.0</td><td>46.7306</td><td>54.822</td><td>109.762</td><td>-21.10024</td><td>Aqr</td><td>69.18425</td><td>328.1186053</td><td>11.548231</td><td>0.0</td><td>0.0</td><td>54.70003</td><td>-38.314204</td><td>17.8901792621</td><td>0.000354</td><td>6.294</td><td>5.985</td><td>6.297</td><td>5.982</td><td>5.163</td><td>236.69</td><td>8.686</td><td>1076359.4</td><td>0.1315667</td><td>2085.56</td><td>7579.88</td><td>7.180697</td><td>233.8595</td><td>3.739841137</td><td>95.8455</td><td>17.073</td><td>19.1699</td><td>2458861.545138889</td></tr>\n",
       "<tr><td>(2020 AV2)</td><td>16.26</td><td>0.15</td><td>N</td><td></td><td>326.07305</td><td>-1.35721</td><td>326.32242</td><td>-1.26672</td><td>61.15193</td><td>71.43914</td><td>249.7457</td><td>26.2005</td><td>554.7</td><td>-710.29</td><td>107960.4</td><td>73179.42</td><td>61.423</td><td>1.5781366668</td><td>2.253</td><td>0.309</td><td>17.87</td><td>44.904</td><td>0.0</td><td>134682.8</td><td>*</td><td>0.0</td><td>0.0</td><td>0.0</td><td>0.0</td><td>0.0</td><td>234.76</td><td>0.0</td><td>0.0</td><td>0.0</td><td>66.9287</td><td>13.8827</td><td>0.600595346922</td><td>-5.8323975</td><td>0.71986219567453</td><td>-15.3550975</td><td>5.986911</td><td>36.82737</td><td>20.53778</td><td>37.4119</td><td>/T</td><td>95.8542</td><td>164.3</td><td>92.9</td><td>46.7275</td><td>54.819</td><td>109.752</td><td>-21.10084</td><td>Aqr</td><td>69.18425</td><td>328.1205339</td><td>11.54931</td><td>0.0</td><td>0.0</td><td>54.702786</td><td>-38.314444</td><td>17.973490703</td><td>0.000354</td><td>6.302</td><td>5.992</td><td>6.304</td><td>5.989</td><td>5.092</td><td>237.23</td><td>8.696</td><td>1076393.38</td><td>0.1315217</td><td>2084.84</td><td>7577.27</td><td>7.180924</td><td>233.8664</td><td>3.823308345</td><td>95.8499</td><td>17.0775</td><td>19.1723</td><td>2458861.548611111</td></tr>\n",
       "<tr><td>(2020 AV2)</td><td>16.26</td><td>0.15</td><td>A</td><td></td><td>326.07447</td><td>-1.35556</td><td>326.32384</td><td>-1.26506</td><td>61.18586</td><td>71.43088</td><td>250.5969</td><td>25.2113</td><td>549.76</td><td>-714.12</td><td>107953.1</td><td>73183.25</td><td>61.419</td><td>1.6616981614</td><td>2.335</td><td>0.32</td><td>17.87</td><td>44.9</td><td>0.0</td><td>134678.3</td><td>*</td><td>0.0</td><td>0.0</td><td>0.0</td><td>0.0</td><td>0.0</td><td>234.76</td><td>0.0</td><td>0.0</td><td>0.0</td><td>66.9358</td><td>13.8836</td><td>0.600583649654</td><td>-5.8329145</td><td>0.71983140367681</td><td>-15.3509844</td><td>5.986655</td><td>36.82815</td><td>20.53584</td><td>37.4106</td><td>/T</td><td>95.8586</td><td>164.3</td><td>92.9</td><td>46.7243</td><td>54.817</td><td>109.742</td><td>-21.10144</td><td>Aqr</td><td>69.18425</td><td>328.1224631</td><td>11.5503886</td><td>0.0</td><td>0.0</td><td>54.705542</td><td>-38.314686</td><td>18.0568020746</td><td>0.000354</td><td>6.309</td><td>5.998</td><td>6.312</td><td>5.996</td><td>5.024</td><td>237.77</td><td>8.706</td><td>1076427.35</td><td>0.1314767</td><td>2084.13</td><td>7574.66</td><td>7.18115</td><td>233.8734</td><td>3.906775504</td><td>95.8543</td><td>17.082</td><td>19.1747</td><td>2458861.552083333</td></tr>\n",
       "<tr><td>(2020 AV2)</td><td>16.26</td><td>0.15</td><td>A</td><td></td><td>326.07589</td><td>-1.35391</td><td>326.32526</td><td>-1.26341</td><td>61.22047</td><td>71.42259</td><td>251.4338</td><td>24.217</td><td>545.05</td><td>-717.73</td><td>107945.7</td><td>73187.07</td><td>61.415</td><td>1.7452596561</td><td>2.423</td><td>0.332</td><td>17.87</td><td>44.896</td><td>0.0</td><td>134673.8</td><td>*</td><td>0.0</td><td>0.0</td><td>0.0</td><td>0.0</td><td>0.0</td><td>234.76</td><td>0.0</td><td>0.0</td><td>0.0</td><td>66.9429</td><td>13.8846</td><td>0.600571951349</td><td>-5.8334315</td><td>0.71980061976912</td><td>-15.3470305</td><td>5.986399</td><td>36.82893</td><td>20.53406</td><td>37.4094</td><td>/T</td><td>95.8629</td><td>164.4</td><td>92.9</td><td>46.7212</td><td>54.814</td><td>109.731</td><td>-21.10204</td><td>Aqr</td><td>69.184251</td><td>328.1243931</td><td>11.5514667</td><td>0.0</td><td>0.0</td><td>54.708299</td><td>-38.314928</td><td>18.1401133769</td><td>0.000354</td><td>6.317</td><td>6.005</td><td>6.319</td><td>6.002</td><td>4.96</td><td>238.32</td><td>8.715</td><td>1076461.3</td><td>0.1314317</td><td>2083.41</td><td>7572.05</td><td>7.181377</td><td>233.8803</td><td>3.99024261</td><td>95.8586</td><td>17.0865</td><td>19.1771</td><td>2458861.555555556</td></tr>\n",
       "<tr><td>(2020 AV2)</td><td>16.26</td><td>0.15</td><td>A</td><td></td><td>326.07731</td><td>-1.35226</td><td>326.32667</td><td>-1.26176</td><td>61.25573</td><td>71.41427</td><td>252.2573</td><td>23.2178</td><td>540.54</td><td>-721.13</td><td>107938.3</td><td>73190.9</td><td>61.411</td><td>1.8288211507</td><td>2.52</td><td>0.345</td><td>17.87</td><td>44.892</td><td>0.0</td><td>134669.4</td><td>*</td><td>0.0</td><td>0.0</td><td>0.0</td><td>0.0</td><td>0.0</td><td>234.75</td><td>0.0</td><td>0.0</td><td>0.0</td><td>66.95</td><td>13.8855</td><td>0.600560252008</td><td>-5.8339484</td><td>0.71976984363008</td><td>-15.3432378</td><td>5.986143</td><td>36.82971</td><td>20.53244</td><td>37.4082</td><td>/T</td><td>95.8673</td><td>164.4</td><td>92.9</td><td>46.7181</td><td>54.811</td><td>109.721</td><td>-21.10263</td><td>Aqr</td><td>69.184251</td><td>328.1263237</td><td>11.5525443</td><td>0.0</td><td>0.0</td><td>54.711056</td><td>-38.315171</td><td>18.2234246098</td><td>0.000354</td><td>6.324</td><td>6.011</td><td>6.327</td><td>6.009</td><td>4.898</td><td>238.86</td><td>8.725</td><td>1076495.24</td><td>0.1313867</td><td>2082.69</td><td>7569.45</td><td>7.181603</td><td>233.8873</td><td>4.073709664</td><td>95.863</td><td>17.091</td><td>19.1795</td><td>2458861.559027778</td></tr>\n",
       "<tr><td>(2020 AV2)</td><td>16.26</td><td>0.15</td><td>A</td><td></td><td>326.07873</td><td>-1.35061</td><td>326.32809</td><td>-1.2601</td><td>61.29161</td><td>71.40592</td><td>253.0679</td><td>22.2139</td><td>536.24</td><td>-724.33</td><td>107930.9</td><td>73194.72</td><td>61.407</td><td>1.9123826452</td><td>2.626</td><td>0.36</td><td>17.87</td><td>44.889</td><td>0.0</td><td>134664.9</td><td>*</td><td>0.0</td><td>0.0</td><td>0.0</td><td>0.0</td><td>0.0</td><td>234.75</td><td>0.0</td><td>0.0</td><td>0.0</td><td>66.9571</td><td>13.8864</td><td>0.600548551631</td><td>-5.8344652</td><td>0.71973907493414</td><td>-15.3396085</td><td>5.985887</td><td>36.83049</td><td>20.53098</td><td>37.4069</td><td>/T</td><td>95.8717</td><td>164.4</td><td>92.8</td><td>46.7149</td><td>54.809</td><td>109.711</td><td>-21.10323</td><td>Aqr</td><td>69.184251</td><td>328.1282551</td><td>11.5536215</td><td>0.0</td><td>0.0</td><td>54.713813</td><td>-38.315414</td><td>18.3067357733</td><td>0.000354</td><td>6.332</td><td>6.018</td><td>6.334</td><td>6.016</td><td>4.84</td><td>239.41</td><td>8.735</td><td>1076529.16</td><td>0.1313417</td><td>2081.97</td><td>7566.84</td><td>7.181829</td><td>233.8943</td><td>4.157176665</td><td>95.8674</td><td>17.0954</td><td>19.1819</td><td>2458861.5625</td></tr>\n",
       "<tr><td>(2020 AV2)</td><td>16.26</td><td>0.15</td><td>A</td><td></td><td>326.08015</td><td>-1.34896</td><td>326.32951</td><td>-1.25845</td><td>61.3281</td><td>71.39754</td><td>253.8665</td><td>21.2058</td><td>532.15</td><td>-727.34</td><td>107923.5</td><td>73198.55</td><td>61.404</td><td>1.9959441398</td><td>2.742</td><td>0.375</td><td>17.87</td><td>44.885</td><td>0.0</td><td>134660.5</td><td>*</td><td>0.0</td><td>0.0</td><td>0.0</td><td>0.0</td><td>0.0</td><td>234.75</td><td>0.0</td><td>0.0</td><td>0.0</td><td>66.9642</td><td>13.8874</td><td>0.600536850217</td><td>-5.8349819</td><td>0.71970831335187</td><td>-15.3361444</td><td>5.985632</td><td>36.83127</td><td>20.52968</td><td>37.4057</td><td>/T</td><td>95.8761</td><td>164.4</td><td>92.8</td><td>46.7118</td><td>54.806</td><td>109.701</td><td>-21.10382</td><td>Aqr</td><td>69.184251</td><td>328.1301872</td><td>11.5546982</td><td>0.0</td><td>0.0</td><td>54.716571</td><td>-38.315658</td><td>18.3900468677</td><td>0.000354</td><td>6.339</td><td>6.024</td><td>6.341</td><td>6.022</td><td>4.785</td><td>239.95</td><td>8.745</td><td>1076563.06</td><td>0.1312967</td><td>2081.26</td><td>7564.23</td><td>7.182056</td><td>233.9012</td><td>4.24064361</td><td>95.8717</td><td>17.0999</td><td>19.1843</td><td>2458861.565972222</td></tr>\n",
       "</table>"
      ],
      "text/plain": [
       "<QTable length=20>\n",
       "targetname    H       G    solar_presence ...  PABLon  PABLat       epoch      \n",
       "             mag                          ...   deg     deg                    \n",
       "  str10    float64 float64      str1      ... float64 float64       object     \n",
       "---------- ------- ------- -------------- ... ------- ------- -----------------\n",
       "(2020 AV2)   16.26    0.15              * ... 17.0149 19.1387         2458861.5\n",
       "(2020 AV2)   16.26    0.15              * ... 17.0193 19.1411 2458861.503472222\n",
       "(2020 AV2)   16.26    0.15              * ... 17.0238 19.1435 2458861.506944444\n",
       "(2020 AV2)   16.26    0.15              * ... 17.0283 19.1459 2458861.510416667\n",
       "(2020 AV2)   16.26    0.15              * ... 17.0328 19.1483 2458861.513888889\n",
       "(2020 AV2)   16.26    0.15              * ... 17.0372 19.1507 2458861.517361111\n",
       "(2020 AV2)   16.26    0.15              C ... 17.0417 19.1531 2458861.520833333\n",
       "(2020 AV2)   16.26    0.15              C ... 17.0462 19.1555 2458861.524305556\n",
       "(2020 AV2)   16.26    0.15              C ... 17.0507 19.1579 2458861.527777778\n",
       "(2020 AV2)   16.26    0.15              N ... 17.0551 19.1603     2458861.53125\n",
       "(2020 AV2)   16.26    0.15              N ... 17.0596 19.1627 2458861.534722222\n",
       "(2020 AV2)   16.26    0.15              N ... 17.0641 19.1651 2458861.538194444\n",
       "(2020 AV2)   16.26    0.15              N ... 17.0686 19.1675 2458861.541666667\n",
       "(2020 AV2)   16.26    0.15              N ...  17.073 19.1699 2458861.545138889\n",
       "(2020 AV2)   16.26    0.15              N ... 17.0775 19.1723 2458861.548611111\n",
       "(2020 AV2)   16.26    0.15              A ...  17.082 19.1747 2458861.552083333\n",
       "(2020 AV2)   16.26    0.15              A ... 17.0865 19.1771 2458861.555555556\n",
       "(2020 AV2)   16.26    0.15              A ...  17.091 19.1795 2458861.559027778\n",
       "(2020 AV2)   16.26    0.15              A ... 17.0954 19.1819      2458861.5625\n",
       "(2020 AV2)   16.26    0.15              A ... 17.0999 19.1843 2458861.565972222"
      ]
     },
     "execution_count": 10,
     "metadata": {},
     "output_type": "execute_result"
    }
   ],
   "source": [
    "ephs.table[0:20]"
   ]
  },
  {
   "cell_type": "code",
   "execution_count": 11,
   "metadata": {},
   "outputs": [],
   "source": [
    "# Narrow down ephemerides to times when the target is desireable. \n",
    "# Let's cut off at elevation < 10 and Civil twilight, so there's a good buffer.\n",
    "ephs = ephs[np.where((ephs['elevation'] > 10*u.deg) & (ephs['solar_presence'] != '*'))]\n",
    "times = Time(ephs['epoch'], format='mjd', scale='utc')"
   ]
  },
  {
   "cell_type": "code",
   "execution_count": 12,
   "metadata": {},
   "outputs": [
    {
     "name": "stdout",
     "output_type": "stream",
     "text": [
      "[0.     0.0846 0.1698 0.2544 0.339  0.4242 0.5094 0.594  0.6792 0.7644\n",
      " 0.8496 0.9348 1.02   1.1052 1.1904 1.2756 1.3614 1.4466 1.5324 1.6176\n",
      " 1.7034 1.7892 1.875  1.9608] arcmin\n",
      "[0.     0.0996 0.1986 0.2976 0.3972 0.4962 0.5952 0.6942 0.7938 0.8928\n",
      " 0.9918 1.0908 1.1898 1.2888 1.3884 1.4874 1.5864 1.6854 1.7844 1.8834\n",
      " 1.9824 2.0814 2.1804 2.2794] arcmin\n"
     ]
    }
   ],
   "source": [
    "# How far does it move over that period?  \n",
    "# NICFPS: 1024x1024 HgCdTe device with a 0.273 arsec/pixel scale -- 4.58 arcmin across FOV\n",
    "print((ephs['RA'] - ephs['RA'][0]).to(u.arcmin))\n",
    "print((ephs['DEC'] - ephs['DEC'][0]).to(u.arcmin))\n",
    "\n",
    "# So .. maybe just pick a pointing and stick with that for entire period? "
   ]
  },
  {
   "cell_type": "code",
   "execution_count": 13,
   "metadata": {},
   "outputs": [
    {
     "name": "stdout",
     "output_type": "stream",
     "text": [
      "Object set time (UTC)  2020-01-13T02:25:00.000\n"
     ]
    }
   ],
   "source": [
    "print(\"Object set time (UTC) \", times.max().isot)"
   ]
  },
  {
   "cell_type": "code",
   "execution_count": 14,
   "metadata": {},
   "outputs": [
    {
     "data": {
      "text/html": [
       "<i>QTable length=24</i>\n",
       "<table id=\"table4774644880\" class=\"table-striped table-bordered table-condensed\">\n",
       "<thead><tr><th>RA</th><th>DEC</th><th>RA_3sigma</th><th>DEC_3sigma</th><th>V</th><th>airmass</th><th>epoch</th><th>EL</th><th>solar_presence</th><th>lunar_elong</th></tr></thead>\n",
       "<thead><tr><th>deg</th><th>deg</th><th>arcsec</th><th>arcsec</th><th>mag</th><th></th><th></th><th>deg</th><th></th><th>deg</th></tr></thead>\n",
       "<thead><tr><th>float64</th><th>float64</th><th>float64</th><th>float64</th><th>float64</th><th>float64</th><th>object</th><th>float64</th><th>str1</th><th>float64</th></tr></thead>\n",
       "<tr><td>326.06173</td><td>-1.37044</td><td>6.241</td><td>5.939</td><td>17.87</td><td>1.788</td><td>2458861.520833333</td><td>33.8876</td><td>C</td><td>164.3</td></tr>\n",
       "<tr><td>326.06314</td><td>-1.36878</td><td>6.248</td><td>5.946</td><td>17.87</td><td>1.833</td><td>2458861.524305556</td><td>32.9523</td><td>C</td><td>164.3</td></tr>\n",
       "<tr><td>326.06456</td><td>-1.36713</td><td>6.256</td><td>5.952</td><td>17.87</td><td>1.881</td><td>2458861.527777778</td><td>32.0088</td><td>C</td><td>164.3</td></tr>\n",
       "<tr><td>326.06597</td><td>-1.36548</td><td>6.264</td><td>5.959</td><td>17.87</td><td>1.932</td><td>2458861.53125</td><td>31.0577</td><td>N</td><td>164.3</td></tr>\n",
       "<tr><td>326.06738</td><td>-1.36382</td><td>6.271</td><td>5.965</td><td>17.87</td><td>1.987</td><td>2458861.534722222</td><td>30.0993</td><td>N</td><td>164.3</td></tr>\n",
       "<tr><td>326.0688</td><td>-1.36217</td><td>6.279</td><td>5.972</td><td>17.87</td><td>2.046</td><td>2458861.538194444</td><td>29.134</td><td>N</td><td>164.3</td></tr>\n",
       "<tr><td>326.07022</td><td>-1.36052</td><td>6.287</td><td>5.978</td><td>17.87</td><td>2.11</td><td>2458861.541666667</td><td>28.1622</td><td>N</td><td>164.3</td></tr>\n",
       "<tr><td>326.07163</td><td>-1.35887</td><td>6.294</td><td>5.985</td><td>17.87</td><td>2.179</td><td>2458861.545138889</td><td>27.1843</td><td>N</td><td>164.3</td></tr>\n",
       "<tr><td>326.07305</td><td>-1.35721</td><td>6.302</td><td>5.992</td><td>17.87</td><td>2.253</td><td>2458861.548611111</td><td>26.2005</td><td>N</td><td>164.3</td></tr>\n",
       "<tr><td>...</td><td>...</td><td>...</td><td>...</td><td>...</td><td>...</td><td>...</td><td>...</td><td>...</td><td>...</td></tr>\n",
       "<tr><td>326.08157</td><td>-1.3473</td><td>6.347</td><td>6.031</td><td>17.87</td><td>2.871</td><td>2458861.569444444</td><td>20.1936</td><td>A</td><td>164.4</td></tr>\n",
       "<tr><td>326.08299</td><td>-1.34565</td><td>6.354</td><td>6.038</td><td>17.87</td><td>3.013</td><td>2458861.572916667</td><td>19.1777</td><td></td><td>164.4</td></tr>\n",
       "<tr><td>326.08442</td><td>-1.344</td><td>6.361</td><td>6.044</td><td>17.87</td><td>3.172</td><td>2458861.576388889</td><td>18.1581</td><td></td><td>164.4</td></tr>\n",
       "<tr><td>326.08584</td><td>-1.34235</td><td>6.369</td><td>6.051</td><td>17.87</td><td>3.351</td><td>2458861.579861111</td><td>17.1352</td><td></td><td>164.4</td></tr>\n",
       "<tr><td>326.08727</td><td>-1.3407</td><td>6.376</td><td>6.057</td><td>17.87</td><td>3.551</td><td>2458861.583333333</td><td>16.1092</td><td></td><td>164.4</td></tr>\n",
       "<tr><td>326.08869</td><td>-1.33905</td><td>6.383</td><td>6.064</td><td>17.87</td><td>3.779</td><td>2458861.586805556</td><td>15.0802</td><td></td><td>164.4</td></tr>\n",
       "<tr><td>326.09012</td><td>-1.3374</td><td>6.391</td><td>6.071</td><td>17.87</td><td>4.04</td><td>2458861.590277778</td><td>14.0486</td><td></td><td>164.4</td></tr>\n",
       "<tr><td>326.09155</td><td>-1.33575</td><td>6.398</td><td>6.077</td><td>17.87</td><td>4.34</td><td>2458861.59375</td><td>13.0144</td><td></td><td>164.4</td></tr>\n",
       "<tr><td>326.09298</td><td>-1.3341</td><td>6.405</td><td>6.084</td><td>17.87</td><td>4.689</td><td>2458861.597222222</td><td>11.9779</td><td></td><td>164.4</td></tr>\n",
       "<tr><td>326.09441</td><td>-1.33245</td><td>6.412</td><td>6.091</td><td>17.87</td><td>5.101</td><td>2458861.600694444</td><td>10.9392</td><td></td><td>164.4</td></tr>\n",
       "</table>"
      ],
      "text/plain": [
       "<QTable length=24>\n",
       "    RA      DEC    RA_3sigma DEC_3sigma ...    EL   solar_presence lunar_elong\n",
       "   deg      deg      arcsec    arcsec   ...   deg                      deg    \n",
       " float64  float64   float64   float64   ... float64      str1        float64  \n",
       "--------- -------- --------- ---------- ... ------- -------------- -----------\n",
       "326.06173 -1.37044     6.241      5.939 ... 33.8876              C       164.3\n",
       "326.06314 -1.36878     6.248      5.946 ... 32.9523              C       164.3\n",
       "326.06456 -1.36713     6.256      5.952 ... 32.0088              C       164.3\n",
       "326.06597 -1.36548     6.264      5.959 ... 31.0577              N       164.3\n",
       "326.06738 -1.36382     6.271      5.965 ... 30.0993              N       164.3\n",
       " 326.0688 -1.36217     6.279      5.972 ...  29.134              N       164.3\n",
       "326.07022 -1.36052     6.287      5.978 ... 28.1622              N       164.3\n",
       "326.07163 -1.35887     6.294      5.985 ... 27.1843              N       164.3\n",
       "326.07305 -1.35721     6.302      5.992 ... 26.2005              N       164.3\n",
       "      ...      ...       ...        ... ...     ...            ...         ...\n",
       "326.08157  -1.3473     6.347      6.031 ... 20.1936              A       164.4\n",
       "326.08299 -1.34565     6.354      6.038 ... 19.1777                      164.4\n",
       "326.08442   -1.344     6.361      6.044 ... 18.1581                      164.4\n",
       "326.08584 -1.34235     6.369      6.051 ... 17.1352                      164.4\n",
       "326.08727  -1.3407     6.376      6.057 ... 16.1092                      164.4\n",
       "326.08869 -1.33905     6.383      6.064 ... 15.0802                      164.4\n",
       "326.09012  -1.3374     6.391      6.071 ... 14.0486                      164.4\n",
       "326.09155 -1.33575     6.398      6.077 ... 13.0144                      164.4\n",
       "326.09298  -1.3341     6.405      6.084 ... 11.9779                      164.4\n",
       "326.09441 -1.33245     6.412      6.091 ... 10.9392                      164.4"
      ]
     },
     "execution_count": 14,
     "metadata": {},
     "output_type": "execute_result"
    }
   ],
   "source": [
    "cols = ['RA', 'DEC', 'RA_3sigma', 'DEC_3sigma', 'V', 'airmass', 'epoch' , 'EL', 'solar_presence', 'lunar_elong']\n",
    "ephs[cols]"
   ]
  },
  {
   "cell_type": "code",
   "execution_count": 15,
   "metadata": {},
   "outputs": [
    {
     "name": "stdout",
     "output_type": "stream",
     "text": [
      "2020-01-13T00:30:00.000 tcc track 326.06173, -1.37044, 4.699657407407407e-06, 5.517298611111111e-06 Fk5=2000.0 /Rotangle=0.0 /Rottype=Object\n",
      "2020-01-13T00:35:00.000 tcc track 326.06314, -1.36878, 4.701795524691358e-06, 5.516679012345679e-06 Fk5=2000.0 /Rotangle=0.0 /Rottype=Object\n",
      "2020-01-13T00:40:00.000 tcc track 326.06456, -1.36713, 4.703999228395062e-06, 5.516057098765433e-06 Fk5=2000.0 /Rotangle=0.0 /Rottype=Object\n",
      "2020-01-13T00:45:00.000 tcc track 326.06597, -1.36548, 4.706266975308642e-06, 5.51543287037037e-06 Fk5=2000.0 /Rotangle=0.0 /Rottype=Object\n",
      "2020-01-13T00:50:00.000 tcc track 326.06738, -1.36382, 4.708597993827161e-06, 5.514807098765433e-06 Fk5=2000.0 /Rotangle=0.0 /Rottype=Object\n",
      "2020-01-13T00:55:00.000 tcc track 326.0688, -1.36217, 4.710989197530864e-06, 5.514178240740741e-06 Fk5=2000.0 /Rotangle=0.0 /Rottype=Object\n",
      "2020-01-13T01:00:00.000 tcc track 326.07022, -1.36052, 4.713440586419753e-06, 5.513547839506173e-06 Fk5=2000.0 /Rotangle=0.0 /Rottype=Object\n",
      "2020-01-13T01:05:00.000 tcc track 326.07163, -1.35887, 4.715949074074074e-06, 5.512914351851853e-06 Fk5=2000.0 /Rotangle=0.0 /Rottype=Object\n",
      "2020-01-13T01:10:00.000 tcc track 326.07305, -1.35721, 4.718513117283951e-06, 5.512279320987654e-06 Fk5=2000.0 /Rotangle=0.0 /Rottype=Object\n",
      "2020-01-13T01:15:00.000 tcc track 326.07447, -1.35556, 4.721131172839506e-06, 5.511641975308642e-06 Fk5=2000.0 /Rotangle=0.0 /Rottype=Object\n",
      "2020-01-13T01:20:00.000 tcc track 326.07589, -1.35391, 4.7238016975308645e-06, 5.511002314814815e-06 Fk5=2000.0 /Rotangle=0.0 /Rottype=Object\n",
      "2020-01-13T01:25:00.000 tcc track 326.07731, -1.35226, 4.72652237654321e-06, 5.510360339506173e-06 Fk5=2000.0 /Rotangle=0.0 /Rottype=Object\n",
      "2020-01-13T01:30:00.000 tcc track 326.07873, -1.35061, 4.729290895061729e-06, 5.509716049382716e-06 Fk5=2000.0 /Rotangle=0.0 /Rottype=Object\n",
      "2020-01-13T01:35:00.000 tcc track 326.08015, -1.34896, 4.7321064814814816e-06, 5.509069444444445e-06 Fk5=2000.0 /Rotangle=0.0 /Rottype=Object\n",
      "2020-01-13T01:40:00.000 tcc track 326.08157, -1.3473, 4.734966049382716e-06, 5.508420524691358e-06 Fk5=2000.0 /Rotangle=0.0 /Rottype=Object\n",
      "2020-01-13T01:45:00.000 tcc track 326.08299, -1.34565, 4.737868827160494e-06, 5.507769290123457e-06 Fk5=2000.0 /Rotangle=0.0 /Rottype=Object\n",
      "2020-01-13T01:50:00.000 tcc track 326.08442, -1.344, 4.740811728395062e-06, 5.507114969135802e-06 Fk5=2000.0 /Rotangle=0.0 /Rottype=Object\n",
      "2020-01-13T01:55:00.000 tcc track 326.08584, -1.34235, 4.743793209876543e-06, 5.5064591049382715e-06 Fk5=2000.0 /Rotangle=0.0 /Rottype=Object\n",
      "2020-01-13T02:00:00.000 tcc track 326.08727, -1.3407, 4.746811728395062e-06, 5.505800925925926e-06 Fk5=2000.0 /Rotangle=0.0 /Rottype=Object\n",
      "2020-01-13T02:05:00.000 tcc track 326.08869, -1.33905, 4.749864197530864e-06, 5.505139660493827e-06 Fk5=2000.0 /Rotangle=0.0 /Rottype=Object\n",
      "2020-01-13T02:10:00.000 tcc track 326.09012, -1.3374, 4.752949845679012e-06, 5.504476851851852e-06 Fk5=2000.0 /Rotangle=0.0 /Rottype=Object\n",
      "2020-01-13T02:15:00.000 tcc track 326.09155, -1.33575, 4.7560655864197535e-06, 5.503810956790123e-06 Fk5=2000.0 /Rotangle=0.0 /Rottype=Object\n",
      "2020-01-13T02:20:00.000 tcc track 326.09298, -1.3341, 4.75920987654321e-06, 5.503143518518518e-06 Fk5=2000.0 /Rotangle=0.0 /Rottype=Object\n",
      "2020-01-13T02:25:00.000 tcc track 326.09441, -1.33245, 4.7623811728395064e-06, 5.502472993827161e-06 Fk5=2000.0 /Rotangle=0.0 /Rottype=Object\n"
     ]
    }
   ],
   "source": [
    "# TUI commands to slew to target.\n",
    "for i in range(len(ephs)):\n",
    "    print(f\"{ephs[i]['epoch'].isot} tcc track {ephs[i]['RA'].value}, {ephs[i]['DEC'].value}, \\\n",
    "{ephs[i]['RA*cos(Dec)_rate'].to(u.deg/u.second).value}, {ephs[i]['DEC_rate'].to(u.deg/u.second).value} \\\n",
    "Fk5=2000.0 /Rotangle=0.0 /Rottype=Object\")"
   ]
  },
  {
   "cell_type": "code",
   "execution_count": null,
   "metadata": {},
   "outputs": [],
   "source": [
    "# exposures - on-sky + readout (NFS=8 JHK, NFS=0 Y)\n",
    "exptime = {}\n",
    "exptime['Y'] = 100 + 5.4\n",
    "exptime['J'] = 50 + 10.9\n",
    "exptime['H'] = 20 + 10.9\n",
    "exptime['K'] = 10 + 10.9\n",
    "\n"
   ]
  },
  {
   "cell_type": "code",
   "execution_count": 52,
   "metadata": {},
   "outputs": [
    {
     "name": "stdout",
     "output_type": "stream",
     "text": [
      "Change in magnitude of 0.5 means that the flux changed by a factor of 1.5848931924611136\n",
      "To maintain SNR (without sensitivity change), change exposure 0.3981071705534972 longer\n"
     ]
    }
   ],
   "source": [
    "# Middle of range of  likely asteroid colors\n",
    "# Y-J ~0.4, Y-H ~ 0.5, Y-K ~0.7 (redder)\n",
    "dmag = 0.5\n",
    "fluxratio = 10**(dmag / 2.5)\n",
    "print(f\"Change in magnitude of {dmag} means that the flux changed by a factor of {fluxratio}\")\n",
    "# For same SNR need (fluxratio)**2 exposure time (assuming photon limited)\n",
    "exptimeratio = 1/fluxratio**2\n",
    "print(f\"To maintain SNR (without sensitivity change), change exposure {exptimeratio} longer\")"
   ]
  },
  {
   "cell_type": "code",
   "execution_count": 57,
   "metadata": {},
   "outputs": [],
   "source": [
    "# NIC-FPS m5 values for 1 hour exposure time\n",
    "apo_m5= {}\n",
    "apo_m5['Z'] = 24.2\n",
    "apo_m5['J'] = 23.3\n",
    "apo_m5['H'] = 22.5\n",
    "apo_m5['K'] = 21.9\n",
    "# Middle of range of  likely asteroid colors\n",
    "# Y-J ~0.4, Y-H ~ 0.5, Y-K ~0.7 (redder)\n",
    "asteroid = {}\n",
    "asteroid['Z'] = 0\n",
    "asteroid['J'] = -0.4\n",
    "asteroid['H'] = -0.5\n",
    "asteroid['K'] = -0.7"
   ]
  },
  {
   "cell_type": "code",
   "execution_count": 84,
   "metadata": {},
   "outputs": [
    {
     "name": "stdout",
     "output_type": "stream",
     "text": [
      "dmag apo m5 (sensitivity) Z - J 0.8999999999999986\n",
      "dmag asteroid (color) Z - J 0.4\n",
      "Diff (& exptime ratio) Z - J -0.49999999999999856 2.5118864315095735\n",
      "dmag apo m5 (sensitivity) Z - H 1.6999999999999993\n",
      "dmag asteroid (color) Z - H 0.5\n",
      "Diff (& exptime ratio) Z - H -1.1999999999999993 9.120108393559086\n",
      "dmag apo m5 (sensitivity) Z - K 2.3000000000000007\n",
      "dmag asteroid (color) Z - K 0.7\n",
      "Diff (& exptime ratio) Z - K -1.6000000000000008 19.054607179632498\n"
     ]
    }
   ],
   "source": [
    "for f1, f2 in zip(['Z', 'Z', 'Z'], ['J', 'H', 'K']):\n",
    "    print('dmag apo m5 (sensitivity)', f1,'-', f2, apo_m5[f1] - apo_m5[f2])\n",
    "    print('dmag asteroid (color)', f1,'-', f2, asteroid[f1] - asteroid[f2])\n",
    "    print('Diff (& exptime ratio)', f1, '-', f2, (asteroid[f1] - asteroid[f2]) - (apo_m5[f1] - apo_m5[f2]),\n",
    "         (10**(-(asteroid[f1] - asteroid[f2] - (apo_m5[f1] - apo_m5[f2]))/2.5))**2)"
   ]
  },
  {
   "cell_type": "code",
   "execution_count": null,
   "metadata": {},
   "outputs": [],
   "source": []
  }
 ],
 "metadata": {
  "kernelspec": {
   "display_name": "Python 3",
   "language": "python",
   "name": "python3"
  },
  "language_info": {
   "codemirror_mode": {
    "name": "ipython",
    "version": 3
   },
   "file_extension": ".py",
   "mimetype": "text/x-python",
   "name": "python",
   "nbconvert_exporter": "python",
   "pygments_lexer": "ipython3",
   "version": "3.7.6"
  }
 },
 "nbformat": 4,
 "nbformat_minor": 2
}
