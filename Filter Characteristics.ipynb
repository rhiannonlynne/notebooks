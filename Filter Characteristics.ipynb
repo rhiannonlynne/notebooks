{
 "cells": [
  {
   "cell_type": "code",
   "execution_count": 7,
   "metadata": {},
   "outputs": [],
   "source": [
    "import os\n",
    "import numpy as np\n",
    "import pandas as pd\n",
    "import matplotlib.pyplot as plt\n",
    "%matplotlib inline\n",
    "\n",
    "import lsst.sims.photUtils as pt"
   ]
  },
  {
   "cell_type": "code",
   "execution_count": 2,
   "metadata": {},
   "outputs": [
    {
     "name": "stdout",
     "output_type": "stream",
     "text": [
      "/Users/lynnej/lsstRepos/throughputs/baseline/\n"
     ]
    }
   ],
   "source": [
    "filterdir = os.getenv('LSST_THROUGHPUTS_DEFAULT')\n",
    "print(filterdir)"
   ]
  },
  {
   "cell_type": "code",
   "execution_count": 3,
   "metadata": {},
   "outputs": [
    {
     "name": "stdout",
     "output_type": "stream",
     "text": [
      "Reading throughput file /Users/lynnej/lsstRepos/throughputs/baseline/total_u.dat\n",
      "Reading throughput file /Users/lynnej/lsstRepos/throughputs/baseline/total_g.dat\n",
      "Reading throughput file /Users/lynnej/lsstRepos/throughputs/baseline/total_r.dat\n",
      "Reading throughput file /Users/lynnej/lsstRepos/throughputs/baseline/total_i.dat\n",
      "Reading throughput file /Users/lynnej/lsstRepos/throughputs/baseline/total_z.dat\n",
      "Reading throughput file /Users/lynnej/lsstRepos/throughputs/baseline/total_y.dat\n"
     ]
    }
   ],
   "source": [
    "lsst = pt.BandpassSet()\n",
    "lsst.setThroughputs_SingleFiles(rootdir=filterdir)"
   ]
  },
  {
   "cell_type": "code",
   "execution_count": 4,
   "metadata": {},
   "outputs": [
    {
     "name": "stdout",
     "output_type": "stream",
     "text": [
      "Filter  Eff_Sb   Eff_phi\n",
      " u      368.483  367.526\n",
      " g      480.200  476.261\n",
      " r      623.120  620.446\n",
      " i      754.169  752.287\n",
      " z      869.047  867.966\n",
      " y      973.641  972.371\n"
     ]
    }
   ],
   "source": [
    "lsst.calcFilterEffWave()"
   ]
  },
  {
   "cell_type": "code",
   "execution_count": 6,
   "metadata": {},
   "outputs": [
    {
     "name": "stdout",
     "output_type": "stream",
     "text": [
      "Filter  MaxThruput EffWavelen  0.050%_max(blue)  0.050%_max(red)  50.000%_abs(blue)  50.000%_abs(red)\n",
      "   u       0.2232   368.4833        320.00        408.60        368.50        368.50\n",
      "   g       0.4053   480.1998        386.40        567.00        480.20        480.20\n",
      "   r       0.4714   623.1200        537.00        706.00        623.10        623.10\n",
      "   i       0.4667   754.1692        676.00        833.00        754.20        754.20\n",
      "   z       0.4482   869.0470        803.00        938.60        869.00        869.00\n",
      "   y       0.2887   973.6409        908.40       1099.00        973.60        973.60\n"
     ]
    }
   ],
   "source": [
    "lsst.calcFilterEdges(drop_peak = 0.05)"
   ]
  },
  {
   "cell_type": "code",
   "execution_count": 14,
   "metadata": {},
   "outputs": [
    {
     "data": {
      "text/html": [
       "<div>\n",
       "<style scoped>\n",
       "    .dataframe tbody tr th:only-of-type {\n",
       "        vertical-align: middle;\n",
       "    }\n",
       "\n",
       "    .dataframe tbody tr th {\n",
       "        vertical-align: top;\n",
       "    }\n",
       "\n",
       "    .dataframe thead th {\n",
       "        text-align: right;\n",
       "    }\n",
       "</style>\n",
       "<table border=\"1\" class=\"dataframe\">\n",
       "  <thead>\n",
       "    <tr style=\"text-align: right;\">\n",
       "      <th></th>\n",
       "      <th>u</th>\n",
       "      <th>g</th>\n",
       "      <th>r</th>\n",
       "      <th>i</th>\n",
       "      <th>z</th>\n",
       "      <th>y</th>\n",
       "    </tr>\n",
       "  </thead>\n",
       "  <tbody>\n",
       "    <tr>\n",
       "      <th>Min_wavelength</th>\n",
       "      <td>320.000000</td>\n",
       "      <td>386.400000</td>\n",
       "      <td>537.000000</td>\n",
       "      <td>676.000000</td>\n",
       "      <td>803.000000</td>\n",
       "      <td>908.400000</td>\n",
       "    </tr>\n",
       "    <tr>\n",
       "      <th>Eff_wavelength</th>\n",
       "      <td>368.483326</td>\n",
       "      <td>480.199808</td>\n",
       "      <td>623.119986</td>\n",
       "      <td>754.169194</td>\n",
       "      <td>869.046981</td>\n",
       "      <td>973.640869</td>\n",
       "    </tr>\n",
       "    <tr>\n",
       "      <th>Max_wavelength</th>\n",
       "      <td>408.600000</td>\n",
       "      <td>567.000000</td>\n",
       "      <td>706.000000</td>\n",
       "      <td>833.000000</td>\n",
       "      <td>938.600000</td>\n",
       "      <td>1099.000000</td>\n",
       "    </tr>\n",
       "  </tbody>\n",
       "</table>\n",
       "</div>"
      ],
      "text/plain": [
       "                         u           g           r           i           z  \\\n",
       "Min_wavelength  320.000000  386.400000  537.000000  676.000000  803.000000   \n",
       "Eff_wavelength  368.483326  480.199808  623.119986  754.169194  869.046981   \n",
       "Max_wavelength  408.600000  567.000000  706.000000  833.000000  938.600000   \n",
       "\n",
       "                          y  \n",
       "Min_wavelength   908.400000  \n",
       "Eff_wavelength   973.640869  \n",
       "Max_wavelength  1099.000000  "
      ]
     },
     "execution_count": 14,
     "metadata": {},
     "output_type": "execute_result"
    }
   ],
   "source": [
    "pd.DataFrame([lsst.drop_peak_blue, lsst.effsb, lsst.drop_peak_red], \n",
    "             index=['Min_wavelength', 'Eff_wavelength', 'Max_wavelength'])"
   ]
  },
  {
   "cell_type": "code",
   "execution_count": null,
   "metadata": {},
   "outputs": [],
   "source": []
  }
 ],
 "metadata": {
  "kernelspec": {
   "display_name": "Python 3",
   "language": "python",
   "name": "python3"
  },
  "language_info": {
   "codemirror_mode": {
    "name": "ipython",
    "version": 3
   },
   "file_extension": ".py",
   "mimetype": "text/x-python",
   "name": "python",
   "nbconvert_exporter": "python",
   "pygments_lexer": "ipython3",
   "version": "3.7.6"
  }
 },
 "nbformat": 4,
 "nbformat_minor": 4
}
