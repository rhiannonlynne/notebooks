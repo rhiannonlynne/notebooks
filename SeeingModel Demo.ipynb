{
 "cells": [
  {
   "cell_type": "code",
   "execution_count": 1,
   "metadata": {},
   "outputs": [],
   "source": [
    "import numpy as np\n",
    "import matplotlib.pyplot as plt\n",
    "%matplotlib inline\n",
    "import numpy.ma as ma\n",
    "\n",
    "import healpy as hp\n",
    "from lsst.sims.utils import _hpid2RaDec, _approx_RaDec2AltAz\n",
    "from lsst.sims.utils import Site\n",
    "\n",
    "from astropy.time import Time, TimeDelta\n",
    "import lsst.sims.seeingModel as sm"
   ]
  },
  {
   "cell_type": "code",
   "execution_count": 2,
   "metadata": {},
   "outputs": [],
   "source": [
    "# Set up a SeeingModelConfig .. this could then be modified before passing to SeeingModel. \n",
    "conf = sm.SeeingModelConfig()"
   ]
  },
  {
   "cell_type": "code",
   "execution_count": 3,
   "metadata": {},
   "outputs": [
    {
     "data": {
      "text/plain": [
       "lsst.sims.seeingModel.seeingModelConfig.SeeingModelConfig(telescope_seeing=0.25, optical_design_seeing=0.08, camera_seeing=0.3, raw_seeing_wavelength=500.0, filter_list=['u', 'g', 'r', 'i', 'z', 'y'], filter_effwavelens=[367.06988658, 482.68517118, 622.32403587, 754.59752265, 869.09018708, 971.02780848], throughputs_version='1.1', efd_columns=['FWHM_500'], efd_delta_time=0.0, target_columns=['airmass'])"
      ]
     },
     "execution_count": 3,
     "metadata": {},
     "output_type": "execute_result"
    }
   ],
   "source": [
    "conf"
   ]
  },
  {
   "cell_type": "code",
   "execution_count": 6,
   "metadata": {},
   "outputs": [
    {
     "name": "stdout",
     "output_type": "stream",
     "text": [
      "2.5.0.sims 1.5\n",
      "[('u', 368.48332642306536), ('g', 480.19980829214086), ('r', 623.1199855290156), ('i', 754.1691936287622), ('z', 869.0469808767107), ('y', 973.6408690453528)]\n"
     ]
    }
   ],
   "source": [
    "# You can also check/update the effective wavelengths:\n",
    "filters = ('u', 'g', 'r', 'i', 'z', 'y')\n",
    "sims_photUtils_version, throughputs_version, effwavelens = sm.get_effwavelens(filters)\n",
    "print(sims_photUtils_version, throughputs_version)\n",
    "print(list(zip(filters, effwavelens)))"
   ]
  },
  {
   "cell_type": "code",
   "execution_count": 7,
   "metadata": {},
   "outputs": [],
   "source": [
    "conf.filter_list = filters\n",
    "conf.throughputs_version = throughputs_version\n",
    "conf.filter_effwavelens = effwavelens"
   ]
  },
  {
   "cell_type": "code",
   "execution_count": 8,
   "metadata": {},
   "outputs": [],
   "source": [
    "# Set up and configure the SeeingModel. (note that configure with no kwarg will just use defaults, as above)\n",
    "seeingModel = sm.SeeingModel(conf)   #  equivalent to seeingModel = sm.SeeingModel() when using defaults"
   ]
  },
  {
   "cell_type": "code",
   "execution_count": 9,
   "metadata": {},
   "outputs": [
    {
     "data": {
      "text/plain": [
       "OrderedDict([('SeeingModel_version', 'unknown'),\n",
       "             ('SeeingModel_sha', '1db5f7a73eaa9568e187e8fe8926e854c91aaad3 *'),\n",
       "             ('telescope_seeing', 0.25),\n",
       "             ('optical_design_seeing', 0.08),\n",
       "             ('camera_seeing', 0.3),\n",
       "             ('raw_seeing_wavelength', 500.0),\n",
       "             ('filter_list', ['u', 'g', 'r', 'i', 'z', 'y']),\n",
       "             ('filter_effwavelens',\n",
       "              [368.48332642306536, 480.19980829214086, 623.1199855290156, 754.1691936287622, 869.0469808767107, 973.6408690453528]),\n",
       "             ('throughputs_version', '1.5'),\n",
       "             ('efd_columns', ['FWHM_500']),\n",
       "             ('efd_delta_time', 0.0),\n",
       "             ('target_columns', ['airmass'])])"
      ]
     },
     "execution_count": 9,
     "metadata": {},
     "output_type": "execute_result"
    }
   ],
   "source": [
    "# Dump the config properties and version info.\n",
    "seeingModel.config_info()"
   ]
  },
  {
   "cell_type": "code",
   "execution_count": 10,
   "metadata": {},
   "outputs": [
    {
     "name": "stdout",
     "output_type": "stream",
     "text": [
      "['FWHM_500'] 0.0\n",
      "['airmass']\n"
     ]
    }
   ],
   "source": [
    "# Find the values the SeeingModel wants from the EFD. \n",
    "cols, deltaT = seeingModel.efd_requirements\n",
    "print(cols, deltaT)\n",
    "# Find the columns the SeeingModel wants in its input map (over which to calculate the seeing values)\n",
    "print(seeingModel.target_requirements)"
   ]
  },
  {
   "cell_type": "code",
   "execution_count": 11,
   "metadata": {},
   "outputs": [],
   "source": [
    "# Set up to get seeingData from db..  (this is where EFD would step in, in future)\n",
    "t = Time('2002-01-01', scale='utc', format='isot')\n",
    "\n",
    "seeingData = sm.SeeingData(t)\n",
    "seeingData.read_data()"
   ]
  },
  {
   "cell_type": "code",
   "execution_count": 27,
   "metadata": {},
   "outputs": [],
   "source": [
    "# Take a quick peek at the FWHM_500 values throughout the lifetime of the survey. \n",
    "# (remember that the current DB repeats after a few years)\n",
    "t_end = (3650) * 24 * 60 * 60  # seconds\n",
    "t_step = 30000\n",
    "times = np.arange(0, t_end + t_step/2, t_step)\n",
    "fwhm_500 = np.zeros(len(times), float)\n",
    "for i, t_add in enumerate(times):\n",
    "    t_now = t + TimeDelta(t_add, format='jd')\n",
    "    fwhm_500[i] = seeingData(t_now)"
   ]
  },
  {
   "cell_type": "code",
   "execution_count": 28,
   "metadata": {},
   "outputs": [
    {
     "data": {
      "text/plain": [
       "Text(0, 0.5, 'FWHM_500')"
      ]
     },
     "execution_count": 28,
     "metadata": {},
     "output_type": "execute_result"
    },
    {
     "data": {
      "image/png": "[encoded data removed]",
      "text/plain": [
       "<Figure size 576x432 with 1 Axes>"
      ]
     },
     "metadata": {
      "needs_background": "light"
     },
     "output_type": "display_data"
    }
   ],
   "source": [
    "plt.figure(figsize=(8, 6))\n",
    "plt.plot(times, fwhm_500, 'k-')\n",
    "plt.xlabel('Seconds (over 10 years)')\n",
    "plt.ylabel('FWHM_500')"
   ]
  },
  {
   "cell_type": "code",
   "execution_count": 29,
   "metadata": {},
   "outputs": [
    {
     "data": {
      "text/plain": [
       "Text(0, 0.5, 'Airmass')"
      ]
     },
     "execution_count": 29,
     "metadata": {},
     "output_type": "execute_result"
    },
    {
     "data": {
      "image/png": "[encoded data removed]",
      "text/plain": [
       "<Figure size 432x288 with 1 Axes>"
      ]
     },
     "metadata": {
      "needs_background": "light"
     },
     "output_type": "display_data"
    }
   ],
   "source": [
    "# Set up grid around sky .. (places we'd be likely to calculate the FWHM_eff in the FBS)\n",
    "lsst_site = Site('LSST')\n",
    "nside = 32\n",
    "hpid = np.arange(hp.nside2npix(nside))\n",
    "ra, dec = _hpid2RaDec(nside, hpid)\n",
    "alt, az = _approx_RaDec2AltAz(ra, dec, lsst_site.latitude_rad, lsst_site.longitude_rad, t.mjd)\n",
    "\n",
    "# If we set the mask here - it propagates. \n",
    "mask = np.where(alt < np.radians(20), True, False)\n",
    "visible = np.where(alt > np.radians(20))\n",
    "airmass = 1./np.cos(np.pi/2. - alt)\n",
    "\n",
    "# I wonder if masked arrays makes this calculation faster? (Is it skipping the masked pixels?)\n",
    "# ... output of next two cells says no, Masked Arrays are markedly slower!\n",
    "# best way is to use a boolean mask? \n",
    "\n",
    "altM = ma.MaskedArray(data=alt, mask=mask, fill_value=0)\n",
    "airmassM = 1./np.cos(np.pi/2. - altM)\n",
    "\n",
    "plt.plot(np.degrees(alt[visible]), airmass[visible], 'b.')\n",
    "plt.plot(np.degrees(altM), airmassM, 'r')\n",
    "plt.xlabel('Altitude (deg)')\n",
    "plt.ylabel('Airmass')"
   ]
  },
  {
   "cell_type": "code",
   "execution_count": 30,
   "metadata": {},
   "outputs": [
    {
     "name": "stdout",
     "output_type": "stream",
     "text": [
      "77.4 µs ± 184 ns per loop (mean ± std. dev. of 7 runs, 10000 loops each)\n"
     ]
    }
   ],
   "source": [
    "%%timeit \n",
    "# Full calculation\n",
    "airmass = 1./np.cos(np.pi/2. - alt)"
   ]
  },
  {
   "cell_type": "code",
   "execution_count": 31,
   "metadata": {},
   "outputs": [
    {
     "name": "stdout",
     "output_type": "stream",
     "text": [
      "366 µs ± 4.26 µs per loop (mean ± std. dev. of 7 runs, 1000 loops each)\n"
     ]
    }
   ],
   "source": [
    "%%timeit\n",
    "# calculation with masked arrays\n",
    "airmassM = 1./np.cos(np.pi/2. - altM)"
   ]
  },
  {
   "cell_type": "code",
   "execution_count": 32,
   "metadata": {},
   "outputs": [
    {
     "name": "stdout",
     "output_type": "stream",
     "text": [
      "66.2 µs ± 718 ns per loop (mean ± std. dev. of 7 runs, 10000 loops each)\n"
     ]
    }
   ],
   "source": [
    "%%timeit\n",
    "# calculation with mask, although making 'airmass' array each time.\n",
    "airmass = np.zeros(len(alt), float)\n",
    "airmass[visible] = 1./np.cos(np.pi/2. - alt[visible])"
   ]
  },
  {
   "cell_type": "code",
   "execution_count": 33,
   "metadata": {},
   "outputs": [],
   "source": [
    "airmass = np.zeros(len(alt), float)"
   ]
  },
  {
   "cell_type": "code",
   "execution_count": 34,
   "metadata": {},
   "outputs": [
    {
     "name": "stdout",
     "output_type": "stream",
     "text": [
      "59.6 µs ± 626 ns per loop (mean ± std. dev. of 7 runs, 10000 loops each)\n"
     ]
    }
   ],
   "source": [
    "%%timeit\n",
    "# calculation with mask, using preallocated 'airmass' array\n",
    "airmass[visible] = 1./np.cos(np.pi/2. - alt[visible])"
   ]
  },
  {
   "cell_type": "code",
   "execution_count": 35,
   "metadata": {},
   "outputs": [
    {
     "name": "stdout",
     "output_type": "stream",
     "text": [
      "0.794677972793579\n"
     ]
    }
   ],
   "source": [
    "fwhm_500 = seeingData(t_now)\n",
    "print(fwhm_500)"
   ]
  },
  {
   "cell_type": "code",
   "execution_count": 36,
   "metadata": {},
   "outputs": [],
   "source": [
    "# Put input telemetry and target map into dictionaries:\n",
    "mapDict = {'airmass': airmass}\n",
    "mapDictMask = {'airmass': airmass[visible]}\n",
    "efdDict = {'FWHM_500': fwhm_500}"
   ]
  },
  {
   "cell_type": "code",
   "execution_count": 37,
   "metadata": {},
   "outputs": [
    {
     "name": "stdout",
     "output_type": "stream",
     "text": [
      "915 µs ± 26.2 µs per loop (mean ± std. dev. of 7 runs, 1000 loops each)\n"
     ]
    }
   ],
   "source": [
    "%%timeit\n",
    "# Check time to calculate seeing. No mask. \n",
    "modelDict = seeingModel(efdDict, mapDict)\n",
    "fwhm_eff = modelDict['fwhmEff']\n",
    "fwhm_geom = modelDict['fwhmGeom']"
   ]
  },
  {
   "cell_type": "code",
   "execution_count": 38,
   "metadata": {},
   "outputs": [
    {
     "name": "stdout",
     "output_type": "stream",
     "text": [
      "685 µs ± 65 µs per loop (mean ± std. dev. of 7 runs, 1000 loops each)\n"
     ]
    }
   ],
   "source": [
    "%%timeit\n",
    "# Check time to calculate seeing. WITH mask.\n",
    "fwhm_eff = np.zeros((len(seeingModel.filter_list), len(airmass)), float)\n",
    "fwhm_geom = np.zeros((len(seeingModel.filter_list), len(airmass)), float)\n",
    "#print(fwhm_eff[:, visible[0]].shape)\n",
    "modelDict = seeingModel(efdDict, mapDictMask)\n",
    "fwhm_eff[:, visible[0]] = modelDict['fwhmEff']\n",
    "fwhm_geom[:, visible[0]] = modelDict['fwhmGeom']"
   ]
  },
  {
   "cell_type": "code",
   "execution_count": 39,
   "metadata": {},
   "outputs": [],
   "source": [
    "# And then what about time, if you pre-allocate arrays?\n",
    "fwhm_eff = np.zeros((len(seeingModel.filter_list), len(airmass)), float)\n",
    "fwhm_geom = np.zeros((len(seeingModel.filter_list), len(airmass)), float)"
   ]
  },
  {
   "cell_type": "code",
   "execution_count": 40,
   "metadata": {},
   "outputs": [
    {
     "name": "stdout",
     "output_type": "stream",
     "text": [
      "688 µs ± 82.8 µs per loop (mean ± std. dev. of 7 runs, 1000 loops each)\n"
     ]
    }
   ],
   "source": [
    "%%timeit\n",
    "modelDict = seeingModel(efdDict, mapDictMask)\n",
    "fwhm_eff[:, visible[0]] = modelDict['fwhmEff']\n",
    "fwhm_geom[:, visible[0]] = modelDict['fwhmGeom']"
   ]
  },
  {
   "cell_type": "code",
   "execution_count": 41,
   "metadata": {},
   "outputs": [],
   "source": [
    "# Loop over a bunch of times and calculate values.. (maybe what you'd do in the driver)\n",
    "t_end = 10 * 60 * 60  # seconds\n",
    "t_step = 30 # seconds\n",
    "times = np.arange(0, t_end + t_step/2, t_step)\n",
    "fwhm_500 = np.zeros(len(times), float)\n",
    "fwhm_eff = np.zeros((len(seeingModel.filter_list), len(airmass)), float)\n",
    "fwhm_geom = np.zeros((len(seeingModel.filter_list), len(airmass)), float)\n",
    "for i, t_add in enumerate(times):\n",
    "    t_now = t + TimeDelta(t_add, format='jd')\n",
    "    fwhm_500[i] = seeingData(t_now)\n",
    "    modelDict = seeingModel({'FWHM_500': fwhm_500[i]}, mapDictMask)\n",
    "    fwhm_eff[:, visible[0]] = modelDict['fwhmEff']\n",
    "    fwhm_geom[:, visible[0]] = modelDict['fwhmGeom']"
   ]
  },
  {
   "cell_type": "code",
   "execution_count": 42,
   "metadata": {},
   "outputs": [
    {
     "name": "stdout",
     "output_type": "stream",
     "text": [
      "u [3.05064754 3.02053823 2.99929678 ... 2.45336694 2.50024598 2.41965205]\n",
      "g [2.83751269 2.80950698 2.78974957 ... 2.28196136 2.32556517 2.25060198]\n",
      "r [2.64514959 2.61904247 2.60062447 ... 2.12726067 2.16790846 2.09802723]\n",
      "i [2.51442215 2.48960528 2.47209753 ... 2.02212811 2.06076703 1.99433944]\n",
      "z [2.42260403 2.39869339 2.38182496 ... 1.94828689 1.98551484 1.92151296]\n",
      "y [2.35212588 2.32891085 2.31253316 ... 1.89160753 1.92775245 1.86561251]\n"
     ]
    }
   ],
   "source": [
    "for f, fwhmEff in zip(seeingModel.filter_list, fwhm_eff):\n",
    "    print(f, fwhmEff[visible])"
   ]
  },
  {
   "cell_type": "code",
   "execution_count": null,
   "metadata": {},
   "outputs": [],
   "source": []
  }
 ],
 "metadata": {
  "kernelspec": {
   "display_name": "Python 3",
   "language": "python",
   "name": "python3"
  },
  "language_info": {
   "codemirror_mode": {
    "name": "ipython",
    "version": 3
   },
   "file_extension": ".py",
   "mimetype": "text/x-python",
   "name": "python",
   "nbconvert_exporter": "python",
   "pygments_lexer": "ipython3",
   "version": "3.7.1"
  }
 },
 "nbformat": 4,
 "nbformat_minor": 2
}
