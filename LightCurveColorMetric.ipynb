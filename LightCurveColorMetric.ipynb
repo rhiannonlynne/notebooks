{
 "cells": [
  {
   "cell_type": "code",
   "execution_count": 1,
   "metadata": {},
   "outputs": [],
   "source": [
    "import os\n",
    "import numpy as np\n",
    "import pandas as pd\n",
    "import matplotlib.pyplot as plt\n",
    "%matplotlib inline"
   ]
  },
  {
   "cell_type": "code",
   "execution_count": 2,
   "metadata": {},
   "outputs": [],
   "source": [
    "import lsst.sims.maf.metrics as metrics\n",
    "import lsst.sims.maf.stackers as stackers\n",
    "import lsst.sims.maf.slicers as slicers\n",
    "import lsst.sims.maf.plots as plots\n",
    "import lsst.sims.maf.metricBundles as mb\n",
    "\n",
    "from lsst.sims.maf.metrics import BaseMoMetric"
   ]
  },
  {
   "cell_type": "code",
   "execution_count": 3,
   "metadata": {},
   "outputs": [],
   "source": [
    "try:\n",
    "    k = []\n",
    "    for ki in list(metrics.BaseMetric.registry.keys()):\n",
    "        if \"Color\" in ki:\n",
    "            k.append(ki)\n",
    "    for ki in k:\n",
    "        del metrics.BaseMetric.registry[ki]\n",
    "except KeyError:\n",
    "    pass\n",
    "\n",
    "\n",
    "def _setVis(ssoObs, snrLimit, snrCol, visCol):\n",
    "    if snrLimit is not None:\n",
    "        vis = np.where(ssoObs[snrCol] >= snrLimit)[0]\n",
    "    else:\n",
    "        vis = np.where(ssoObs[visCol] > 0)[0]\n",
    "    return vis\n",
    "\n",
    "\n",
    "class Color_AsteroidMetric(BaseMoMetric):\n",
    "    \"\"\"\n",
    "    This metric is appropriate for MBAs and NEOs, and other inner solar system objects.\n",
    "    \n",
    "    The metric evaluates if the SNR-weighted number of observations are enough to \n",
    "    determine an approximate lightcurve and phase function -- and from this, \n",
    "    then a color for the asteroid can be determined.\n",
    "    The assumption is that you must fit the lightcurve/phase function in each bandpass, \n",
    "    and could do this well-enough if you have at least weightDet SNR-weighted observations \n",
    "    in the bandpass. \n",
    "    e.g. to find a g-r color, you must have 10 (SNR-weighted) obs in g and 10 in r.\n",
    "    \n",
    "    For more details, see \n",
    "    https://docs.google.com/document/d/1GAriM7trpTS08uanjUF7PyKALB2JBTjVT7Y6R30i0-8/edit?usp=sharing\n",
    "    \n",
    "    Parameters\n",
    "    ----------\n",
    "    weightDet: float, opt\n",
    "        The SNR-weighted number of detections required (per bandpass in any ONE of the filters in filterlist).\n",
    "        Default 10.\n",
    "    snrLimit: float or None, opt\n",
    "        If snrLimit is set as a float, then requires object to be above snrLimit SNR in the image.\n",
    "        If snrLimit is None, this uses the probabilistic 'visibility' calculated by the vis stacker,\n",
    "        which means SNR ~ 5.   Default is None.\n",
    "    snrMax: float, opt\n",
    "        Maximum value toward the SNR-weighting to consider. Default 20.\n",
    "    filterlist: list of str, opt\n",
    "        The filters to search for lightcurves and colors. \n",
    "        \n",
    "    Returns\n",
    "    -------\n",
    "    int\n",
    "        An integer 'flag' that indicates whether the mean magnitude (and thus a color) was determined in:\n",
    "        0 = no bands\n",
    "        1 = g and (r or i) and (z or y). i.e. obtain colors g-r or g-i PLUS g-z or g-y\n",
    "        2 = Any 4 different filters (from grizy). i.e. colors = g-r, r-i, i-z, OR r-i, i-z, z-y..\n",
    "        3 = All 5 from grizy. i.e. colors g-r, r-i, i-z, z-y.\n",
    "        4 = All 6 filters (ugrizy) -- best possible! add u-g.\n",
    "    \"\"\"\n",
    "    def __init__(self, weightDet=10, snrMax=20, snrLimit=None, \n",
    "                 filterlist=('u', 'g', 'r', 'i', 'z', 'y'), **kwargs):\n",
    "        \"\"\"\n",
    "        @ snrLimit .. if snrLimit is None, this uses the _calcVis method/completeness to determine visibilty\n",
    "                      if snrLimit is not None, this uses that value as a cutoff instead.\n",
    "        @ weightDet .. is the minimum weighted SNR sum that is required to be able to extract a\n",
    "                       lightcurve period. Default 10.\n",
    "        \"\"\"\n",
    "        super().__init__(**kwargs)\n",
    "        self.weightDet = weightDet\n",
    "        self.snrLimit = snrLimit\n",
    "        self.snrMax = snrMax\n",
    "        self.filterlist = filterlist\n",
    "\n",
    "    def run(self, ssoObs, orb, Hval):\n",
    "        clipSnr = np.minimum(ssoObs[self.snrCol], self.snrMax)\n",
    "        if self.snrLimit is not None:\n",
    "            clipSnr = np.where(ssoObs[self.snrCol] <= self.snrLimit, 0, clipSnr)\n",
    "        else:\n",
    "            clipSnr = np.where(ssoObs[self.visCol] == 0, 0, clipSnr)\n",
    "        if len(np.where(clipSnr > 0)[0]) == 0:\n",
    "            return self.badval\n",
    "            \n",
    "        # Evaluate SNR-weighted number of observations in each filter.\n",
    "        filterWeight = {}\n",
    "        for f in self.filterlist:\n",
    "            match = np.where(ssoObs[self.filterCol] == f)\n",
    "            snrweight = np.sum(clipSnr[match]) / self.snrMax\n",
    "            # If the snrweight exceeds the weightDet, add it to the dictionary.\n",
    "            if snrweight > self.weightDet:\n",
    "                filterWeight[f] = snrweight\n",
    "                \n",
    "        # Now assign a flag:\n",
    "        # 0 = no bands\n",
    "        # 1 = g and (r or i) and (z or y). i.e. obtain colors g-r or g-i PLUS g-z or g-y\n",
    "        # 2 = Any 4 different filters (from grizy). i.e. colors = g-r, r-i, i-z, OR r-i, i-z, z-y..\n",
    "        # 3 = All 5 from grizy. i.e. colors g-r, r-i, i-z, z-y.\n",
    "        # 4 = All 6 filters (ugrizy) -- best possible! add u-g.\n",
    "        all_six = set(['u', 'g', 'r', 'i', 'z', 'y'])\n",
    "        good_five = set(['g', 'r', 'i', 'z', 'y'])\n",
    "        \n",
    "        if len(filterWeight) == 0:  # this lets us stop evaluating here if possible.\n",
    "            flag = 0\n",
    "        elif all_six.intersection(filterWeight) == all_six:\n",
    "            flag = 4\n",
    "        elif good_five.intersection(filterWeight) == good_five:\n",
    "            flag = 3\n",
    "        elif len(good_five.intersection(filterWeight)) == 4:\n",
    "            flag = 2\n",
    "        elif 'g' in filterWeight:\n",
    "            # Have 'g' - do we have (r or i) and (z or y)\n",
    "            if ('r' in filterWeight or 'i' in filterWeight) and ('z' in filterWeight or 'y' in filterWeight):\n",
    "                flag = 1\n",
    "            else:\n",
    "                flag = 0\n",
    "        else:\n",
    "            flag = 0\n",
    "\n",
    "        return flag\n",
    "    \n",
    "class LightcurveColor_OuterMetric(BaseMoMetric):\n",
    "    \"\"\"\n",
    "    This metric is appropriate for outer solar system objects, such as TNOs and SDOs.\n",
    "\n",
    "    This metric evaluates whether the number of observations is sufficient to fit a lightcurve\n",
    "    in a primary and secondary bandpass. The primary bandpass requires more observations than\n",
    "    the secondary. Essentially, it's a complete lightcurve in one or both bandpasses, with at\n",
    "    least a semi-complete lightcurve in the secondary band.\n",
    "\n",
    "    The lightcurve/color can be calculated with any two of the bandpasses in filterlist.\n",
    "    Contributed by Wes Fraser.\n",
    "\n",
    "    Parameters\n",
    "    ----------\n",
    "    snrLimit: float or None, opt\n",
    "        If snrLimit is set as a float, then requires object to be above snrLimit SNR in the image.\n",
    "        If snrLimit is None, this uses the probabilistic 'visibility' calculated by the vis stacker,\n",
    "        which means SNR ~ 5.   Default is None.\n",
    "    numReq: int, opt\n",
    "        Number of observations required for a lightcurve fitting. Default 30.\n",
    "    numSecFilt: int, opt\n",
    "        Number of observations required in a secondary band for color only. Default 20.\n",
    "    filterlist: list of str, opt\n",
    "        Filters that the primary/secondary measurements can be in.\n",
    "\n",
    "    Returns\n",
    "    -------\n",
    "    float\n",
    "        A flag that indicates whether a color/lightcurve was generated in:\n",
    "        0 = no lightcurve or color\n",
    "        1 = a lightcurve in a single filter\n",
    "        2+ = lightcurves in more than one filter\n",
    "        x.5 = x lightcurves, but also additional colors (1 or more filters reached numSecFilt level)\n",
    "    \"\"\"\n",
    "    def __init__(self, snrLimit=None, numReq=30, numSecFilt=20,\n",
    "                 filterlist=('u', 'g', 'r', 'i', 'z', 'y'), **kwargs):\n",
    "        super().__init__(**kwargs)\n",
    "        self.snrLimit = snrLimit\n",
    "        self.numReq = numReq\n",
    "        self.numSecFilt = numSecFilt\n",
    "        self.filterlist = filterlist\n",
    "\n",
    "    def run(self, ssoObs, orb, Hval):\n",
    "        vis = _setVis(ssoObs, self.snrLimit, self.snrCol, self.visCol)\n",
    "        if len(vis) == 0:\n",
    "            return 0\n",
    "\n",
    "        lightcurves = set()\n",
    "        colors = set()\n",
    "        for f in self.filterlist:\n",
    "            nmatch = np.where(ssoObs[vis][self.filterCol] == f)[0]\n",
    "            if len(nmatch) >= self.numReq:\n",
    "                lightcurves.add(f)\n",
    "            if len(nmatch) >= self.numSecFilt:\n",
    "                colors.add(f)\n",
    "        \n",
    "        # Set the flags - first the number of filters with lightcurves.\n",
    "        flag = len(lightcurves)\n",
    "        # And check if there were extra filters which had enough for a color \n",
    "        # but not enough for a lightcurve.\n",
    "        if len(colors.difference(lightcurves)) > 0:\n",
    "            flag += 0.5\n",
    "        return flag"
   ]
  },
  {
   "cell_type": "code",
   "execution_count": 4,
   "metadata": {},
   "outputs": [],
   "source": [
    "# Read in some test observations and test orbits\n",
    "orbitfile = 'mbas_test.des'\n",
    "obsfile = 'baseline2018a__mbas_test_obs.txt'\n",
    "Hrange = np.arange(15, 20.5, 1)\n",
    "s = slicers.MoObjSlicer(Hrange=Hrange)\n",
    "s.setupSlicer(orbitFile=orbitfile, obsFile=obsfile)"
   ]
  },
  {
   "cell_type": "code",
   "execution_count": 5,
   "metadata": {},
   "outputs": [
    {
     "data": {
      "text/plain": [
       "(array([0.59578139, 0.42581548, 0.45046759, 0.46244202, 0.47295768,\n",
       "        0.56889663, 0.17827207, 0.22939773, 2.58569428, 2.38506711]),\n",
       " 17.747539882077167,\n",
       " 0.04438528892240999)"
      ]
     },
     "execution_count": 5,
     "metadata": {},
     "output_type": "execute_result"
    }
   ],
   "source": [
    "# We can test the metric on a single observation/H value by using it directly.\n",
    "# But we do still need to run the MoMag stacker to add the apparent magnitude etc to the provided observations.\n",
    "# We also need to run the ecliptic lat/lon stacker.\n",
    "magstacker = stackers.MoMagStacker()\n",
    "eclstacker = stackers.EclStacker()\n",
    "Hval = 19\n",
    "i = 0\n",
    "testobs = magstacker.run(s[i]['obs'], Hval=Hval, Href=s[i]['orbit']['H'])\n",
    "testobs = eclstacker.run(testobs, Hval=None, Href=None)\n",
    "# See .. now we have SNR and vis and mag.\n",
    "testobs['SNR'][0:10], testobs['SNR'].max(), testobs['SNR'].min()"
   ]
  },
  {
   "cell_type": "code",
   "execution_count": 6,
   "metadata": {},
   "outputs": [
    {
     "data": {
      "text/plain": [
       "0"
      ]
     },
     "execution_count": 6,
     "metadata": {},
     "output_type": "execute_result"
    }
   ],
   "source": [
    "# So now we can test the new metric on a single observation/H value..\n",
    "m = Color_AsteroidMetric(snrLimit=None)\n",
    "m.run(testobs, s[i]['orbit'], Hval)"
   ]
  },
  {
   "cell_type": "code",
   "execution_count": 7,
   "metadata": {},
   "outputs": [
    {
     "data": {
      "text/plain": [
       "2.5"
      ]
     },
     "execution_count": 7,
     "metadata": {},
     "output_type": "execute_result"
    }
   ],
   "source": [
    "# and test the other color metric.\n",
    "m = LightcurveColor_OuterMetric(snrLimit=None)\n",
    "m.run(testobs, s[i]['orbit'], Hval)"
   ]
  },
  {
   "cell_type": "code",
   "execution_count": 8,
   "metadata": {},
   "outputs": [],
   "source": [
    "# And we can test it on more H values / orbits using the metric bundle & group\n",
    "bundle1 = mb.MoMetricBundle(Color_AsteroidMetric(), s, stackerList=[magstacker, eclstacker])\n",
    "bundle2 = mb.MoMetricBundle(LightcurveColor_OuterMetric(), s, stackerList=[magstacker, eclstacker])"
   ]
  },
  {
   "cell_type": "code",
   "execution_count": 9,
   "metadata": {},
   "outputs": [
    {
     "name": "stdout",
     "output_type": "stream",
     "text": [
      "Running metrics ['colorA', 'colorO']\n",
      "Calculated and saved all metrics.\n"
     ]
    }
   ],
   "source": [
    "g = mb.MoMetricBundleGroup({'colorA': bundle1, 'colorO': bundle2})\n",
    "g.runAll()"
   ]
  },
  {
   "cell_type": "code",
   "execution_count": 10,
   "metadata": {},
   "outputs": [
    {
     "data": {
      "text/plain": [
       "masked_array(\n",
       "  data=[[4.0, 4.0, 3.0, 2.0, --, --],\n",
       "        [4.0, 4.0, 3.0, 2.0, --, --],\n",
       "        [4.0, 4.0, 4.0, 3.0, 3.0, --]],\n",
       "  mask=[[False, False, False, False,  True,  True],\n",
       "        [False, False, False, False,  True,  True],\n",
       "        [False, False, False, False, False,  True]],\n",
       "  fill_value=0.0)"
      ]
     },
     "execution_count": 10,
     "metadata": {},
     "output_type": "execute_result"
    }
   ],
   "source": [
    "bundle1.metricValues"
   ]
  },
  {
   "cell_type": "code",
   "execution_count": 11,
   "metadata": {},
   "outputs": [
    {
     "data": {
      "text/plain": [
       "masked_array(\n",
       "  data=[[6.0, 5.5, 5.0, 3.5, 2.5, --],\n",
       "        [6.0, 5.5, 5.0, 4.0, 1.0, --],\n",
       "        [4.5, 4.5, 4.5, 4.5, 3.5, 2.0]],\n",
       "  mask=[[False, False, False, False, False,  True],\n",
       "        [False, False, False, False, False,  True],\n",
       "        [False, False, False, False, False, False]],\n",
       "  fill_value=0.0)"
      ]
     },
     "execution_count": 11,
     "metadata": {},
     "output_type": "execute_result"
    }
   ],
   "source": [
    "bundle2.metricValues"
   ]
  },
  {
   "cell_type": "code",
   "execution_count": 33,
   "metadata": {},
   "outputs": [],
   "source": [
    "# We can summarize these into the \"fraction of the population with value > X\"\n",
    "frac1 = metrics.MoCompletenessMetric(threshold=4, metricName='FractionPop_fullcolor')\n",
    "frac2 = metrics.MoCompletenessMetric(threshold=3, metricName='FractionPop_fourcolor')\n",
    "frac3 = metrics.MoCompletenessMetric(threshold=2, metricName='FractionPop_threecolor')\n",
    "frac4 = metrics.MoCompletenessMetric(threshold=1, metricName='FractionPop_twocolor')\n",
    "bundle1.setSummaryMetrics([frac1, frac2, frac3, frac4])\n",
    "bundle1.computeSummaryStats()"
   ]
  },
  {
   "cell_type": "code",
   "execution_count": 35,
   "metadata": {},
   "outputs": [
    {
     "data": {
      "text/plain": [
       "Text(0, 0.5, 'Fraction of population')"
      ]
     },
     "execution_count": 35,
     "metadata": {},
     "output_type": "execute_result"
    },
    {
     "data": {
      "image/png": "[encoded data removed]",
      "text/plain": [
       "<Figure size 432x288 with 1 Axes>"
      ]
     },
     "metadata": {
      "needs_background": "light"
     },
     "output_type": "display_data"
    }
   ],
   "source": [
    "for name in ['fullcolor', 'fourcolor', 'threecolor', 'twocolor']:\n",
    "    sname = f'FractionPop_{name}'\n",
    "    plt.plot(Hrange, bundle1.summaryValues[sname]['value'], label=name)\n",
    "plt.legend()\n",
    "plt.xlabel(\"H\")\n",
    "plt.ylabel(\"Fraction of population\")"
   ]
  },
  {
   "cell_type": "code",
   "execution_count": 37,
   "metadata": {},
   "outputs": [],
   "source": [
    "# We can summarize these into the \"fraction of the population with value > X\"\n",
    "frac1 = metrics.MoCompletenessMetric(threshold=1, metricName='FractionPop_oneband')\n",
    "frac2 = metrics.MoCompletenessMetric(threshold=2, metricName='FractionPop_twoband')\n",
    "frac3 = metrics.MoCompletenessMetric(threshold=3, metricName='FractionPop_more')\n",
    "bundle2.setSummaryMetrics([frac1, frac2, frac3])\n",
    "bundle2.computeSummaryStats()"
   ]
  },
  {
   "cell_type": "code",
   "execution_count": 39,
   "metadata": {},
   "outputs": [
    {
     "data": {
      "text/plain": [
       "Text(0, 0.5, 'Fraction of population')"
      ]
     },
     "execution_count": 39,
     "metadata": {},
     "output_type": "execute_result"
    },
    {
     "data": {
      "image/png": "[encoded data removed]",
      "text/plain": [
       "<Figure size 432x288 with 1 Axes>"
      ]
     },
     "metadata": {
      "needs_background": "light"
     },
     "output_type": "display_data"
    }
   ],
   "source": [
    "for name in ['oneband', 'twoband', 'more']:\n",
    "    sname = f'FractionPop_{name}'\n",
    "    plt.plot(Hrange, bundle2.summaryValues[sname]['value'], label=name)\n",
    "plt.legend()\n",
    "plt.xlabel(\"H\")\n",
    "plt.ylabel(\"Fraction of population\")"
   ]
  },
  {
   "cell_type": "code",
   "execution_count": null,
   "metadata": {},
   "outputs": [],
   "source": []
  }
 ],
 "metadata": {
  "kernelspec": {
   "display_name": "Python 3",
   "language": "python",
   "name": "python3"
  },
  "language_info": {
   "codemirror_mode": {
    "name": "ipython",
    "version": 3
   },
   "file_extension": ".py",
   "mimetype": "text/x-python",
   "name": "python",
   "nbconvert_exporter": "python",
   "pygments_lexer": "ipython3",
   "version": "3.7.1"
  }
 },
 "nbformat": 4,
 "nbformat_minor": 2
}
