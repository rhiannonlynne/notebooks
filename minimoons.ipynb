{
 "cells": [
  {
   "cell_type": "code",
   "execution_count": 1,
   "metadata": {},
   "outputs": [],
   "source": [
    "import os\n",
    "import numpy as np\n",
    "import pandas as pd\n",
    "import matplotlib.pyplot as plt \n",
    "%matplotlib inline"
   ]
  },
  {
   "cell_type": "code",
   "execution_count": 2,
   "metadata": {},
   "outputs": [],
   "source": [
    "import lsst.sims.movingObjects as mo"
   ]
  },
  {
   "cell_type": "code",
   "execution_count": 3,
   "metadata": {},
   "outputs": [
    {
     "data": {
      "text/plain": [
       "objId           NESC000096qI\n",
       "a                    1.01108\n",
       "e                  0.0124973\n",
       "inc                 0.196962\n",
       "Omega                 303.12\n",
       "argPeri              87.1357\n",
       "meanAnomaly          122.071\n",
       "H                    36.9101\n",
       "epoch                  55978\n",
       "g                       0.15\n",
       "sed_filename           S.dat\n",
       "Name: 4407, dtype: object"
      ]
     },
     "execution_count": 3,
     "metadata": {},
     "output_type": "execute_result"
    }
   ],
   "source": [
    "orbitfile = 'NESCv9reintv1.TCO.withH.kep.des'\n",
    "mini = mo.Orbits()\n",
    "mini.readOrbits(orbitfile)\n",
    "mini.orbits.iloc[4407]"
   ]
  },
  {
   "cell_type": "code",
   "execution_count": 4,
   "metadata": {},
   "outputs": [],
   "source": [
    "pyo = mo.PyOrbEphemerides()\n",
    "pyo.setOrbits(mini[0])"
   ]
  },
  {
   "cell_type": "code",
   "execution_count": 5,
   "metadata": {},
   "outputs": [],
   "source": [
    "import lsst.sims.maf.db as db"
   ]
  },
  {
   "cell_type": "code",
   "execution_count": 6,
   "metadata": {},
   "outputs": [],
   "source": [
    "opsdb = db.OpsimDatabase('kraken_2026.db')"
   ]
  },
  {
   "cell_type": "code",
   "execution_count": 7,
   "metadata": {},
   "outputs": [
    {
     "data": {
      "text/plain": [
       "({1: 'GalacticPlane',\n",
       "  2: 'SouthCelestialPole',\n",
       "  3: 'WideFastDeep',\n",
       "  4: 'NorthEclipticSpur',\n",
       "  5: 'DeepDrillingCosmology1'},\n",
       " {'WFD': [3], 'DD': [5], 'NES': [4]})"
      ]
     },
     "execution_count": 7,
     "metadata": {},
     "output_type": "execute_result"
    }
   ],
   "source": [
    "opsdb.fetchPropInfo()"
   ]
  },
  {
   "cell_type": "code",
   "execution_count": 8,
   "metadata": {},
   "outputs": [],
   "source": [
    "nightlimit = 365 * 5\n",
    "simData = opsdb.fetchMetricData(['fieldRA', 'fieldDec', 'observationStartMJD', 'rotSkyPos', \n",
    "                                 'fiveSigmaDepth', 'filter', 'seeingFwhmGeom'], \n",
    "                                sqlconstraint='night < %d and proposalId = 3' % (nightlimit))"
   ]
  },
  {
   "cell_type": "code",
   "execution_count": 9,
   "metadata": {},
   "outputs": [],
   "source": [
    "sortIdx = np.argsort(simData['observationStartMJD'])\n",
    "simData = simData[sortIdx]"
   ]
  },
  {
   "cell_type": "code",
   "execution_count": 10,
   "metadata": {},
   "outputs": [
    {
     "name": "stdout",
     "output_type": "stream",
     "text": [
      "1822 59853.56 61674.56\n"
     ]
    }
   ],
   "source": [
    "tstep = 1.0\n",
    "times = np.arange(int(simData['observationStartMJD'][0]) + 0.56, \n",
    "                  int(simData['observationStartMJD'][-1]) + 0.56 + tstep, \n",
    "                  tstep)\n",
    "print(len(times), times.min(), times.max())"
   ]
  },
  {
   "cell_type": "code",
   "execution_count": 11,
   "metadata": {},
   "outputs": [
    {
     "name": "stdout",
     "output_type": "stream",
     "text": [
      "34.8 ms ± 822 µs per loop (mean ± std. dev. of 7 runs, 10 loops each)\n"
     ]
    }
   ],
   "source": [
    "%%timeit\n",
    "ephs = pyo.generateEphemerides(times, timeScale='TAI', obscode='I11', ephMode='2body', ephType='basic')"
   ]
  },
  {
   "cell_type": "code",
   "execution_count": 12,
   "metadata": {},
   "outputs": [
    {
     "name": "stdout",
     "output_type": "stream",
     "text": [
      "256 ms ± 4.57 ms per loop (mean ± std. dev. of 7 runs, 1 loop each)\n"
     ]
    }
   ],
   "source": [
    "%%timeit\n",
    "ephs = pyo.generateEphemerides(times, timeScale='TAI', obscode='I11', ephMode='nbody', ephType='basic')"
   ]
  },
  {
   "cell_type": "code",
   "execution_count": 15,
   "metadata": {},
   "outputs": [],
   "source": [
    "pyo.setOrbits(mini[4407])\n",
    "ephs = pyo.generateEphemerides(times, timeScale='TAI', obscode='I11', ephMode='nbody', ephType='basic')"
   ]
  },
  {
   "cell_type": "code",
   "execution_count": 16,
   "metadata": {},
   "outputs": [
    {
     "data": {
      "text/plain": [
       "(1.3941809437762411, 1.394978659603878)"
      ]
     },
     "execution_count": 16,
     "metadata": {},
     "output_type": "execute_result"
    }
   ],
   "source": [
    "(np.percentile(np.diff(ephs['ra']*np.cos(np.radians(ephs['dec']))), 99.8), \n",
    " np.percentile(np.diff(ephs['ra']*np.cos(np.radians(ephs['dec']))), 99.9), )"
   ]
  },
  {
   "cell_type": "code",
   "execution_count": 17,
   "metadata": {},
   "outputs": [
    {
     "data": {
      "text/plain": [
       "0.39774691832826126"
      ]
     },
     "execution_count": 17,
     "metadata": {},
     "output_type": "execute_result"
    }
   ],
   "source": [
    "np.diff(ephs['dec']).max()"
   ]
  },
  {
   "cell_type": "code",
   "execution_count": 18,
   "metadata": {},
   "outputs": [],
   "source": [
    "# Looks like minimoon typically travel few degrees per day (is there higher variation on shorter timescales?)"
   ]
  },
  {
   "cell_type": "code",
   "execution_count": 20,
   "metadata": {},
   "outputs": [
    {
     "data": {
      "text/plain": [
       "14.222222222222223"
      ]
     },
     "execution_count": 20,
     "metadata": {},
     "output_type": "execute_result"
    }
   ],
   "source": [
    "(256/100) * 20000 / 60. / 60. "
   ]
  },
  {
   "cell_type": "code",
   "execution_count": null,
   "metadata": {},
   "outputs": [],
   "source": [
    "# How many objects actually get bright enough that they might be seen by LSST? \n",
    "# (over specified time range of close approaches)\n",
    "bright_objs = []\n",
    "tstep = 2.0\n",
    "times = np.arange(54466, 61771 + tstep/2., tstep)\n",
    "pyo = mo.PyOrbEphemerides()\n",
    "for i, obj in enumerate(mini):\n",
    "    pyo.setOrbits(obj)\n",
    "    ephs = pyo.generateEphemerides(times, timeScale='TAI', obscode='I11', ephMode='nbody')\n",
    "    if (ephs[0]['magV'].min() < 26.5):\n",
    "        bright_objs.append(i)"
   ]
  },
  {
   "cell_type": "code",
   "execution_count": null,
   "metadata": {},
   "outputs": [],
   "source": [
    "len(mini), len(bright_objs)"
   ]
  },
  {
   "cell_type": "code",
   "execution_count": null,
   "metadata": {},
   "outputs": [],
   "source": [
    "br = mini[bright_objs]"
   ]
  },
  {
   "cell_type": "code",
   "execution_count": null,
   "metadata": {},
   "outputs": [],
   "source": [
    "br.orbits.to_csv('all_bright_NESCv9reintv1.TCO.withH.kep.des', index=False, sep=' ')"
   ]
  },
  {
   "cell_type": "code",
   "execution_count": 45,
   "metadata": {},
   "outputs": [],
   "source": [
    "br = mo.Orbits()\n",
    "br.readOrbits('all_bright_NESCv9reintv1.TCO.withH.kep.des')"
   ]
  },
  {
   "cell_type": "code",
   "execution_count": 48,
   "metadata": {},
   "outputs": [
    {
     "data": {
      "text/plain": [
       "Text(0,0.5,'Number of objects')"
      ]
     },
     "execution_count": 48,
     "metadata": {},
     "output_type": "execute_result"
    },
    {
     "data": {
      "image/png": "[encoded data removed]",
      "text/plain": [
       "<Figure size 576x432 with 1 Axes>"
      ]
     },
     "metadata": {},
     "output_type": "display_data"
    }
   ],
   "source": [
    "plt.figure(figsize=(8, 6))\n",
    "n, b, p = plt.hist(mini.orbits.H, bins=100, alpha=0.4, label='H all minimoons')\n",
    "n, b, p = plt.hist(br.orbits.H, bins=b, alpha=0.6, label='H (V<26.5 any time)')\n",
    "plt.legend(loc='upper left', fancybox=True, numpoints=1)\n",
    "plt.semilogy()\n",
    "plt.xlabel('H magnitude')\n",
    "plt.ylabel('Number of objects')"
   ]
  },
  {
   "cell_type": "code",
   "execution_count": 49,
   "metadata": {},
   "outputs": [
    {
     "data": {
      "text/plain": [
       "Text(0,0.5,'Number of objects')"
      ]
     },
     "execution_count": 49,
     "metadata": {},
     "output_type": "execute_result"
    },
    {
     "data": {
      "image/png": "[encoded data removed]",
      "text/plain": [
       "<Figure size 576x432 with 1 Axes>"
      ]
     },
     "metadata": {},
     "output_type": "display_data"
    }
   ],
   "source": [
    "plt.figure(figsize=(8, 6))\n",
    "n, b, p = plt.hist(mini.orbits.epoch, bins=100, alpha=0.4, label='Epoch all minimoons')\n",
    "n, b, p = plt.hist(br.orbits.epoch, bins=b, alpha=0.6, label='Epoch (V<26.5 any time)')\n",
    "plt.legend(loc='upper left', fancybox=True, numpoints=1)\n",
    "plt.semilogy()\n",
    "plt.xlabel('H magnitude')\n",
    "plt.ylabel('Number of objects')"
   ]
  },
  {
   "cell_type": "code",
   "execution_count": 30,
   "metadata": {},
   "outputs": [],
   "source": [
    "# What about time of overlap with LSST? (start of LSST obs, to end of LSST)\n",
    "bright_objs = []\n",
    "tstep = 1.0\n",
    "times = np.arange(int(simData['observationStartMJD'][0]) + 0.56, \n",
    "                  int(simData['observationStartMJD'][-1]) + 0.56 + tstep, \n",
    "                  tstep)\n",
    "pyo = mo.PyOrbEphemerides()\n",
    "for i, obj in enumerate(mini):\n",
    "    pyo.setOrbits(obj)\n",
    "    ephs = pyo.generateEphemerides(times, timeScale='TAI', obscode='I11', ephMode='nbody')\n",
    "    if (ephs[0]['magV'].min() < 26.5):\n",
    "        bright_objs.append(i)"
   ]
  },
  {
   "cell_type": "code",
   "execution_count": 31,
   "metadata": {},
   "outputs": [
    {
     "name": "stdout",
     "output_type": "stream",
     "text": [
      "20265 4557\n"
     ]
    }
   ],
   "source": [
    "print(len(mini), len(bright_objs))\n",
    "br = mini[bright_objs]\n",
    "br.orbits.to_csv('lsst_bright_NESCv9reintv1.TCO.withH.kep.des', index=False, sep=' ')"
   ]
  },
  {
   "cell_type": "code",
   "execution_count": 33,
   "metadata": {},
   "outputs": [
    {
     "data": {
      "text/plain": [
       "(59853.016793981478, 61674.162268518521)"
      ]
     },
     "execution_count": 33,
     "metadata": {},
     "output_type": "execute_result"
    }
   ],
   "source": [
    "simData['observationStartMJD'].min(), simData['observationStartMJD'].max()"
   ]
  },
  {
   "cell_type": "code",
   "execution_count": 42,
   "metadata": {},
   "outputs": [],
   "source": [
    "br = mo.Orbits()\n",
    "br.readOrbits('lsst_bright_NESCv9reintv1.TCO.withH.kep.des')"
   ]
  },
  {
   "cell_type": "code",
   "execution_count": 43,
   "metadata": {},
   "outputs": [
    {
     "data": {
      "text/plain": [
       "Text(0,0.5,'Number of objects')"
      ]
     },
     "execution_count": 43,
     "metadata": {},
     "output_type": "execute_result"
    },
    {
     "data": {
      "image/png": "[encoded data removed]",
      "text/plain": [
       "<Figure size 576x432 with 1 Axes>"
      ]
     },
     "metadata": {},
     "output_type": "display_data"
    }
   ],
   "source": [
    "plt.figure(figsize=(8, 6))\n",
    "n, b, p = plt.hist(mini.orbits.H, bins=100, alpha=0.4, label='H all minimoons')\n",
    "n, b, p = plt.hist(br.orbits.H, bins=b, alpha=0.6, label='H (V<26.5 during LSST)')\n",
    "plt.legend(loc='upper left', fancybox=True, numpoints=1)\n",
    "plt.semilogy()\n",
    "plt.xlabel('H magnitude')\n",
    "plt.ylabel('Number of objects')"
   ]
  },
  {
   "cell_type": "code",
   "execution_count": 44,
   "metadata": {},
   "outputs": [
    {
     "data": {
      "text/plain": [
       "Text(0,0.5,'Number of objects')"
      ]
     },
     "execution_count": 44,
     "metadata": {},
     "output_type": "execute_result"
    },
    {
     "data": {
      "image/png": "[encoded data removed]",
      "text/plain": [
       "<Figure size 576x432 with 1 Axes>"
      ]
     },
     "metadata": {},
     "output_type": "display_data"
    }
   ],
   "source": [
    "plt.figure(figsize=(8, 6))\n",
    "n, b, p = plt.hist(mini.orbits.epoch, bins=100, alpha=0.4, label='Epoch all minimoons')\n",
    "n, b, p = plt.hist(br.orbits.epoch, bins=b, alpha=0.6, label='Epoch (V<26.5 during LSST)')\n",
    "plt.legend(loc='upper left', fancybox=True, numpoints=1)\n",
    "plt.semilogy()\n",
    "plt.xlabel('H magnitude')\n",
    "plt.ylabel('Number of objects')"
   ]
  },
  {
   "cell_type": "code",
   "execution_count": null,
   "metadata": {},
   "outputs": [],
   "source": []
  }
 ],
 "metadata": {
  "kernelspec": {
   "display_name": "Python 3",
   "language": "python",
   "name": "python3"
  },
  "language_info": {
   "codemirror_mode": {
    "name": "ipython",
    "version": 3
   },
   "file_extension": ".py",
   "mimetype": "text/x-python",
   "name": "python",
   "nbconvert_exporter": "python",
   "pygments_lexer": "ipython3",
   "version": "3.6.6"
  }
 },
 "nbformat": 4,
 "nbformat_minor": 2
}
