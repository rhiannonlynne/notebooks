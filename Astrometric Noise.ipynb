{
 "cells": [
  {
   "cell_type": "code",
   "execution_count": 1,
   "metadata": {},
   "outputs": [],
   "source": [
    "import os\n",
    "import numpy as np\n",
    "import pandas as pd\n",
    "import matplotlib.pyplot as plt\n",
    "%matplotlib inline"
   ]
  },
  {
   "cell_type": "code",
   "execution_count": 2,
   "metadata": {},
   "outputs": [],
   "source": [
    "# Ideal, but there's a workaround below if you don't have this package \n",
    "# (https://github.com/lsst-pst/syseng_throughputs) \n",
    "# Does require LSST simulations stack\n",
    "import lsst.syseng.throughputs as st"
   ]
  },
  {
   "cell_type": "code",
   "execution_count": 3,
   "metadata": {},
   "outputs": [],
   "source": [
    "def calcAstrometricError(mag, m5, fwhm_eff, error_sys=10.0):\n",
    "    \"\"\"\n",
    "    Calculate the astrometric error, for object catalog purposes.\n",
    "    fwhm_eff (in same units as returned astrometric error)\n",
    "    error_sys is the systematic error expected as the minimum value for astrometric error.\n",
    "    Returns astrometric error for a given SNR (in same units as fwhm_eff).\n",
    "    \"\"\"\n",
    "    rgamma = 0.039\n",
    "    xval = np.power(10, 0.4*(mag-m5))\n",
    "    # The average FWHMeff is 0.7\" (or 700 mas).\n",
    "    error_rand = fwhm_eff * np.sqrt((0.04-rgamma)*xval + rgamma*xval*xval)\n",
    "    astrom_error = np.sqrt(error_sys * error_sys + error_rand*error_rand)\n",
    "    return astrom_error"
   ]
  },
  {
   "cell_type": "code",
   "execution_count": 4,
   "metadata": {},
   "outputs": [],
   "source": [
    "# Pull up the throughput curves and calculate m5\n",
    "defaultDirs = st.setDefaultDirs()\n",
    "hardware, system = st.buildHardwareAndSystem(defaultDirs)\n",
    "m5 = st.makeM5(hardware, system, exptime=15, nexp=2, X=1.0)"
   ]
  },
  {
   "cell_type": "code",
   "execution_count": 5,
   "metadata": {},
   "outputs": [
    {
     "data": {
      "text/html": [
       "<div>\n",
       "<style scoped>\n",
       "    .dataframe tbody tr th:only-of-type {\n",
       "        vertical-align: middle;\n",
       "    }\n",
       "\n",
       "    .dataframe tbody tr th {\n",
       "        vertical-align: top;\n",
       "    }\n",
       "\n",
       "    .dataframe thead th {\n",
       "        text-align: right;\n",
       "    }\n",
       "</style>\n",
       "<table border=\"1\" class=\"dataframe\">\n",
       "  <thead>\n",
       "    <tr style=\"text-align: right;\">\n",
       "      <th></th>\n",
       "      <th>FWHMeff</th>\n",
       "      <th>m5</th>\n",
       "    </tr>\n",
       "  </thead>\n",
       "  <tbody>\n",
       "    <tr>\n",
       "      <th>u</th>\n",
       "      <td>0.92</td>\n",
       "      <td>23.681847</td>\n",
       "    </tr>\n",
       "    <tr>\n",
       "      <th>g</th>\n",
       "      <td>0.87</td>\n",
       "      <td>24.805485</td>\n",
       "    </tr>\n",
       "    <tr>\n",
       "      <th>r</th>\n",
       "      <td>0.83</td>\n",
       "      <td>24.366544</td>\n",
       "    </tr>\n",
       "    <tr>\n",
       "      <th>i</th>\n",
       "      <td>0.80</td>\n",
       "      <td>23.947028</td>\n",
       "    </tr>\n",
       "    <tr>\n",
       "      <th>z</th>\n",
       "      <td>0.78</td>\n",
       "      <td>23.375466</td>\n",
       "    </tr>\n",
       "    <tr>\n",
       "      <th>y</th>\n",
       "      <td>0.76</td>\n",
       "      <td>22.467668</td>\n",
       "    </tr>\n",
       "  </tbody>\n",
       "</table>\n",
       "</div>"
      ],
      "text/plain": [
       "   FWHMeff         m5\n",
       "u     0.92  23.681847\n",
       "g     0.87  24.805485\n",
       "r     0.83  24.366544\n",
       "i     0.80  23.947028\n",
       "z     0.78  23.375466\n",
       "y     0.76  22.467668"
      ]
     },
     "execution_count": 5,
     "metadata": {},
     "output_type": "execute_result"
    }
   ],
   "source": [
    "m5[['FWHMeff', 'm5']]"
   ]
  },
  {
   "cell_type": "code",
   "execution_count": 6,
   "metadata": {},
   "outputs": [
    {
     "name": "stdout",
     "output_type": "stream",
     "text": [
      "m5_lim\n",
      "{'u': 23.681847096372046, 'g': 24.805485162309864, 'r': 24.366544272782974, 'i': 23.94702848604054, 'z': 23.37546595033629, 'y': 22.46766827505174}\n",
      "FWHMeff\n",
      "{'u': 0.92, 'g': 0.87, 'r': 0.83, 'i': 0.8, 'z': 0.78, 'y': 0.76}\n"
     ]
    }
   ],
   "source": [
    "# Convenience for someone running this later, without lsst packages: (cut and paste)\n",
    "m5_lim = m5.m5.to_dict()\n",
    "FWHMeff = m5.FWHMeff.to_dict()\n",
    "print('m5_lim')\n",
    "print(m5_lim)\n",
    "print('FWHMeff')\n",
    "print(FWHMeff)"
   ]
  },
  {
   "cell_type": "code",
   "execution_count": 7,
   "metadata": {},
   "outputs": [],
   "source": [
    "# Calculate astrometric error assuming NO systematic noise - just shot noise\n",
    "mags = np.arange(17, 26, 0.5)\n",
    "filterlist = ('u', 'g', 'r', 'i', 'z', 'y')\n",
    "astrom_err = {}\n",
    "for f in filterlist:\n",
    "    astrom_err[f] = np.zeros(len(mags))\n",
    "    for i, mag in enumerate(mags):\n",
    "        astrom_err[f][i] = calcAstrometricError(mag, m5_lim[f], FWHMeff[f]*1000, error_sys=0)"
   ]
  },
  {
   "cell_type": "code",
   "execution_count": 8,
   "metadata": {},
   "outputs": [
    {
     "data": {
      "text/html": [
       "<div>\n",
       "<style scoped>\n",
       "    .dataframe tbody tr th:only-of-type {\n",
       "        vertical-align: middle;\n",
       "    }\n",
       "\n",
       "    .dataframe tbody tr th {\n",
       "        vertical-align: top;\n",
       "    }\n",
       "\n",
       "    .dataframe thead th {\n",
       "        text-align: right;\n",
       "    }\n",
       "</style>\n",
       "<table border=\"1\" class=\"dataframe\">\n",
       "  <thead>\n",
       "    <tr style=\"text-align: right;\">\n",
       "      <th></th>\n",
       "      <th>u</th>\n",
       "      <th>g</th>\n",
       "      <th>r</th>\n",
       "      <th>i</th>\n",
       "      <th>z</th>\n",
       "      <th>y</th>\n",
       "    </tr>\n",
       "  </thead>\n",
       "  <tbody>\n",
       "    <tr>\n",
       "      <th>17.0</th>\n",
       "      <td>1.395416</td>\n",
       "      <td>0.766870</td>\n",
       "      <td>0.901863</td>\n",
       "      <td>1.064974</td>\n",
       "      <td>1.379232</td>\n",
       "      <td>2.169422</td>\n",
       "    </tr>\n",
       "    <tr>\n",
       "      <th>17.5</th>\n",
       "      <td>1.795605</td>\n",
       "      <td>0.973472</td>\n",
       "      <td>1.149317</td>\n",
       "      <td>1.364410</td>\n",
       "      <td>1.785911</td>\n",
       "      <td>2.888159</td>\n",
       "    </tr>\n",
       "    <tr>\n",
       "      <th>18.0</th>\n",
       "      <td>2.336009</td>\n",
       "      <td>1.241401</td>\n",
       "      <td>1.474289</td>\n",
       "      <td>1.763919</td>\n",
       "      <td>2.343815</td>\n",
       "      <td>3.928951</td>\n",
       "    </tr>\n",
       "    <tr>\n",
       "      <th>18.5</th>\n",
       "      <td>3.085467</td>\n",
       "      <td>1.593987</td>\n",
       "      <td>1.909384</td>\n",
       "      <td>2.309881</td>\n",
       "      <td>3.131772</td>\n",
       "      <td>5.480202</td>\n",
       "    </tr>\n",
       "    <tr>\n",
       "      <th>19.0</th>\n",
       "      <td>4.156599</td>\n",
       "      <td>2.067351</td>\n",
       "      <td>2.506562</td>\n",
       "      <td>3.077632</td>\n",
       "      <td>4.279170</td>\n",
       "      <td>7.847456</td>\n",
       "    </tr>\n",
       "    <tr>\n",
       "      <th>19.5</th>\n",
       "      <td>5.734208</td>\n",
       "      <td>2.719248</td>\n",
       "      <td>3.350445</td>\n",
       "      <td>4.190794</td>\n",
       "      <td>5.997584</td>\n",
       "      <td>11.520772</td>\n",
       "    </tr>\n",
       "    <tr>\n",
       "      <th>20.0</th>\n",
       "      <td>8.119393</td>\n",
       "      <td>3.643898</td>\n",
       "      <td>4.579939</td>\n",
       "      <td>5.851729</td>\n",
       "      <td>8.629411</td>\n",
       "      <td>17.279860</td>\n",
       "    </tr>\n",
       "    <tr>\n",
       "      <th>20.5</th>\n",
       "      <td>11.797294</td>\n",
       "      <td>4.995973</td>\n",
       "      <td>6.422145</td>\n",
       "      <td>8.388465</td>\n",
       "      <td>12.722838</td>\n",
       "      <td>26.360416</td>\n",
       "    </tr>\n",
       "    <tr>\n",
       "      <th>21.0</th>\n",
       "      <td>17.542054</td>\n",
       "      <td>7.028081</td>\n",
       "      <td>9.244515</td>\n",
       "      <td>12.326907</td>\n",
       "      <td>19.149173</td>\n",
       "      <td>40.718708</td>\n",
       "    </tr>\n",
       "    <tr>\n",
       "      <th>21.5</th>\n",
       "      <td>26.582057</td>\n",
       "      <td>10.148372</td>\n",
       "      <td>13.635247</td>\n",
       "      <td>18.503595</td>\n",
       "      <td>29.288785</td>\n",
       "      <td>63.452197</td>\n",
       "    </tr>\n",
       "    <tr>\n",
       "      <th>22.0</th>\n",
       "      <td>40.862431</td>\n",
       "      <td>15.009477</td>\n",
       "      <td>20.529164</td>\n",
       "      <td>28.244175</td>\n",
       "      <td>45.326925</td>\n",
       "      <td>99.467121</td>\n",
       "    </tr>\n",
       "    <tr>\n",
       "      <th>22.5</th>\n",
       "      <td>63.462598</td>\n",
       "      <td>22.648005</td>\n",
       "      <td>31.407212</td>\n",
       "      <td>43.647298</td>\n",
       "      <td>70.723847</td>\n",
       "      <td>156.536978</td>\n",
       "    </tr>\n",
       "    <tr>\n",
       "      <th>23.0</th>\n",
       "      <td>99.259448</td>\n",
       "      <td>34.705858</td>\n",
       "      <td>48.613861</td>\n",
       "      <td>68.035918</td>\n",
       "      <td>110.960790</td>\n",
       "      <td>246.980183</td>\n",
       "    </tr>\n",
       "    <tr>\n",
       "      <th>23.5</th>\n",
       "      <td>155.979150</td>\n",
       "      <td>53.782314</td>\n",
       "      <td>75.861514</td>\n",
       "      <td>106.673521</td>\n",
       "      <td>174.722620</td>\n",
       "      <td>390.318894</td>\n",
       "    </tr>\n",
       "    <tr>\n",
       "      <th>24.0</th>\n",
       "      <td>245.864430</td>\n",
       "      <td>83.993457</td>\n",
       "      <td>119.030855</td>\n",
       "      <td>167.899705</td>\n",
       "      <td>275.772236</td>\n",
       "      <td>617.492822</td>\n",
       "    </tr>\n",
       "    <tr>\n",
       "      <th>24.5</th>\n",
       "      <td>388.316971</td>\n",
       "      <td>131.859680</td>\n",
       "      <td>187.439696</td>\n",
       "      <td>264.930031</td>\n",
       "      <td>435.921201</td>\n",
       "      <td>977.537573</td>\n",
       "    </tr>\n",
       "    <tr>\n",
       "      <th>25.0</th>\n",
       "      <td>614.085186</td>\n",
       "      <td>207.712638</td>\n",
       "      <td>295.853990</td>\n",
       "      <td>418.708486</td>\n",
       "      <td>689.737735</td>\n",
       "      <td>1548.168997</td>\n",
       "    </tr>\n",
       "    <tr>\n",
       "      <th>25.5</th>\n",
       "      <td>971.901249</td>\n",
       "      <td>327.925109</td>\n",
       "      <td>467.674966</td>\n",
       "      <td>662.428208</td>\n",
       "      <td>1092.008265</td>\n",
       "      <td>2452.558190</td>\n",
       "    </tr>\n",
       "  </tbody>\n",
       "</table>\n",
       "</div>"
      ],
      "text/plain": [
       "               u           g           r           i            z            y\n",
       "17.0    1.395416    0.766870    0.901863    1.064974     1.379232     2.169422\n",
       "17.5    1.795605    0.973472    1.149317    1.364410     1.785911     2.888159\n",
       "18.0    2.336009    1.241401    1.474289    1.763919     2.343815     3.928951\n",
       "18.5    3.085467    1.593987    1.909384    2.309881     3.131772     5.480202\n",
       "19.0    4.156599    2.067351    2.506562    3.077632     4.279170     7.847456\n",
       "19.5    5.734208    2.719248    3.350445    4.190794     5.997584    11.520772\n",
       "20.0    8.119393    3.643898    4.579939    5.851729     8.629411    17.279860\n",
       "20.5   11.797294    4.995973    6.422145    8.388465    12.722838    26.360416\n",
       "21.0   17.542054    7.028081    9.244515   12.326907    19.149173    40.718708\n",
       "21.5   26.582057   10.148372   13.635247   18.503595    29.288785    63.452197\n",
       "22.0   40.862431   15.009477   20.529164   28.244175    45.326925    99.467121\n",
       "22.5   63.462598   22.648005   31.407212   43.647298    70.723847   156.536978\n",
       "23.0   99.259448   34.705858   48.613861   68.035918   110.960790   246.980183\n",
       "23.5  155.979150   53.782314   75.861514  106.673521   174.722620   390.318894\n",
       "24.0  245.864430   83.993457  119.030855  167.899705   275.772236   617.492822\n",
       "24.5  388.316971  131.859680  187.439696  264.930031   435.921201   977.537573\n",
       "25.0  614.085186  207.712638  295.853990  418.708486   689.737735  1548.168997\n",
       "25.5  971.901249  327.925109  467.674966  662.428208  1092.008265  2452.558190"
      ]
     },
     "execution_count": 8,
     "metadata": {},
     "output_type": "execute_result"
    }
   ],
   "source": [
    "pd.DataFrame(astrom_err, index=mags)"
   ]
  },
  {
   "cell_type": "code",
   "execution_count": 9,
   "metadata": {},
   "outputs": [
    {
     "data": {
      "image/png": "[encoded data removed]",
      "text/plain": [
       "<Figure size 576x432 with 1 Axes>"
      ]
     },
     "metadata": {
      "needs_background": "light"
     },
     "output_type": "display_data"
    }
   ],
   "source": [
    "plt.figure(figsize=(8,6))\n",
    "colors = {'u': 'cyan', 'g': 'g', 'r':'r', 'i':'orange', 'z': 'b', 'y': 'k'}\n",
    "for f in filterlist:\n",
    "    plt.plot(mags, astrom_err[f], color=colors[f], label=f)\n",
    "plt.legend(loc='upper left', fontsize='large', fancybox=True, numpoints=1)\n",
    "plt.xlabel('Magnitude', fontsize='large')\n",
    "plt.ylabel('Astrometric error (mas)', fontsize='large')\n",
    "plt.grid(True, alpha=0.3)"
   ]
  },
  {
   "cell_type": "code",
   "execution_count": 10,
   "metadata": {},
   "outputs": [
    {
     "data": {
      "text/plain": [
       "(0, 50)"
      ]
     },
     "execution_count": 10,
     "metadata": {},
     "output_type": "execute_result"
    },
    {
     "data": {
      "image/png": "[encoded data removed]",
      "text/plain": [
       "<Figure size 576x432 with 1 Axes>"
      ]
     },
     "metadata": {
      "needs_background": "light"
     },
     "output_type": "display_data"
    }
   ],
   "source": [
    "plt.figure(figsize=(8,6))\n",
    "colors = {'u': 'cyan', 'g': 'g', 'r':'r', 'i':'orange', 'z': 'b', 'y': 'k'}\n",
    "for f in filterlist:\n",
    "    plt.plot(mags, astrom_err[f], color=colors[f], label=f)\n",
    "plt.legend(loc='upper left', fontsize='large', fancybox=True, numpoints=1)\n",
    "plt.xlabel('Magnitude', fontsize='large')\n",
    "plt.ylabel('Astrometric error (mas)', fontsize='large')\n",
    "plt.grid(True, alpha=0.3)\n",
    "plt.xlim(18, 21)\n",
    "plt.ylim(0, 50)"
   ]
  },
  {
   "cell_type": "code",
   "execution_count": null,
   "metadata": {},
   "outputs": [],
   "source": []
  }
 ],
 "metadata": {
  "kernelspec": {
   "display_name": "Python 3",
   "language": "python",
   "name": "python3"
  },
  "language_info": {
   "codemirror_mode": {
    "name": "ipython",
    "version": 3
   },
   "file_extension": ".py",
   "mimetype": "text/x-python",
   "name": "python",
   "nbconvert_exporter": "python",
   "pygments_lexer": "ipython3",
   "version": "3.7.3"
  }
 },
 "nbformat": 4,
 "nbformat_minor": 2
}
