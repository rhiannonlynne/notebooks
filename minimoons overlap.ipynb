{
 "cells": [
  {
   "cell_type": "code",
   "execution_count": 1,
   "metadata": {},
   "outputs": [],
   "source": [
    "import os\n",
    "import numpy as np\n",
    "import pandas as pd\n",
    "import matplotlib.pyplot as plt \n",
    "%matplotlib inline"
   ]
  },
  {
   "cell_type": "code",
   "execution_count": 2,
   "metadata": {},
   "outputs": [],
   "source": [
    "import lsst.sims.movingObjects as mo"
   ]
  },
  {
   "cell_type": "code",
   "execution_count": 3,
   "metadata": {},
   "outputs": [
    {
     "data": {
      "text/html": [
       "<div>\n",
       "<style scoped>\n",
       "    .dataframe tbody tr th:only-of-type {\n",
       "        vertical-align: middle;\n",
       "    }\n",
       "\n",
       "    .dataframe tbody tr th {\n",
       "        vertical-align: top;\n",
       "    }\n",
       "\n",
       "    .dataframe thead th {\n",
       "        text-align: right;\n",
       "    }\n",
       "</style>\n",
       "<table border=\"1\" class=\"dataframe\">\n",
       "  <thead>\n",
       "    <tr style=\"text-align: right;\">\n",
       "      <th></th>\n",
       "      <th>objId</th>\n",
       "      <th>a</th>\n",
       "      <th>e</th>\n",
       "      <th>inc</th>\n",
       "      <th>Omega</th>\n",
       "      <th>argPeri</th>\n",
       "      <th>meanAnomaly</th>\n",
       "      <th>H</th>\n",
       "      <th>epoch</th>\n",
       "      <th>g</th>\n",
       "      <th>sed_filename</th>\n",
       "    </tr>\n",
       "  </thead>\n",
       "  <tbody>\n",
       "    <tr>\n",
       "      <th>0</th>\n",
       "      <td>NESC0000001a</td>\n",
       "      <td>0.997277</td>\n",
       "      <td>0.032099</td>\n",
       "      <td>0.323426</td>\n",
       "      <td>283.584339</td>\n",
       "      <td>158.333342</td>\n",
       "      <td>306.015266</td>\n",
       "      <td>37.008092</td>\n",
       "      <td>60603.262969</td>\n",
       "      <td>0.15</td>\n",
       "      <td>S.dat</td>\n",
       "    </tr>\n",
       "    <tr>\n",
       "      <th>1</th>\n",
       "      <td>NESC000000B3</td>\n",
       "      <td>1.011793</td>\n",
       "      <td>0.006768</td>\n",
       "      <td>0.040201</td>\n",
       "      <td>208.493888</td>\n",
       "      <td>119.170625</td>\n",
       "      <td>271.591057</td>\n",
       "      <td>37.021498</td>\n",
       "      <td>54602.716701</td>\n",
       "      <td>0.15</td>\n",
       "      <td>S.dat</td>\n",
       "    </tr>\n",
       "    <tr>\n",
       "      <th>2</th>\n",
       "      <td>NESC000000C8</td>\n",
       "      <td>0.985949</td>\n",
       "      <td>0.027715</td>\n",
       "      <td>0.159922</td>\n",
       "      <td>155.755741</td>\n",
       "      <td>326.535489</td>\n",
       "      <td>64.935801</td>\n",
       "      <td>36.509016</td>\n",
       "      <td>55288.209681</td>\n",
       "      <td>0.15</td>\n",
       "      <td>S.dat</td>\n",
       "    </tr>\n",
       "    <tr>\n",
       "      <th>3</th>\n",
       "      <td>NESC000000GM</td>\n",
       "      <td>1.023415</td>\n",
       "      <td>0.019560</td>\n",
       "      <td>0.234426</td>\n",
       "      <td>97.532517</td>\n",
       "      <td>308.932078</td>\n",
       "      <td>187.279126</td>\n",
       "      <td>37.022154</td>\n",
       "      <td>58616.217523</td>\n",
       "      <td>0.15</td>\n",
       "      <td>S.dat</td>\n",
       "    </tr>\n",
       "    <tr>\n",
       "      <th>4</th>\n",
       "      <td>NESC000000J9</td>\n",
       "      <td>1.016520</td>\n",
       "      <td>0.012195</td>\n",
       "      <td>0.059523</td>\n",
       "      <td>357.285344</td>\n",
       "      <td>68.994836</td>\n",
       "      <td>115.973768</td>\n",
       "      <td>36.829602</td>\n",
       "      <td>59660.286367</td>\n",
       "      <td>0.15</td>\n",
       "      <td>S.dat</td>\n",
       "    </tr>\n",
       "  </tbody>\n",
       "</table>\n",
       "</div>"
      ],
      "text/plain": [
       "          objId         a         e       inc       Omega     argPeri  \\\n",
       "0  NESC0000001a  0.997277  0.032099  0.323426  283.584339  158.333342   \n",
       "1  NESC000000B3  1.011793  0.006768  0.040201  208.493888  119.170625   \n",
       "2  NESC000000C8  0.985949  0.027715  0.159922  155.755741  326.535489   \n",
       "3  NESC000000GM  1.023415  0.019560  0.234426   97.532517  308.932078   \n",
       "4  NESC000000J9  1.016520  0.012195  0.059523  357.285344   68.994836   \n",
       "\n",
       "   meanAnomaly          H         epoch     g sed_filename  \n",
       "0   306.015266  37.008092  60603.262969  0.15        S.dat  \n",
       "1   271.591057  37.021498  54602.716701  0.15        S.dat  \n",
       "2    64.935801  36.509016  55288.209681  0.15        S.dat  \n",
       "3   187.279126  37.022154  58616.217523  0.15        S.dat  \n",
       "4   115.973768  36.829602  59660.286367  0.15        S.dat  "
      ]
     },
     "execution_count": 3,
     "metadata": {},
     "output_type": "execute_result"
    }
   ],
   "source": [
    "orbitfile = 'NESCv9reintv1.TCO.withH.kep.des'\n",
    "mini = mo.Orbits()\n",
    "mini.readOrbits(orbitfile)\n",
    "mini.orbits[0:5]"
   ]
  },
  {
   "cell_type": "code",
   "execution_count": 4,
   "metadata": {},
   "outputs": [],
   "source": [
    "pyo = mo.PyOrbEphemerides()"
   ]
  },
  {
   "cell_type": "code",
   "execution_count": 5,
   "metadata": {},
   "outputs": [],
   "source": [
    "import lsst.sims.maf.db as db"
   ]
  },
  {
   "cell_type": "code",
   "execution_count": 6,
   "metadata": {},
   "outputs": [],
   "source": [
    "opsdb = db.OpsimDatabase('kraken_2026.db')"
   ]
  },
  {
   "cell_type": "code",
   "execution_count": 7,
   "metadata": {},
   "outputs": [
    {
     "data": {
      "text/plain": [
       "({1: 'GalacticPlane',\n",
       "  2: 'SouthCelestialPole',\n",
       "  3: 'WideFastDeep',\n",
       "  4: 'NorthEclipticSpur',\n",
       "  5: 'DeepDrillingCosmology1'},\n",
       " {'WFD': [3], 'DD': [5], 'NES': [4]})"
      ]
     },
     "execution_count": 7,
     "metadata": {},
     "output_type": "execute_result"
    }
   ],
   "source": [
    "opsdb.fetchPropInfo()"
   ]
  },
  {
   "cell_type": "code",
   "execution_count": 8,
   "metadata": {},
   "outputs": [],
   "source": [
    "nightlimit = 365 * 100\n",
    "simData = opsdb.fetchMetricData(['fieldRA', 'fieldDec', 'observationStartMJD', 'rotSkyPos', \n",
    "                                 'fiveSigmaDepth', 'filter', 'seeingFwhmGeom'], \n",
    "                                sqlconstraint='night < %d and proposalId = 3' % (nightlimit))"
   ]
  },
  {
   "cell_type": "code",
   "execution_count": 41,
   "metadata": {},
   "outputs": [],
   "source": [
    "import lsst.sims.photUtils as photUtils"
   ]
  },
  {
   "cell_type": "code",
   "execution_count": 50,
   "metadata": {},
   "outputs": [],
   "source": [
    "lsst = {}\n",
    "for f in ('u', 'g' , 'r', 'i', 'z', 'y'):\n",
    "    lsst[f] = photUtils.Bandpass()\n",
    "    lsst[f].readThroughput(os.path.join(os.getenv('LSST_THROUGHPUTS_DEFAULT'), 'total_' + f + '.dat'))\n",
    "V = photUtils.Bandpass()\n",
    "#os.listdir(os.path.join(os.getenv('SIMS_MOVINGOBJECTS_DIR'), 'data'))\n",
    "V.readThroughput(os.path.join(os.getenv('SIMS_MOVINGOBJECTS_DIR'), 'data', 'harris_V.dat'))"
   ]
  },
  {
   "cell_type": "code",
   "execution_count": 80,
   "metadata": {},
   "outputs": [
    {
     "name": "stdout",
     "output_type": "stream",
     "text": [
      "u -1.863\n",
      "g -0.369\n",
      "r 0.263\n",
      "i 0.457\n",
      "z 0.400\n",
      "y 0.407\n"
     ]
    }
   ],
   "source": [
    "colors = {}\n",
    "ctype = photUtils.Sed()\n",
    "ctype.readSED_flambda(os.path.join(os.getenv('SIMS_MOVINGOBJECTS_DIR'), 'data', 'S.dat'))\n",
    "for f in ('u', 'g' , 'r', 'i', 'z', 'y'):\n",
    "    colors[f] = ctype.calcMag(V) - ctype.calcMag(lsst[f])\n",
    "    print(f, '%.3f' %colors[f])"
   ]
  },
  {
   "cell_type": "code",
   "execution_count": 81,
   "metadata": {},
   "outputs": [],
   "source": [
    "v_equiv = np.zeros(len(simData), float)\n",
    "for f in ('u', 'g' , 'r', 'i', 'z', 'y'):\n",
    "    match = np.where(simData['filter'] == f)\n",
    "    v_equiv[match] = simData['fiveSigmaDepth'][match] + colors[f]"
   ]
  },
  {
   "cell_type": "code",
   "execution_count": 82,
   "metadata": {},
   "outputs": [
    {
     "data": {
      "text/plain": [
       "Text(0.5,0,'Equivalent V band depth per filter (color corrected for S type)')"
      ]
     },
     "execution_count": 82,
     "metadata": {},
     "output_type": "execute_result"
    },
    {
     "data": {
      "image/png": "[encoded data removed]",
      "text/plain": [
       "<Figure size 576x432 with 1 Axes>"
      ]
     },
     "metadata": {},
     "output_type": "display_data"
    }
   ],
   "source": [
    "plt.figure(figsize=(8, 6))\n",
    "for f in ('u', 'g' , 'r', 'i', 'z', 'y'):\n",
    "    match = np.where(simData['filter'] == f)\n",
    "    n, b, p = plt.hist(v_equiv[match], 100, alpha=0.3, label=f)\n",
    "plt.legend(loc='upper left', fancybox=True, numpoints=1)\n",
    "plt.xlabel(\"Equivalent V band depth per filter (color corrected for S type)\") "
   ]
  },
  {
   "cell_type": "code",
   "execution_count": 58,
   "metadata": {},
   "outputs": [
    {
     "data": {
      "text/plain": [
       "Text(0.5,0,'Five Sigma Depth per filter')"
      ]
     },
     "execution_count": 58,
     "metadata": {},
     "output_type": "execute_result"
    },
    {
     "data": {
      "image/png": "[encoded data removed]",
      "text/plain": [
       "<Figure size 576x432 with 1 Axes>"
      ]
     },
     "metadata": {},
     "output_type": "display_data"
    }
   ],
   "source": [
    "plt.figure(figsize=(8, 6))\n",
    "for f in ('u', 'g' , 'r', 'i', 'z', 'y'):\n",
    "    match = np.where(simData['filter'] == f)\n",
    "    n, b, p = plt.hist(simData['fiveSigmaDepth'][match], 100, alpha=0.3, label=f)\n",
    "plt.legend(loc='upper left', fancybox=True, numpoints=1)\n",
    "plt.xlabel(\"Five Sigma Depth per filter\")"
   ]
  },
  {
   "cell_type": "code",
   "execution_count": 9,
   "metadata": {},
   "outputs": [],
   "source": [
    "sortIdx = np.argsort(simData['observationStartMJD'])\n",
    "simData = simData[sortIdx]"
   ]
  },
  {
   "cell_type": "code",
   "execution_count": 10,
   "metadata": {},
   "outputs": [
    {
     "data": {
      "text/plain": [
       "3649"
      ]
     },
     "execution_count": 10,
     "metadata": {},
     "output_type": "execute_result"
    }
   ],
   "source": [
    "tstep = 1.0\n",
    "times = np.arange(int(simData['observationStartMJD'][0]) + 0.56, \n",
    "                  int(simData['observationStartMJD'][-1]) + 0.56 + tstep, \n",
    "                  tstep)\n",
    "len(times)"
   ]
  },
  {
   "cell_type": "code",
   "execution_count": 26,
   "metadata": {},
   "outputs": [
    {
     "data": {
      "text/plain": [
       "Text(0,0.5,'Fraction of population/dates')"
      ]
     },
     "execution_count": 26,
     "metadata": {},
     "output_type": "execute_result"
    },
    {
     "data": {
      "image/png": "[encoded data removed]",
      "text/plain": [
       "<Figure size 576x432 with 1 Axes>"
      ]
     },
     "metadata": {},
     "output_type": "display_data"
    }
   ],
   "source": [
    "plt.figure(figsize=(8, 6))\n",
    "n,b,p = plt.hist(mini.orbits.epoch, 200, density=True, alpha=0.4, label='Minimoon Epoch')\n",
    "n,b,p = plt.hist(simData['observationStartMJD'], 100, density=True, alpha=0.4, label='Opsim Date')\n",
    "plt.legend(loc='upper left', fancybox=True, numpoints=1)\n",
    "plt.xlabel(\"MJD\")\n",
    "plt.ylabel('Fraction of population/dates')"
   ]
  },
  {
   "cell_type": "code",
   "execution_count": 29,
   "metadata": {},
   "outputs": [
    {
     "name": "stdout",
     "output_type": "stream",
     "text": [
      "59853.016794 61405.5500411 4.25351574545\n"
     ]
    }
   ],
   "source": [
    "print(simData['observationStartMJD'].min(), mini.orbits.epoch.max(), \n",
    "      (mini.orbits.epoch.max() - simData['observationStartMJD'].min())/365)"
   ]
  },
  {
   "cell_type": "code",
   "execution_count": 33,
   "metadata": {},
   "outputs": [
    {
     "data": {
      "text/plain": [
       "5232"
      ]
     },
     "execution_count": 33,
     "metadata": {},
     "output_type": "execute_result"
    }
   ],
   "source": [
    "x = simData['observationStartMJD'].min() - 260\n",
    "late = mini.orbits.query('epoch > @x')\n",
    "len(late)"
   ]
  },
  {
   "cell_type": "code",
   "execution_count": 58,
   "metadata": {},
   "outputs": [
    {
     "name": "stdout",
     "output_type": "stream",
     "text": [
      "35.3 ms ± 130 µs per loop (mean ± std. dev. of 7 runs, 10 loops each)\n"
     ]
    }
   ],
   "source": [
    "%%timeit\n",
    "ephs = pyo.generateEphemerides(times, timeScale='TAI', obscode='I11', ephMode='2body')"
   ]
  },
  {
   "cell_type": "code",
   "execution_count": 121,
   "metadata": {},
   "outputs": [],
   "source": [
    "ephs = pyo.generateEphemerides(times, timeScale='TAI', obscode='I11', ephMode='2body')"
   ]
  },
  {
   "cell_type": "code",
   "execution_count": 71,
   "metadata": {},
   "outputs": [
    {
     "data": {
      "text/plain": [
       "7.7325801556433014"
      ]
     },
     "execution_count": 71,
     "metadata": {},
     "output_type": "execute_result"
    }
   ],
   "source": [
    "np.diff(ephs['ra']*np.cos(np.radians(ephs['dec']))).max()"
   ]
  },
  {
   "cell_type": "code",
   "execution_count": 72,
   "metadata": {},
   "outputs": [
    {
     "data": {
      "text/plain": [
       "2.8829690540305677"
      ]
     },
     "execution_count": 72,
     "metadata": {},
     "output_type": "execute_result"
    }
   ],
   "source": [
    "np.diff(ephs['dec']).max()"
   ]
  },
  {
   "cell_type": "code",
   "execution_count": 73,
   "metadata": {},
   "outputs": [],
   "source": [
    "# Looks like objects can travel about 8 degrees per day (is there higher variation on shorter timescales?)"
   ]
  },
  {
   "cell_type": "code",
   "execution_count": 74,
   "metadata": {},
   "outputs": [],
   "source": [
    "raTol = 10\n",
    "decTol = 7"
   ]
  },
  {
   "cell_type": "code",
   "execution_count": 75,
   "metadata": {},
   "outputs": [],
   "source": [
    "eph_idxs = np.searchsorted(ephs[0]['time'], simData['observationStartMJD'])"
   ]
  },
  {
   "cell_type": "code",
   "execution_count": 76,
   "metadata": {},
   "outputs": [
    {
     "data": {
      "text/plain": [
       "(623453, 623453, 1094)"
      ]
     },
     "execution_count": 76,
     "metadata": {},
     "output_type": "execute_result"
    }
   ],
   "source": [
    "len(eph_idxs), len(simData), len(ephs[0])"
   ]
  },
  {
   "cell_type": "code",
   "execution_count": 77,
   "metadata": {},
   "outputs": [
    {
     "name": "stdout",
     "output_type": "stream",
     "text": [
      "59853.56 59853.016794\n",
      "59853.56 59853.0206366\n",
      "59853.56 59853.021088\n",
      "59853.56 59853.0215278\n",
      "59853.56 59853.0219792\n",
      "60946.56 60946.3950347\n"
     ]
    }
   ],
   "source": [
    "for i in (0, 1, 2, 3, 4, -1):\n",
    "    print(ephs[0]['time'][eph_idxs[i]], simData['observationStartMJD'][i])"
   ]
  },
  {
   "cell_type": "code",
   "execution_count": 78,
   "metadata": {},
   "outputs": [],
   "source": [
    "dts = ephs[0]['time'][eph_idxs] - simData['observationStartMJD']"
   ]
  },
  {
   "cell_type": "code",
   "execution_count": 79,
   "metadata": {},
   "outputs": [
    {
     "data": {
      "text/plain": [
       "[<matplotlib.lines.Line2D at 0xb6b0c3a20>]"
      ]
     },
     "execution_count": 79,
     "metadata": {},
     "output_type": "execute_result"
    },
    {
     "data": {
      "image/png": "[encoded data removed]",
      "text/plain": [
       "<Figure size 432x288 with 1 Axes>"
      ]
     },
     "metadata": {},
     "output_type": "display_data"
    }
   ],
   "source": [
    "plt.plot(dts, simData['observationStartMJD'], 'k.')"
   ]
  },
  {
   "cell_type": "code",
   "execution_count": 83,
   "metadata": {},
   "outputs": [],
   "source": [
    "dras = (ephs[0]['ra'][eph_idxs] - simData['fieldRA']) * np.cos(np.radians(simData['fieldDec']))\n",
    "ddecs = (ephs[0]['dec'][eph_idxs] - simData['fieldDec'])"
   ]
  },
  {
   "cell_type": "code",
   "execution_count": 86,
   "metadata": {},
   "outputs": [],
   "source": [
    "matchIdx = np.where((dras < raTol) & (ddecs < decTol))"
   ]
  },
  {
   "cell_type": "code",
   "execution_count": 89,
   "metadata": {},
   "outputs": [
    {
     "data": {
      "text/plain": [
       "(118064, 623453)"
      ]
     },
     "execution_count": 89,
     "metadata": {},
     "output_type": "execute_result"
    }
   ],
   "source": [
    "len(matchIdx[0]), len(simData)"
   ]
  },
  {
   "cell_type": "code",
   "execution_count": 94,
   "metadata": {},
   "outputs": [
    {
     "data": {
      "text/plain": [
       "118064"
      ]
     },
     "execution_count": 94,
     "metadata": {},
     "output_type": "execute_result"
    }
   ],
   "source": [
    "time_acc = simData['observationStartMJD'][matchIdx]\n",
    "len(time_acc)"
   ]
  },
  {
   "cell_type": "code",
   "execution_count": 96,
   "metadata": {},
   "outputs": [
    {
     "name": "stdout",
     "output_type": "stream",
     "text": [
      "12.1 s ± 378 ms per loop (mean ± std. dev. of 7 runs, 1 loop each)\n"
     ]
    }
   ],
   "source": [
    "%%timeit\n",
    "ephs = pyo.generateEphemerides(time_acc, timeScale='TAI', obscode='I11', ephMode='nbody')"
   ]
  },
  {
   "cell_type": "code",
   "execution_count": 100,
   "metadata": {},
   "outputs": [],
   "source": [
    "ephs_acc = pyo.generateEphemerides(time_acc, timeScale='TAI', obscode='I11', ephMode='nbody')"
   ]
  },
  {
   "cell_type": "code",
   "execution_count": 98,
   "metadata": {},
   "outputs": [
    {
     "data": {
      "text/plain": [
       "68.62777777777778"
      ]
     },
     "execution_count": 98,
     "metadata": {},
     "output_type": "execute_result"
    }
   ],
   "source": [
    "(35.3/100 + 12) * 20000 / 60. / 60. "
   ]
  },
  {
   "cell_type": "code",
   "execution_count": 103,
   "metadata": {},
   "outputs": [],
   "source": [
    "# Then check what is really in fov? \n",
    "from lsst.sims.utils import angularSeparation"
   ]
  },
  {
   "cell_type": "code",
   "execution_count": 106,
   "metadata": {},
   "outputs": [],
   "source": [
    "sep = angularSeparation(ephs_acc['ra'], ephs_acc['dec'], simData['fieldRA'][matchIdx], simData['fieldDec'][matchIdx])"
   ]
  },
  {
   "cell_type": "code",
   "execution_count": 109,
   "metadata": {},
   "outputs": [
    {
     "data": {
      "text/plain": [
       "(179.79016681290727, 0.10970210680756547)"
      ]
     },
     "execution_count": 109,
     "metadata": {},
     "output_type": "execute_result"
    }
   ],
   "source": [
    "sep.max(), sep.min()"
   ]
  },
  {
   "cell_type": "code",
   "execution_count": 110,
   "metadata": {},
   "outputs": [],
   "source": [
    "accMatchIdx = np.where(sep < 2.1)"
   ]
  },
  {
   "cell_type": "code",
   "execution_count": 111,
   "metadata": {},
   "outputs": [
    {
     "data": {
      "text/plain": [
       "93"
      ]
     },
     "execution_count": 111,
     "metadata": {},
     "output_type": "execute_result"
    }
   ],
   "source": [
    "len(accMatchIdx[0])"
   ]
  },
  {
   "cell_type": "code",
   "execution_count": 117,
   "metadata": {},
   "outputs": [],
   "source": [
    "fephs = ephs_acc[0][accMatchIdx]"
   ]
  },
  {
   "cell_type": "code",
   "execution_count": 119,
   "metadata": {},
   "outputs": [
    {
     "data": {
      "text/plain": [
       "array([ 37.33056666,  37.32565026,  31.91883082,  31.95051175,\n",
       "        31.95146478,  32.01076165,  32.01078091,  32.01124576,\n",
       "        32.01126605,  32.04238469,  32.0424044 ,  32.04290912,\n",
       "        32.04339749,  32.13677374,  32.13751594,  32.13757527,\n",
       "        32.13817401,  32.16907173,  32.16966973,  32.20070793,\n",
       "        32.20138792,  32.26330566,  32.26411595,  32.35517469,\n",
       "        32.35530286,  32.35610341,  32.35623843,  32.41596286,\n",
       "        32.41691657,  32.50271069,  32.50321685,  32.6744164 ,\n",
       "        32.69683777,  32.74993981,  32.74995599,  32.75061583,\n",
       "        32.75063265,  32.77539006,  32.77540518,  32.77552908,\n",
       "        32.77597443,  32.77599056,  32.77611934,  32.82693251,\n",
       "        32.87756934,  32.87759982,  32.87834405,  32.87837642,\n",
       "        32.90250044,  32.95204466,  32.97664037,  32.97666996,\n",
       "        33.00107158,  33.00110157,  33.04895552,  33.04955804,\n",
       "        33.0956765 ,  33.09576164,  33.09635497,  33.09644411,\n",
       "        33.14146075,  33.14210597,  33.2071849 ,  33.20755433,\n",
       "        33.2082808 ,  33.22856254,  33.24932799,  33.35205639,\n",
       "        33.38632439,  33.3863369 ,  33.40466871,  33.40480457,\n",
       "        33.40481709,  33.42284105,  33.4231641 ,  33.47608877,\n",
       "        33.47640882,  33.56186091,  33.56225779,  33.81697022,\n",
       "        33.81721572,  33.8400277 ,  33.84059139,  33.85165623,\n",
       "        33.85166689,  33.85194027,  33.85195129,  34.07565295,\n",
       "        34.07567176,  34.07569082,  34.08231542,  34.08261173,  34.08262141])"
      ]
     },
     "execution_count": 119,
     "metadata": {},
     "output_type": "execute_result"
    }
   ],
   "source": [
    "fephs['magV']"
   ]
  },
  {
   "cell_type": "code",
   "execution_count": 123,
   "metadata": {},
   "outputs": [
    {
     "data": {
      "text/plain": [
       "28.098116774930414"
      ]
     },
     "execution_count": 123,
     "metadata": {},
     "output_type": "execute_result"
    }
   ],
   "source": [
    "ephs['magV'].min()"
   ]
  },
  {
   "cell_type": "code",
   "execution_count": 34,
   "metadata": {},
   "outputs": [],
   "source": [
    "bright_objs = []\n",
    "tstep = 2.0\n",
    "times = np.arange(54466, 61406 + tstep/2., tstep)\n",
    "pyo = mo.PyOrbEphemerides()\n",
    "for i, obj in enumerate(mini):\n",
    "    pyo.setOrbits(obj)\n",
    "    ephs = pyo.generateEphemerides(times, timeScale='TAI', obscode='I11', ephMode='2body')\n",
    "    if (ephs[0]['magV'].min() < 26.5):\n",
    "        bright_objs.append(i)"
   ]
  },
  {
   "cell_type": "code",
   "execution_count": 35,
   "metadata": {},
   "outputs": [
    {
     "data": {
      "text/plain": [
       "(20265, 1342)"
      ]
     },
     "execution_count": 35,
     "metadata": {},
     "output_type": "execute_result"
    }
   ],
   "source": [
    "len(mini), len(bright_objs)"
   ]
  },
  {
   "cell_type": "code",
   "execution_count": 36,
   "metadata": {},
   "outputs": [],
   "source": [
    "br = mini[bright_objs]"
   ]
  },
  {
   "cell_type": "code",
   "execution_count": 37,
   "metadata": {},
   "outputs": [
    {
     "data": {
      "text/plain": [
       "Text(0,0.5,'Number of objects')"
      ]
     },
     "execution_count": 37,
     "metadata": {},
     "output_type": "execute_result"
    },
    {
     "data": {
      "image/png": "[encoded data removed]",
      "text/plain": [
       "<Figure size 432x288 with 1 Axes>"
      ]
     },
     "metadata": {},
     "output_type": "display_data"
    }
   ],
   "source": [
    "plt.figure()\n",
    "n, b, p = plt.hist(mini.orbits.H, bins=100)\n",
    "n, b, p = plt.hist(br.orbits.H, bins=b)\n",
    "plt.semilogy()\n",
    "plt.xlabel('H magnitude')\n",
    "plt.ylabel('Number of objects')"
   ]
  },
  {
   "cell_type": "code",
   "execution_count": 38,
   "metadata": {},
   "outputs": [
    {
     "data": {
      "text/plain": [
       "Text(0,0.5,'Number of objects')"
      ]
     },
     "execution_count": 38,
     "metadata": {},
     "output_type": "execute_result"
    },
    {
     "data": {
      "image/png": "[encoded data removed]",
      "text/plain": [
       "<Figure size 432x288 with 1 Axes>"
      ]
     },
     "metadata": {},
     "output_type": "display_data"
    }
   ],
   "source": [
    "plt.figure()\n",
    "n, b, p = plt.hist(mini.orbits.epoch, bins=100)\n",
    "n, b, p = plt.hist(br.orbits.epoch, bins=b)\n",
    "plt.semilogy()\n",
    "plt.xlabel('H magnitude')\n",
    "plt.ylabel('Number of objects')"
   ]
  },
  {
   "cell_type": "code",
   "execution_count": 79,
   "metadata": {},
   "outputs": [],
   "source": [
    "br.orbits.to_csv('allbright_NESCv9reintv1.TCO.withH.kep.des', index=False, sep=' ')"
   ]
  },
  {
   "cell_type": "code",
   "execution_count": null,
   "metadata": {},
   "outputs": [],
   "source": []
  }
 ],
 "metadata": {
  "kernelspec": {
   "display_name": "Python 3",
   "language": "python",
   "name": "python3"
  },
  "language_info": {
   "codemirror_mode": {
    "name": "ipython",
    "version": 3
   },
   "file_extension": ".py",
   "mimetype": "text/x-python",
   "name": "python",
   "nbconvert_exporter": "python",
   "pygments_lexer": "ipython3",
   "version": "3.6.6"
  }
 },
 "nbformat": 4,
 "nbformat_minor": 2
}
