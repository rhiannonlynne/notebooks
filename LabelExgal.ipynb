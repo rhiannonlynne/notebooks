{
 "cells": [
  {
   "cell_type": "code",
   "execution_count": 1,
   "id": "f612a5f4-eada-4713-af93-0e4777b5af1e",
   "metadata": {},
   "outputs": [],
   "source": [
    "import os\n",
    "import numpy as np\n",
    "import pandas as pd\n",
    "import sqlite3\n",
    "import healpy as hp\n",
    "import rubin_sim.maf as maf\n",
    "from rubin_scheduler.scheduler.utils import CurrentAreaMap"
   ]
  },
  {
   "cell_type": "code",
   "execution_count": 2,
   "id": "4ca5c862-dfcb-4748-9844-3527f0c64d63",
   "metadata": {},
   "outputs": [
    {
     "name": "stdout",
     "output_type": "stream",
     "text": [
      "['' 'LMC_SMC' 'bulgy' 'dusty_plane' 'euclid_overlap' 'lowdust' 'nes' 'scp'\n",
      " 'virgo']\n"
     ]
    },
    {
     "data": {
      "image/png": "[encoded data removed]",
      "text/plain": [
       "<Figure size 850x540 with 2 Axes>"
      ]
     },
     "metadata": {},
     "output_type": "display_data"
    }
   ],
   "source": [
    "nside = 64\n",
    "sky = CurrentAreaMap(nside=nside)\n",
    "# footprints contains the goal weights per filter, for the sky (all survey modes together)\n",
    "# labels contains the label (survey mode) for each healpix. \n",
    "footprints, labels = sky.return_maps()\n",
    "print(np.unique(labels))\n",
    "\n",
    "wfd_extragalactic = np.where((labels == \"euclid_overlap\") |  (labels ==\"lowdust\"), 1, 0)\n",
    "hp.mollview(wfd_extragalactic)"
   ]
  },
  {
   "cell_type": "code",
   "execution_count": 3,
   "id": "bb143dfd-87a1-4423-b81b-4d643f9faf58",
   "metadata": {},
   "outputs": [
    {
     "name": "stdout",
     "output_type": "stream",
     "text": [
      "baseline_v4.0_10yrs : /Users/lynnej/opsim/fbs_4.0/baseline_v4.0_10yrs.db\n"
     ]
    }
   ],
   "source": [
    "# You can look at the notes to see if there's anything you should explicitly reject\n",
    "opsdb = '/Users/lynnej/opsim/fbs_4.0/baseline_v4.0_10yrs.db'\n",
    "conn = sqlite3.connect(opsdb)\n",
    "\n",
    "opsim = os.path.split(opsdb)[-1].replace('.db', '')\n",
    "print(opsim, \":\", opsdb)\n",
    "visits = pd.read_sql('select * from observations', conn)\n",
    "ovisitsnp = visits.to_records(index=False)\n",
    "\n",
    "if \"scheduler_note\" not in visits.columns:\n",
    "    print(\"using an older simulation so probably need to use 'note' instead of 'scheduler_note'\")\n",
    "\n",
    "note_col = 'scheduler_note'"
   ]
  },
  {
   "cell_type": "code",
   "execution_count": 4,
   "id": "8dfbe166-0204-4aa7-9fd1-da0c5870702b",
   "metadata": {},
   "outputs": [],
   "source": [
    "name = 'ExGal'\n",
    "\n",
    "# label the visits based on their spatial location using the WFDlabelStacker\n",
    "# https://github.com/lsst/rubin_sim/blob/3c307d33dcae0a89de7a6925debb8acf7e120606/rubin_sim/maf/stackers/label_stackers.py#L9\n",
    "footpt = np.where((labels == 'lowdust') | (labels == 'euclid_overlap'), 1, 0)\n",
    "stacker = maf.WFDlabelStacker(footprint=footpt, area_id_name=name, exclude_dd=False)\n",
    "ovisitsnp = stacker.run(sim_data=ovisitsnp)"
   ]
  },
  {
   "cell_type": "code",
   "execution_count": 5,
   "id": "266f77a5-f010-48b3-a569-2a50ce1adb0a",
   "metadata": {},
   "outputs": [],
   "source": [
    "# Now ovisitsnp has all visits which lie in the extragalactic WFD area labeled as \"WFD\" \n",
    "# But you probably still want to reject non-wfd mode visits so we'll just flip those back\n",
    "labelled_visits = pd.DataFrame(ovisitsnp)"
   ]
  },
  {
   "cell_type": "code",
   "execution_count": 6,
   "id": "7b8f9264-fa35-4d3f-ad65-a283f8dc2323",
   "metadata": {},
   "outputs": [
    {
     "name": "stdout",
     "output_type": "stream",
     "text": [
      "['blob_long, gr, a', 'blob_long, gr, b', 'pair_33, ug, a', 'pair_33, ug, b', 'long', 'twilight_near_sun, 0', 'twilight_near_sun, 1', 'twilight_near_sun, 2', 'twilight_near_sun, 3', 'greedy', 'pair_15, iz, a', 'pair_15, iz, b', 'DD:COSMOS', 'pair_15, ri, a', 'pair_15, ri, b', 'pair_33, gr, a', 'pair_33, gr, b', 'pair_15, yy, a', 'pair_15, yy, b', 'pair_33, ri, a', 'pair_33, ri, b', 'pair_33, zy, a', 'pair_33, zy, b', 'pair_33, yy, a', 'pair_33, yy, b', 'pair_15, zy, a', 'pair_15, zy, b', 'blob_long, iz, a', 'blob_long, iz, b', 'pair_33, iz, a', 'pair_33, iz, b', 'pair_33, ur, a', 'pair_33, ur, b', 'DD:ELAISS1', 'blob_long, ri, a', 'blob_long, ri, b', 'DD:XMM_LSS', 'DD:EDFS_a', 'DD:EDFS_b', 'DD:ECDFS', 'DD: RGES_onseason', 'DD: RGES_offseason']\n"
     ]
    },
    {
     "data": {
      "text/plain": [
       "scheduler_note\n",
       "DD: RGES_offseason             [NULL]\n",
       "DD: RGES_onseason              [NULL]\n",
       "DD:COSMOS                     [ExGal]\n",
       "DD:ECDFS                      [ExGal]\n",
       "DD:EDFS_a                     [ExGal]\n",
       "                            ...      \n",
       "pair_33, zy, b          [ExGal, NULL]\n",
       "twilight_near_sun, 0    [ExGal, NULL]\n",
       "twilight_near_sun, 1    [ExGal, NULL]\n",
       "twilight_near_sun, 2    [ExGal, NULL]\n",
       "twilight_near_sun, 3    [ExGal, NULL]\n",
       "Name: area_id, Length: 1508, dtype: object"
      ]
     },
     "execution_count": 6,
     "metadata": {},
     "output_type": "execute_result"
    }
   ],
   "source": [
    "print([n for n in labelled_visits[note_col].unique() if 'ToO' not in n])\n",
    "labelled_visits[['scheduler_note', 'area_id']].groupby('scheduler_note').area_id.unique()"
   ]
  },
  {
   "cell_type": "code",
   "execution_count": 7,
   "id": "7a75f780-0f4e-4833-8ece-cd452c7cb478",
   "metadata": {},
   "outputs": [],
   "source": [
    "query = f\"({note_col}.str.contains('DD')) or ({note_col}.str.contains('twilight')) or ({note_col}.str.contains('ToO'))\"\n",
    "special_mode = visits.query(query)\n",
    "col_id = np.where(labelled_visits.columns.values == \"area_id\")[0][0]\n",
    "labelled_visits.iloc[special_mode.index, col_id] = 'NULL'"
   ]
  },
  {
   "cell_type": "code",
   "execution_count": 8,
   "id": "dd618c50-6df1-47ef-8eb6-dea192b5b7d5",
   "metadata": {},
   "outputs": [
    {
     "data": {
      "text/html": [
       "<div>\n",
       "<style scoped>\n",
       "    .dataframe tbody tr th:only-of-type {\n",
       "        vertical-align: middle;\n",
       "    }\n",
       "\n",
       "    .dataframe tbody tr th {\n",
       "        vertical-align: top;\n",
       "    }\n",
       "\n",
       "    .dataframe thead th {\n",
       "        text-align: right;\n",
       "    }\n",
       "</style>\n",
       "<table border=\"1\" class=\"dataframe\">\n",
       "  <thead>\n",
       "    <tr style=\"text-align: right;\">\n",
       "      <th></th>\n",
       "      <th>observationId</th>\n",
       "      <th>fieldRA</th>\n",
       "      <th>fieldDec</th>\n",
       "      <th>observationStartMJD</th>\n",
       "      <th>flush_by_mjd</th>\n",
       "      <th>visitExposureTime</th>\n",
       "      <th>filter</th>\n",
       "      <th>rotSkyPos</th>\n",
       "      <th>rotSkyPos_desired</th>\n",
       "      <th>numExposures</th>\n",
       "      <th>...</th>\n",
       "      <th>moonRA</th>\n",
       "      <th>moonDec</th>\n",
       "      <th>moonDistance</th>\n",
       "      <th>solarElong</th>\n",
       "      <th>moonPhase</th>\n",
       "      <th>cummTelAz</th>\n",
       "      <th>scripted_id</th>\n",
       "      <th>observation_reason</th>\n",
       "      <th>science_program</th>\n",
       "      <th>area_id</th>\n",
       "    </tr>\n",
       "  </thead>\n",
       "  <tbody>\n",
       "    <tr>\n",
       "      <th>0</th>\n",
       "      <td>0</td>\n",
       "      <td>200.782211</td>\n",
       "      <td>-50.116498</td>\n",
       "      <td>60796.001439</td>\n",
       "      <td>60796.068648</td>\n",
       "      <td>29.2</td>\n",
       "      <td>r</td>\n",
       "      <td>142.995018</td>\n",
       "      <td>0.0</td>\n",
       "      <td>2</td>\n",
       "      <td>...</td>\n",
       "      <td>83.711608</td>\n",
       "      <td>29.111132</td>\n",
       "      <td>128.922776</td>\n",
       "      <td>142.152585</td>\n",
       "      <td>24.587034</td>\n",
       "      <td>132.523734</td>\n",
       "      <td>0</td>\n",
       "      <td></td>\n",
       "      <td></td>\n",
       "      <td>ExGal</td>\n",
       "    </tr>\n",
       "    <tr>\n",
       "      <th>1</th>\n",
       "      <td>1</td>\n",
       "      <td>204.232107</td>\n",
       "      <td>-51.991147</td>\n",
       "      <td>60796.001885</td>\n",
       "      <td>60796.068648</td>\n",
       "      <td>29.2</td>\n",
       "      <td>r</td>\n",
       "      <td>142.513540</td>\n",
       "      <td>0.0</td>\n",
       "      <td>2</td>\n",
       "      <td>...</td>\n",
       "      <td>83.717806</td>\n",
       "      <td>29.110360</td>\n",
       "      <td>131.032507</td>\n",
       "      <td>141.364093</td>\n",
       "      <td>24.589708</td>\n",
       "      <td>134.815659</td>\n",
       "      <td>0</td>\n",
       "      <td></td>\n",
       "      <td></td>\n",
       "      <td>NULL</td>\n",
       "    </tr>\n",
       "    <tr>\n",
       "      <th>2</th>\n",
       "      <td>2</td>\n",
       "      <td>207.940418</td>\n",
       "      <td>-53.783599</td>\n",
       "      <td>60796.002331</td>\n",
       "      <td>60796.068648</td>\n",
       "      <td>29.2</td>\n",
       "      <td>r</td>\n",
       "      <td>141.167403</td>\n",
       "      <td>0.0</td>\n",
       "      <td>2</td>\n",
       "      <td>...</td>\n",
       "      <td>83.724012</td>\n",
       "      <td>29.109586</td>\n",
       "      <td>133.059975</td>\n",
       "      <td>140.381429</td>\n",
       "      <td>24.592386</td>\n",
       "      <td>136.960725</td>\n",
       "      <td>0</td>\n",
       "      <td></td>\n",
       "      <td></td>\n",
       "      <td>NULL</td>\n",
       "    </tr>\n",
       "    <tr>\n",
       "      <th>3</th>\n",
       "      <td>3</td>\n",
       "      <td>203.082640</td>\n",
       "      <td>-54.987835</td>\n",
       "      <td>60796.002778</td>\n",
       "      <td>60796.068648</td>\n",
       "      <td>29.2</td>\n",
       "      <td>r</td>\n",
       "      <td>146.759369</td>\n",
       "      <td>0.0</td>\n",
       "      <td>2</td>\n",
       "      <td>...</td>\n",
       "      <td>83.730237</td>\n",
       "      <td>29.108808</td>\n",
       "      <td>130.102187</td>\n",
       "      <td>138.329174</td>\n",
       "      <td>24.595072</td>\n",
       "      <td>139.141162</td>\n",
       "      <td>0</td>\n",
       "      <td></td>\n",
       "      <td></td>\n",
       "      <td>NULL</td>\n",
       "    </tr>\n",
       "    <tr>\n",
       "      <th>4</th>\n",
       "      <td>4</td>\n",
       "      <td>207.055974</td>\n",
       "      <td>-56.848274</td>\n",
       "      <td>60796.003224</td>\n",
       "      <td>60796.068648</td>\n",
       "      <td>29.2</td>\n",
       "      <td>r</td>\n",
       "      <td>145.009266</td>\n",
       "      <td>0.0</td>\n",
       "      <td>2</td>\n",
       "      <td>...</td>\n",
       "      <td>83.736461</td>\n",
       "      <td>29.108030</td>\n",
       "      <td>132.046197</td>\n",
       "      <td>137.294965</td>\n",
       "      <td>24.597759</td>\n",
       "      <td>141.153789</td>\n",
       "      <td>0</td>\n",
       "      <td></td>\n",
       "      <td></td>\n",
       "      <td>NULL</td>\n",
       "    </tr>\n",
       "  </tbody>\n",
       "</table>\n",
       "<p>5 rows × 48 columns</p>\n",
       "</div>"
      ],
      "text/plain": [
       "   observationId     fieldRA   fieldDec  observationStartMJD  flush_by_mjd  \\\n",
       "0              0  200.782211 -50.116498         60796.001439  60796.068648   \n",
       "1              1  204.232107 -51.991147         60796.001885  60796.068648   \n",
       "2              2  207.940418 -53.783599         60796.002331  60796.068648   \n",
       "3              3  203.082640 -54.987835         60796.002778  60796.068648   \n",
       "4              4  207.055974 -56.848274         60796.003224  60796.068648   \n",
       "\n",
       "   visitExposureTime filter   rotSkyPos  rotSkyPos_desired  numExposures  ...  \\\n",
       "0               29.2      r  142.995018                0.0             2  ...   \n",
       "1               29.2      r  142.513540                0.0             2  ...   \n",
       "2               29.2      r  141.167403                0.0             2  ...   \n",
       "3               29.2      r  146.759369                0.0             2  ...   \n",
       "4               29.2      r  145.009266                0.0             2  ...   \n",
       "\n",
       "      moonRA    moonDec  moonDistance  solarElong  moonPhase   cummTelAz  \\\n",
       "0  83.711608  29.111132    128.922776  142.152585  24.587034  132.523734   \n",
       "1  83.717806  29.110360    131.032507  141.364093  24.589708  134.815659   \n",
       "2  83.724012  29.109586    133.059975  140.381429  24.592386  136.960725   \n",
       "3  83.730237  29.108808    130.102187  138.329174  24.595072  139.141162   \n",
       "4  83.736461  29.108030    132.046197  137.294965  24.597759  141.153789   \n",
       "\n",
       "   scripted_id  observation_reason  science_program  area_id  \n",
       "0            0                                         ExGal  \n",
       "1            0                                          NULL  \n",
       "2            0                                          NULL  \n",
       "3            0                                          NULL  \n",
       "4            0                                          NULL  \n",
       "\n",
       "[5 rows x 48 columns]"
      ]
     },
     "execution_count": 8,
     "metadata": {},
     "output_type": "execute_result"
    }
   ],
   "source": [
    "labelled_visits.head()"
   ]
  },
  {
   "cell_type": "code",
   "execution_count": 13,
   "id": "8fda16e9-3638-4a35-87f4-2fef53db615f",
   "metadata": {},
   "outputs": [
    {
     "data": {
      "text/plain": [
       "2038634"
      ]
     },
     "execution_count": 13,
     "metadata": {},
     "output_type": "execute_result"
    }
   ],
   "source": [
    "newdb = f'exgal_labelled_{opsim}.db'\n",
    "if os.path.isfile(newdb):\n",
    "    os.remove(newdb)\n",
    "    \n",
    "conn = sqlite3.connect(newdb)\n",
    "\n",
    "labelled_visits.to_sql(name='observations', con=conn, index=False)"
   ]
  },
  {
   "cell_type": "code",
   "execution_count": 14,
   "id": "a79496ad-06bf-4b86-93e4-e692db3f7e35",
   "metadata": {},
   "outputs": [
    {
     "name": "stdout",
     "output_type": "stream",
     "text": [
      "exgal_labelled_baseline_v4.0_10yrs.db\n"
     ]
    }
   ],
   "source": [
    "!ls $newdb"
   ]
  },
  {
   "cell_type": "code",
   "execution_count": null,
   "id": "8a3ae71f-e0ed-411b-ac6b-bd0500a6af58",
   "metadata": {},
   "outputs": [],
   "source": [
    "# lynnej@tama notebooks % sqlite3 exgal_labelled_baseline_v4.0_10yrs.db \n",
    "# SQLite version 3.45.3 2024-04-15 13:34:05\n",
    "# Enter \".help\" for usage hints.\n",
    "# sqlite> select * from observations limit 1;\n",
    "# 0|200.782210821212|-50.1164984340556|60796.0014392263|60796.0686481482|29.2|r|142.995017640325|0.0|2|1.37960737879413|0.78353725168396|1.19302564834337|1.03266708293825|21.0279565795215|0|124.349156223464|33.6|45.9675478977889|23.9438499398853|46.5327792596511|132.733199166703|277.092454740965|-82.8394295681317|0.125|4.34377657911936|-25.0323607709486||blob_long, gr, a||1|148.947367621645|44.1655527915437|0.0|307.54443047623|273.457997458161|38.1092631808875|14.9774602028322|83.7116078104931|29.1111317773701|128.922776167818|142.152584989914|24.587033631459|132.523734335195|0|||ExGal\n",
    "# sqlite> select distinct(area_id) from observations;\n",
    "# ExGal\n",
    "# NULL\n",
    "# sqlite> \n"
   ]
  }
 ],
 "metadata": {
  "kernelspec": {
   "display_name": "Python 3 (ipykernel)",
   "language": "python",
   "name": "python3"
  },
  "language_info": {
   "codemirror_mode": {
    "name": "ipython",
    "version": 3
   },
   "file_extension": ".py",
   "mimetype": "text/x-python",
   "name": "python",
   "nbconvert_exporter": "python",
   "pygments_lexer": "ipython3",
   "version": "3.11.10"
  }
 },
 "nbformat": 4,
 "nbformat_minor": 5
}
