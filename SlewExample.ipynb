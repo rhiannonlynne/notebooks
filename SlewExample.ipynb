{
 "cells": [
  {
   "cell_type": "code",
   "execution_count": 1,
   "metadata": {},
   "outputs": [],
   "source": [
    "import numpy as np\n",
    "import matplotlib.pyplot as plt\n",
    "%matplotlib inline"
   ]
  },
  {
   "cell_type": "code",
   "execution_count": 2,
   "metadata": {},
   "outputs": [],
   "source": [
    "import lsst.ts.observatory.model as om"
   ]
  },
  {
   "cell_type": "code",
   "execution_count": 3,
   "metadata": {},
   "outputs": [],
   "source": [
    "observatoryModel = om.ObservatoryModel()\n",
    "observatoryModel.configure_from_module()"
   ]
  },
  {
   "cell_type": "code",
   "execution_count": 4,
   "metadata": {},
   "outputs": [],
   "source": [
    "# Set up grid to calculate slew times *to*\n",
    "altitude = np.arange(0, 90, 0.25)\n",
    "azimuth = np.arange(-180, 180, 0.5)\n",
    "alt, az = np.meshgrid(altitude, azimuth)\n",
    "#alt = np.ravel(alt)\n",
    "#az = np.ravel(az)"
   ]
  },
  {
   "cell_type": "code",
   "execution_count": 5,
   "metadata": {},
   "outputs": [
    {
     "name": "stdout",
     "output_type": "stream",
     "text": [
      "t=7.7 ra=29.510 dec=-20.244 ang=180.000 filter=r track=False alt=80.000 az=0.000 pa=180.000 rot=0.000 telaz=0.000 telrot=0.000 mounted=['g', 'r', 'i', 'z', 'y'] unmounted=['u']\n"
     ]
    }
   ],
   "source": [
    "# Set location of telescope\n",
    "telAlt = 80.0\n",
    "telAz = 0\n",
    "observatoryModel.slew_altaz(time=0, alt_rad=np.radians(telAlt), az_rad=np.radians(telAz), \n",
    "                            rot_rad=0, band_filter='r')\n",
    "print(observatoryModel.current_state)"
   ]
  },
  {
   "cell_type": "code",
   "execution_count": 6,
   "metadata": {},
   "outputs": [],
   "source": [
    "# Calculate slew times\n",
    "slewtimes = observatoryModel.get_approximate_slew_delay(alt_rad=np.radians(alt), az_rad=np.radians(az), \n",
    "                                                        goal_filter='r', lax_dome=False)"
   ]
  },
  {
   "cell_type": "code",
   "execution_count": 7,
   "metadata": {},
   "outputs": [
    {
     "data": {
      "text/plain": [
       "<matplotlib.colorbar.Colorbar at 0x1111ec198>"
      ]
     },
     "execution_count": 7,
     "metadata": {},
     "output_type": "execute_result"
    },
    {
     "data": {
      "image/png": "[encoded data removed]",
      "text/plain": [
       "<matplotlib.figure.Figure at 0x612dbebe0>"
      ]
     },
     "metadata": {},
     "output_type": "display_data"
    }
   ],
   "source": [
    "# Plot slew times ... (figure out how to do polar plot, with contourf .. or at least, a better imshow plot)\n",
    "cs = plt.imshow(slewtimes)\n",
    "plt.colorbar(cs)"
   ]
  },
  {
   "cell_type": "code",
   "execution_count": null,
   "metadata": {},
   "outputs": [],
   "source": []
  }
 ],
 "metadata": {
  "kernelspec": {
   "display_name": "Python 3",
   "language": "python",
   "name": "python3"
  },
  "language_info": {
   "codemirror_mode": {
    "name": "ipython",
    "version": 3
   },
   "file_extension": ".py",
   "mimetype": "text/x-python",
   "name": "python",
   "nbconvert_exporter": "python",
   "pygments_lexer": "ipython3",
   "version": "3.6.8"
  }
 },
 "nbformat": 4,
 "nbformat_minor": 2
}
