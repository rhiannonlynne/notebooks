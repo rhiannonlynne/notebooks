{
 "cells": [
  {
   "cell_type": "markdown",
   "id": "5a7df99e",
   "metadata": {},
   "source": [
    "# Is a solar system target visible from a given site?\n",
    "\n",
    "Uses astropy, astroplan, and sbpy to get information from Horizons about where a target is on the sky, how bright it is, and then whether it is visible at a given observatory at that time (more information about airmass, etc.). "
   ]
  },
  {
   "cell_type": "code",
   "execution_count": 58,
   "id": "653070e5",
   "metadata": {},
   "outputs": [],
   "source": [
    "import pandas as pd\n",
    "import matplotlib.pyplot as plt\n",
    "import matplotlib.pyplot as plt\n",
    "\n",
    "from astroplan import Observer\n",
    "from astropy.time import Time\n",
    "from astropy.coordinates import SkyCoord\n",
    "import astropy.units as u\n",
    "from astroplan.plots import plot_airmass, plot_altitude\n",
    "from astroplan import (AltitudeConstraint, AirmassConstraint,\n",
    "                       AtNightConstraint)\n",
    "from astroplan import is_observable\n",
    "\n",
    "from sbpy.data import Ephem"
   ]
  },
  {
   "cell_type": "markdown",
   "id": "62f63b0e",
   "metadata": {},
   "source": [
    "This can be useful to know which site names are available. "
   ]
  },
  {
   "cell_type": "code",
   "execution_count": 2,
   "id": "29f42f5a",
   "metadata": {},
   "outputs": [
    {
     "data": {
      "text/plain": [
       "['Siding Spring Observatory']"
      ]
     },
     "execution_count": 2,
     "metadata": {},
     "output_type": "execute_result"
    }
   ],
   "source": [
    "from astropy.coordinates import EarthLocation\n",
    "\n",
    "site_names = EarthLocation.get_site_names()\n",
    "\n",
    "[s for s in site_names if \"Siding\" in s]"
   ]
  },
  {
   "cell_type": "markdown",
   "id": "8ff24222",
   "metadata": {},
   "source": [
    "Set up site information and time range and target name - query for ephemerides from JPL Horizons.\n",
    "Add a magnitude cutoff to limit dates/times of interest."
   ]
  },
  {
   "cell_type": "code",
   "execution_count": 79,
   "id": "9fdfbbcb",
   "metadata": {},
   "outputs": [
    {
     "data": {
      "text/plain": [
       "<QTable length=18>\n",
       "  epoch         r             delta           RA      DEC    RA*cos(Dec)_rate  DEC_rate    Tmag \n",
       "                AU              AU           deg      deg       arcsec / h    arcsec / h   mag  \n",
       "   Time      float64         float64       float64  float64      float64       float64   float64\n",
       "--------- -------------- ---------------- --------- -------- ---------------- ---------- -------\n",
       "2459910.5 5.112143309124 4.38008204247877  98.83542 -8.35529         -28.8817   -7.38647  21.793\n",
       "2459925.5 4.916250226494 4.08462665060526  95.45972 -8.90244         -37.4914   -3.27098  21.472\n",
       "2459940.5 4.717862930506 3.85895827431831  91.34994 -8.95902         -43.2711   2.381125   21.17\n",
       "2459955.5 4.516778945671 3.70941357686239  86.89846 -8.40972         -44.4308   8.668699  20.895\n",
       "2459970.5  4.31276609398 3.63210764095647  82.60855 -7.25077         -40.5181   14.41679  20.648\n",
       "2459985.5 4.105556324809  3.6133646521787  78.95574 -5.59159         -32.5136   18.58226  20.423\n",
       "2460000.5 3.894837777026 3.63279371686471  76.24723 -3.60585         -22.2492   20.94783  20.206\n",
       "2460015.5 3.680244572069 3.66748785025167  74.60554 -1.46545         -11.5533   21.73192  19.981\n",
       "2460030.5 3.461343034458 3.69621178371089  74.00419  0.70122         -1.45871   21.48694  19.731\n",
       "2460045.5 3.237612499631 3.70074636599111  74.34536  2.81224         7.419576   20.63677  19.444\n",
       "2460060.5 3.008418619472 3.66733082879121  75.50879  4.82842          15.1489   19.54303  19.105\n",
       "2460075.5  2.77297443954 3.58559621505125  77.38385  6.73584         21.79492   18.43942  18.702\n",
       "2460090.5  2.53028267912 3.44884692410434  79.89092  8.54439         27.79873   17.50652   18.22\n",
       "2460105.5 2.279046717509 3.25271521163081    82.986 10.28007         33.54109   16.96424  17.639\n",
       "2460120.5 2.017527041446 2.99515645054213  86.69201 11.99458         39.81861   17.06411   16.93\n",
       "2460135.5 1.743296548433  2.6755866126988  91.12859 13.77568          47.9777   18.33907  16.051\n",
       "2460150.5 1.452796808032  2.2947818292936  96.65292 15.78242         61.25019   21.70576  14.926\n",
       "2460165.5 1.140482189328 1.85552859227743 104.23385 18.31267         89.30555   29.03433  13.413"
      ]
     },
     "execution_count": 79,
     "metadata": {},
     "output_type": "execute_result"
    }
   ],
   "source": [
    "# Set up observer, target, and time\n",
    "site_name = \"Cerro Pachon\"\n",
    "location = EarthLocation.of_site(site_name)\n",
    "observer = Observer.at_site(site_name)\n",
    "\n",
    "target = 'C/2023 P1'\n",
    "\n",
    "epochs = {'start': Time('2022-01-01'),\n",
    "          'stop': Time('2023-08-20'),\n",
    "          'step': 15 * u.day}\n",
    "\n",
    "eph = Ephem.from_horizons(target, location=location, epochs=epochs)\n",
    "# eph.field_names\n",
    "magcol = 'Tmag'  # 'V' for asteroids\n",
    "\n",
    "# Add a brightness cutoff \n",
    "magcutoff = 22 * u.mag\n",
    "bright = np.where(eph[magcol] < magcutoff)\n",
    "\n",
    "ss_vis = eph['epoch', 'rh', 'delta', 'ra', 'dec', 'RA*cos(Dec)_rate', 'DEC_rate', magcol][bright]\n",
    "\n",
    "ss_vis"
   ]
  },
  {
   "cell_type": "markdown",
   "id": "ae729533",
   "metadata": {},
   "source": [
    "For a first pass at whether or not a target would be visible at this site .. these limits are pretty loose and the resulting \"observable\" value just tells you whether or not the timestep has *any* observability option. "
   ]
  },
  {
   "cell_type": "code",
   "execution_count": 83,
   "id": "e0c52c54",
   "metadata": {},
   "outputs": [
    {
     "data": {
      "text/plain": [
       "<QTable length=18>\n",
       "   year        RA      DEC      Tmag  observable\n",
       "              deg      deg      mag             \n",
       "  str10     float64  float64  float64  bool[1]  \n",
       "---------- --------- -------- ------- ----------\n",
       "2022-11-27  98.83542 -8.35529  21.793       True\n",
       "2022-12-12  95.45972 -8.90244  21.472       True\n",
       "2022-12-27  91.34994 -8.95902   21.17       True\n",
       "2023-01-11  86.89846 -8.40972  20.895       True\n",
       "2023-01-26  82.60855 -7.25077  20.648       True\n",
       "2023-02-10  78.95574 -5.59159  20.423       True\n",
       "2023-02-25  76.24723 -3.60585  20.206       True\n",
       "2023-03-12  74.60554 -1.46545  19.981       True\n",
       "2023-03-27  74.00419  0.70122  19.731       True\n",
       "2023-04-11  74.34536  2.81224  19.444       True\n",
       "2023-04-26  75.50879  4.82842  19.105       True\n",
       "2023-05-11  77.38385  6.73584  18.702      False\n",
       "2023-05-26  79.89092  8.54439   18.22      False\n",
       "2023-06-10    82.986 10.28007  17.639      False\n",
       "2023-06-25  86.69201 11.99458   16.93      False\n",
       "2023-07-10  91.12859 13.77568  16.051      False\n",
       "2023-07-25  96.65292 15.78242  14.926       True\n",
       "2023-08-09 104.23385 18.31267  13.413      False"
      ]
     },
     "execution_count": 83,
     "metadata": {},
     "output_type": "execute_result"
    }
   ],
   "source": [
    "constraints = [AltitudeConstraint(15*u.deg, 85*u.deg),\n",
    "               AirmassConstraint(4.5), AtNightConstraint.twilight_astronomical()]\n",
    "\n",
    "observable = []\n",
    "year = []\n",
    "for days, ra, dec in zip(ss_vis['epoch'], ss_vis['ra'], ss_vis['dec']):\n",
    "    fields = [SkyCoord(ra, dec, frame=\"icrs\")]\n",
    "    time_range = [days, days + epochs['step']]\n",
    "\n",
    "    # Are targets *ever* observable in the time range?\n",
    "    observable.append(is_observable(constraints, observer, fields, time_range=time_range))\n",
    "    year.append(days.isot.split('T')[0])\n",
    "    \n",
    "ss_vis['observable'] = observable\n",
    "ss_vis['year'] = year\n",
    "\n",
    "ss_vis['year', 'RA', 'DEC', 'Tmag', 'observable']"
   ]
  },
  {
   "cell_type": "markdown",
   "id": "9ca0dfac",
   "metadata": {},
   "source": [
    "For each of those dates, look more carefully at the target visibility. This can be a lot of plots .. "
   ]
  },
  {
   "cell_type": "code",
   "execution_count": 86,
   "id": "2bf42074",
   "metadata": {
    "scrolled": true
   },
   "outputs": [
    {
     "name": "stdout",
     "output_type": "stream",
     "text": [
      "sunset: 2023-08-08T22:10:03.583\n",
      "sunrise: 2023-08-09T11:26:37.915\n",
      "middle: 2023-08-09T04:48:20.749\n",
      "target rise time: 2023-08-09T09:15:12.851\n",
      "target set time: 2023-08-08T19:48:34.150\n"
     ]
    },
    {
     "name": "stderr",
     "output_type": "stream",
     "text": [
      "WARNING: TimeDeltaMissingUnitWarning: Numerical value without unit or explicit format passed to TimeDelta, assuming days [astropy.time.core]\n"
     ]
    },
    {
     "data": {
      "image/png": "[encoded data removed]",
      "text/plain": [
       "<Figure size 640x480 with 2 Axes>"
      ]
     },
     "metadata": {},
     "output_type": "display_data"
    }
   ],
   "source": [
    "idx = np.where(ss_vis['year'] == '2023-08-09') \n",
    "subset = ss_vis[idx]\n",
    "\n",
    "for days, ra, dec in zip(subset['epoch'], subset['ra'], subset['dec']):\n",
    "    sunset = site.sun_set_time(days)\n",
    "    sunrise = site.sun_rise_time(days, which='next')\n",
    "\n",
    "    print('sunset:', sunset.isot)\n",
    "    print('sunrise:', sunrise.isot)\n",
    "    observe_time = (sunrise - sunset)/2.0 + sunset\n",
    "    print('middle:', observe_time.isot)\n",
    "\n",
    "    field = SkyCoord(ra, dec, frame=\"icrs\")\n",
    "\n",
    "    rise_time = site.target_rise_time(observe_time, field)\n",
    "    print('target rise time:', rise_time.isot)\n",
    "    set_time = site.target_set_time(observe_time, field)\n",
    "    print('target set time:', set_time.isot)\n",
    "\n",
    "    plot_airmass(field, site, observe_time, brightness_shading=True,\n",
    "                altitude_yaxis=True, max_airmass=4)\n",
    "    plt.title(f\"Visibility at {site.name} for {target}\")\n",
    "    plt.show()"
   ]
  },
  {
   "cell_type": "code",
   "execution_count": null,
   "id": "a98453c5",
   "metadata": {},
   "outputs": [],
   "source": []
  }
 ],
 "metadata": {
  "kernelspec": {
   "display_name": "Python 3 (ipykernel)",
   "language": "python",
   "name": "python3"
  },
  "language_info": {
   "codemirror_mode": {
    "name": "ipython",
    "version": 3
   },
   "file_extension": ".py",
   "mimetype": "text/x-python",
   "name": "python",
   "nbconvert_exporter": "python",
   "pygments_lexer": "ipython3",
   "version": "3.11.4"
  }
 },
 "nbformat": 4,
 "nbformat_minor": 5
}
