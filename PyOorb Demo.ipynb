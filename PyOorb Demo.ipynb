{
 "cells": [
  {
   "cell_type": "code",
   "execution_count": 1,
   "metadata": {},
   "outputs": [],
   "source": [
    "import os\n",
    "import numpy as np\n",
    "import pyoorb as oo"
   ]
  },
  {
   "cell_type": "markdown",
   "metadata": {},
   "source": [
    "### Initialize Oorb"
   ]
  },
  {
   "cell_type": "code",
   "execution_count": 2,
   "metadata": {},
   "outputs": [
    {
     "data": {
      "text/plain": [
       "0"
      ]
     },
     "execution_count": 2,
     "metadata": {},
     "output_type": "execute_result"
    }
   ],
   "source": [
    "# Initialize oorb -- for a conda installed version\n",
    "ephfile = os.path.join(os.getenv('CONDA_PREFIX'), 'share', 'openorb', 'de430.dat')\n",
    "# If using a non-conda version, use \n",
    "# ephfile = os.path.join(os.getenv('OORB_DATA'), 'de430.dat')\n",
    "oo.pyoorb.oorb_init(ephfile)"
   ]
  },
  {
   "cell_type": "code",
   "execution_count": 3,
   "metadata": {},
   "outputs": [],
   "source": [
    "timeScales = {'UTC': 1, 'UT1': 2, 'TT': 3, 'TAI': 4}\n",
    "elemType = {'CAR': 1, 'COM': 2, 'KEP': 3, 'DEL': 4, 'EQX': 5}"
   ]
  },
  {
   "cell_type": "markdown",
   "metadata": {},
   "source": [
    "### Read in some orbits."
   ]
  },
  {
   "cell_type": "code",
   "execution_count": 14,
   "metadata": {},
   "outputs": [],
   "source": [
    "# Set up some orbits\n",
    "# orb is id, 6 elements, epoch_mjd, H, G, element type index\n",
    "# keplerian appears to be element type index 3\n",
    "# orbits = numpy.array([0.,1.,2.,3.,4.,5.,6.,5373.,1.,1.,3.])\n",
    "# Note that angles should be RADIANS for input to the python oorb interface\n",
    "o = np.loadtxt('test.des', dtype=([('objid', np.str_, 20), ('format', np.str_, 3),\n",
    "                                   ('q', float), ('e', float), ('inc', float), ('Omega', float),\n",
    "                                   ('argperi', float), ('tperi', float), ('H', float), ('epoch', float),\n",
    "                                   ('index', int), ('npar', int), ('moid', float), ('compcode', np.str_, 10)]),\n",
    "               skiprows=1)\n",
    "\n",
    "orbits = np.zeros([len(o), 12], dtype=np.double, order='F')\n",
    "orbits[:, 0] = np.arange(0, len(o), 1, dtype=float)\n",
    "orbits[:, 1] = o['q']\n",
    "orbits[:, 2] = o['e']\n",
    "orbits[:, 3] = -1 * np.radians(o['inc'])\n",
    "orbits[:, 4] = np.radians(o['Omega'])\n",
    "orbits[:, 5] = np.radians(o['argperi'])\n",
    "orbits[:, 6] = o['tperi']\n",
    "orbits[:, 7] = np.zeros(len(o), float) + elemType['COM']\n",
    "orbits[:, 8] = o['epoch']\n",
    "orbits[:, 9] = np.zeros(len(o), float) + timeScales['TT']\n",
    "orbits[:, 10] = o['H']\n",
    "orbits[:, 11] = np.zeros(len(o)) + 0.15"
   ]
  },
  {
   "cell_type": "code",
   "execution_count": 15,
   "metadata": {},
   "outputs": [
    {
     "data": {
      "text/plain": [
       "array([[ 0.00000000e+00,  2.72680464e+00,  1.43389847e-01,\n",
       "        -1.11295242e-01,  1.69610904e+00,  5.11783260e+00,\n",
       "         5.37715237e+04,  2.00000000e+00,  5.44660000e+04,\n",
       "         3.00000000e+00,  1.75820000e+01,  1.50000000e-01],\n",
       "       [ 1.00000000e+00,  2.64978782e+00,  5.60540098e-02,\n",
       "        -1.36881230e-01,  2.99464483e+00,  2.50204097e+00,\n",
       "         5.49679725e+04,  2.00000000e+00,  5.44660000e+04,\n",
       "         3.00000000e+00,  2.05140000e+01,  1.50000000e-01],\n",
       "       [ 2.00000000e+00,  2.82327567e+00,  8.02216088e-02,\n",
       "        -2.03150687e-01,  1.70781814e+00,  5.79273522e+00,\n",
       "         5.36066833e+04,  2.00000000e+00,  5.44660000e+04,\n",
       "         3.00000000e+00,  1.83040000e+01,  1.50000000e-01]])"
      ]
     },
     "execution_count": 15,
     "metadata": {},
     "output_type": "execute_result"
    }
   ],
   "source": [
    "orbits"
   ]
  },
  {
   "cell_type": "markdown",
   "metadata": {},
   "source": [
    "### Generate ephemerides\n",
    "\n",
    "This does n-body or 2-body propagation to the series of times specified, using oorb_ephemeris_full or oorb_ephemeris_basic and specifying in_dynmodel = \"N\" or \"2\". \n",
    "\n",
    "Note that there are two ephemeris generation options -- `oorb_ephemeris_full` and `oorb_ephemeris_basic`. With the \"full\" version, you get the full Oorb ephemeris values (as would be returned by the command line). With the \"basic\" version, you get a stripped down set of orbital elements, containing only \n",
    ">         ! (1) modified julian date\n",
    "        ! (2) right ascension (deg)\n",
    "        ! (3) declination (deg)\n",
    "        ! (4) dra/dt sky-motion (deg/day, including cos(dec) factor)\n",
    "        ! (5) ddec/dt sky-motion (deg/day)\n",
    "        ! (6) solar phase angle (deg)\n",
    "        ! (7) solar elongation angle (deg)\n",
    "        ! (8) heliocentric distance (au)\n",
    "        ! (9) geocentric distance (au)\n",
    "        ! (10) predicted apparent V-band magnitude\n",
    "        ! (11) true anomaly \n",
    ">    \n",
    "\n",
    "Note that the shape of the arrays returned in either case is a multi-dimensional array of (object / times / eph@time ). "
   ]
  },
  {
   "cell_type": "code",
   "execution_count": 6,
   "metadata": {},
   "outputs": [],
   "source": [
    "offset = 30.\n",
    "times = [orbits[0][8], orbits[0][8] + offset]\n",
    "timescale = [timeScales['UTC']] * len(times)\n",
    "ephem_dates = np.array(list(zip(times, timescale)), dtype=np.double, order='F')\n",
    "ephs, err = oo.pyoorb.oorb_ephemeris_full(in_orbits=orbits, in_dynmodel='N',\n",
    "                                         in_obscode='I11',\n",
    "                                         in_date_ephems=ephem_dates)\n",
    "if err != 0:\n",
    "    print(err)"
   ]
  },
  {
   "cell_type": "code",
   "execution_count": 7,
   "metadata": {},
   "outputs": [
    {
     "name": "stdout",
     "output_type": "stream",
     "text": [
      "@ 54466.000000 [ 5.44660000e+04  1.82578901e+02  5.88067581e+00  1.04457023e-01\n",
      " -3.41723035e-03  1.62736031e+01  9.97366497e+01  3.45839825e+00\n",
      "  3.15354150e+00  2.36498516e+01  9.18737187e+01  1.80017867e+02\n",
      "  6.41945377e+00  8.02010329e+01  6.42190219e+00  1.63659807e+02\n",
      "  5.85080877e+00  6.38429728e+01  5.85325719e+00 -5.51502279e+01\n",
      " -3.21957926e+00 -4.77527098e+01  4.36034683e-01  1.96617818e+01\n",
      " -3.30141908e+00  9.67916978e-01  3.52543923e-01 -3.39966388e-03\n",
      " -8.14672055e-03  4.90750232e-04 -1.67650276e-01  9.68894212e-01\n",
      " -4.20190092e-05  1.33382199e+02]\n",
      "@ 54496.000000 [ 5.44960000e+04  1.83595895e+02  6.69572325e+00 -3.43432561e-02\n",
      "  5.77223431e-02  1.26202682e+01  1.29325279e+02  3.48774043e+00\n",
      "  2.77919798e+00  2.32687273e+01  3.29248482e+02  1.80622608e+02\n",
      "  7.57092179e+00  5.02602926e+01  7.57334218e+00  1.68007840e+02\n",
      "  6.02574931e+00  3.76455244e+01  6.02816970e+00 -3.33027149e+01\n",
      " -4.29243384e+00 -3.65275117e+01  4.25902627e-01  4.96610420e+01\n",
      " -3.39277428e+00  7.20671228e-01  3.66126950e-01 -2.69001492e-03\n",
      " -8.32564977e-03  4.14561445e-04 -6.37966424e-01  7.50607694e-01\n",
      " -4.16141468e-05  1.37710116e+02]\n"
     ]
    }
   ],
   "source": [
    "i = 0\n",
    "start = ephs[i][0]\n",
    "end = ephs[i][1]\n",
    "print(\"@ %f\" % (ephem_dates[0][0]), start)\n",
    "print(\"@ %f\" % (ephem_dates[1][0]), end)"
   ]
  },
  {
   "cell_type": "markdown",
   "metadata": {},
   "source": [
    "### Transform orbital elements"
   ]
  },
  {
   "cell_type": "code",
   "execution_count": 8,
   "metadata": {},
   "outputs": [
    {
     "name": "stdout",
     "output_type": "stream",
     "text": [
      "Transforming from COM to CAR\n",
      "Input and output orbital elements (COM / CAR)\n",
      "in  [0.00000000e+00 2.72680464e+00 1.43389847e-01 1.11295242e-01\n",
      " 1.69610904e+00 5.11783260e+00 5.37715237e+04 2.00000000e+00\n",
      " 5.44660000e+04 3.00000000e+00 1.75820000e+01 1.50000000e-01]\n",
      "out [ 0.00000000e+00 -3.30147843e+00  9.67774744e-01  3.52552490e-01\n",
      " -3.39925149e-03 -8.14684133e-03  4.90706192e-04  1.00000000e+00\n",
      "  5.44660000e+04  3.00000000e+00  1.75820000e+01  1.50000000e-01]\n"
     ]
    }
   ],
   "source": [
    "type2 = 'CAR'\n",
    "print(\"Transforming from COM to %s\" % (type2))\n",
    "newElems, err = oo.pyoorb.oorb_element_transformation(in_orbits=orbits, in_element_type=elemType[type2])\n",
    "if err != 0:\n",
    "    print(\"error\", err)\n",
    "print(\"Input and output orbital elements (COM / CAR)\")\n",
    "print(\"in \", orbits[i])\n",
    "print(\"out\", newElems[i])"
   ]
  },
  {
   "cell_type": "code",
   "execution_count": 9,
   "metadata": {},
   "outputs": [
    {
     "name": "stdout",
     "output_type": "stream",
     "text": [
      "Transforming back from CAR to COM\n",
      "Input and output orbital elements (CAR / COM)\n",
      "in  [ 0.00000000e+00 -3.30147843e+00  9.67774744e-01  3.52552490e-01\n",
      " -3.39925149e-03 -8.14684133e-03  4.90706192e-04  1.00000000e+00\n",
      "  5.44660000e+04  3.00000000e+00  1.75820000e+01  1.50000000e-01]\n",
      "out [0.00000000e+00 2.72680464e+00 1.43389847e-01 1.11295242e-01\n",
      " 1.69610904e+00 5.11783260e+00 5.37715237e+04 2.00000000e+00\n",
      " 5.44660000e+04 3.00000000e+00 1.75820000e+01 1.50000000e-01]\n"
     ]
    }
   ],
   "source": [
    "print(\"Transforming back from %s to COM\" % (type2))\n",
    "newElems2, err = oo.pyoorb.oorb_element_transformation(in_orbits=newElems, in_element_type=elemType['COM'])\n",
    "if err != 0:\n",
    "    print(\"error\", err)\n",
    "print(\"Input and output orbital elements (CAR / COM)\")\n",
    "print(\"in \", newElems[i])\n",
    "print(\"out\", newElems2[i])"
   ]
  },
  {
   "cell_type": "code",
   "execution_count": 10,
   "metadata": {},
   "outputs": [
    {
     "name": "stdout",
     "output_type": "stream",
     "text": [
      "Differences in the initial/final COM orb elements\n",
      "[[ 0.00000000e+00 -2.66453526e-15  8.32667268e-17  2.35922393e-16\n",
      "  -4.44089210e-16 -2.66453526e-15  0.00000000e+00  0.00000000e+00\n",
      "   0.00000000e+00  0.00000000e+00  0.00000000e+00  0.00000000e+00]\n",
      " [ 0.00000000e+00  2.22044605e-15  2.28983499e-16 -6.38378239e-16\n",
      "   3.10862447e-14 -4.04121181e-14  0.00000000e+00  0.00000000e+00\n",
      "   0.00000000e+00  0.00000000e+00  0.00000000e+00  0.00000000e+00]\n",
      " [ 0.00000000e+00  9.76996262e-15 -1.17961196e-15 -3.88578059e-16\n",
      "   2.22044605e-16  7.10542736e-15  0.00000000e+00  0.00000000e+00\n",
      "   0.00000000e+00  0.00000000e+00  0.00000000e+00  0.00000000e+00]]\n"
     ]
    }
   ],
   "source": [
    "print('Differences in the initial/final COM orb elements')\n",
    "diffs = newElems2 - orbits\n",
    "print(diffs)"
   ]
  },
  {
   "cell_type": "markdown",
   "metadata": {},
   "source": [
    "There can be larger differences in the tPeri, as this is degenerate (previous or next orbit?). "
   ]
  },
  {
   "cell_type": "markdown",
   "metadata": {},
   "source": [
    "### Propagate orbits\n",
    "\n",
    "You can do either n-body or 2-body propagation using the oorb_propagation method and specifying the in_dynmodel as \"N\" or \"2\". "
   ]
  },
  {
   "cell_type": "code",
   "execution_count": 11,
   "metadata": {},
   "outputs": [
    {
     "name": "stdout",
     "output_type": "stream",
     "text": [
      "Propagating orbits by 30 days\n",
      "Input and output orbital elements (0 and 30 days)\n",
      "in  [0.00000000e+00 2.72680464e+00 1.43389847e-01 1.11295242e-01\n",
      " 1.69610904e+00 5.11783260e+00 5.37715237e+04 2.00000000e+00\n",
      " 5.44660000e+04 3.00000000e+00 1.75820000e+01 1.50000000e-01]\n",
      "out [ 0.00000000e+00 -3.39281543e+00  7.20543871e-01  3.66133292e-01\n",
      " -2.68965290e-03 -8.32572656e-03  4.14522375e-04  1.00000000e+00\n",
      "  5.44960000e+04  3.00000000e+00  1.75820000e+01  1.50000000e-01]\n"
     ]
    }
   ],
   "source": [
    "print(\"Propagating orbits by %d days\" % (offset))\n",
    "epoch_orig = orbits[i][8]\n",
    "epoch_new = epoch_orig + offset\n",
    "newEpoch = np.array([epoch_new, timeScales['TT']], dtype='double', order='F')\n",
    "# Note that currently you have to use CART format elements.\n",
    "elems = newElems\n",
    "newOorbElems, err = oo.pyoorb.oorb_propagation(in_orbits=elems, in_dynmodel='N', in_epoch=newEpoch)\n",
    "if err != 0:\n",
    "    print(\"error\", err)\n",
    "print(\"Input and output orbital elements (0 and %d days)\" % (offset))\n",
    "print(\"in \", orbits[i])\n",
    "print(\"out\", newOorbElems[i])"
   ]
  },
  {
   "cell_type": "code",
   "execution_count": 12,
   "metadata": {},
   "outputs": [
    {
     "name": "stdout",
     "output_type": "stream",
     "text": [
      "Transforming new orbital elements to COM\n",
      "Input and output orbital elements (CART/COM)\n",
      "in  [0.00000000e+00 2.72680464e+00 1.43389847e-01 1.11295242e-01\n",
      " 1.69610904e+00 5.11783260e+00 5.37715237e+04 2.00000000e+00\n",
      " 5.44660000e+04 3.00000000e+00 1.75820000e+01 1.50000000e-01]\n",
      "out [0.00000000e+00 2.72662741e+00 1.43413828e-01 1.11295174e-01\n",
      " 1.69610744e+00 5.11761118e+00 5.37714875e+04 2.00000000e+00\n",
      " 5.44960000e+04 3.00000000e+00 1.75820000e+01 1.50000000e-01]\n",
      "epoch 54496.0 54496.0\n"
     ]
    }
   ],
   "source": [
    "print(\"Transforming new orbital elements to COM\")\n",
    "newElems3, err = oo.pyoorb.oorb_element_transformation(in_orbits=newOorbElems, in_element_type=elemType['COM'])\n",
    "if err != 0:\n",
    "    print(\"error\", err)\n",
    "print(\"Input and output orbital elements (CART/COM)\")\n",
    "print(\"in \", orbits[i])\n",
    "print(\"out\", newElems3[i])\n",
    "print('epoch', epoch_new, newElems3[i][8])"
   ]
  },
  {
   "cell_type": "code",
   "execution_count": 13,
   "metadata": {},
   "outputs": [
    {
     "name": "stdout",
     "output_type": "stream",
     "text": [
      "Object 0\n",
      " Orbit:  [0.00000000e+00 2.72680464e+00 1.43389847e-01 1.11295242e-01\n",
      " 1.69610904e+00 5.11783260e+00 5.37715237e+04 2.00000000e+00\n",
      " 5.44660000e+04 3.00000000e+00 1.75820000e+01 1.50000000e-01]\n",
      "Just difference in milli-arcseconds in RA and then Dec\n",
      "  [2.49656296e-05 2.95699465e-05] [-1.07721831e-05 -1.25819355e-05]\n",
      "Object 1\n",
      " Orbit:  [1.00000000e+00 2.64978782e+00 5.60540098e-02 1.36881230e-01\n",
      " 2.99464483e+00 2.50204097e+00 5.49679725e+04 2.00000000e+00\n",
      " 5.44660000e+04 3.00000000e+00 2.05140000e+01 1.50000000e-01]\n",
      "Just difference in milli-arcseconds in RA and then Dec\n",
      "  [2.39424480e-05 2.74212653e-05] [-5.46762635e-06 -5.38449285e-06]\n",
      "Object 2\n",
      " Orbit:  [2.00000000e+00 2.82327567e+00 8.02216088e-02 2.03150687e-01\n",
      " 1.70781814e+00 5.79273522e+00 5.36066833e+04 2.00000000e+00\n",
      " 5.44660000e+04 3.00000000e+00 1.83040000e+01 1.50000000e-01]\n",
      "Just difference in milli-arcseconds in RA and then Dec\n",
      "  [-3.06954462e-07 -4.09272616e-07] [5.75539616e-08 1.02318154e-07]\n"
     ]
    }
   ],
   "source": [
    "# Generate ephemerides with these new elements, to compare.\n",
    "ephs2, err = oo.pyoorb.oorb_ephemeris_full(in_orbits=newElems3, in_obscode='I11',\n",
    "                                           in_dynmodel='N', in_date_ephems=ephem_dates)\n",
    "for i in range(len(newElems3)):\n",
    "    print('Object %d' % i)\n",
    "    print(' Orbit: ', orbits[i] )\n",
    "    diffs = ephs[i] - ephs2[i]\n",
    "    #print(\"Difference in ephemerides from ephemeris generation vs propagation + ephemeris generation\")\n",
    "    #print(diffs)\n",
    "    print(\"Just difference in milli-arcseconds in RA and then Dec\")\n",
    "    deltaRA = diffs[:,1] * 3600. * 1000.\n",
    "    deltaDec = diffs[:,2] * 3600. * 1000.\n",
    "    print(' ', deltaRA, deltaDec)"
   ]
  },
  {
   "cell_type": "markdown",
   "metadata": {},
   "source": [
    "Note that the difference can change slightly depending on the length of time in 'offset'. Needs a bit further investigation, but I suspect this is due to the timescale of integration hard-coded into the different routines (?). "
   ]
  },
  {
   "cell_type": "code",
   "execution_count": null,
   "metadata": {},
   "outputs": [],
   "source": []
  }
 ],
 "metadata": {
  "kernelspec": {
   "display_name": "Python 3 (ipykernel)",
   "language": "python",
   "name": "python3"
  },
  "language_info": {
   "codemirror_mode": {
    "name": "ipython",
    "version": 3
   },
   "file_extension": ".py",
   "mimetype": "text/x-python",
   "name": "python",
   "nbconvert_exporter": "python",
   "pygments_lexer": "ipython3",
   "version": "3.9.7"
  }
 },
 "nbformat": 4,
 "nbformat_minor": 2
}
