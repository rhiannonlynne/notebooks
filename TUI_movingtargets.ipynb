{
 "cells": [
  {
   "cell_type": "code",
   "execution_count": 12,
   "metadata": {},
   "outputs": [],
   "source": [
    "import os\n",
    "import numpy as np\n",
    "import matplotlib.pyplot as plt\n",
    "%matplotlib inline\n",
    "import warnings"
   ]
  },
  {
   "cell_type": "code",
   "execution_count": 2,
   "metadata": {},
   "outputs": [],
   "source": [
    "import ephem\n",
    "from sbpy.data import Ephem\n",
    "import astropy.units as u\n",
    "from astropy.time import Time"
   ]
  },
  {
   "cell_type": "code",
   "execution_count": 6,
   "metadata": {},
   "outputs": [
    {
     "name": "stdout",
     "output_type": "stream",
     "text": [
      "sbpy version  0.2\n",
      "astroquery version  0.4.2.dev0\n"
     ]
    }
   ],
   "source": [
    "import sbpy\n",
    "print('sbpy version ', sbpy.__version__)\n",
    "\n",
    "import astroquery\n",
    "print('astroquery version ', astroquery.__version__)"
   ]
  },
  {
   "cell_type": "code",
   "execution_count": 24,
   "metadata": {},
   "outputs": [],
   "source": [
    "# UTC DATE of interest\n",
    "# (APO = -7 hrs to UTC most of the time .. midnight UTC/start of day is around or before sunset)\n",
    "date = '2020/10/09 0:00:00'\n",
    "\n",
    "apo = ephem.Observer()\n",
    "apo.lat = '32:46:49'\n",
    "apo.lon = '-105:49:13'\n",
    "apo.elevation = 2788\n",
    "# UTC night of interest \n",
    "apo.date = date\n",
    "#civil twilight -6, nautical twilight -12, astronomical twilight -18\n",
    "apo.pressure = 0   # set pressure to 0 and horizon to -0:34 from desired level, for refraction magic (well .. approximate?)\n",
    "\n",
    "#apo.horizon = '-18:34'  # astronomical twilight\n",
    "apo.horizon = '-12:34'  # nautical twilight\n",
    "#apo.horizon = '-00:34' # civil twilight\n",
    "\n",
    "sunset = apo.next_setting(ephem.Sun(), use_center=True)\n",
    "sunrise = apo.next_rising(ephem.Sun(), use_center=True)"
   ]
  },
  {
   "cell_type": "code",
   "execution_count": 25,
   "metadata": {},
   "outputs": [
    {
     "name": "stdout",
     "output_type": "stream",
     "text": [
      "UTC Sunset  2020/10/9 01:33:57\n",
      "Sunset converted to your current local time  2020-10-08 18:33:56.894382\n",
      "UTC Sunrise  2020/10/9 12:07:24\n",
      "Sunrise converted to your current local time  2020-10-09 05:07:23.704172\n"
     ]
    }
   ],
   "source": [
    "# UTC sunset sunrise .. but this seems like it might not be quite right? Close.\n",
    "print(\"UTC Sunset \", sunset)\n",
    "print(\"Sunset converted to your current local time \", ephem.localtime(sunset))\n",
    "print(\"UTC Sunrise \", sunrise)\n",
    "print(\"Sunrise converted to your current local time \", ephem.localtime(sunrise))"
   ]
  },
  {
   "cell_type": "code",
   "execution_count": 9,
   "metadata": {},
   "outputs": [],
   "source": [
    "# NICFPS: 1024x1024 HgCdTe device with a 0.273 arsec/pixel scale -- 4.58 arcmin across FOV\n",
    "# ARCTIC: 4096x4096 pixel CCD with an unbinned plate scale of 0.114 arcsec/pixel -- 7.85 arcmin across FOV"
   ]
  },
  {
   "cell_type": "code",
   "execution_count": 47,
   "metadata": {},
   "outputs": [],
   "source": [
    "# Get target information from Horizons.\n",
    "\n",
    "targets = ['2020 SV3', '2013 UX14', '2020 SW5', '2020 SO']\n",
    "\n",
    "# Times here are *like* the date above, but formatted differently.\n",
    "# And you might want to restrict to a smaller range of times that you're observing the object.\n",
    "\n",
    "start = Time('2020-10-09T08:00:00')\n",
    "end = Time('2020-10-09T12:00:00')\n",
    "\n",
    "with warnings.catch_warnings():\n",
    "    warnings.simplefilter('ignore')\n",
    "    ephs = {}\n",
    "    for t in targets:\n",
    "        ephs[t] = Ephem.from_horizons(t, location=705, \n",
    "                                      epochs={'start': start,\n",
    "                                              'stop': end,\n",
    "                                              'step':5*u.min})"
   ]
  },
  {
   "cell_type": "code",
   "execution_count": 48,
   "metadata": {
    "scrolled": true
   },
   "outputs": [
    {
     "data": {
      "text/html": [
       "<i>QTable length=5</i>\n",
       "<table id=\"table140344584652560\" class=\"table-striped table-bordered table-condensed\">\n",
       "<thead><tr><th>targetname</th><th>H</th><th>G</th><th>solar_presence</th><th>flags</th><th>RA</th><th>DEC</th><th>RA_app</th><th>DEC_app</th><th>RA*cos(Dec)_rate</th><th>DEC_rate</th><th>AZ</th><th>EL</th><th>AZ_rate</th><th>EL_rate</th><th>sat_X</th><th>sat_Y</th><th>sat_PANG</th><th>siderealtime</th><th>airmass</th><th>magextinct</th><th>V</th><th>surfbright</th><th>illumination</th><th>illum_defect</th><th>sat_sep</th><th>sat_vis</th><th>ang_width</th><th>PDObsLon</th><th>PDObsLat</th><th>PDSunLon</th><th>PDSunLat</th><th>SubSol_ang</th><th>SubSol_dist</th><th>NPole_ang</th><th>NPole_dist</th><th>EclLon</th><th>EclLat</th><th>r</th><th>r_rate</th><th>delta</th><th>delta_rate</th><th>lighttime</th><th>vel_sun</th><th>vel_obs</th><th>elong</th><th>elongFlag</th><th>alpha</th><th>lunar_elong</th><th>lunar_illum</th><th>sat_alpha</th><th>sunTargetPA</th><th>velocityPA</th><th>OrbPlaneAng</th><th>constellation</th><th>TDB-UT</th><th>ObsEclLon</th><th>ObsEclLat</th><th>NPole_RA</th><th>NPole_DEC</th><th>GlxLon</th><th>GlxLat</th><th>solartime</th><th>earth_lighttime</th><th>RA_3sigma</th><th>DEC_3sigma</th><th>SMAA_3sigma</th><th>SMIA_3sigma</th><th>Theta_3sigma</th><th>Area_3sigma</th><th>RSS_3sigma</th><th>r_3sigma</th><th>r_rate_3sigma</th><th>SBand_3sigma</th><th>XBand_3sigma</th><th>DoppDelay_3sigma</th><th>true_anom</th><th>hour_angle</th><th>alpha_true</th><th>PABLon</th><th>PABLat</th><th>epoch</th></tr></thead>\n",
       "<thead><tr><th></th><th>mag</th><th></th><th></th><th></th><th>deg</th><th>deg</th><th>deg</th><th>deg</th><th>arcsec / h</th><th>arcsec / h</th><th>deg</th><th>deg</th><th>arcsec / min</th><th>arcsec / min</th><th>arcsec</th><th>arcsec</th><th>deg</th><th>h</th><th></th><th>mag</th><th>mag</th><th>mag / arcsec2</th><th>%</th><th>arcsec</th><th>arcsec</th><th></th><th>arcsec</th><th>deg</th><th>deg</th><th>deg</th><th>deg</th><th>deg</th><th>arcsec</th><th>deg</th><th>arcsec</th><th>deg</th><th>deg</th><th>AU</th><th>km / s</th><th>AU</th><th>km / s</th><th>min</th><th>km / s</th><th>km / s</th><th>deg</th><th></th><th>deg</th><th>deg</th><th>%</th><th>deg</th><th>deg</th><th>deg</th><th>deg</th><th></th><th>s</th><th>deg</th><th>deg</th><th>deg</th><th>deg</th><th>deg</th><th>deg</th><th></th><th>min</th><th>arcsec</th><th>arcsec</th><th>arcsec</th><th>arcsec</th><th>deg</th><th>arcsec2</th><th>arcsec</th><th>km</th><th>km / s</th><th>Hz</th><th>Hz</th><th>s</th><th>deg</th><th></th><th>deg</th><th>deg</th><th>deg</th><th></th></tr></thead>\n",
       "<thead><tr><th>str10</th><th>float64</th><th>float64</th><th>str1</th><th>str1</th><th>float64</th><th>float64</th><th>float64</th><th>float64</th><th>float64</th><th>float64</th><th>float64</th><th>float64</th><th>float64</th><th>float64</th><th>float64</th><th>float64</th><th>float64</th><th>float64</th><th>float64</th><th>float64</th><th>float64</th><th>float64</th><th>float64</th><th>float64</th><th>float64</th><th>str1</th><th>float64</th><th>float64</th><th>float64</th><th>float64</th><th>float64</th><th>float64</th><th>float64</th><th>float64</th><th>float64</th><th>float64</th><th>float64</th><th>float64</th><th>float64</th><th>float64</th><th>float64</th><th>float64</th><th>float64</th><th>float64</th><th>float64</th><th>str2</th><th>float64</th><th>float64</th><th>float64</th><th>float64</th><th>float64</th><th>float64</th><th>float64</th><th>str3</th><th>float64</th><th>float64</th><th>float64</th><th>float64</th><th>float64</th><th>float64</th><th>float64</th><th>float64</th><th>float64</th><th>float64</th><th>float64</th><th>float64</th><th>float64</th><th>float64</th><th>float64</th><th>float64</th><th>float64</th><th>float64</th><th>float64</th><th>float64</th><th>float64</th><th>float64</th><th>float64</th><th>float64</th><th>float64</th><th>float64</th><th>object</th></tr></thead>\n",
       "<tr><td>(2020 SV3)</td><td>22.407</td><td>0.15</td><td></td><td>m</td><td>26.68366</td><td>23.44166</td><td>26.9731</td><td>23.54495</td><td>-101.623</td><td>141.9131</td><td>209.516158</td><td>79.530927</td><td>740.65</td><td>-372.47</td><td>-601711.45</td><td>108094.618</td><td>327.655</td><td>2.1717974277</td><td>1.017</td><td>0.139</td><td>20.875</td><td>0.0</td><td>98.00516</td><td>0.0</td><td>574267.0</td><td>*</td><td>0.0</td><td>0.0</td><td>0.0</td><td>0.0</td><td>0.0</td><td>35.44</td><td>0.0</td><td>0.0</td><td>0.0</td><td>19.6755</td><td>2.4353</td><td>1.249614960935</td><td>-2.2552286</td><td>0.26404893609443</td><td>-2.7387907</td><td>2.19602804</td><td>28.176149</td><td>9.6808385</td><td>159.5186</td><td>/L</td><td>16.2435</td><td>65.9</td><td>56.5157</td><td>4.243</td><td>215.365</td><td>233.631</td><td>-5.04896</td><td>Psc</td><td>69.182316</td><td>33.4812136</td><td>11.6028442</td><td>0.0</td><td>0.0</td><td>139.022346</td><td>-37.693841</td><td>1.1591109138</td><td>0.000354</td><td>0.887</td><td>0.954</td><td>0.957</td><td>0.884</td><td>-77.446</td><td>5.3148213</td><td>1.303</td><td>39462.5022</td><td>0.0035439</td><td>56.1</td><td>203.91</td><td>0.263265</td><td>321.2389</td><td>0.373590695</td><td>16.2391</td><td>26.3636</td><td>7.0663</td><td>2459131.833333333</td></tr>\n",
       "<tr><td>(2020 SV3)</td><td>22.407</td><td>0.15</td><td></td><td>m</td><td>26.68109</td><td>23.44494</td><td>26.97054</td><td>23.54824</td><td>-101.616</td><td>141.8485</td><td>214.912301</td><td>78.970386</td><td>706.86</td><td>-433.12</td><td>-601730.61</td><td>108111.189</td><td>327.671</td><td>2.2553589244</td><td>1.018</td><td>0.139</td><td>20.875</td><td>0.0</td><td>98.00544</td><td>0.0</td><td>574272.5</td><td>*</td><td>0.0</td><td>0.0</td><td>0.0</td><td>0.0</td><td>0.0</td><td>35.42</td><td>0.0</td><td>0.0</td><td>0.0</td><td>19.678</td><td>2.4361</td><td>1.249610438439</td><td>-2.2551021</td><td>0.26404345294714</td><td>-2.7297567</td><td>2.19598244</td><td>28.1762402</td><td>9.6752058</td><td>159.5201</td><td>/L</td><td>16.2424</td><td>66.0</td><td>56.487</td><td>4.2426</td><td>215.348</td><td>233.63</td><td>-5.053</td><td>Psc</td><td>69.182316</td><td>33.4801886</td><td>11.6067578</td><td>0.0</td><td>0.0</td><td>139.018363</td><td>-37.691313</td><td>1.2424569898</td><td>0.000354</td><td>0.888</td><td>0.954</td><td>0.958</td><td>0.885</td><td>-77.474</td><td>5.3232188</td><td>1.304</td><td>39461.5353</td><td>0.003543</td><td>56.09</td><td>203.85</td><td>0.263259</td><td>321.2415</td><td>0.457323248</td><td>16.2379</td><td>26.3643</td><td>7.0686</td><td>2459131.836805556</td></tr>\n",
       "<tr><td>(2020 SV3)</td><td>22.407</td><td>0.15</td><td></td><td>m</td><td>26.67852</td><td>23.44822</td><td>26.96797</td><td>23.55152</td><td>-101.605</td><td>141.784</td><td>219.785173</td><td>78.332058</td><td>672.59</td><td>-484.61</td><td>-601749.77</td><td>108127.754</td><td>327.687</td><td>2.3389204212</td><td>1.021</td><td>0.14</td><td>20.875</td><td>0.0</td><td>98.00572</td><td>0.0</td><td>574278.0</td><td>*</td><td>0.0</td><td>0.0</td><td>0.0</td><td>0.0</td><td>0.0</td><td>35.41</td><td>0.0</td><td>0.0</td><td>0.0</td><td>19.6804</td><td>2.4368</td><td>1.249605916197</td><td>-2.2549756</td><td>0.26403798789553</td><td>-2.7207438</td><td>2.19593698</td><td>28.1763313</td><td>9.6694873</td><td>159.5217</td><td>/L</td><td>16.2412</td><td>66.0</td><td>56.4585</td><td>4.2422</td><td>215.331</td><td>233.63</td><td>-5.05704</td><td>Psc</td><td>69.182316</td><td>33.4791633</td><td>11.6106699</td><td>0.0</td><td>0.0</td><td>139.014382</td><td>-37.688785</td><td>1.3258030828</td><td>0.000354</td><td>0.889</td><td>0.955</td><td>0.958</td><td>0.885</td><td>-77.503</td><td>5.3316348</td><td>1.305</td><td>39460.5687</td><td>0.003542</td><td>56.07</td><td>203.8</td><td>0.263253</td><td>321.2441</td><td>0.541055793</td><td>16.2368</td><td>26.365</td><td>7.0709</td><td>2459131.840277778</td></tr>\n",
       "<tr><td>(2020 SV3)</td><td>22.407</td><td>0.15</td><td></td><td>m</td><td>26.67596</td><td>23.4515</td><td>26.9654</td><td>23.5548</td><td>-101.591</td><td>141.7197</td><td>224.162716</td><td>77.628051</td><td>639.16</td><td>-527.88</td><td>-601768.93</td><td>108144.315</td><td>327.703</td><td>2.4224819178</td><td>1.023</td><td>0.14</td><td>20.875</td><td>0.0</td><td>98.006</td><td>0.0</td><td>574283.4</td><td>*</td><td>0.0</td><td>0.0</td><td>0.0</td><td>0.0</td><td>0.0</td><td>35.39</td><td>0.0</td><td>0.0</td><td>0.0</td><td>19.6829</td><td>2.4376</td><td>1.249601394209</td><td>-2.254849</td><td>0.26403254089329</td><td>-2.711756</td><td>2.19589168</td><td>28.1764225</td><td>9.6636853</td><td>159.5232</td><td>/L</td><td>16.2401</td><td>66.1</td><td>56.4304</td><td>4.2419</td><td>215.314</td><td>233.629</td><td>-5.06108</td><td>Psc</td><td>69.182316</td><td>33.4781377</td><td>11.6145806</td><td>0.0</td><td>0.0</td><td>139.010402</td><td>-37.686259</td><td>1.4091491943</td><td>0.000354</td><td>0.89</td><td>0.956</td><td>0.959</td><td>0.886</td><td>-77.533</td><td>5.3400681</td><td>1.306</td><td>39459.6025</td><td>0.003541</td><td>56.06</td><td>203.74</td><td>0.263246</td><td>321.2466</td><td>0.624788324</td><td>16.2356</td><td>26.3656</td><td>7.0732</td><td>2459131.84375</td></tr>\n",
       "<tr><td>(2020 SV3)</td><td>22.407</td><td>0.15</td><td></td><td>m</td><td>26.67339</td><td>23.45478</td><td>26.96284</td><td>23.55808</td><td>-101.573</td><td>141.6556</td><td>228.087153</td><td>76.869002</td><td>607.44</td><td>-564.06</td><td>-601788.09</td><td>108160.87</td><td>327.719</td><td>2.5060434146</td><td>1.026</td><td>0.141</td><td>20.875</td><td>0.0</td><td>98.00628</td><td>0.0</td><td>574288.9</td><td>*</td><td>0.0</td><td>0.0</td><td>0.0</td><td>0.0</td><td>0.0</td><td>35.37</td><td>0.0</td><td>0.0</td><td>0.0</td><td>19.6854</td><td>2.4383</td><td>1.249596872475</td><td>-2.2547225</td><td>0.26402711188662</td><td>-2.7027968</td><td>2.19584653</td><td>28.1765136</td><td>9.6578024</td><td>159.5247</td><td>/L</td><td>16.2389</td><td>66.1</td><td>56.4024</td><td>4.2415</td><td>215.297</td><td>233.629</td><td>-5.06511</td><td>Psc</td><td>69.182316</td><td>33.477112</td><td>11.6184898</td><td>0.0</td><td>0.0</td><td>139.006423</td><td>-37.683734</td><td>1.4924953257</td><td>0.000354</td><td>0.891</td><td>0.956</td><td>0.96</td><td>0.887</td><td>-77.564</td><td>5.348518</td><td>1.307</td><td>39458.6365</td><td>0.00354</td><td>56.04</td><td>203.68</td><td>0.26324</td><td>321.2492</td><td>0.708520834</td><td>16.2345</td><td>26.3663</td><td>7.0756</td><td>2459131.847222222</td></tr>\n",
       "</table>"
      ],
      "text/plain": [
       "<QTable length=5>\n",
       "targetname    H       G    solar_presence ...  PABLon  PABLat       epoch      \n",
       "             mag                          ...   deg     deg                    \n",
       "  str10    float64 float64      str1      ... float64 float64       object     \n",
       "---------- ------- ------- -------------- ... ------- ------- -----------------\n",
       "(2020 SV3)  22.407    0.15                ... 26.3636  7.0663 2459131.833333333\n",
       "(2020 SV3)  22.407    0.15                ... 26.3643  7.0686 2459131.836805556\n",
       "(2020 SV3)  22.407    0.15                ...  26.365  7.0709 2459131.840277778\n",
       "(2020 SV3)  22.407    0.15                ... 26.3656  7.0732     2459131.84375\n",
       "(2020 SV3)  22.407    0.15                ... 26.3663  7.0756 2459131.847222222"
      ]
     },
     "execution_count": 48,
     "metadata": {},
     "output_type": "execute_result"
    }
   ],
   "source": [
    "ephs[targets[0]].table[0:5]"
   ]
  },
  {
   "cell_type": "code",
   "execution_count": 51,
   "metadata": {},
   "outputs": [
    {
     "name": "stdout",
     "output_type": "stream",
     "text": [
      "2020 SV3 79.530927 deg\n",
      "2013 UX14 45.271802 deg\n",
      "2020 SW5 50.33484 deg\n",
      "2020 SO 60.265123 deg\n"
     ]
    }
   ],
   "source": [
    "for t in targets:\n",
    "    print(t, ephs[t]['elevation'][0])"
   ]
  },
  {
   "cell_type": "code",
   "execution_count": 52,
   "metadata": {},
   "outputs": [],
   "source": [
    "# Narrow down ephemerides to times when the target(s) observable\n",
    "# Let's cut off at elevation < 10 and Civil twilight, so there's a good buffer.\n",
    "times = {}\n",
    "for t in targets:\n",
    "    ephs[t] = ephs[t][np.where((ephs[t]['elevation'] > 10*u.deg) & (ephs[t]['solar_presence'] != '*'))]\n",
    "    times[t] = Time(ephs[t]['epoch'], format='mjd', scale='utc')"
   ]
  },
  {
   "cell_type": "code",
   "execution_count": 70,
   "metadata": {},
   "outputs": [
    {
     "data": {
      "text/plain": [
       "Text(0, 0.5, 'Elevation')"
      ]
     },
     "execution_count": 70,
     "metadata": {},
     "output_type": "execute_result"
    },
    {
     "data": {
      "image/png": "[encoded data removed]",
      "text/plain": [
       "<Figure size 576x360 with 1 Axes>"
      ]
     },
     "metadata": {
      "needs_background": "light"
     },
     "output_type": "display_data"
    }
   ],
   "source": [
    "plt.figure(figsize=(8,5))\n",
    "for t in targets:\n",
    "    plt.plot((times[t].utc.mjd - int(times[t].utc.mjd[0]))*24.0, 90-ephs[t]['EL'], label=t)\n",
    "plt.legend()\n",
    "plt.xlabel('Time (hours UTC)')\n",
    "plt.ylabel('Elevation')"
   ]
  },
  {
   "cell_type": "code",
   "execution_count": 86,
   "metadata": {},
   "outputs": [
    {
     "data": {
      "text/plain": [
       "Text(0, 0.5, 'Elevation')"
      ]
     },
     "execution_count": 86,
     "metadata": {},
     "output_type": "execute_result"
    },
    {
     "data": {
      "image/png": "[encoded data removed]",
      "text/plain": [
       "<Figure size 792x360 with 2 Axes>"
      ]
     },
     "metadata": {
      "needs_background": "light"
     },
     "output_type": "display_data"
    }
   ],
   "source": [
    "plt.figure(figsize=(11, 5))\n",
    "plt.subplot(121)\n",
    "for t in targets:\n",
    "    plt.plot(ephs[t]['RA'], ephs[t]['DEC'], marker='o', label=t)\n",
    "#plt.legend()\n",
    "plt.xlabel('RA')\n",
    "plt.ylabel('Dec')\n",
    "plt.subplot(122)\n",
    "for t in targets:\n",
    "    plt.plot(ephs[t]['AZ'], ephs[t]['EL'], label=t)\n",
    "plt.legend(loc=(1.1, 0.2))\n",
    "plt.xlabel('Azimuth')\n",
    "plt.ylabel('Elevation')"
   ]
  },
  {
   "cell_type": "code",
   "execution_count": 88,
   "metadata": {},
   "outputs": [
    {
     "name": "stdout",
     "output_type": "stream",
     "text": [
      "2020 SV3  sets at time (UTC)  2020-10-09T12:00:00.000\n",
      "2013 UX14  sets at time (UTC)  2020-10-09T12:00:00.000\n",
      "2020 SW5  sets at time (UTC)  2020-10-09T11:40:00.000\n",
      "2020 SO  sets at time (UTC)  2020-10-09T12:00:00.000\n"
     ]
    }
   ],
   "source": [
    "for t in targets:\n",
    "    print(t, \" sets at time (UTC) \", times[t].max().isot)"
   ]
  },
  {
   "cell_type": "code",
   "execution_count": 95,
   "metadata": {},
   "outputs": [
    {
     "name": "stdout",
     "output_type": "stream",
     "text": [
      "   RA      DEC    RA_3sigma DEC_3sigma ...     EL    solar_presence lunar_elong\n",
      "  deg      deg      arcsec    arcsec   ...    deg                       deg    \n",
      "-------- -------- --------- ---------- ... --------- -------------- -----------\n",
      "26.68366 23.44166     0.887      0.954 ... 79.530927                       65.9\n",
      "26.68109 23.44494     0.888      0.954 ... 78.970386                       66.0\n",
      "26.67852 23.44822     0.889      0.955 ... 78.332058                       66.0\n",
      "26.67596  23.4515      0.89      0.956 ... 77.628051                       66.1\n",
      "26.67339 23.45478     0.891      0.956 ... 76.869002                       66.1\n",
      "26.67082 23.45805     0.891      0.957 ... 76.063986                       66.1\n",
      "26.66826 23.46133     0.892      0.958 ... 75.220601                       66.2\n",
      "26.66569  23.4646     0.893      0.958 ... 74.345138                       66.2\n",
      "26.66313 23.46787     0.894      0.959 ...  73.44278                       66.2\n",
      "26.66056 23.47114     0.894       0.96 ... 72.517791                       66.3\n",
      "     ...      ...       ...        ... ...       ...            ...         ...\n",
      "26.58441 23.56863     0.916      0.981 ... 41.573529                       67.1\n",
      "26.58191 23.57187     0.917      0.982 ... 40.521697                       67.2\n",
      "26.57941  23.5751     0.918      0.983 ... 39.470754                       67.2\n",
      "26.57692 23.57833     0.918      0.983 ... 38.420808                       67.2\n",
      "26.57442 23.58156     0.919      0.984 ... 37.371967                       67.2\n",
      "26.57194 23.58479      0.92      0.985 ... 36.324335                       67.3\n",
      "26.56945 23.58802      0.92      0.986 ... 35.278017              A        67.3\n",
      "26.56697 23.59125     0.921      0.986 ... 34.233112              A        67.3\n",
      "26.56449 23.59447     0.922      0.987 ... 33.189723              A        67.4\n",
      "26.56201  23.5977     0.922      0.988 ... 32.147949              A        67.4\n",
      "Length = 49 rows\n",
      "   RA      DEC   RA_3sigma DEC_3sigma ...     EL    solar_presence lunar_elong\n",
      "  deg      deg     arcsec    arcsec   ...    deg                       deg    \n",
      "-------- ------- --------- ---------- ... --------- -------------- -----------\n",
      "72.29441 7.61722     0.345      0.342 ... 45.271802                       31.1\n",
      "72.29647 7.62104     0.345      0.342 ... 46.222086                       31.1\n",
      "72.29853 7.62487     0.345      0.342 ...  47.16297                       31.1\n",
      "72.30059 7.62869     0.345      0.342 ...  48.09375                       31.2\n",
      "72.30264 7.63251     0.345      0.342 ...  49.01367                       31.2\n",
      "72.30469 7.63633     0.345      0.342 ... 49.921915                       31.2\n",
      "72.30674 7.64014     0.345      0.342 ... 50.817608                       31.3\n",
      "72.30878 7.64396     0.345      0.342 ... 51.699806                       31.3\n",
      "72.31082 7.64778     0.345      0.342 ... 52.567491                       31.3\n",
      "72.31285 7.65159     0.345      0.342 ... 53.419573                       31.4\n",
      "     ...     ...       ...        ... ...       ...            ...         ...\n",
      "72.37293  7.7656     0.346      0.343 ... 63.719963                       32.1\n",
      "72.37492 7.76938     0.346      0.343 ...  63.34025                       32.2\n",
      "72.37691 7.77316     0.346      0.343 ... 62.916215                       32.2\n",
      " 72.3789 7.77695     0.346      0.343 ... 62.449932                       32.2\n",
      " 72.3809 7.78073     0.346      0.343 ... 61.943539                       32.2\n",
      "72.38289 7.78451     0.346      0.343 ... 61.399201                       32.2\n",
      "72.38489 7.78828     0.346      0.343 ... 60.819078              A        32.3\n",
      "72.38689 7.79206     0.346      0.343 ... 60.205299              A        32.3\n",
      "72.38889 7.79584     0.346      0.343 ...  59.55994              A        32.3\n",
      "72.39089 7.79961     0.347      0.343 ...  58.88501              A        32.3\n",
      "Length = 49 rows\n",
      "   RA      DEC    RA_3sigma DEC_3sigma ...     EL    solar_presence lunar_elong\n",
      "  deg      deg      arcsec    arcsec   ...    deg                       deg    \n",
      "-------- -------- --------- ---------- ... --------- -------------- -----------\n",
      "10.65626   -1.326    13.874     30.957 ...  50.33484                       89.7\n",
      "10.65549 -1.32465    13.883     30.962 ... 49.713855                       89.7\n",
      "10.65472  -1.3233    13.892     30.966 ... 49.068256                       89.8\n",
      "10.65395 -1.32195    13.901     30.971 ...  48.39922                       89.8\n",
      "10.65319 -1.32061     13.91     30.975 ... 47.707887                       89.8\n",
      "10.65243 -1.31926    13.919     30.979 ... 46.995365                       89.9\n",
      "10.65167 -1.31792    13.928     30.984 ... 46.262722                       89.9\n",
      "10.65092 -1.31657    13.937     30.988 ... 45.510985                       89.9\n",
      "10.65017 -1.31522    13.946     30.993 ... 44.741141                       90.0\n",
      "10.64942 -1.31388    13.955     30.997 ... 43.954135                       90.0\n",
      "     ...      ...       ...        ... ...       ...            ...         ...\n",
      "10.63146 -1.27905    14.142     31.112 ... 19.689225                       90.8\n",
      "10.63083 -1.27772    14.147     31.116 ... 18.669037                       90.9\n",
      "10.63021 -1.27638    14.152      31.12 ... 17.645418                       90.9\n",
      " 10.6296 -1.27505    14.157     31.125 ...  16.61859                       90.9\n",
      "10.62899 -1.27372    14.161     31.129 ... 15.588767                       90.9\n",
      "10.62839 -1.27239    14.166     31.133 ... 14.556156                       91.0\n",
      " 10.6278 -1.27106     14.17     31.138 ... 13.520955                       91.0\n",
      "10.62721 -1.26972    14.174     31.142 ... 12.483357                       91.0\n",
      "10.62662 -1.26839    14.178     31.146 ... 11.443548                       91.1\n",
      "10.62604 -1.26706    14.182     31.151 ... 10.401708                       91.1\n",
      "Length = 45 rows\n",
      "   RA      DEC   RA_3sigma DEC_3sigma ...     EL    solar_presence lunar_elong\n",
      "  deg      deg     arcsec    arcsec   ...    deg                       deg    \n",
      "-------- ------- --------- ---------- ... --------- -------------- -----------\n",
      "27.44803 3.29296     0.573      0.511 ... 60.265123                       72.5\n",
      "27.44605 3.29267     0.571      0.511 ... 60.062349                       72.5\n",
      "27.44407 3.29237     0.569      0.512 ... 59.815128                       72.6\n",
      "27.44211 3.29207     0.566      0.512 ... 59.524554                       72.6\n",
      "27.44015 3.29176     0.564      0.512 ... 59.191871                       72.7\n",
      " 27.4382 3.29146     0.562      0.512 ... 58.818443                       72.7\n",
      "27.43625 3.29115      0.56      0.512 ... 58.405735                       72.7\n",
      "27.43432 3.29083     0.558      0.512 ... 57.955288                       72.8\n",
      "27.43241 3.29052     0.556      0.513 ... 57.468694                       72.8\n",
      " 27.4305  3.2902     0.554      0.513 ... 56.947576                       72.8\n",
      "     ...     ...       ...        ... ...       ...            ...         ...\n",
      "27.38478 3.27934     0.518      0.517 ...   31.8409                       73.8\n",
      "27.38379 3.27894     0.517      0.517 ... 30.837987                       73.9\n",
      "27.38285 3.27854     0.517      0.517 ... 29.830263                       73.9\n",
      "27.38195 3.27814     0.516      0.517 ... 28.818045                       73.9\n",
      "27.38109 3.27774     0.516      0.517 ... 27.801635                       73.9\n",
      "27.38029 3.27733     0.515      0.518 ... 26.781317                       74.0\n",
      "27.37952 3.27693     0.515      0.518 ... 25.757362              A        74.0\n",
      "27.37881 3.27652     0.515      0.518 ... 24.730029              A        74.0\n",
      "27.37814 3.27611     0.514      0.518 ... 23.699564              A        74.1\n",
      "27.37752  3.2757     0.514      0.518 ... 22.666202              A        74.1\n",
      "Length = 49 rows\n"
     ]
    }
   ],
   "source": [
    "cols = ['RA', 'DEC', 'RA_3sigma', 'DEC_3sigma', 'V', 'airmass', 'epoch' , 'EL', 'solar_presence', 'lunar_elong']\n",
    "for t in targets:\n",
    "    print(ephs[t][cols])"
   ]
  },
  {
   "cell_type": "code",
   "execution_count": 96,
   "metadata": {},
   "outputs": [
    {
     "name": "stdout",
     "output_type": "stream",
     "text": [
      "Target 2020 SV3\n",
      "2020-10-09T08:00:00.000 tcc track 26.68366, 23.44166,         -7.841280864197532e-06, 1.095008487654321e-05         Fk5=2000.0 /Rotangle=0.0 /Rottype=Object\n",
      "2020-10-09T08:05:00.000 tcc track 26.68109, 23.44494,         -7.840740740740741e-06, 1.0945100308641975e-05         Fk5=2000.0 /Rotangle=0.0 /Rottype=Object\n",
      "2020-10-09T08:10:00.000 tcc track 26.67852, 23.44822,         -7.839891975308643e-06, 1.0940123456790123e-05         Fk5=2000.0 /Rotangle=0.0 /Rottype=Object\n",
      "2020-10-09T08:15:00.000 tcc track 26.67596, 23.4515,         -7.838811728395062e-06, 1.0935162037037037e-05         Fk5=2000.0 /Rotangle=0.0 /Rottype=Object\n",
      "2020-10-09T08:20:00.000 tcc track 26.67339, 23.45478,         -7.837422839506173e-06, 1.0930216049382715e-05         Fk5=2000.0 /Rotangle=0.0 /Rottype=Object\n",
      "2020-10-09T08:25:00.000 tcc track 26.67082, 23.45805,         -7.835802469135804e-06, 1.0925285493827162e-05         Fk5=2000.0 /Rotangle=0.0 /Rottype=Object\n",
      "2020-10-09T08:30:00.000 tcc track 26.66826, 23.46133,         -7.833873456790124e-06, 1.0920378086419752e-05         Fk5=2000.0 /Rotangle=0.0 /Rottype=Object\n",
      "2020-10-09T08:35:00.000 tcc track 26.66569, 23.4646,         -7.831712962962963e-06, 1.0915493827160494e-05         Fk5=2000.0 /Rotangle=0.0 /Rottype=Object\n",
      "2020-10-09T08:40:00.000 tcc track 26.66313, 23.46787,         -7.829243827160494e-06, 1.0910632716049383e-05         Fk5=2000.0 /Rotangle=0.0 /Rottype=Object\n",
      "2020-10-09T08:45:00.000 tcc track 26.66056, 23.47114,         -7.826543209876544e-06, 1.090579475308642e-05         Fk5=2000.0 /Rotangle=0.0 /Rottype=Object\n",
      "2020-10-09T08:50:00.000 tcc track 26.658, 23.47441,         -7.823611111111111e-06, 1.0900995370370371e-05         Fk5=2000.0 /Rotangle=0.0 /Rottype=Object\n",
      "2020-10-09T08:55:00.000 tcc track 26.65544, 23.47768,         -7.82037037037037e-06, 1.089621913580247e-05         Fk5=2000.0 /Rotangle=0.0 /Rottype=Object\n",
      "2020-10-09T09:00:00.000 tcc track 26.65288, 23.48094,         -7.816898148148149e-06, 1.0891481481481483e-05         Fk5=2000.0 /Rotangle=0.0 /Rottype=Object\n",
      "2020-10-09T09:05:00.000 tcc track 26.65032, 23.48421,         -7.813117283950617e-06, 1.0886774691358025e-05         Fk5=2000.0 /Rotangle=0.0 /Rottype=Object\n",
      "2020-10-09T09:10:00.000 tcc track 26.64776, 23.48747,         -7.809182098765431e-06, 1.0882114197530864e-05         Fk5=2000.0 /Rotangle=0.0 /Rottype=Object\n",
      "2020-10-09T09:15:00.000 tcc track 26.6452, 23.49073,         -7.804938271604939e-06, 1.0877484567901234e-05         Fk5=2000.0 /Rotangle=0.0 /Rottype=Object\n",
      "2020-10-09T09:20:00.000 tcc track 26.64265, 23.49399,         -7.800385802469136e-06, 1.0872908950617285e-05         Fk5=2000.0 /Rotangle=0.0 /Rottype=Object\n",
      "2020-10-09T09:25:00.000 tcc track 26.64009, 23.49725,         -7.79567901234568e-06, 1.0868371913580246e-05         Fk5=2000.0 /Rotangle=0.0 /Rottype=Object\n",
      "2020-10-09T09:30:00.000 tcc track 26.63754, 23.50051,         -7.790663580246914e-06, 1.0863881172839505e-05         Fk5=2000.0 /Rotangle=0.0 /Rottype=Object\n",
      "2020-10-09T09:35:00.000 tcc track 26.63499, 23.50376,         -7.785416666666667e-06, 1.0859444444444445e-05         Fk5=2000.0 /Rotangle=0.0 /Rottype=Object\n",
      "2020-10-09T09:40:00.000 tcc track 26.63244, 23.50702,         -7.780015432098765e-06, 1.085505401234568e-05         Fk5=2000.0 /Rotangle=0.0 /Rottype=Object\n",
      "2020-10-09T09:45:00.000 tcc track 26.62989, 23.51027,         -7.774305555555556e-06, 1.0850725308641976e-05         Fk5=2000.0 /Rotangle=0.0 /Rottype=Object\n",
      "2020-10-09T09:50:00.000 tcc track 26.62734, 23.51353,         -7.768364197530865e-06, 1.0846442901234567e-05         Fk5=2000.0 /Rotangle=0.0 /Rottype=Object\n",
      "2020-10-09T09:55:00.000 tcc track 26.6248, 23.51678,         -7.762191358024691e-06, 1.0842222222222222e-05         Fk5=2000.0 /Rotangle=0.0 /Rottype=Object\n",
      "2020-10-09T10:00:00.000 tcc track 26.62226, 23.52003,         -7.755787037037036e-06, 1.0838063271604937e-05         Fk5=2000.0 /Rotangle=0.0 /Rottype=Object\n",
      "2020-10-09T10:05:00.000 tcc track 26.61972, 23.52327,         -7.749151234567902e-06, 1.0833966049382716e-05         Fk5=2000.0 /Rotangle=0.0 /Rottype=Object\n",
      "2020-10-09T10:10:00.000 tcc track 26.61718, 23.52652,         -7.742361111111111e-06, 1.0829930555555556e-05         Fk5=2000.0 /Rotangle=0.0 /Rottype=Object\n",
      "2020-10-09T10:15:00.000 tcc track 26.61464, 23.52977,         -7.735262345679012e-06, 1.082596450617284e-05         Fk5=2000.0 /Rotangle=0.0 /Rottype=Object\n",
      "2020-10-09T10:20:00.000 tcc track 26.61211, 23.53301,         -7.72800925925926e-06, 1.0822060185185185e-05         Fk5=2000.0 /Rotangle=0.0 /Rottype=Object\n",
      "2020-10-09T10:25:00.000 tcc track 26.60958, 23.53626,         -7.720524691358025e-06, 1.0818233024691357e-05         Fk5=2000.0 /Rotangle=0.0 /Rottype=Object\n",
      "2020-10-09T10:30:00.000 tcc track 26.60705, 23.5395,         -7.712862654320988e-06, 1.0814475308641975e-05         Fk5=2000.0 /Rotangle=0.0 /Rottype=Object\n",
      "2020-10-09T10:35:00.000 tcc track 26.60452, 23.54274,         -7.704992283950617e-06, 1.0810787037037037e-05         Fk5=2000.0 /Rotangle=0.0 /Rottype=Object\n",
      "2020-10-09T10:40:00.000 tcc track 26.602, 23.54598,         -7.696921296296296e-06, 1.0807175925925927e-05         Fk5=2000.0 /Rotangle=0.0 /Rottype=Object\n",
      "2020-10-09T10:45:00.000 tcc track 26.59948, 23.54922,         -7.688657407407407e-06, 1.0803641975308642e-05         Fk5=2000.0 /Rotangle=0.0 /Rottype=Object\n",
      "2020-10-09T10:50:00.000 tcc track 26.59696, 23.55246,         -7.680208333333333e-06, 1.0800185185185186e-05         Fk5=2000.0 /Rotangle=0.0 /Rottype=Object\n",
      "2020-10-09T10:55:00.000 tcc track 26.59444, 23.5557,         -7.671574074074073e-06, 1.079681327160494e-05         Fk5=2000.0 /Rotangle=0.0 /Rottype=Object\n",
      "2020-10-09T11:00:00.000 tcc track 26.59193, 23.55893,         -7.662762345679013e-06, 1.0793518518518517e-05         Fk5=2000.0 /Rotangle=0.0 /Rottype=Object\n",
      "2020-10-09T11:05:00.000 tcc track 26.58942, 23.56217,         -7.653780864197531e-06, 1.0790308641975308e-05         Fk5=2000.0 /Rotangle=0.0 /Rottype=Object\n",
      "2020-10-09T11:10:00.000 tcc track 26.58691, 23.5654,         -7.64462962962963e-06, 1.0787183641975308e-05         Fk5=2000.0 /Rotangle=0.0 /Rottype=Object\n",
      "2020-10-09T11:15:00.000 tcc track 26.58441, 23.56863,         -7.635308641975308e-06, 1.0784143518518518e-05         Fk5=2000.0 /Rotangle=0.0 /Rottype=Object\n",
      "2020-10-09T11:20:00.000 tcc track 26.58191, 23.57187,         -7.625833333333333e-06, 1.078119598765432e-05         Fk5=2000.0 /Rotangle=0.0 /Rottype=Object\n",
      "2020-10-09T11:25:00.000 tcc track 26.57941, 23.5751,         -7.616195987654321e-06, 1.0778333333333333e-05         Fk5=2000.0 /Rotangle=0.0 /Rottype=Object\n",
      "2020-10-09T11:30:00.000 tcc track 26.57692, 23.57833,         -7.60641975308642e-06, 1.0775563271604937e-05         Fk5=2000.0 /Rotangle=0.0 /Rottype=Object\n",
      "2020-10-09T11:35:00.000 tcc track 26.57442, 23.58156,         -7.596489197530865e-06, 1.0772885802469137e-05         Fk5=2000.0 /Rotangle=0.0 /Rottype=Object\n",
      "2020-10-09T11:40:00.000 tcc track 26.57194, 23.58479,         -7.586427469135803e-06, 1.0770300925925925e-05         Fk5=2000.0 /Rotangle=0.0 /Rottype=Object\n",
      "2020-10-09T11:45:00.000 tcc track 26.56945, 23.58802,         -7.576226851851852e-06, 1.076780864197531e-05         Fk5=2000.0 /Rotangle=0.0 /Rottype=Object\n",
      "2020-10-09T11:50:00.000 tcc track 26.56697, 23.59125,         -7.5658950617283954e-06, 1.0765416666666667e-05         Fk5=2000.0 /Rotangle=0.0 /Rottype=Object\n",
      "2020-10-09T11:55:00.000 tcc track 26.56449, 23.59447,         -7.555447530864197e-06, 1.0763117283950618e-05         Fk5=2000.0 /Rotangle=0.0 /Rottype=Object\n",
      "2020-10-09T12:00:00.000 tcc track 26.56201, 23.5977,         -7.544876543209877e-06, 1.0760918209876543e-05         Fk5=2000.0 /Rotangle=0.0 /Rottype=Object\n",
      "Target 2013 UX14\n",
      "2020-10-09T08:00:00.000 tcc track 72.29441, 7.61722,         6.854966820987654e-06, 1.2730663580246912e-05         Fk5=2000.0 /Rotangle=0.0 /Rottype=Object\n",
      "2020-10-09T08:05:00.000 tcc track 72.29647, 7.62104,         6.840877314814815e-06, 1.2727878086419755e-05         Fk5=2000.0 /Rotangle=0.0 /Rottype=Object\n",
      "2020-10-09T08:10:00.000 tcc track 72.29853, 7.62487,         6.827134259259259e-06, 1.2725054012345678e-05         Fk5=2000.0 /Rotangle=0.0 /Rottype=Object\n",
      "2020-10-09T08:15:00.000 tcc track 72.30059, 7.62869,         6.8137438271604945e-06, 1.2722191358024693e-05         Fk5=2000.0 /Rotangle=0.0 /Rottype=Object\n",
      "2020-10-09T08:20:00.000 tcc track 72.30264, 7.63251,         6.8007121913580245e-06, 1.2719290123456792e-05         Fk5=2000.0 /Rotangle=0.0 /Rottype=Object\n",
      "2020-10-09T08:25:00.000 tcc track 72.30469, 7.63633,         6.788043981481482e-06, 1.2716358024691359e-05         Fk5=2000.0 /Rotangle=0.0 /Rottype=Object\n",
      "2020-10-09T08:30:00.000 tcc track 72.30674, 7.64014,         6.775744598765432e-06, 1.2713379629629629e-05         Fk5=2000.0 /Rotangle=0.0 /Rottype=Object\n",
      "2020-10-09T08:35:00.000 tcc track 72.30878, 7.64396,         6.763820216049383e-06, 1.2710370370370371e-05         Fk5=2000.0 /Rotangle=0.0 /Rottype=Object\n",
      "2020-10-09T08:40:00.000 tcc track 72.31082, 7.64778,         6.752276234567901e-06, 1.2707330246913582e-05         Fk5=2000.0 /Rotangle=0.0 /Rottype=Object\n",
      "2020-10-09T08:45:00.000 tcc track 72.31285, 7.65159,         6.74111574074074e-06, 1.2704251543209877e-05         Fk5=2000.0 /Rotangle=0.0 /Rottype=Object\n",
      "2020-10-09T08:50:00.000 tcc track 72.31488, 7.65541,         6.730344907407407e-06, 1.2701141975308642e-05         Fk5=2000.0 /Rotangle=0.0 /Rottype=Object\n",
      "2020-10-09T08:55:00.000 tcc track 72.31691, 7.65922,         6.719967592592592e-06, 1.2698001543209877e-05         Fk5=2000.0 /Rotangle=0.0 /Rottype=Object\n",
      "2020-10-09T09:00:00.000 tcc track 72.31894, 7.66304,         6.709989197530864e-06, 1.2694830246913582e-05         Fk5=2000.0 /Rotangle=0.0 /Rottype=Object\n",
      "2020-10-09T09:05:00.000 tcc track 72.32096, 7.66685,         6.700412037037037e-06, 1.2691635802469136e-05         Fk5=2000.0 /Rotangle=0.0 /Rottype=Object\n",
      "2020-10-09T09:10:00.000 tcc track 72.32298, 7.67066,         6.6912415123456795e-06, 1.268841049382716e-05         Fk5=2000.0 /Rotangle=0.0 /Rottype=Object\n",
      "2020-10-09T09:15:00.000 tcc track 72.32499, 7.67447,         6.682481481481482e-06, 1.2685154320987654e-05         Fk5=2000.0 /Rotangle=0.0 /Rottype=Object\n",
      "2020-10-09T09:20:00.000 tcc track 72.32701, 7.67828,         6.674134259259259e-06, 1.2681882716049384e-05         Fk5=2000.0 /Rotangle=0.0 /Rottype=Object\n",
      "2020-10-09T09:25:00.000 tcc track 72.32902, 7.68208,         6.666204475308642e-06, 1.2678580246913582e-05         Fk5=2000.0 /Rotangle=0.0 /Rottype=Object\n",
      "2020-10-09T09:30:00.000 tcc track 72.33103, 7.68589,         6.658694444444444e-06, 1.267525462962963e-05         Fk5=2000.0 /Rotangle=0.0 /Rottype=Object\n",
      "2020-10-09T09:35:00.000 tcc track 72.33304, 7.6897,         6.651608024691359e-06, 1.2671913580246914e-05         Fk5=2000.0 /Rotangle=0.0 /Rottype=Object\n",
      "2020-10-09T09:40:00.000 tcc track 72.33504, 7.6935,         6.6449467592592594e-06, 1.266854938271605e-05         Fk5=2000.0 /Rotangle=0.0 /Rottype=Object\n",
      "2020-10-09T09:45:00.000 tcc track 72.33705, 7.69731,         6.638713734567901e-06, 1.2665162037037037e-05         Fk5=2000.0 /Rotangle=0.0 /Rottype=Object\n",
      "2020-10-09T09:50:00.000 tcc track 72.33905, 7.70111,         6.632912037037037e-06, 1.266175925925926e-05         Fk5=2000.0 /Rotangle=0.0 /Rottype=Object\n",
      "2020-10-09T09:55:00.000 tcc track 72.34105, 7.70491,         6.627543209876544e-06, 1.2658341049382716e-05         Fk5=2000.0 /Rotangle=0.0 /Rottype=Object\n",
      "2020-10-09T10:00:00.000 tcc track 72.34305, 7.70871,         6.622608796296296e-06, 1.2654907407407407e-05         Fk5=2000.0 /Rotangle=0.0 /Rottype=Object\n",
      "2020-10-09T10:05:00.000 tcc track 72.34504, 7.71251,         6.618111111111111e-06, 1.2651458333333332e-05         Fk5=2000.0 /Rotangle=0.0 /Rottype=Object\n",
      "2020-10-09T10:10:00.000 tcc track 72.34704, 7.71631,         6.614051697530864e-06, 1.2647993827160495e-05         Fk5=2000.0 /Rotangle=0.0 /Rottype=Object\n",
      "2020-10-09T10:15:00.000 tcc track 72.34903, 7.72011,         6.610431327160493e-06, 1.2644521604938271e-05         Fk5=2000.0 /Rotangle=0.0 /Rottype=Object\n",
      "2020-10-09T10:20:00.000 tcc track 72.35103, 7.7239,         6.6072515432098765e-06, 1.2641041666666667e-05         Fk5=2000.0 /Rotangle=0.0 /Rottype=Object\n",
      "2020-10-09T10:25:00.000 tcc track 72.35302, 7.7277,         6.60451311728395e-06, 1.2637546296296297e-05         Fk5=2000.0 /Rotangle=0.0 /Rottype=Object\n",
      "2020-10-09T10:30:00.000 tcc track 72.35501, 7.73149,         6.6022168209876545e-06, 1.2634043209876544e-05         Fk5=2000.0 /Rotangle=0.0 /Rottype=Object\n",
      "2020-10-09T10:35:00.000 tcc track 72.357, 7.73529,         6.600363425925927e-06, 1.263054012345679e-05         Fk5=2000.0 /Rotangle=0.0 /Rottype=Object\n",
      "2020-10-09T10:40:00.000 tcc track 72.35899, 7.73908,         6.598952160493827e-06, 1.2627029320987654e-05         Fk5=2000.0 /Rotangle=0.0 /Rottype=Object\n",
      "2020-10-09T10:45:00.000 tcc track 72.36098, 7.74287,         6.597984567901234e-06, 1.2623510802469135e-05         Fk5=2000.0 /Rotangle=0.0 /Rottype=Object\n",
      "2020-10-09T10:50:00.000 tcc track 72.36297, 7.74666,         6.597459104938271e-06, 1.2619992283950619e-05         Fk5=2000.0 /Rotangle=0.0 /Rottype=Object\n",
      "2020-10-09T10:55:00.000 tcc track 72.36496, 7.75045,         6.597375771604939e-06, 1.2616473765432098e-05         Fk5=2000.0 /Rotangle=0.0 /Rottype=Object\n",
      "2020-10-09T11:00:00.000 tcc track 72.36695, 7.75424,         6.597734567901235e-06, 1.261295524691358e-05         Fk5=2000.0 /Rotangle=0.0 /Rottype=Object\n",
      "2020-10-09T11:05:00.000 tcc track 72.36894, 7.75803,         6.5985347222222225e-06, 1.2609436728395061e-05         Fk5=2000.0 /Rotangle=0.0 /Rottype=Object\n",
      "2020-10-09T11:10:00.000 tcc track 72.37093, 7.76181,         6.599773919753086e-06, 1.2605925925925927e-05         Fk5=2000.0 /Rotangle=0.0 /Rottype=Object\n",
      "2020-10-09T11:15:00.000 tcc track 72.37293, 7.7656,         6.601452160493827e-06, 1.2602415123456791e-05         Fk5=2000.0 /Rotangle=0.0 /Rottype=Object\n",
      "2020-10-09T11:20:00.000 tcc track 72.37492, 7.76938,         6.603567901234568e-06, 1.2598912037037037e-05         Fk5=2000.0 /Rotangle=0.0 /Rottype=Object\n",
      "2020-10-09T11:25:00.000 tcc track 72.37691, 7.77316,         6.606119598765432e-06, 1.2595408950617284e-05         Fk5=2000.0 /Rotangle=0.0 /Rottype=Object\n",
      "2020-10-09T11:30:00.000 tcc track 72.3789, 7.77695,         6.609104166666666e-06, 1.2591921296296297e-05         Fk5=2000.0 /Rotangle=0.0 /Rottype=Object\n",
      "2020-10-09T11:35:00.000 tcc track 72.3809, 7.78073,         6.612521604938272e-06, 1.2588441358024691e-05         Fk5=2000.0 /Rotangle=0.0 /Rottype=Object\n",
      "2020-10-09T11:40:00.000 tcc track 72.38289, 7.78451,         6.616367283950617e-06, 1.2584969135802469e-05         Fk5=2000.0 /Rotangle=0.0 /Rottype=Object\n",
      "2020-10-09T11:45:00.000 tcc track 72.38489, 7.78828,         6.620641203703704e-06, 1.2581512345679012e-05         Fk5=2000.0 /Rotangle=0.0 /Rottype=Object\n",
      "2020-10-09T11:50:00.000 tcc track 72.38689, 7.79206,         6.625338734567902e-06, 1.2578063271604938e-05         Fk5=2000.0 /Rotangle=0.0 /Rottype=Object\n",
      "2020-10-09T11:55:00.000 tcc track 72.38889, 7.79584,         6.630457561728395e-06, 1.2574637345679012e-05         Fk5=2000.0 /Rotangle=0.0 /Rottype=Object\n",
      "2020-10-09T12:00:00.000 tcc track 72.39089, 7.79961,         6.635995370370371e-06, 1.257121913580247e-05         Fk5=2000.0 /Rotangle=0.0 /Rottype=Object\n",
      "Target 2020 SW5\n",
      "2020-10-09T08:00:00.000 tcc track 10.65626, -1.326,         -2.5738966049382715e-06, 4.494874228395062e-06         Fk5=2000.0 /Rotangle=0.0 /Rottype=Object\n",
      "2020-10-09T08:05:00.000 tcc track 10.65549, -1.32465,         -2.565493827160494e-06, 4.493630401234568e-06         Fk5=2000.0 /Rotangle=0.0 /Rottype=Object\n",
      "2020-10-09T08:10:00.000 tcc track 10.65472, -1.3233,         -2.5567129629629628e-06, 4.492381944444444e-06         Fk5=2000.0 /Rotangle=0.0 /Rottype=Object\n",
      "2020-10-09T08:15:00.000 tcc track 10.65395, -1.32195,         -2.5475540123456792e-06, 4.491128858024691e-06         Fk5=2000.0 /Rotangle=0.0 /Rottype=Object\n",
      "2020-10-09T08:20:00.000 tcc track 10.65319, -1.32061,         -2.5380246913580247e-06, 4.489872685185185e-06         Fk5=2000.0 /Rotangle=0.0 /Rottype=Object\n",
      "2020-10-09T08:25:00.000 tcc track 10.65243, -1.31926,         -2.5281172839506176e-06, 4.488611111111111e-06         Fk5=2000.0 /Rotangle=0.0 /Rottype=Object\n",
      "2020-10-09T08:30:00.000 tcc track 10.65167, -1.31792,         -2.517854938271605e-06, 4.487345679012346e-06         Fk5=2000.0 /Rotangle=0.0 /Rottype=Object\n",
      "2020-10-09T08:35:00.000 tcc track 10.65092, -1.31657,         -2.5072222222222223e-06, 4.486074845679012e-06         Fk5=2000.0 /Rotangle=0.0 /Rottype=Object\n",
      "2020-10-09T08:40:00.000 tcc track 10.65017, -1.31522,         -2.4962422839506175e-06, 4.484799382716049e-06         Fk5=2000.0 /Rotangle=0.0 /Rottype=Object\n",
      "2020-10-09T08:45:00.000 tcc track 10.64942, -1.31388,         -2.4849074074074076e-06, 4.4835192901234566e-06         Fk5=2000.0 /Rotangle=0.0 /Rottype=Object\n",
      "2020-10-09T08:50:00.000 tcc track 10.64867, -1.31254,         -2.4732330246913583e-06, 4.482233024691358e-06         Fk5=2000.0 /Rotangle=0.0 /Rottype=Object\n",
      "2020-10-09T08:55:00.000 tcc track 10.64793, -1.31119,         -2.4612114197530867e-06, 4.48094212962963e-06         Fk5=2000.0 /Rotangle=0.0 /Rottype=Object\n",
      "2020-10-09T09:00:00.000 tcc track 10.6472, -1.30985,         -2.448858024691358e-06, 4.479645833333334e-06         Fk5=2000.0 /Rotangle=0.0 /Rottype=Object\n",
      "2020-10-09T09:05:00.000 tcc track 10.64646, -1.3085,         -2.436172839506173e-06, 4.478344135802469e-06         Fk5=2000.0 /Rotangle=0.0 /Rottype=Object\n",
      "2020-10-09T09:10:00.000 tcc track 10.64573, -1.30716,         -2.4231712962962964e-06, 4.477037037037037e-06         Fk5=2000.0 /Rotangle=0.0 /Rottype=Object\n",
      "2020-10-09T09:15:00.000 tcc track 10.64501, -1.30582,         -2.4098533950617284e-06, 4.475722993827161e-06         Fk5=2000.0 /Rotangle=0.0 /Rottype=Object\n",
      "2020-10-09T09:20:00.000 tcc track 10.64429, -1.30448,         -2.396219135802469e-06, 4.474404320987654e-06         Fk5=2000.0 /Rotangle=0.0 /Rottype=Object\n",
      "2020-10-09T09:25:00.000 tcc track 10.64357, -1.30313,         -2.382283950617284e-06, 4.473078703703704e-06         Fk5=2000.0 /Rotangle=0.0 /Rottype=Object\n",
      "2020-10-09T09:30:00.000 tcc track 10.64286, -1.30179,         -2.368047839506173e-06, 4.471747685185185e-06         Fk5=2000.0 /Rotangle=0.0 /Rottype=Object\n",
      "2020-10-09T09:35:00.000 tcc track 10.64215, -1.30045,         -2.3535185185185185e-06, 4.470409722222222e-06         Fk5=2000.0 /Rotangle=0.0 /Rottype=Object\n",
      "2020-10-09T09:40:00.000 tcc track 10.64144, -1.29911,         -2.3387114197530866e-06, 4.469065586419753e-06         Fk5=2000.0 /Rotangle=0.0 /Rottype=Object\n",
      "2020-10-09T09:45:00.000 tcc track 10.64074, -1.29777,         -2.323618827160494e-06, 4.467715277777778e-06         Fk5=2000.0 /Rotangle=0.0 /Rottype=Object\n",
      "2020-10-09T09:50:00.000 tcc track 10.64005, -1.29643,         -2.308263888888889e-06, 4.466358024691358e-06         Fk5=2000.0 /Rotangle=0.0 /Rottype=Object\n",
      "2020-10-09T09:55:00.000 tcc track 10.63936, -1.29509,         -2.292638888888889e-06, 4.464994598765432e-06         Fk5=2000.0 /Rotangle=0.0 /Rottype=Object\n",
      "2020-10-09T10:00:00.000 tcc track 10.63867, -1.29375,         -2.276759259259259e-06, 4.463624228395062e-06         Fk5=2000.0 /Rotangle=0.0 /Rottype=Object\n",
      "2020-10-09T10:05:00.000 tcc track 10.63799, -1.29241,         -2.2606327160493825e-06, 4.4622476851851854e-06         Fk5=2000.0 /Rotangle=0.0 /Rottype=Object\n",
      "2020-10-09T10:10:00.000 tcc track 10.63731, -1.29108,         -2.2442592592592594e-06, 4.460863425925926e-06         Fk5=2000.0 /Rotangle=0.0 /Rottype=Object\n",
      "2020-10-09T10:15:00.000 tcc track 10.63664, -1.28974,         -2.227654320987654e-06, 4.459472993827161e-06         Fk5=2000.0 /Rotangle=0.0 /Rottype=Object\n",
      "2020-10-09T10:20:00.000 tcc track 10.63597, -1.2884,         -2.2108256172839506e-06, 4.458074845679012e-06         Fk5=2000.0 /Rotangle=0.0 /Rottype=Object\n",
      "2020-10-09T10:25:00.000 tcc track 10.63531, -1.28706,         -2.1937731481481483e-06, 4.45666975308642e-06         Fk5=2000.0 /Rotangle=0.0 /Rottype=Object\n",
      "2020-10-09T10:30:00.000 tcc track 10.63466, -1.28573,         -2.176512345679012e-06, 4.455257716049383e-06         Fk5=2000.0 /Rotangle=0.0 /Rottype=Object\n",
      "2020-10-09T10:35:00.000 tcc track 10.63401, -1.28439,         -2.1590432098765435e-06, 4.4538387345679014e-06         Fk5=2000.0 /Rotangle=0.0 /Rottype=Object\n",
      "2020-10-09T10:40:00.000 tcc track 10.63336, -1.28306,         -2.141388888888889e-06, 4.452412037037037e-06         Fk5=2000.0 /Rotangle=0.0 /Rottype=Object\n",
      "2020-10-09T10:45:00.000 tcc track 10.63272, -1.28172,         -2.123541666666667e-06, 4.450978395061728e-06         Fk5=2000.0 /Rotangle=0.0 /Rottype=Object\n",
      "2020-10-09T10:50:00.000 tcc track 10.63209, -1.28039,         -2.105516975308642e-06, 4.4495370370370364e-06         Fk5=2000.0 /Rotangle=0.0 /Rottype=Object\n",
      "2020-10-09T10:55:00.000 tcc track 10.63146, -1.27905,         -2.0873225308641978e-06, 4.4480887345679015e-06         Fk5=2000.0 /Rotangle=0.0 /Rottype=Object\n",
      "2020-10-09T11:00:00.000 tcc track 10.63083, -1.27772,         -2.068966049382716e-06, 4.4466327160493825e-06         Fk5=2000.0 /Rotangle=0.0 /Rottype=Object\n",
      "2020-10-09T11:05:00.000 tcc track 10.63021, -1.27638,         -2.0504552469135803e-06, 4.4451697530864195e-06         Fk5=2000.0 /Rotangle=0.0 /Rottype=Object\n",
      "2020-10-09T11:10:00.000 tcc track 10.6296, -1.27505,         -2.0318055555555555e-06, 4.443698302469136e-06         Fk5=2000.0 /Rotangle=0.0 /Rottype=Object\n",
      "2020-10-09T11:15:00.000 tcc track 10.62899, -1.27372,         -2.0130169753086418e-06, 4.4422199074074075e-06         Fk5=2000.0 /Rotangle=0.0 /Rottype=Object\n",
      "2020-10-09T11:20:00.000 tcc track 10.62839, -1.27239,         -1.994097222222222e-06, 4.440734567901235e-06         Fk5=2000.0 /Rotangle=0.0 /Rottype=Object\n",
      "2020-10-09T11:25:00.000 tcc track 10.6278, -1.27106,         -1.9750617283950617e-06, 4.43924074074074e-06         Fk5=2000.0 /Rotangle=0.0 /Rottype=Object\n",
      "2020-10-09T11:30:00.000 tcc track 10.62721, -1.26972,         -1.9559182098765432e-06, 4.437739969135803e-06         Fk5=2000.0 /Rotangle=0.0 /Rottype=Object\n",
      "2020-10-09T11:35:00.000 tcc track 10.62662, -1.26839,         -1.9366666666666666e-06, 4.436231481481482e-06         Fk5=2000.0 /Rotangle=0.0 /Rottype=Object\n",
      "2020-10-09T11:40:00.000 tcc track 10.62604, -1.26706,         -1.91733024691358e-06, 4.434715277777777e-06         Fk5=2000.0 /Rotangle=0.0 /Rottype=Object\n",
      "Target 2020 SO\n",
      "2020-10-09T08:00:00.000 tcc track 27.44803, 3.29296,         -6.594953703703704e-06, -9.70733024691358e-07         Fk5=2000.0 /Rotangle=0.0 /Rottype=Object\n",
      "2020-10-09T08:05:00.000 tcc track 27.44605, 3.29267,         -6.579452160493827e-06, -9.812731481481482e-07         Fk5=2000.0 /Rotangle=0.0 /Rottype=Object\n",
      "2020-10-09T08:10:00.000 tcc track 27.44407, 3.29237,         -6.560069444444445e-06, -9.917978395061728e-07         Fk5=2000.0 /Rotangle=0.0 /Rottype=Object\n",
      "2020-10-09T08:15:00.000 tcc track 27.44211, 3.29207,         -6.536836419753087e-06, -1.0022839506172839e-06         Fk5=2000.0 /Rotangle=0.0 /Rottype=Object\n",
      "2020-10-09T08:20:00.000 tcc track 27.44015, 3.29176,         -6.50974537037037e-06, -1.0127391975308642e-06         Fk5=2000.0 /Rotangle=0.0 /Rottype=Object\n",
      "2020-10-09T08:25:00.000 tcc track 27.4382, 3.29146,         -6.478819444444445e-06, -1.0231481481481481e-06         Fk5=2000.0 /Rotangle=0.0 /Rottype=Object\n",
      "2020-10-09T08:30:00.000 tcc track 27.43625, 3.29115,         -6.444066358024692e-06, -1.0335185185185184e-06         Fk5=2000.0 /Rotangle=0.0 /Rottype=Object\n",
      "2020-10-09T08:35:00.000 tcc track 27.43432, 3.29083,         -6.4055092592592596e-06, -1.0438348765432098e-06         Fk5=2000.0 /Rotangle=0.0 /Rottype=Object\n",
      "2020-10-09T08:40:00.000 tcc track 27.43241, 3.29052,         -6.3631635802469134e-06, -1.0540972222222221e-06         Fk5=2000.0 /Rotangle=0.0 /Rottype=Object\n",
      "2020-10-09T08:45:00.000 tcc track 27.4305, 3.2902,         -6.3170524691358026e-06, -1.064297839506173e-06         Fk5=2000.0 /Rotangle=0.0 /Rottype=Object\n",
      "2020-10-09T08:50:00.000 tcc track 27.42861, 3.28987,         -6.267191358024692e-06, -1.074429012345679e-06         Fk5=2000.0 /Rotangle=0.0 /Rottype=Object\n",
      "2020-10-09T08:55:00.000 tcc track 27.42674, 3.28955,         -6.2136111111111115e-06, -1.0844984567901234e-06         Fk5=2000.0 /Rotangle=0.0 /Rottype=Object\n",
      "2020-10-09T09:00:00.000 tcc track 27.42488, 3.28922,         -6.15633487654321e-06, -1.094483024691358e-06         Fk5=2000.0 /Rotangle=0.0 /Rottype=Object\n",
      "2020-10-09T09:05:00.000 tcc track 27.42304, 3.28889,         -6.095393518518519e-06, -1.1043981481481482e-06         Fk5=2000.0 /Rotangle=0.0 /Rottype=Object\n",
      "2020-10-09T09:10:00.000 tcc track 27.42121, 3.28855,         -6.030810185185185e-06, -1.1142206790123457e-06         Fk5=2000.0 /Rotangle=0.0 /Rottype=Object\n",
      "2020-10-09T09:15:00.000 tcc track 27.41941, 3.28822,         -5.962623456790123e-06, -1.1239583333333334e-06         Fk5=2000.0 /Rotangle=0.0 /Rottype=Object\n",
      "2020-10-09T09:20:00.000 tcc track 27.41763, 3.28788,         -5.890864197530865e-06, -1.1336033950617283e-06         Fk5=2000.0 /Rotangle=0.0 /Rottype=Object\n",
      "2020-10-09T09:25:00.000 tcc track 27.41587, 3.28753,         -5.815555555555556e-06, -1.1431481481481483e-06         Fk5=2000.0 /Rotangle=0.0 /Rottype=Object\n",
      "2020-10-09T09:30:00.000 tcc track 27.41414, 3.28719,         -5.736751543209876e-06, -1.1525925925925925e-06         Fk5=2000.0 /Rotangle=0.0 /Rottype=Object\n",
      "2020-10-09T09:35:00.000 tcc track 27.41243, 3.28684,         -5.654483024691358e-06, -1.1619212962962964e-06         Fk5=2000.0 /Rotangle=0.0 /Rottype=Object\n",
      "2020-10-09T09:40:00.000 tcc track 27.41074, 3.28649,         -5.568788580246913e-06, -1.171141975308642e-06         Fk5=2000.0 /Rotangle=0.0 /Rottype=Object\n",
      "2020-10-09T09:45:00.000 tcc track 27.40908, 3.28613,         -5.47971450617284e-06, -1.1802546296296297e-06         Fk5=2000.0 /Rotangle=0.0 /Rottype=Object\n",
      "2020-10-09T09:50:00.000 tcc track 27.40745, 3.28578,         -5.387291666666667e-06, -1.189236111111111e-06         Fk5=2000.0 /Rotangle=0.0 /Rottype=Object\n",
      "2020-10-09T09:55:00.000 tcc track 27.40584, 3.28542,         -5.291581790123457e-06, -1.198094135802469e-06         Fk5=2000.0 /Rotangle=0.0 /Rottype=Object\n",
      "2020-10-09T10:00:00.000 tcc track 27.40427, 3.28505,         -5.192623456790124e-06, -1.206820987654321e-06         Fk5=2000.0 /Rotangle=0.0 /Rottype=Object\n",
      "2020-10-09T10:05:00.000 tcc track 27.40272, 3.28469,         -5.09045524691358e-06, -1.2154243827160492e-06         Fk5=2000.0 /Rotangle=0.0 /Rottype=Object\n",
      "2020-10-09T10:10:00.000 tcc track 27.40121, 3.28432,         -4.985146604938272e-06, -1.2238811728395061e-06         Fk5=2000.0 /Rotangle=0.0 /Rottype=Object\n",
      "2020-10-09T10:15:00.000 tcc track 27.39973, 3.28395,         -4.876728395061728e-06, -1.2321990740740742e-06         Fk5=2000.0 /Rotangle=0.0 /Rottype=Object\n",
      "2020-10-09T10:20:00.000 tcc track 27.39828, 3.28358,         -4.7652700617283955e-06, -1.2403703703703703e-06         Fk5=2000.0 /Rotangle=0.0 /Rottype=Object\n",
      "2020-10-09T10:25:00.000 tcc track 27.39687, 3.28321,         -4.650817901234568e-06, -1.2483873456790122e-06         Fk5=2000.0 /Rotangle=0.0 /Rottype=Object\n",
      "2020-10-09T10:30:00.000 tcc track 27.39549, 3.28283,         -4.533425925925926e-06, -1.2562577160493825e-06         Fk5=2000.0 /Rotangle=0.0 /Rottype=Object\n",
      "2020-10-09T10:35:00.000 tcc track 27.39414, 3.28245,         -4.4131481481481485e-06, -1.2639737654320987e-06         Fk5=2000.0 /Rotangle=0.0 /Rottype=Object\n",
      "2020-10-09T10:40:00.000 tcc track 27.39284, 3.28207,         -4.290054012345679e-06, -1.271520061728395e-06         Fk5=2000.0 /Rotangle=0.0 /Rottype=Object\n",
      "2020-10-09T10:45:00.000 tcc track 27.39157, 3.28168,         -4.164189814814815e-06, -1.278912037037037e-06         Fk5=2000.0 /Rotangle=0.0 /Rottype=Object\n",
      "2020-10-09T10:50:00.000 tcc track 27.39033, 3.2813,         -4.0356327160493825e-06, -1.2861265432098764e-06         Fk5=2000.0 /Rotangle=0.0 /Rottype=Object\n",
      "2020-10-09T10:55:00.000 tcc track 27.38914, 3.28091,         -3.904429012345679e-06, -1.2931790123456789e-06         Fk5=2000.0 /Rotangle=0.0 /Rottype=Object\n",
      "2020-10-09T11:00:00.000 tcc track 27.38799, 3.28052,         -3.7706481481481483e-06, -1.3000540123456791e-06         Fk5=2000.0 /Rotangle=0.0 /Rottype=Object\n",
      "2020-10-09T11:05:00.000 tcc track 27.38688, 3.28013,         -3.634359567901235e-06, -1.3067515432098766e-06         Fk5=2000.0 /Rotangle=0.0 /Rottype=Object\n",
      "2020-10-09T11:10:00.000 tcc track 27.38581, 3.27973,         -3.495625e-06, -1.313263888888889e-06         Fk5=2000.0 /Rotangle=0.0 /Rottype=Object\n",
      "2020-10-09T11:15:00.000 tcc track 27.38478, 3.27934,         -3.354513888888889e-06, -1.3195987654320987e-06         Fk5=2000.0 /Rotangle=0.0 /Rottype=Object\n",
      "2020-10-09T11:20:00.000 tcc track 27.38379, 3.27894,         -3.2110879629629628e-06, -1.3257407407407407e-06         Fk5=2000.0 /Rotangle=0.0 /Rottype=Object\n",
      "2020-10-09T11:25:00.000 tcc track 27.38285, 3.27854,         -3.065424382716049e-06, -1.3316975308641977e-06         Fk5=2000.0 /Rotangle=0.0 /Rottype=Object\n",
      "2020-10-09T11:30:00.000 tcc track 27.38195, 3.27814,         -2.9175925925925923e-06, -1.3374614197530864e-06         Fk5=2000.0 /Rotangle=0.0 /Rottype=Object\n",
      "2020-10-09T11:35:00.000 tcc track 27.38109, 3.27774,         -2.767662037037037e-06, -1.3430324074074074e-06         Fk5=2000.0 /Rotangle=0.0 /Rottype=Object\n",
      "2020-10-09T11:40:00.000 tcc track 27.38029, 3.27733,         -2.6157021604938274e-06, -1.348402777777778e-06         Fk5=2000.0 /Rotangle=0.0 /Rottype=Object\n",
      "2020-10-09T11:45:00.000 tcc track 27.37952, 3.27693,         -2.46179012345679e-06, -1.3535725308641976e-06         Fk5=2000.0 /Rotangle=0.0 /Rottype=Object\n",
      "2020-10-09T11:50:00.000 tcc track 27.37881, 3.27652,         -2.306003086419753e-06, -1.3585416666666668e-06         Fk5=2000.0 /Rotangle=0.0 /Rottype=Object\n",
      "2020-10-09T11:55:00.000 tcc track 27.37814, 3.27611,         -2.1484104938271606e-06, -1.3633024691358024e-06         Fk5=2000.0 /Rotangle=0.0 /Rottype=Object\n",
      "2020-10-09T12:00:00.000 tcc track 27.37752, 3.2757,         -1.9890895061728396e-06, -1.3678626543209877e-06         Fk5=2000.0 /Rotangle=0.0 /Rottype=Object\n"
     ]
    }
   ],
   "source": [
    "# TUI commands to slew to target.\n",
    "for t in targets:\n",
    "    print(f'Target {t}')\n",
    "    for i in range(len(ephs[t])):\n",
    "        print(f\"{ephs[t][i]['epoch'].isot} tcc track {ephs[t][i]['RA'].value}, {ephs[t][i]['DEC'].value}, \\\n",
    "        {ephs[t][i]['RA*cos(Dec)_rate'].to(u.deg/u.second).value}, {ephs[t][i]['DEC_rate'].to(u.deg/u.second).value} \\\n",
    "        Fk5=2000.0 /Rotangle=0.0 /Rottype=Object\")"
   ]
  }
 ],
 "metadata": {
  "kernelspec": {
   "display_name": "Python 3",
   "language": "python",
   "name": "python3"
  },
  "language_info": {
   "codemirror_mode": {
    "name": "ipython",
    "version": 3
   },
   "file_extension": ".py",
   "mimetype": "text/x-python",
   "name": "python",
   "nbconvert_exporter": "python",
   "pygments_lexer": "ipython3",
   "version": "3.7.9"
  }
 },
 "nbformat": 4,
 "nbformat_minor": 2
}
