{
 "cells": [
  {
   "cell_type": "code",
   "execution_count": 1,
   "metadata": {},
   "outputs": [],
   "source": [
    "import numpy as np\n",
    "import matplotlib.pyplot as plt\n",
    "%matplotlib inline\n",
    "import numpy.ma as ma\n",
    "\n",
    "import healpy as hp\n",
    "from lsst.sims.utils import _hpid2RaDec, _approx_RaDec2AltAz\n",
    "from lsst.sims.utils import Site\n",
    "\n",
    "from lsst.sims.utils import TimeHandler\n",
    "from astropy.time import Time\n",
    "import lsst.sims.cloudModel as cm"
   ]
  },
  {
   "cell_type": "code",
   "execution_count": 2,
   "metadata": {},
   "outputs": [],
   "source": [
    "# Set up a CloudModelConfig .. this could then be modified before passing to CloudModel. \n",
    "conf = cm.CloudModelConfig()"
   ]
  },
  {
   "cell_type": "code",
   "execution_count": 4,
   "metadata": {},
   "outputs": [
    {
     "name": "stdout",
     "output_type": "stream",
     "text": [
      "efd_columns ['cloud']\n",
      "efd_delta_time 0.0\n"
     ]
    }
   ],
   "source": [
    "for k, v in conf.iteritems():\n",
    "    print(k, v)"
   ]
  },
  {
   "cell_type": "code",
   "execution_count": 5,
   "metadata": {},
   "outputs": [],
   "source": [
    "# Set up and configure the CloudModel. (note that configure with no kwarg will just use defaults, as above)\n",
    "cloudModel = cm.CloudModel(conf)  "
   ]
  },
  {
   "cell_type": "code",
   "execution_count": 6,
   "metadata": {},
   "outputs": [
    {
     "data": {
      "text/plain": [
       "OrderedDict([('CloudModel_version', 'unknown'),\n",
       "             ('CloudModel_sha', 'f3ce61a0aafdc34e611c1fc08968029070731495 *'),\n",
       "             ('efd_columns', ['cloud']),\n",
       "             ('efd_delta_time', 0.0),\n",
       "             ('map_columns', ['altitude', 'azimuth'])])"
      ]
     },
     "execution_count": 6,
     "metadata": {},
     "output_type": "execute_result"
    }
   ],
   "source": [
    "# Dump the config properties and version info.\n",
    "cloudModel.status()"
   ]
  },
  {
   "cell_type": "code",
   "execution_count": 7,
   "metadata": {},
   "outputs": [
    {
     "name": "stdout",
     "output_type": "stream",
     "text": [
      "['cloud'] 0.0\n",
      "['altitude', 'azimuth']\n"
     ]
    }
   ],
   "source": [
    "# Find the values the model wants from the EFD. \n",
    "cols, deltaT = cloudModel.efd_requirements\n",
    "print(cols, deltaT)\n",
    "# Find the columns the model wants in its input map (over which to calculate the seeing values)\n",
    "print(cloudModel.map_requirements)"
   ]
  },
  {
   "cell_type": "code",
   "execution_count": 8,
   "metadata": {},
   "outputs": [],
   "source": [
    "# Set up to get seeingData from db..  (this is where EFD would step in, in future)\n",
    "t = TimeHandler(initial_date='2022-10-01')\n",
    "t2 = Time('2002-01-01', scale='utc', format='isot')\n",
    "\n",
    "cloudData = cm.CloudData(t)\n",
    "cloudData.read_data()"
   ]
  },
  {
   "cell_type": "code",
   "execution_count": 9,
   "metadata": {},
   "outputs": [],
   "source": [
    "# Take a quick peek at the FWHM_500 values throughout the lifetime of the survey. \n",
    "# (remember that the current DB repeats after a few years)\n",
    "t_end = 3650 * 24 * 60 * 60  # seconds\n",
    "t_step = 300\n",
    "times = np.arange(0, t_end + t_step/2, t_step)\n",
    "cloud = np.zeros(len(times), float)\n",
    "for i, t_now in enumerate(times):\n",
    "    cloud[i] = cloudData(t_now)"
   ]
  },
  {
   "cell_type": "code",
   "execution_count": 10,
   "metadata": {},
   "outputs": [
    {
     "data": {
      "text/plain": [
       "Text(0, 0.5, 'CLOUD')"
      ]
     },
     "execution_count": 10,
     "metadata": {},
     "output_type": "execute_result"
    },
    {
     "data": {
      "image/png": "[encoded data removed]",
      "text/plain": [
       "<Figure size 576x432 with 1 Axes>"
      ]
     },
     "metadata": {
      "needs_background": "light"
     },
     "output_type": "display_data"
    }
   ],
   "source": [
    "plt.figure(figsize=(8, 6))\n",
    "plt.plot(times, cloud, 'k-')\n",
    "plt.xlabel('Seconds (over 10 years)')\n",
    "plt.ylabel('CLOUD')"
   ]
  },
  {
   "cell_type": "code",
   "execution_count": 13,
   "metadata": {},
   "outputs": [],
   "source": [
    "# Set up grid around sky .. (places we'd be likely to calculate the FWHM_eff in the FBS)\n",
    "lsst_site = Site('LSST')\n",
    "nside = 32\n",
    "hpid = np.arange(hp.nside2npix(nside))\n",
    "ra, dec = _hpid2RaDec(nside, hpid)\n",
    "alt, az = _approx_RaDec2AltAz(ra, dec, lsst_site.latitude_rad, lsst_site.longitude_rad, t2.mjd)\n",
    "\n",
    "# If we set the mask here - it propagates. \n",
    "mask = np.where(alt < np.radians(20), True, False)\n",
    "visible = np.where(alt > np.radians(20))\n",
    "\n",
    "airmass = np.zeros(len(alt))\n",
    "airmass[visible] = 1./np.cos(np.pi/2. - alt[visible])"
   ]
  },
  {
   "cell_type": "code",
   "execution_count": 21,
   "metadata": {},
   "outputs": [
    {
     "name": "stdout",
     "output_type": "stream",
     "text": [
      "0.0\n"
     ]
    }
   ],
   "source": [
    "cloud = cloudData(t_now)\n",
    "print(cloud)"
   ]
  },
  {
   "cell_type": "code",
   "execution_count": 22,
   "metadata": {},
   "outputs": [],
   "source": [
    "# Put input telemetry and target map into dictionaries:\n",
    "mapDict = {'altitude': alt, 'azimuth': az}\n",
    "mapDictMask = {'altitude': alt[visible], 'azimuth': az[visible]}\n",
    "efdDict = {'cloud': cloud}"
   ]
  },
  {
   "cell_type": "code",
   "execution_count": 23,
   "metadata": {},
   "outputs": [
    {
     "name": "stdout",
     "output_type": "stream",
     "text": [
      "10.6 µs ± 59.2 ns per loop (mean ± std. dev. of 7 runs, 100000 loops each)\n"
     ]
    }
   ],
   "source": [
    "%%timeit\n",
    "# Check time to calculate seeing. No mask. \n",
    "cloud_sky = cloudModel(efdDict, mapDict)"
   ]
  },
  {
   "cell_type": "code",
   "execution_count": 24,
   "metadata": {},
   "outputs": [
    {
     "name": "stdout",
     "output_type": "stream",
     "text": [
      "14.5 µs ± 161 ns per loop (mean ± std. dev. of 7 runs, 100000 loops each)\n"
     ]
    }
   ],
   "source": [
    "%%timeit\n",
    "# Check time to calculate seeing. WITH mask.\n",
    "cloud_sky = np.zeros(len(alt), float)\n",
    "#print(fwhm_eff[:, visible[0]].shape)\n",
    "cloud_sky[visible] = cloudModel(efdDict, mapDictMask)"
   ]
  },
  {
   "cell_type": "code",
   "execution_count": 27,
   "metadata": {},
   "outputs": [],
   "source": [
    "# And then what about time, if you pre-allocate arrays?\n",
    "cloud_sky = np.zeros(len(alt), float)"
   ]
  },
  {
   "cell_type": "code",
   "execution_count": 28,
   "metadata": {},
   "outputs": [
    {
     "name": "stdout",
     "output_type": "stream",
     "text": [
      "10.6 µs ± 211 ns per loop (mean ± std. dev. of 7 runs, 100000 loops each)\n"
     ]
    }
   ],
   "source": [
    "%%timeit\n",
    "cloud_sky[visible] = cloudModel(efdDict, mapDictMask)"
   ]
  },
  {
   "cell_type": "code",
   "execution_count": 38,
   "metadata": {},
   "outputs": [],
   "source": [
    "# Loop over a bunch of times and calculate values.. (maybe what you'd do in the driver)\n",
    "t_end = 10 * 60 * 60  # seconds\n",
    "t_step = 30 # seconds\n",
    "times = np.arange(0, t_end + t_step/2, t_step)\n",
    "cloud_sky = np.ones(len(alt), float)\n",
    "for i, t_now in enumerate(times):\n",
    "    cloud_sky[visible] = cloudModel({'cloud': cloudData(t_now)}, mapDictMask)"
   ]
  },
  {
   "cell_type": "code",
   "execution_count": 39,
   "metadata": {},
   "outputs": [
    {
     "data": {
      "image/png": "[encoded data removed]",
      "text/plain": [
       "<Figure size 612x388.8 with 2 Axes>"
      ]
     },
     "metadata": {
      "needs_background": "light"
     },
     "output_type": "display_data"
    }
   ],
   "source": [
    "cloud_sky = np.ones(len(alt), float)\n",
    "for i, t_now in enumerate(times):\n",
    "    cloud_sky[visible] = cloudModel({'cloud':0.5}, mapDictMask)\n",
    "hp.mollview(cloud_sky)"
   ]
  },
  {
   "cell_type": "code",
   "execution_count": null,
   "metadata": {},
   "outputs": [],
   "source": []
  }
 ],
 "metadata": {
  "kernelspec": {
   "display_name": "Python 3",
   "language": "python",
   "name": "python3"
  },
  "language_info": {
   "codemirror_mode": {
    "name": "ipython",
    "version": 3
   },
   "file_extension": ".py",
   "mimetype": "text/x-python",
   "name": "python",
   "nbconvert_exporter": "python",
   "pygments_lexer": "ipython3",
   "version": "3.6.7"
  }
 },
 "nbformat": 4,
 "nbformat_minor": 2
}
