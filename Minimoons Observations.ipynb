{
 "cells": [
  {
   "cell_type": "code",
   "execution_count": 1,
   "metadata": {},
   "outputs": [],
   "source": [
    "import os\n",
    "import argparse\n",
    "import numpy as np\n",
    "import pandas as pd\n",
    "import matplotlib.pyplot as plt\n",
    "%matplotlib inline"
   ]
  },
  {
   "cell_type": "markdown",
   "metadata": {},
   "source": [
    "Import the relevant modules from the LSST stack."
   ]
  },
  {
   "cell_type": "code",
   "execution_count": 2,
   "metadata": {},
   "outputs": [],
   "source": [
    "from lsst.sims.movingObjects import Orbits\n",
    "from lsst.sims.movingObjects import LinearObs\n",
    "from lsst.sims.movingObjects import DirectObs\n",
    "\n",
    "from lsst.sims.maf.db import OpsimDatabase\n",
    "from lsst.sims.maf.batches import getColMap"
   ]
  },
  {
   "cell_type": "markdown",
   "metadata": {},
   "source": [
    "The following functions are used directly from makeLSSTobs.py - a python script in $SIMS_MOVINGOBJECTS_DIR/bin:\n",
    "\n",
    "* readOpsim\n",
    "* readOrbits\n",
    "* _setupColors\n",
    "* runObs"
   ]
  },
  {
   "cell_type": "code",
   "execution_count": 3,
   "metadata": {},
   "outputs": [],
   "source": [
    "import sys\n",
    "sys.path.extend([os.path.join(os.getenv('SIMS_MOVINGOBJECTS_DIR'), 'bin.src')])\n",
    "#print(sys.path)\n",
    "from makeLSSTobs import readOpsim, readOrbits, _setupColors, runObs, setupArgs"
   ]
  },
  {
   "cell_type": "code",
   "execution_count": 54,
   "metadata": {},
   "outputs": [
    {
     "name": "stdout",
     "output_type": "stream",
     "text": [
      "Namespace(ephMode='nbody', ephType='basic', footprint='circle', obsCode='I11', obsFile='./kraken_2026__notebook_obs.txt', obsMetadata='Opsim kraken_2026 selected with sqlconstraint  night < 1826 + Orbitfile lsst_bright_NESCv9reintv1.TCO.withH.kep', obsType='direct', opsimDb='kraken_2026.db', opsimRun='kraken_2026', orbitFile='lsst_bright_NESCv9reintv1.TCO.withH.kep.des', orbitbase='lsst_bright_NESCv9reintv1.TCO.withH.kep', outDir='.', prelimEphMode='nbody', rFov=1.75, roughTol=50.0, sqlConstraint=' night < 1826', tStep=1.0, xTol=5, yTol=3)\n"
     ]
    }
   ],
   "source": [
    "nightLimit = int(365 * 5 + 1)\n",
    "sqlConstraint = ' night < %d' % (nightLimit)\n",
    "argvalues = ['--orbitFile', 'lsst_bright_NESCv9reintv1.TCO.withH.kep.des',\n",
    "             '--opsimDb', 'kraken_2026.db', \n",
    "             '--obsFile', 'kraken_2026__notebook_obs.txt',\n",
    "             '--sqlConstraint', '%s' % (sqlConstraint),\n",
    "             '--footprint', 'circle',  \n",
    "             '--rFov', '1.75', \n",
    "             '--roughTol', '50',\n",
    "             '--tStep', '1.0',  \n",
    "             '--ephMode', 'nbody', \n",
    "             '--prelimEphMode', 'nbody']\n",
    "sys.argv = ['makeLSSTobs.py'] + argvalues\n",
    "args = setupArgs()\n",
    "print(args)"
   ]
  },
  {
   "cell_type": "markdown",
   "metadata": {},
   "source": [
    "The next few cells are the individual steps which run in main of makeLSSTobs.py. "
   ]
  },
  {
   "cell_type": "code",
   "execution_count": 55,
   "metadata": {},
   "outputs": [
    {
     "name": "stdout",
     "output_type": "stream",
     "text": [
      "Read orbit information from lsst_bright_NESCv9reintv1.TCO.withH.kep.des\n"
     ]
    }
   ],
   "source": [
    "# Read orbits.\n",
    "orbits = readOrbits(args.orbitFile)"
   ]
  },
  {
   "cell_type": "code",
   "execution_count": 6,
   "metadata": {},
   "outputs": [
    {
     "name": "stdout",
     "output_type": "stream",
     "text": [
      "Queried data from opsim kraken_2026.db, fetched 1218336 visits.\n"
     ]
    }
   ],
   "source": [
    "# Read opsim data\n",
    "opsimdata, colmap = readOpsim(args.opsimDb, constraint=args.sqlConstraint, dbcols=None)"
   ]
  },
  {
   "cell_type": "code",
   "execution_count": 7,
   "metadata": {},
   "outputs": [
    {
     "data": {
      "text/plain": [
       "(59853.016793981478, 61677.394699074073)"
      ]
     },
     "execution_count": 7,
     "metadata": {},
     "output_type": "execute_result"
    }
   ],
   "source": [
    "opsimdata['observationStartMJD'].min(), opsimdata['observationStartMJD'].max()"
   ]
  },
  {
   "cell_type": "code",
   "execution_count": 76,
   "metadata": {},
   "outputs": [
    {
     "name": "stdout",
     "output_type": "stream",
     "text": [
      "Using exact ephemeris generation: \n",
      "Generating preliminary ephemerides on a grid of 1.000000 day timesteps.\n"
     ]
    }
   ],
   "source": [
    "# Generate ephemerides.  -- skip and read from disk. \n",
    "runObs(orbits, opsimdata, args, colmap)"
   ]
  },
  {
   "cell_type": "markdown",
   "metadata": {},
   "source": [
    "Let's check out the observations file."
   ]
  },
  {
   "cell_type": "code",
   "execution_count": 37,
   "metadata": {},
   "outputs": [
    {
     "name": "stdout",
     "output_type": "stream",
     "text": [
      "lsst_br_minimoon_camera.obs 669737\n"
     ]
    }
   ],
   "source": [
    "obsFile = args.obsFile\n",
    "obsFile = 'lsst_br_minimoon_circle.obs'\n",
    "obsFile = 'lsst_br_minimoon_camera.obs'\n",
    "d = pd.read_csv(obsFile, delim_whitespace=True, comment='#')\n",
    "print(obsFile, len(d))"
   ]
  },
  {
   "cell_type": "code",
   "execution_count": 38,
   "metadata": {},
   "outputs": [
    {
     "name": "stdout",
     "output_type": "stream",
     "text": [
      "Index(['objId', 'time', 'ra', 'dec', 'dradt', 'ddecdt', 'phase', 'solarelon',\n",
      "       'helio_dist', 'geo_dist', 'magV', 'trueAnomaly', 'velocity',\n",
      "       'observationStartMJD', 'night', 'fieldRA', 'fieldDec', 'rotSkyPos',\n",
      "       'filter', 'visitExposureTime', 'seeingFwhmEff', 'seeingFwhmGeom',\n",
      "       'fiveSigmaDepth', 'solarElong', 'magFilter', 'dmagColor', 'dmagTrail',\n",
      "       'dmagDetect'],\n",
      "      dtype='object')\n"
     ]
    },
    {
     "data": {
      "text/html": [
       "<div>\n",
       "<style scoped>\n",
       "    .dataframe tbody tr th:only-of-type {\n",
       "        vertical-align: middle;\n",
       "    }\n",
       "\n",
       "    .dataframe tbody tr th {\n",
       "        vertical-align: top;\n",
       "    }\n",
       "\n",
       "    .dataframe thead th {\n",
       "        text-align: right;\n",
       "    }\n",
       "</style>\n",
       "<table border=\"1\" class=\"dataframe\">\n",
       "  <thead>\n",
       "    <tr style=\"text-align: right;\">\n",
       "      <th></th>\n",
       "      <th>objId</th>\n",
       "      <th>time</th>\n",
       "      <th>ra</th>\n",
       "      <th>dec</th>\n",
       "      <th>dradt</th>\n",
       "      <th>ddecdt</th>\n",
       "      <th>phase</th>\n",
       "      <th>solarelon</th>\n",
       "      <th>helio_dist</th>\n",
       "      <th>geo_dist</th>\n",
       "      <th>...</th>\n",
       "      <th>filter</th>\n",
       "      <th>visitExposureTime</th>\n",
       "      <th>seeingFwhmEff</th>\n",
       "      <th>seeingFwhmGeom</th>\n",
       "      <th>fiveSigmaDepth</th>\n",
       "      <th>solarElong</th>\n",
       "      <th>magFilter</th>\n",
       "      <th>dmagColor</th>\n",
       "      <th>dmagTrail</th>\n",
       "      <th>dmagDetect</th>\n",
       "    </tr>\n",
       "  </thead>\n",
       "  <tbody>\n",
       "    <tr>\n",
       "      <th>0</th>\n",
       "      <td>NESC000000MP</td>\n",
       "      <td>60062.178264</td>\n",
       "      <td>218.480910</td>\n",
       "      <td>-3.591698</td>\n",
       "      <td>-4.108637</td>\n",
       "      <td>-1.919735</td>\n",
       "      <td>10.874371</td>\n",
       "      <td>169.074956</td>\n",
       "      <td>1.011331</td>\n",
       "      <td>0.004785</td>\n",
       "      <td>...</td>\n",
       "      <td>y</td>\n",
       "      <td>30.0</td>\n",
       "      <td>0.827030</td>\n",
       "      <td>0.731819</td>\n",
       "      <td>22.059816</td>\n",
       "      <td>170.481702</td>\n",
       "      <td>25.314361</td>\n",
       "      <td>-0.407347</td>\n",
       "      <td>1.384583</td>\n",
       "      <td>2.691944</td>\n",
       "    </tr>\n",
       "    <tr>\n",
       "      <th>1</th>\n",
       "      <td>NESC000000MP</td>\n",
       "      <td>60063.187442</td>\n",
       "      <td>216.889150</td>\n",
       "      <td>-5.753383</td>\n",
       "      <td>-4.874526</td>\n",
       "      <td>-2.442663</td>\n",
       "      <td>8.535124</td>\n",
       "      <td>171.429764</td>\n",
       "      <td>1.011079</td>\n",
       "      <td>0.004235</td>\n",
       "      <td>...</td>\n",
       "      <td>y</td>\n",
       "      <td>30.0</td>\n",
       "      <td>0.894790</td>\n",
       "      <td>0.787517</td>\n",
       "      <td>21.971156</td>\n",
       "      <td>170.345638</td>\n",
       "      <td>24.958315</td>\n",
       "      <td>-0.407347</td>\n",
       "      <td>1.233318</td>\n",
       "      <td>2.385712</td>\n",
       "    </tr>\n",
       "    <tr>\n",
       "      <th>2</th>\n",
       "      <td>NESC000000MP</td>\n",
       "      <td>60064.155359</td>\n",
       "      <td>215.047178</td>\n",
       "      <td>-8.454395</td>\n",
       "      <td>-5.825453</td>\n",
       "      <td>-3.333646</td>\n",
       "      <td>6.345121</td>\n",
       "      <td>173.632247</td>\n",
       "      <td>1.010787</td>\n",
       "      <td>0.003675</td>\n",
       "      <td>...</td>\n",
       "      <td>y</td>\n",
       "      <td>30.0</td>\n",
       "      <td>0.938596</td>\n",
       "      <td>0.823526</td>\n",
       "      <td>21.897837</td>\n",
       "      <td>172.600167</td>\n",
       "      <td>24.552762</td>\n",
       "      <td>-0.407347</td>\n",
       "      <td>1.101207</td>\n",
       "      <td>2.114296</td>\n",
       "    </tr>\n",
       "    <tr>\n",
       "      <th>3</th>\n",
       "      <td>NESC000000MP</td>\n",
       "      <td>60064.155810</td>\n",
       "      <td>215.044519</td>\n",
       "      <td>-8.455900</td>\n",
       "      <td>-5.828615</td>\n",
       "      <td>-3.332639</td>\n",
       "      <td>6.344652</td>\n",
       "      <td>173.632721</td>\n",
       "      <td>1.010787</td>\n",
       "      <td>0.003675</td>\n",
       "      <td>...</td>\n",
       "      <td>y</td>\n",
       "      <td>30.0</td>\n",
       "      <td>0.928567</td>\n",
       "      <td>0.815282</td>\n",
       "      <td>21.921928</td>\n",
       "      <td>174.574606</td>\n",
       "      <td>24.552566</td>\n",
       "      <td>-0.407347</td>\n",
       "      <td>1.106238</td>\n",
       "      <td>2.124700</td>\n",
       "    </tr>\n",
       "    <tr>\n",
       "      <th>4</th>\n",
       "      <td>NESC000000MP</td>\n",
       "      <td>60065.161401</td>\n",
       "      <td>212.180930</td>\n",
       "      <td>-12.345330</td>\n",
       "      <td>-7.716708</td>\n",
       "      <td>-4.761990</td>\n",
       "      <td>6.009570</td>\n",
       "      <td>173.972145</td>\n",
       "      <td>1.010417</td>\n",
       "      <td>0.003045</td>\n",
       "      <td>...</td>\n",
       "      <td>z</td>\n",
       "      <td>30.0</td>\n",
       "      <td>0.877065</td>\n",
       "      <td>0.772948</td>\n",
       "      <td>22.848947</td>\n",
       "      <td>174.400328</td>\n",
       "      <td>24.134664</td>\n",
       "      <td>-0.399860</td>\n",
       "      <td>1.167726</td>\n",
       "      <td>2.251426</td>\n",
       "    </tr>\n",
       "  </tbody>\n",
       "</table>\n",
       "<p>5 rows × 28 columns</p>\n",
       "</div>"
      ],
      "text/plain": [
       "          objId          time          ra        dec     dradt    ddecdt  \\\n",
       "0  NESC000000MP  60062.178264  218.480910  -3.591698 -4.108637 -1.919735   \n",
       "1  NESC000000MP  60063.187442  216.889150  -5.753383 -4.874526 -2.442663   \n",
       "2  NESC000000MP  60064.155359  215.047178  -8.454395 -5.825453 -3.333646   \n",
       "3  NESC000000MP  60064.155810  215.044519  -8.455900 -5.828615 -3.332639   \n",
       "4  NESC000000MP  60065.161401  212.180930 -12.345330 -7.716708 -4.761990   \n",
       "\n",
       "       phase   solarelon  helio_dist  geo_dist     ...      filter  \\\n",
       "0  10.874371  169.074956    1.011331  0.004785     ...           y   \n",
       "1   8.535124  171.429764    1.011079  0.004235     ...           y   \n",
       "2   6.345121  173.632247    1.010787  0.003675     ...           y   \n",
       "3   6.344652  173.632721    1.010787  0.003675     ...           y   \n",
       "4   6.009570  173.972145    1.010417  0.003045     ...           z   \n",
       "\n",
       "   visitExposureTime  seeingFwhmEff  seeingFwhmGeom  fiveSigmaDepth  \\\n",
       "0               30.0       0.827030        0.731819       22.059816   \n",
       "1               30.0       0.894790        0.787517       21.971156   \n",
       "2               30.0       0.938596        0.823526       21.897837   \n",
       "3               30.0       0.928567        0.815282       21.921928   \n",
       "4               30.0       0.877065        0.772948       22.848947   \n",
       "\n",
       "   solarElong  magFilter  dmagColor dmagTrail  dmagDetect  \n",
       "0  170.481702  25.314361  -0.407347  1.384583    2.691944  \n",
       "1  170.345638  24.958315  -0.407347  1.233318    2.385712  \n",
       "2  172.600167  24.552762  -0.407347  1.101207    2.114296  \n",
       "3  174.574606  24.552566  -0.407347  1.106238    2.124700  \n",
       "4  174.400328  24.134664  -0.399860  1.167726    2.251426  \n",
       "\n",
       "[5 rows x 28 columns]"
      ]
     },
     "execution_count": 38,
     "metadata": {},
     "output_type": "execute_result"
    }
   ],
   "source": [
    "print(d.columns)\n",
    "d[0:5]"
   ]
  },
  {
   "cell_type": "code",
   "execution_count": 39,
   "metadata": {},
   "outputs": [
    {
     "data": {
      "text/plain": [
       "(0, 11000)"
      ]
     },
     "execution_count": 39,
     "metadata": {},
     "output_type": "execute_result"
    },
    {
     "data": {
      "image/png": "[encoded data removed]",
      "text/plain": [
       "<Figure size 432x288 with 1 Axes>"
      ]
     },
     "metadata": {},
     "output_type": "display_data"
    }
   ],
   "source": [
    "# Histogram of observed magnitude of all observations.\n",
    "d['obsMag'] = d.magFilter + d.dmagTrail\n",
    "#n, b, p = plt.hist(d.magFilter, bins=100, alpha=0.4, label='Magnitude in given filter, no trailing losses')\n",
    "n, b, p = plt.hist(d.obsMag, bins=300, alpha=0.5, label='Observed magnitude in given filter, with trailing losses')\n",
    "n, b, p = plt.hist(d.magV, bins=300, alpha=0.4, label='V magnitude, no trailing losses')\n",
    "plt.legend(loc='upper left', fancybox=True)\n",
    "plt.xlim(20, 42)\n",
    "plt.ylim(0, 11000)"
   ]
  },
  {
   "cell_type": "code",
   "execution_count": 40,
   "metadata": {},
   "outputs": [
    {
     "data": {
      "text/plain": [
       "[]"
      ]
     },
     "execution_count": 40,
     "metadata": {},
     "output_type": "execute_result"
    },
    {
     "data": {
      "image/png": "[encoded data removed]",
      "text/plain": [
       "<Figure size 432x288 with 1 Axes>"
      ]
     },
     "metadata": {},
     "output_type": "display_data"
    }
   ],
   "source": [
    "deltaMagLimit = d['fiveSigmaDepth'] - d['obsMag']\n",
    "\n",
    "n, b, p = plt.hist(deltaMagLimit, bins=300, alpha=0.5, label='m5 - mObs')\n",
    "plt.legend(loc='upper left', fancybox=True)\n",
    "plt.xlim(15, -20)\n",
    "#plt.ylim(0, 6000)\n",
    "plt.semilogy()"
   ]
  },
  {
   "cell_type": "code",
   "execution_count": 42,
   "metadata": {},
   "outputs": [
    {
     "name": "stdout",
     "output_type": "stream",
     "text": [
      "776 669737 776\n"
     ]
    }
   ],
   "source": [
    "# Pull out observations which are above 5 sigma SNR.  This cuts out a lot.\n",
    "d5 = d.query('obsMag <= fiveSigmaDepth')\n",
    "print(len(d5), len(d), len(np.where(deltaMagLimit>=0)[0]))"
   ]
  },
  {
   "cell_type": "code",
   "execution_count": 43,
   "metadata": {},
   "outputs": [
    {
     "data": {
      "text/plain": [
       "(0, 140)"
      ]
     },
     "execution_count": 43,
     "metadata": {},
     "output_type": "execute_result"
    },
    {
     "data": {
      "image/png": "[encoded data removed]",
      "text/plain": [
       "<Figure size 432x288 with 1 Axes>"
      ]
     },
     "metadata": {},
     "output_type": "display_data"
    }
   ],
   "source": [
    "# Histogram of observed magnitude of all observations.\n",
    "#n, b, p = plt.hist(d.magFilter, bins=100, alpha=0.4, label='Magnitude in given filter, no trailing losses')\n",
    "n, b, p = plt.hist(d5.obsMag, bins=30, alpha=0.5, label='Observed magnitude in given filter, with trailing losses')\n",
    "n, b, p = plt.hist(d5.magV, bins=b, alpha=0.4, label='V magnitude, no trailing losses')\n",
    "plt.legend(loc='upper left', fancybox=True)\n",
    "plt.ylim(0, 140)"
   ]
  },
  {
   "cell_type": "code",
   "execution_count": 44,
   "metadata": {},
   "outputs": [
    {
     "name": "stdout",
     "output_type": "stream",
     "text": [
      "158 4554\n"
     ]
    }
   ],
   "source": [
    "# Group observations per object. -- only 13 objects actually got observations.\n",
    "g = d5.groupby('objId')\n",
    "print(len(g), len(d.groupby('objId')))"
   ]
  },
  {
   "cell_type": "code",
   "execution_count": 45,
   "metadata": {},
   "outputs": [],
   "source": [
    "d5.to_csv('lsst_br_minimoon_camera_above_m5.obs', sep=' ', index=False)"
   ]
  },
  {
   "cell_type": "code",
   "execution_count": 46,
   "metadata": {},
   "outputs": [
    {
     "data": {
      "text/plain": [
       "objId\n",
       "NESC000004k9     1.0\n",
       "NESC000006bp     3.0\n",
       "NESC000009Rx     2.0\n",
       "NESC00000hnR     1.0\n",
       "NESC00000ili     2.0\n",
       "NESC00000kgP     3.0\n",
       "NESC0000166s     4.0\n",
       "NESC00001HYj     1.0\n",
       "NESC00001R9E     3.0\n",
       "NESC00001WIA     1.0\n",
       "NESC00002CVt     4.0\n",
       "NESC00002NJv     1.0\n",
       "NESC00002p3O     2.0\n",
       "NESC00002tM9     2.0\n",
       "NESC00002uyR     3.0\n",
       "NESC00003Cge     2.0\n",
       "NESC00003Ya7     1.0\n",
       "NESC00003bTJ     2.0\n",
       "NESC00004Fww     2.0\n",
       "NESC00004IOO    29.0\n",
       "NESC00004bSh     1.0\n",
       "NESC00004clT     1.0\n",
       "NESC000055Qk     3.0\n",
       "NESC00005WrG     2.0\n",
       "NESC00005jzu     4.0\n",
       "NESC00005v2k     5.0\n",
       "NESC000061et     2.0\n",
       "NESC00006vjo     1.0\n",
       "NESC00007FBV    10.0\n",
       "NESC00007RGs     7.0\n",
       "                ... \n",
       "NESC0000p83u     5.0\n",
       "NESC0000py7E     3.0\n",
       "NESC0000qvhT     4.0\n",
       "NESC0000r7K6     5.0\n",
       "NESC0000rwAH     1.0\n",
       "NESC0000s1QJ    16.0\n",
       "NESC0000sDez     4.0\n",
       "NESC0000sJxI     2.0\n",
       "NESC0000sLqJ     5.0\n",
       "NESC0000svjM     1.0\n",
       "NESC0000tfdo    11.0\n",
       "NESC0000uJ8x     3.0\n",
       "NESC0000un3T     2.0\n",
       "NESC0000v2K5    29.0\n",
       "NESC0000vFbE     6.0\n",
       "NESC0000vtjG     1.0\n",
       "NESC0000w4Di     1.0\n",
       "NESC0000wX7f     1.0\n",
       "NESC0000wm0C     5.0\n",
       "NESC0000xMDS     2.0\n",
       "NESC0000xOtn     1.0\n",
       "NESC0000xVE4     2.0\n",
       "NESC0000xVPz     4.0\n",
       "NESC0000xkqf     1.0\n",
       "NESC0000y50I     3.0\n",
       "NESC0000y8PZ    64.0\n",
       "NESC0000yA3w     3.0\n",
       "NESC0000z5ck     1.0\n",
       "NESC0000z6BR     6.0\n",
       "NESC0000zJEm     2.0\n",
       "Name: magV, Length: 158, dtype: float64"
      ]
     },
     "execution_count": 46,
     "metadata": {},
     "output_type": "execute_result"
    }
   ],
   "source": [
    "# How many observations did each object get? (at any magnitude)\n",
    "g.agg(np.size)['magV']"
   ]
  },
  {
   "cell_type": "code",
   "execution_count": 47,
   "metadata": {},
   "outputs": [
    {
     "data": {
      "image/png": "[encoded data removed]",
      "text/plain": [
       "<Figure size 576x432 with 1 Axes>"
      ]
     },
     "metadata": {},
     "output_type": "display_data"
    }
   ],
   "source": [
    "meanNo = g.agg(np.size)['magV'].median()\n",
    "plt.figure(figsize=(8, 6))\n",
    "n,b,p = plt.hist(g.agg(np.size)['magV'], bins=20)\n",
    "plt.xlabel(\"Number of observations\", fontsize='x-large')\n",
    "plt.ylabel(\"Number of objects\", fontsize='x-large')\n",
    "plt.title(\"Minimoon observations with SNR>5 during LSST yr 0-5\", fontsize='x-large')\n",
    "plt.figtext(0.6, 0.7, 'Median # of obs %d' % (meanNo), fontsize='x-large')\n",
    "#plt.xlim(0, 50)\n",
    "plt.grid(True, alpha=0.3)"
   ]
  },
  {
   "cell_type": "code",
   "execution_count": 48,
   "metadata": {},
   "outputs": [
    {
     "name": "stdout",
     "output_type": "stream",
     "text": [
      "['NESC00004IOO' 'NESC00007FBV' 'NESC00007RGs' 'NESC00008Uab' 'NESC00008l32'\n",
      " 'NESC00008pS5' 'NESC00009aXX' 'NESC0000EKfT' 'NESC0000F6Fw' 'NESC0000Fm0a'\n",
      " 'NESC0000a1TA' 'NESC0000bRto' 'NESC0000e16Z' 'NESC0000eNbl' 'NESC0000fMdk'\n",
      " 'NESC0000gkL2' 'NESC0000lDbk' 'NESC0000s1QJ' 'NESC0000tfdo' 'NESC0000v2K5'\n",
      " 'NESC0000y8PZ']\n",
      "21\n"
     ]
    }
   ],
   "source": [
    "names_n = g.agg(np.size).query('magV > 6').index.values\n",
    "print(names_n)\n",
    "print(len(names_n))"
   ]
  },
  {
   "cell_type": "code",
   "execution_count": 49,
   "metadata": {},
   "outputs": [
    {
     "data": {
      "text/plain": [
       "objId\n",
       "NESC00004IOO    29\n",
       "NESC00007FBV    10\n",
       "NESC00007RGs     7\n",
       "NESC00008Uab     7\n",
       "NESC00008l32    11\n",
       "NESC00008pS5     7\n",
       "NESC00009aXX    30\n",
       "NESC0000EKfT     9\n",
       "NESC0000F6Fw    12\n",
       "NESC0000Fm0a    12\n",
       "NESC0000a1TA    14\n",
       "NESC0000bRto    57\n",
       "NESC0000e16Z    23\n",
       "NESC0000eNbl    10\n",
       "NESC0000fMdk    27\n",
       "NESC0000gkL2    13\n",
       "NESC0000lDbk     7\n",
       "NESC0000s1QJ    16\n",
       "NESC0000tfdo    11\n",
       "NESC0000v2K5    29\n",
       "NESC0000y8PZ    64\n",
       "Name: objId, dtype: int64"
      ]
     },
     "execution_count": 49,
     "metadata": {},
     "output_type": "execute_result"
    }
   ],
   "source": [
    "d5.query('objId in @names_n').groupby('objId')['objId'].agg('count')"
   ]
  },
  {
   "cell_type": "code",
   "execution_count": 50,
   "metadata": {},
   "outputs": [
    {
     "name": "stdout",
     "output_type": "stream",
     "text": [
      "lsst_br_minimoon_camera.obs lsst_bright_NESCv9reintv1.TCO.withH.kep.des\n"
     ]
    }
   ],
   "source": [
    "# Let's just run the MAF discovery metric right here (on the objects in 'd')! \n",
    "from lsst.sims.maf import batches\n",
    "print(obsFile, args.orbitFile)\n",
    "slicer = batches.setupMoSlicer(orbitFile=args.orbitFile, Hrange=None, obsFile=None)\n",
    "slicer.allObs = d\n",
    "slicer.obs = d\n",
    "slicer.obsFile = obsFile"
   ]
  },
  {
   "cell_type": "code",
   "execution_count": 57,
   "metadata": {},
   "outputs": [
    {
     "data": {
      "text/html": [
       "<div>\n",
       "<style scoped>\n",
       "    .dataframe tbody tr th:only-of-type {\n",
       "        vertical-align: middle;\n",
       "    }\n",
       "\n",
       "    .dataframe tbody tr th {\n",
       "        vertical-align: top;\n",
       "    }\n",
       "\n",
       "    .dataframe thead th {\n",
       "        text-align: right;\n",
       "    }\n",
       "</style>\n",
       "<table border=\"1\" class=\"dataframe\">\n",
       "  <thead>\n",
       "    <tr style=\"text-align: right;\">\n",
       "      <th></th>\n",
       "      <th>objId</th>\n",
       "      <th>a</th>\n",
       "      <th>e</th>\n",
       "      <th>inc</th>\n",
       "      <th>Omega</th>\n",
       "      <th>argPeri</th>\n",
       "      <th>meanAnomaly</th>\n",
       "      <th>H</th>\n",
       "      <th>epoch</th>\n",
       "      <th>g</th>\n",
       "      <th>sed_filename</th>\n",
       "    </tr>\n",
       "  </thead>\n",
       "  <tbody>\n",
       "    <tr>\n",
       "      <th>0</th>\n",
       "      <td>NESC000000MP</td>\n",
       "      <td>1.015676</td>\n",
       "      <td>0.011896</td>\n",
       "      <td>0.591993</td>\n",
       "      <td>55.285039</td>\n",
       "      <td>53.781844</td>\n",
       "      <td>7.470065</td>\n",
       "      <td>36.606747</td>\n",
       "      <td>59958.954567</td>\n",
       "      <td>0.15</td>\n",
       "      <td>S.dat</td>\n",
       "    </tr>\n",
       "    <tr>\n",
       "      <th>1</th>\n",
       "      <td>NESC000001R0</td>\n",
       "      <td>0.987549</td>\n",
       "      <td>0.025146</td>\n",
       "      <td>0.780098</td>\n",
       "      <td>178.767627</td>\n",
       "      <td>258.189147</td>\n",
       "      <td>131.043276</td>\n",
       "      <td>32.922122</td>\n",
       "      <td>61153.011344</td>\n",
       "      <td>0.15</td>\n",
       "      <td>S.dat</td>\n",
       "    </tr>\n",
       "  </tbody>\n",
       "</table>\n",
       "</div>"
      ],
      "text/plain": [
       "          objId         a         e       inc       Omega     argPeri  \\\n",
       "0  NESC000000MP  1.015676  0.011896  0.591993   55.285039   53.781844   \n",
       "1  NESC000001R0  0.987549  0.025146  0.780098  178.767627  258.189147   \n",
       "\n",
       "   meanAnomaly          H         epoch     g sed_filename  \n",
       "0     7.470065  36.606747  59958.954567  0.15        S.dat  \n",
       "1   131.043276  32.922122  61153.011344  0.15        S.dat  "
      ]
     },
     "execution_count": 57,
     "metadata": {},
     "output_type": "execute_result"
    }
   ],
   "source": [
    "slicer.orbits[0:2]"
   ]
  },
  {
   "cell_type": "code",
   "execution_count": 51,
   "metadata": {},
   "outputs": [],
   "source": [
    "timestep = 30.\n",
    "times = np.arange(d.time.min(), d.time.max()+timestep/2.0, timestep)\n",
    "metricBundles, plots = batches.quickDiscoveryBatch(slicer, colmap=colmap, runName='kraken_2026', \n",
    "                                                   detectionLosses='detection', metadata='TCO',\n",
    "                                                   albedo=None, Hmark=22, times=times)"
   ]
  },
  {
   "cell_type": "code",
   "execution_count": 67,
   "metadata": {},
   "outputs": [],
   "source": [
    "for k in metricBundles:\n",
    "    for k2 in metricBundles[k].childBundles:\n",
    "        metricBundles[k].childBundles[k2].summaryMetrics = []"
   ]
  },
  {
   "cell_type": "code",
   "execution_count": 68,
   "metadata": {},
   "outputs": [],
   "source": [
    "import lsst.sims.maf.metricBundles as mb\n",
    "mg = mb.MoMetricBundleGroup(metricBundles)"
   ]
  },
  {
   "cell_type": "code",
   "execution_count": 69,
   "metadata": {},
   "outputs": [
    {
     "name": "stdout",
     "output_type": "stream",
     "text": [
      "Running metrics ['kraken_2026_Discovery_2x3in15_TCO_3_pairs_in_15_nights_SNReq5_detection_loss_MOOB', 'kraken_2026_Discovery_2x3in30_TCO_3_pairs_in_30_nights_SNReq5_detection_loss_MOOB']\n",
      "Calculated and saved all metrics.\n"
     ]
    }
   ],
   "source": [
    "mg.runAll()"
   ]
  },
  {
   "cell_type": "code",
   "execution_count": 32,
   "metadata": {},
   "outputs": [
    {
     "data": {
      "text/plain": [
       "{'kraken_2026_Discovery_2x3in15_TCO_3_pairs_in_15_nights_SNReq5_detection_loss_MOOB': <lsst.sims.maf.metricBundles.moMetricBundle.MoMetricBundle at 0x106a8fe48>,\n",
       " 'kraken_2026_Discovery_2x3in30_TCO_3_pairs_in_30_nights_SNReq5_detection_loss_MOOB': <lsst.sims.maf.metricBundles.moMetricBundle.MoMetricBundle at 0x1068ef0f0>}"
      ]
     },
     "execution_count": 32,
     "metadata": {},
     "output_type": "execute_result"
    }
   ],
   "source": [
    "metricBundles"
   ]
  },
  {
   "cell_type": "code",
   "execution_count": 33,
   "metadata": {},
   "outputs": [],
   "source": [
    "disc1 = metricBundles['kraken_2026_Discovery_2x3in15_TCO_3_pairs_in_15_nights_SNReq5_detection_loss_MOOB']"
   ]
  },
  {
   "cell_type": "code",
   "execution_count": 34,
   "metadata": {},
   "outputs": [
    {
     "data": {
      "text/plain": [
       "3"
      ]
     },
     "execution_count": 34,
     "metadata": {},
     "output_type": "execute_result"
    }
   ],
   "source": [
    "len(disc1.metricValues.compressed())"
   ]
  },
  {
   "cell_type": "code",
   "execution_count": 36,
   "metadata": {},
   "outputs": [
    {
     "data": {
      "text/plain": [
       "5"
      ]
     },
     "execution_count": 36,
     "metadata": {},
     "output_type": "execute_result"
    }
   ],
   "source": [
    "disc2 = metricBundles['kraken_2026_Discovery_2x3in30_TCO_3_pairs_in_30_nights_SNReq5_detection_loss_MOOB']\n",
    "len(disc2.metricValues.compressed())"
   ]
  },
  {
   "cell_type": "code",
   "execution_count": 70,
   "metadata": {},
   "outputs": [
    {
     "data": {
      "text/plain": [
       "array([ {'start': array([21]), 'end': array([30]), 'trackletNights': array([ 550,  553,  915,  918, 1058, 1060, 1260, 1266, 1384, 1387, 1390])},\n",
       "       {'start': array([], dtype=int64), 'end': array([], dtype=int64), 'trackletNights': array([520, 521, 590])},\n",
       "       {'start': array([0]), 'end': array([5]), 'trackletNights': array([1669, 1670, 1672])},\n",
       "       {'start': array([0]), 'end': array([5]), 'trackletNights': array([10, 15, 16])},\n",
       "       {'start': array([], dtype=int64), 'end': array([], dtype=int64), 'trackletNights': array([ 271,  295,  995, 1029])}], dtype=object)"
      ]
     },
     "execution_count": 70,
     "metadata": {},
     "output_type": "execute_result"
    }
   ],
   "source": [
    "disc2.metricValues.compressed()"
   ]
  },
  {
   "cell_type": "code",
   "execution_count": null,
   "metadata": {},
   "outputs": [],
   "source": []
  }
 ],
 "metadata": {
  "kernelspec": {
   "display_name": "Python 3",
   "language": "python",
   "name": "python3"
  },
  "language_info": {
   "codemirror_mode": {
    "name": "ipython",
    "version": 3
   },
   "file_extension": ".py",
   "mimetype": "text/x-python",
   "name": "python",
   "nbconvert_exporter": "python",
   "pygments_lexer": "ipython3",
   "version": "3.6.6"
  }
 },
 "nbformat": 4,
 "nbformat_minor": 2
}
