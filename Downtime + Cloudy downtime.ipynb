{
 "cells": [
  {
   "cell_type": "code",
   "execution_count": 4,
   "metadata": {},
   "outputs": [],
   "source": [
    "import os\n",
    "import numpy as np\n",
    "import matplotlib.pyplot as plt\n",
    "%matplotlib inline\n",
    "from astropy.time import Time, TimeDelta\n",
    "import lsst.sims.downtimeModel as dt\n",
    "import lsst.sims.cloudModel as cm"
   ]
  },
  {
   "cell_type": "code",
   "execution_count": 5,
   "metadata": {},
   "outputs": [],
   "source": [
    "tstart = Time('2022-10-01', format='isot', scale='tai')\n",
    "day_offset = TimeDelta(-0.34, format='jd')"
   ]
  },
  {
   "cell_type": "code",
   "execution_count": 6,
   "metadata": {},
   "outputs": [
    {
     "name": "stdout",
     "output_type": "stream",
     "text": [
      "31\n",
      "First downtime start 2022-06-07T15:50:24.000 end 2022-06-14T15:50:24.000\n",
      "Last downtime start 2041-10-29T15:50:24.000 end 2041-11-05T15:50:24.000\n"
     ]
    }
   ],
   "source": [
    "# Read scheduled downtime data.\n",
    "scheduledDowntimeData = dt.ScheduledDowntimeData(tstart, start_of_night_offset=day_offset)\n",
    "scheduledDowntimeData.read_data()\n",
    "\n",
    "print(len(scheduledDowntimeData.downtime))\n",
    "print(\"First downtime\", \"start\", scheduledDowntimeData.downtime[0]['start'].isot, \n",
    "      \"end\", scheduledDowntimeData.downtime[0]['end'].isot)\n",
    "print(\"Last downtime\", \"start\", scheduledDowntimeData.downtime[-1]['start'].isot, \n",
    "      \"end\", scheduledDowntimeData.downtime[-1]['end'].isot)"
   ]
  },
  {
   "cell_type": "code",
   "execution_count": 7,
   "metadata": {},
   "outputs": [
    {
     "name": "stdout",
     "output_type": "stream",
     "text": [
      "145\n",
      "First downtime start 2022-03-01T15:50:24.000 end 2022-03-02T15:50:24.000\n",
      "Last downtime start 2041-10-16T15:50:24.000 end 2041-10-17T15:50:24.000\n"
     ]
    }
   ],
   "source": [
    "# Read (generate) unscheduled downtime data\n",
    "unscheduledDowntimeData = dt.UnscheduledDowntimeData(tstart, start_of_night_offset=day_offset,\n",
    "                                                    survey_length=3650*2, seed=3)\n",
    "unscheduledDowntimeData.make_data()\n",
    "\n",
    "print(len(unscheduledDowntimeData.downtime))\n",
    "print(\"First downtime\", \"start\", unscheduledDowntimeData.downtime[0]['start'].isot, \n",
    "      \"end\", unscheduledDowntimeData.downtime[0]['end'].isot)\n",
    "print(\"Last downtime\", \"start\", unscheduledDowntimeData.downtime[-1]['start'].isot, \n",
    "      \"end\", unscheduledDowntimeData.downtime[-1]['end'].isot)"
   ]
  },
  {
   "cell_type": "code",
   "execution_count": 10,
   "metadata": {},
   "outputs": [],
   "source": [
    "# Read cloud data\n",
    "cloudData = cm.CloudData(tstart)\n",
    "cloudData.read_data()"
   ]
  },
  {
   "cell_type": "code",
   "execution_count": 11,
   "metadata": {},
   "outputs": [
    {
     "data": {
      "text/plain": [
       "OrderedDict([('DowntimeModel_version', '0bec6a0'),\n",
       "             ('DowntimeModel_sha', '0bec6a04497600aa71a01ebe8d9343335ed55342'),\n",
       "             ('efd_columns', ['scheduled_downtimes', 'unscheduled_downtimes']),\n",
       "             ('efd_delta_time', 0.0),\n",
       "             ('target_columns', ['time'])])"
      ]
     },
     "execution_count": 11,
     "metadata": {},
     "output_type": "execute_result"
    }
   ],
   "source": [
    "# Set up downtime model\n",
    "dtModel = dt.DowntimeModel()\n",
    "dtModel.config_info()"
   ]
  },
  {
   "cell_type": "code",
   "execution_count": 12,
   "metadata": {},
   "outputs": [
    {
     "data": {
      "text/plain": [
       "OrderedDict([('CloudModel_version', 'unknown'),\n",
       "             ('CloudModel_sha', '73e205387426ea256f6a3cb809fe8ddccddb22b1 *'),\n",
       "             ('efd_columns', ['cloud']),\n",
       "             ('efd_delta_time', 0.0),\n",
       "             ('target_columns', ['altitude', 'azimuth'])])"
      ]
     },
     "execution_count": 12,
     "metadata": {},
     "output_type": "execute_result"
    }
   ],
   "source": [
    "# Set up cloud model\n",
    "cloudModel = cm.CloudModel()\n",
    "cloudModel.config_info()"
   ]
  },
  {
   "cell_type": "code",
   "execution_count": 13,
   "metadata": {},
   "outputs": [],
   "source": [
    "# The EFD data for the downtime models is a little different than some of the other *Data values.\n",
    "# Basically, you don't repeatedly query it (although that may make sense in production),\n",
    "# and then you just pass the entire downtime arrays into the model.\n",
    "sched_downtime = scheduledDowntimeData()\n",
    "unsched_downtime = unscheduledDowntimeData()\n",
    "efdData = {'scheduled_downtimes': sched_downtime,\n",
    "           'unscheduled_downtimes': unsched_downtime}\n",
    "# But for the cloud model, the efdData is the cloud (single value, because we don't have sky maps yet)\n",
    "# value at that time.\n",
    "# i.e  efdData.update(cloudData(t))"
   ]
  },
  {
   "cell_type": "code",
   "execution_count": 34,
   "metadata": {},
   "outputs": [],
   "source": [
    "# So let's look at what we would see as a result of asking about 'downtime' and 'cloud' once per day for 10 years\n",
    "efdData = {'scheduled_downtimes': sched_downtime,\n",
    "           'unscheduled_downtimes': unsched_downtime}\n",
    "\n",
    "tStart = tstart - day_offset\n",
    "tEnd = Time('2032-10-01', format='isot', scale='tai')\n",
    "tStep = TimeDelta(1, format='jd')\n",
    "times = np.arange(tStart, tEnd, tStep)"
   ]
  },
  {
   "cell_type": "code",
   "execution_count": 35,
   "metadata": {},
   "outputs": [
    {
     "data": {
      "text/plain": [
       "('2022-10-01T08:09:36.000', '2032-09-30T08:09:36.000', 3652.0)"
      ]
     },
     "execution_count": 35,
     "metadata": {},
     "output_type": "execute_result"
    }
   ],
   "source": [
    "times[0].isot, times[-1].isot, (times[-1] - times[0]).jd"
   ]
  },
  {
   "cell_type": "code",
   "execution_count": 38,
   "metadata": {},
   "outputs": [],
   "source": [
    "cloudstatus = np.zeros(len(times), bool)  # True = 1 = closed / downtime\n",
    "telestatus = np.zeros(len(times), bool)   # True = 1 = closed\n",
    "for i, t in enumerate(times):\n",
    "    efdData['cloud'] = cloudData(t)\n",
    "    targetDict = {'time': t, 'altitude': np.array([90]), 'azimuth': np.array([0])}\n",
    "    down = dtModel(efdData, targetDict)\n",
    "    telestatus[i] = down['status']\n",
    "    cloud = cloudModel(efdData, targetDict)\n",
    "    if cloud['cloud'][0] > 0.3:\n",
    "        cloudstatus[i] = True"
   ]
  },
  {
   "cell_type": "code",
   "execution_count": 54,
   "metadata": {},
   "outputs": [
    {
     "name": "stdout",
     "output_type": "stream",
     "text": [
      "total time  3653 cloud downtime  1033 telescope downtime  296 telescope and cloud downtime overlap  121 uptime  2445\n"
     ]
    }
   ],
   "source": [
    "print('total time ', len(times), 'cloud downtime ', len(np.where(cloudstatus)[0]), \n",
    "      'telescope downtime ', len(np.where(telestatus)[0]), \n",
    "      'telescope and cloud downtime overlap ', len(np.where(telestatus & cloudstatus)[0]), \n",
    "      'uptime ', len(np.where(~telestatus & ~cloudstatus)[0]))"
   ]
  },
  {
   "cell_type": "code",
   "execution_count": 40,
   "metadata": {},
   "outputs": [
    {
     "data": {
      "text/plain": [
       "(0, 1.1)"
      ]
     },
     "execution_count": 40,
     "metadata": {},
     "output_type": "execute_result"
    },
    {
     "data": {
      "image/png": "[encoded data removed]",
      "text/plain": [
       "<Figure size 1080x360 with 1 Axes>"
      ]
     },
     "metadata": {
      "needs_background": "light"
     },
     "output_type": "display_data"
    }
   ],
   "source": [
    "plt.figure(figsize=(15, 5))\n",
    "plt.plot(cloudstatus, color='r')\n",
    "plt.plot(telestatus)\n",
    "plt.ylim(0, 1.1)"
   ]
  },
  {
   "cell_type": "code",
   "execution_count": 47,
   "metadata": {},
   "outputs": [
    {
     "data": {
      "text/plain": [
       "(262.0, 103.3)"
      ]
     },
     "execution_count": 47,
     "metadata": {},
     "output_type": "execute_result"
    }
   ],
   "source": [
    "(len(times) - len(np.where(cloudstatus)[0]))/10, len(np.where(cloudstatus)[0])/10"
   ]
  },
  {
   "cell_type": "code",
   "execution_count": null,
   "metadata": {},
   "outputs": [],
   "source": []
  }
 ],
 "metadata": {
  "kernelspec": {
   "display_name": "Python 3",
   "language": "python",
   "name": "python3"
  },
  "language_info": {
   "codemirror_mode": {
    "name": "ipython",
    "version": 3
   },
   "file_extension": ".py",
   "mimetype": "text/x-python",
   "name": "python",
   "nbconvert_exporter": "python",
   "pygments_lexer": "ipython3",
   "version": "3.7.6"
  }
 },
 "nbformat": 4,
 "nbformat_minor": 2
}
