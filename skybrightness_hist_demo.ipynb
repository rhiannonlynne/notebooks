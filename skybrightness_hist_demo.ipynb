{
 "cells": [
  {
   "cell_type": "code",
   "execution_count": 4,
   "id": "442d55bc",
   "metadata": {},
   "outputs": [],
   "source": [
    "import os\n",
    "import numpy as np\n",
    "import matplotlib.pyplot as plt\n",
    "\n",
    "import rubin_sim.maf as maf\n",
    "from rubin_sim.data import get_baseline"
   ]
  },
  {
   "cell_type": "code",
   "execution_count": 6,
   "id": "db61817e",
   "metadata": {},
   "outputs": [],
   "source": [
    "class ColHistMetric(maf.BaseMetric):\n",
    "    \"\"\"Histogram the values of a column in opsim, at each healpix.\n",
    "\n",
    "    Parameters\n",
    "    ----------\n",
    "    colName : `str`, optional\n",
    "        The column name of the opsim data value to histogram.\n",
    "    bins : `np.ndarray`\n",
    "        The bins to use for the histogram of data values. \n",
    "        \n",
    "    Returns\n",
    "    -------\n",
    "    histogram : `np.ndarray`\n",
    "        Returns a histogram of the data values at each slice point;\n",
    "        these histograms can be combined and plotted using the 'SummaryHistogram plotter'.\n",
    "    \"\"\"\n",
    "\n",
    "    def __init__(\n",
    "        self,\n",
    "        colName, \n",
    "        bins,\n",
    "        **kwargs,\n",
    "    ):\n",
    "        # Pass the same bins to the plotter.\n",
    "        self.bins = bins\n",
    "        self.colName = colName\n",
    "        super().__init__(\n",
    "            col=[self.colName], metricDtype=\"object\", **kwargs\n",
    "        )\n",
    "\n",
    "    def run(self, dataSlice, slicePoint=None):\n",
    "        result, bins = np.histogram(dataSlice[self.colName], self.bins)\n",
    "        return result"
   ]
  },
  {
   "cell_type": "code",
   "execution_count": 5,
   "id": "6eb1df26",
   "metadata": {},
   "outputs": [
    {
     "name": "stdout",
     "output_type": "stream",
     "text": [
      "baseline_v2.0_10yrs\n"
     ]
    }
   ],
   "source": [
    "outdir = 'test'\n",
    "opsim_db = get_baseline()\n",
    "runName = os.path.split(opsim_db)[-1].replace('.db', '')\n",
    "print(runName)"
   ]
  },
  {
   "cell_type": "code",
   "execution_count": 7,
   "id": "f0200ced",
   "metadata": {},
   "outputs": [
    {
     "name": "stdout",
     "output_type": "stream",
     "text": [
      "Healpix slicer using NSIDE=32, approximate resolution 109.935565 arcminutes\n"
     ]
    }
   ],
   "source": [
    "skybrightness_bins = np.arange(16, 23, 0.4)\n",
    "m = ColHistMetric(colName='skyBrightness', bins=skybrightness_bins)\n",
    "s = maf.HealpixSlicer(nside=32)\n",
    "constraint = 'filter = \"r\"'\n",
    "\n",
    "bundle = maf.MetricBundle(m, s, constraint, runName=runName)"
   ]
  },
  {
   "cell_type": "code",
   "execution_count": 8,
   "id": "aceafda2",
   "metadata": {},
   "outputs": [],
   "source": [
    "g = maf.MetricBundleGroup({'0': bundle}, opsim_db, outdir)"
   ]
  },
  {
   "cell_type": "code",
   "execution_count": 9,
   "id": "7f15f97a",
   "metadata": {},
   "outputs": [
    {
     "name": "stdout",
     "output_type": "stream",
     "text": [
      "Querying table None with constraint filter = \"r\" for columns ['rotSkyPos', 'fieldDec', 'fieldRA', 'skyBrightness']\n",
      "Found 464851 visits\n",
      "Running:  ['0']\n",
      "Completed metric generation.\n",
      "Running reduce methods.\n",
      "Running summary statistics.\n",
      "Completed.\n"
     ]
    }
   ],
   "source": [
    "g.runAll()"
   ]
  },
  {
   "cell_type": "code",
   "execution_count": 10,
   "id": "fcd2f2dc",
   "metadata": {},
   "outputs": [
    {
     "data": {
      "text/plain": [
       "masked_array(data=[--, --, --, ...,\n",
       "                   array([ 0,  0,  0,  0,  0,  0,  0,  0,  0,  0,  2, 19,  0,  0,  0,  0,  0]),\n",
       "                   array([ 0,  0,  0,  0,  0,  0,  0,  0,  0,  0,  2, 19,  0,  0,  0,  0,  0]),\n",
       "                   array([ 0,  0,  0,  0,  0,  0,  1,  0,  0,  0,  3, 20,  0,  0,  0,  0,  0])],\n",
       "             mask=[ True,  True,  True, ..., False, False, False],\n",
       "       fill_value=-1.6375e+30,\n",
       "            dtype=object)"
      ]
     },
     "execution_count": 10,
     "metadata": {},
     "output_type": "execute_result"
    }
   ],
   "source": [
    "bundle.metricValues"
   ]
  },
  {
   "cell_type": "code",
   "execution_count": 13,
   "id": "99917ce8",
   "metadata": {},
   "outputs": [
    {
     "data": {
      "text/plain": [
       "(array([0.78539816, 2.35619449, 3.92699082, ..., 2.35619449, 3.92699082,\n",
       "        5.49778714]),\n",
       " array([ 1.54528012,  1.54528012,  1.54528012, ..., -1.54528012,\n",
       "        -1.54528012, -1.54528012]))"
      ]
     },
     "execution_count": 13,
     "metadata": {},
     "output_type": "execute_result"
    }
   ],
   "source": [
    "# Choose a point in the healpix grid \n",
    "\n",
    "s.slicePoints['ra'], s.slicePoints['dec']"
   ]
  },
  {
   "cell_type": "code",
   "execution_count": 18,
   "id": "3a65094d",
   "metadata": {},
   "outputs": [
    {
     "data": {
      "text/plain": [
       "{'idxs': array([371265, 230683, 136501,  34531, 363562, 306779, 324549, 128108,\n",
       "        162740, 183711, 445725, 308545, 327756, 400605, 315389, 360075,\n",
       "        235222, 157458,  36365,  36348, 157456,  42314, 124118, 122394,\n",
       "        235122, 321685, 405202, 454050, 315707, 367423, 232803, 266304,\n",
       "        224797, 236156,  40017, 358045, 134482, 225130, 314802, 137021,\n",
       "        310581, 135057, 363924, 448919, 120506, 309687, 225970, 136947,\n",
       "        309808,  67603, 460181, 264552, 129698, 172994, 224859, 406333,\n",
       "        170062, 158729, 447166, 456966, 310642, 356495, 462573, 462240,\n",
       "        253608, 125998, 132708, 460237, 368604,  37976, 136245, 367270,\n",
       "        234022, 128984, 404529,  75235, 320403, 125253, 350873,  81358,\n",
       "        312439, 409642, 125329, 409791, 127657, 128388, 229300, 220639,\n",
       "        312603, 163124, 322077, 234318, 127244, 317924, 311915, 319750,\n",
       "        411081, 221816, 373590, 326828,  38497, 322402, 320396, 326491,\n",
       "        367424, 123941, 218639, 275631, 444420, 229301, 123983,  80594,\n",
       "        221034, 230773, 177698, 454919, 367290, 311860,  69955,  33976,\n",
       "         33977, 326785, 228583, 352438,  43914, 317178, 452991, 322075,\n",
       "        323509, 360134, 396440, 221080, 228722, 355909, 133613, 124449,\n",
       "        319274, 411139, 409509, 398580, 329362, 221450, 256242, 228721,\n",
       "        171761, 232798, 130463, 399831, 456002, 325805, 231474, 397344,\n",
       "        316309, 218917, 401805, 126466, 313467, 218958, 325888, 313512,\n",
       "         77852, 363560, 321682, 445727, 411289,  36361, 228078, 220647,\n",
       "        165102, 445646, 327754, 262755, 312601,  31792, 412219, 125377,\n",
       "        125251, 122389, 370942, 360135,  35205, 372929, 358403, 400606,\n",
       "        315385,  45690, 366555, 234316, 127294,  74560, 458872, 127241,\n",
       "        162738, 228538]),\n",
       " 'slicePoint': {'sid': 9000,\n",
       "  'ra': 5.129631754689584,\n",
       "  'dec': -0.47611906091179623,\n",
       "  'nside': 32,\n",
       "  'gall': 0.21284728876316564,\n",
       "  'galb': -0.3688649937014172}}"
      ]
     },
     "execution_count": 18,
     "metadata": {},
     "output_type": "execute_result"
    }
   ],
   "source": [
    "sidx = 9000\n",
    "s[sidx]"
   ]
  },
  {
   "cell_type": "code",
   "execution_count": 20,
   "id": "457ba214",
   "metadata": {},
   "outputs": [
    {
     "data": {
      "text/plain": [
       "(array([  0,   0,   0,   0,   0,   0,   0,   3,   6,   3,   9,  47, 126,\n",
       "          0,   0,   0,   0]),\n",
       " array([16. , 16.4, 16.8, 17.2, 17.6, 18. , 18.4, 18.8, 19.2, 19.6, 20. ,\n",
       "        20.4, 20.8, 21.2, 21.6, 22. , 22.4, 22.8]))"
      ]
     },
     "execution_count": 20,
     "metadata": {},
     "output_type": "execute_result"
    }
   ],
   "source": [
    "bundle.metricValues[sidx], skybrightness_bins"
   ]
  },
  {
   "cell_type": "code",
   "execution_count": 26,
   "id": "23018a87",
   "metadata": {},
   "outputs": [
    {
     "data": {
      "text/plain": [
       "Text(0, 0.5, 'Number of points')"
      ]
     },
     "execution_count": 26,
     "metadata": {},
     "output_type": "execute_result"
    },
    {
     "data": {
      "image/png": "[encoded data removed]",
      "text/plain": [
       "<Figure size 432x288 with 1 Axes>"
      ]
     },
     "metadata": {
      "needs_background": "light"
     },
     "output_type": "display_data"
    }
   ],
   "source": [
    "plt.plot(skybrightness_bins[:-1], bundle.metricValues[sidx], 'ko')\n",
    "plt.xlabel('Skybrightness')\n",
    "plt.ylabel('Number of points')"
   ]
  },
  {
   "cell_type": "code",
   "execution_count": null,
   "id": "6406db07",
   "metadata": {},
   "outputs": [],
   "source": []
  }
 ],
 "metadata": {
  "kernelspec": {
   "display_name": "Python 3 (ipykernel)",
   "language": "python",
   "name": "python3"
  },
  "language_info": {
   "codemirror_mode": {
    "name": "ipython",
    "version": 3
   },
   "file_extension": ".py",
   "mimetype": "text/x-python",
   "name": "python",
   "nbconvert_exporter": "python",
   "pygments_lexer": "ipython3",
   "version": "3.9.12"
  }
 },
 "nbformat": 4,
 "nbformat_minor": 5
}
