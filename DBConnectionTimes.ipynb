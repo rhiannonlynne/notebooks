{
 "cells": [
  {
   "cell_type": "code",
   "execution_count": 1,
   "id": "e8dba12e",
   "metadata": {},
   "outputs": [],
   "source": [
    "import numpy as np\n",
    "import pandas as pd\n",
    "from rubin_sim.maf.utils import getSimData\n",
    "import sqlite3"
   ]
  },
  {
   "cell_type": "code",
   "execution_count": 2,
   "id": "4382f839",
   "metadata": {},
   "outputs": [],
   "source": [
    "import os\n",
    "from sqlalchemy import create_engine\n",
    "from sqlalchemy.engine import make_url\n",
    "from sqlalchemy import inspect\n",
    "\n",
    "__all__ = [\"OpsimDatabase\"]\n",
    "\n",
    "\n",
    "class OpsimDatabase:\n",
    "    \"\"\"Stub for backwards compatibility\"\"\"\n",
    "\n",
    "    def __init__(self, dbinfo, **kwargs):\n",
    "\n",
    "        if \"://\" in dbinfo:\n",
    "            # assume this is a user-configured engine connection string for sqlalchemy\n",
    "            self.url = make_url(dbinfo)\n",
    "        else:\n",
    "            if not os.path.exists(dbinfo):\n",
    "                FileExistsError(f\"Cannot find existing database at {dbinfo}\")\n",
    "            self.url = make_url(\"sqlite:///\" + dbinfo)\n",
    "        # connection and save connection\n",
    "        self.engine = create_engine(self.url)\n",
    "        self.connection = self.engine.connect()\n",
    "        # Find the default table name\n",
    "        inspector = inspect(self.engine)\n",
    "        tables = [inspector.get_table_names(schema=schema) for schema in inspector.get_schema_names()]\n",
    "        # for our sqlite databases, there is only one schema\n",
    "        if 'observations' in tables[0]:\n",
    "            self.defaultTable = 'observations'\n",
    "        elif 'summaryAllProps' in tables[0]:\n",
    "            self.defaultTable = 'summaryallprops'\n",
    "        elif 'summary' in tables[0]:\n",
    "            self.defaultTable = 'summary'"
   ]
  },
  {
   "cell_type": "code",
   "execution_count": 3,
   "id": "e3bd8d95",
   "metadata": {},
   "outputs": [],
   "source": [
    "# Does pd.read_sql have any preference about what the connection is?"
   ]
  },
  {
   "cell_type": "code",
   "execution_count": 4,
   "id": "375c80ad",
   "metadata": {},
   "outputs": [],
   "source": [
    "connection = sqlite3.connect('baseline_v2.0_10yrs.db')"
   ]
  },
  {
   "cell_type": "code",
   "execution_count": 5,
   "id": "a5da8fc7",
   "metadata": {},
   "outputs": [
    {
     "name": "stdout",
     "output_type": "stream",
     "text": [
      "5.59 s ± 85.7 ms per loop (mean ± std. dev. of 7 runs, 1 loop each)\n"
     ]
    }
   ],
   "source": [
    "%%timeit\n",
    "n = 25\n",
    "for i in range(10):\n",
    "    pd.read_sql(f'select fieldRA, fieldDec, night, filter, note from observations where night > {n+i*2} and night < {n + 320 + i*2}', \n",
    "                connection)"
   ]
  },
  {
   "cell_type": "code",
   "execution_count": 6,
   "id": "3bf1a4d3",
   "metadata": {},
   "outputs": [],
   "source": [
    "connection = create_engine('sqlite:///baseline_v2.0_10yrs.db')"
   ]
  },
  {
   "cell_type": "code",
   "execution_count": 7,
   "id": "a1f49d05",
   "metadata": {},
   "outputs": [
    {
     "name": "stdout",
     "output_type": "stream",
     "text": [
      "6.09 s ± 88.1 ms per loop (mean ± std. dev. of 7 runs, 1 loop each)\n"
     ]
    }
   ],
   "source": [
    "%%timeit\n",
    "n = 22\n",
    "for i in range(10):\n",
    "    pd.read_sql(f'select fieldRA, fieldDec, night, filter, note from observations where night > {n+i*2} and night < {n + 320 + i*2}', \n",
    "                connection)"
   ]
  },
  {
   "cell_type": "code",
   "execution_count": 8,
   "id": "b11e405c",
   "metadata": {},
   "outputs": [],
   "source": [
    "connection = create_engine('sqlite:///baseline_v2.0_10yrs.db').connect()"
   ]
  },
  {
   "cell_type": "code",
   "execution_count": 9,
   "id": "fe94db91",
   "metadata": {},
   "outputs": [
    {
     "name": "stdout",
     "output_type": "stream",
     "text": [
      "6.03 s ± 41 ms per loop (mean ± std. dev. of 7 runs, 1 loop each)\n"
     ]
    }
   ],
   "source": [
    "%%timeit\n",
    "n = 24\n",
    "for i in range(10):\n",
    "    pd.read_sql(f'select fieldRA, fieldDec, night, filter, note from observations where night > {n+i*2} and night < {n + 320 + i*2}', \n",
    "                connection)"
   ]
  },
  {
   "cell_type": "code",
   "execution_count": 10,
   "id": "0ec47bf2",
   "metadata": {},
   "outputs": [],
   "source": [
    "# So .. sort of. I actually found these to vary a lot more than the standard deviation on reruns."
   ]
  },
  {
   "cell_type": "code",
   "execution_count": 11,
   "id": "a2326c57",
   "metadata": {},
   "outputs": [],
   "source": [
    "# Then - does it matter if we're opening and closing connections all the time? "
   ]
  },
  {
   "cell_type": "code",
   "execution_count": 12,
   "id": "2f22e0a0",
   "metadata": {},
   "outputs": [
    {
     "name": "stdout",
     "output_type": "stream",
     "text": [
      "5.93 s ± 44 ms per loop (mean ± std. dev. of 7 runs, 1 loop each)\n"
     ]
    }
   ],
   "source": [
    "%%timeit\n",
    "n = 80\n",
    "for i in range(10):\n",
    "    con = sqlite3.connect('baseline_v2.0_10yrs.db')\n",
    "    data = getSimData(con, f'night > {i+n} and night < {i+n+320}', \n",
    "                      ['fieldRA', 'fieldDec', 'night', 'filter', 'note'], tableName='observations')\n",
    "    con.close()"
   ]
  },
  {
   "cell_type": "code",
   "execution_count": 13,
   "id": "3b2a2f92",
   "metadata": {},
   "outputs": [
    {
     "name": "stdout",
     "output_type": "stream",
     "text": [
      "6.23 s ± 227 ms per loop (mean ± std. dev. of 7 runs, 1 loop each)\n"
     ]
    }
   ],
   "source": [
    "%%timeit\n",
    "n = 81\n",
    "con = sqlite3.connect('baseline_v2.0_10yrs.db')\n",
    "for i in range(10):\n",
    "    data = getSimData(con, f'night > {i+n} and night < {i+n+320}', \n",
    "                      ['fieldRA', 'fieldDec', 'night', 'filter', 'note'], tableName='observations')\n",
    "con.close()"
   ]
  },
  {
   "cell_type": "code",
   "execution_count": 14,
   "id": "c3a42f7e",
   "metadata": {},
   "outputs": [
    {
     "name": "stdout",
     "output_type": "stream",
     "text": [
      "6.9 s ± 227 ms per loop (mean ± std. dev. of 7 runs, 1 loop each)\n"
     ]
    }
   ],
   "source": [
    "%%timeit\n",
    "opsdb = OpsimDatabase('baseline_v2.0_10yrs.db')\n",
    "n = 83\n",
    "for i in range(10):\n",
    "    data = getSimData(opsdb.connection, f'night > {n+i} and night < {n+i+320}', \n",
    "                      ['fieldRA', 'fieldDec', 'night', 'filter', 'note'], \n",
    "                      tableName=opsdb.defaultTable)"
   ]
  },
  {
   "cell_type": "code",
   "execution_count": 15,
   "id": "75a33f9d",
   "metadata": {},
   "outputs": [],
   "source": [
    "# And does it matter if we have to do extra work to figure out the table name each time?"
   ]
  },
  {
   "cell_type": "code",
   "execution_count": 16,
   "id": "4c40dc55",
   "metadata": {},
   "outputs": [
    {
     "name": "stdout",
     "output_type": "stream",
     "text": [
      "5.99 s ± 76 ms per loop (mean ± std. dev. of 7 runs, 1 loop each)\n"
     ]
    }
   ],
   "source": [
    "%%timeit\n",
    "n = 84\n",
    "for i in range(10):\n",
    "    data = getSimData('baseline_v2.0_10yrs.db', f'night > {i+n} and night < {i+n+320}', \n",
    "                      ['fieldRA', 'fieldDec', 'night', 'filter', 'note'], tableName='observations')"
   ]
  },
  {
   "cell_type": "code",
   "execution_count": 17,
   "id": "1a6f8f7f",
   "metadata": {},
   "outputs": [
    {
     "name": "stdout",
     "output_type": "stream",
     "text": [
      "6.06 s ± 88.6 ms per loop (mean ± std. dev. of 7 runs, 1 loop each)\n"
     ]
    }
   ],
   "source": [
    "%%timeit\n",
    "n = 85\n",
    "for i in range(10):\n",
    "    data = getSimData('baseline_v2.0_10yrs.db', f'night > {i+n} and night < {i+n+320}', \n",
    "                      ['fieldRA', 'fieldDec', 'night', 'filter', 'note'], tableName=None)"
   ]
  },
  {
   "cell_type": "code",
   "execution_count": 18,
   "id": "2710033d",
   "metadata": {},
   "outputs": [],
   "source": [
    "# .. mysterious. "
   ]
  },
  {
   "cell_type": "code",
   "execution_count": null,
   "id": "e44c4135",
   "metadata": {},
   "outputs": [],
   "source": []
  }
 ],
 "metadata": {
  "kernelspec": {
   "display_name": "Python 3 (ipykernel)",
   "language": "python",
   "name": "python3"
  },
  "language_info": {
   "codemirror_mode": {
    "name": "ipython",
    "version": 3
   },
   "file_extension": ".py",
   "mimetype": "text/x-python",
   "name": "python",
   "nbconvert_exporter": "python",
   "pygments_lexer": "ipython3",
   "version": "3.9.7"
  }
 },
 "nbformat": 4,
 "nbformat_minor": 5
}
