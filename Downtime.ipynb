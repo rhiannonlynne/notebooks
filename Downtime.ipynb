{
 "cells": [
  {
   "cell_type": "code",
   "execution_count": null,
   "id": "3fb81dc2-01f2-4bd5-8daf-4279a21255d5",
   "metadata": {},
   "outputs": [],
   "source": [
    "import os\n",
    "import sqlite3\n",
    "import numpy as np\n",
    "import pandas as pd\n",
    "import matplotlib.pyplot as plt\n",
    "from astropy.time import Time, TimeDelta\n",
    "import rubin_sim.maf as maf\n",
    "from rubin_scheduler.site_models import Almanac\n",
    "from rubin_scheduler.site_models import ScheduledDowntimeData, UnscheduledDowntimeData, UnscheduledDowntimeMoreY1Data, CloudData\n",
    "from rubin_scheduler.site_models import CloudModel\n",
    "from rubin_scheduler.utils import SURVEY_START_MJD\n",
    "from downtime import new_downtimes "
   ]
  },
  {
   "cell_type": "code",
   "execution_count": null,
   "id": "a3cb2f2b-24e3-4358-b8a1-27a86aa6f06b",
   "metadata": {},
   "outputs": [],
   "source": [
    "# Point to your baseline_v3.6 simulation\n",
    "opsdb = '../fbs_3.6/baseline_v3.6_10yrs.db'"
   ]
  },
  {
   "cell_type": "code",
   "execution_count": null,
   "id": "d5447679-72d9-4e42-8f03-a8d1d3480892",
   "metadata": {},
   "outputs": [],
   "source": [
    "conn = sqlite3.connect(opsdb)\n",
    "query = \"select observationStartMJD, night, visitExposureTime, visitTime, filter, slewTime, note from observations\"\n",
    "visits = pd.read_sql(query, conn)"
   ]
  },
  {
   "cell_type": "code",
   "execution_count": null,
   "id": "24a83b61-fb67-42cd-b210-a1fe7ac2be72",
   "metadata": {},
   "outputs": [],
   "source": [
    "start_mjd = SURVEY_START_MJD\n",
    "start_time = Time(start_mjd, format='mjd', scale='utc')\n",
    "start_offset = 0 #start_time - Time('2025-01-01') - TimeDelta(0.34, format='jd')\n",
    "start_mjd"
   ]
  },
  {
   "cell_type": "code",
   "execution_count": null,
   "id": "2f5327be-2aca-41c8-8261-e2b39717520e",
   "metadata": {},
   "outputs": [],
   "source": [
    "almanac = Almanac(start_mjd)"
   ]
  },
  {
   "cell_type": "code",
   "execution_count": null,
   "id": "9026c55b-bb9d-4abf-8cd8-b29bc1d6ce6a",
   "metadata": {},
   "outputs": [],
   "source": [
    "start_idx = np.where(almanac.sunsets['night'] == 0)[0][0]"
   ]
  },
  {
   "cell_type": "code",
   "execution_count": null,
   "id": "8dd4d8a1-2dbe-4539-995f-c3aafdc982a8",
   "metadata": {},
   "outputs": [],
   "source": [
    "sunsets = almanac.sunsets[start_idx : start_idx + 3651]['sun_n12_setting']\n",
    "sunrises = almanac.sunsets[start_idx : start_idx + 3651]['sun_n12_rising']\n",
    "\n",
    "nights = np.arange(0, 3651, 1)\n",
    "night_hours = (sunrises - sunsets) * 24\n",
    "print(len(nights), len(sunsets))"
   ]
  },
  {
   "cell_type": "code",
   "execution_count": null,
   "id": "9b48b192-0309-43f5-832c-9ba899aaae37",
   "metadata": {},
   "outputs": [],
   "source": [
    "sunsets = almanac.sunsets[start_idx : start_idx + 3651]['sun_n18_setting']\n",
    "sunrises = almanac.sunsets[start_idx : start_idx + 3651]['sun_n18_rising']\n",
    "night18_hours = (sunrises - sunsets) * 24"
   ]
  },
  {
   "cell_type": "code",
   "execution_count": null,
   "id": "6ea96902-18d7-4a18-98fd-a92b2118f011",
   "metadata": {},
   "outputs": [],
   "source": [
    "scheduled_downtime = ScheduledDowntimeData(start_time)()\n",
    "#unscheduled_downtime = UnscheduledDowntimeData(start_time)()\n",
    "unscheduled_downtime =  UnscheduledDowntimeMoreY1Data(start_time)()\n",
    "UnscheduledDowntimeMoreY1Data(start_time).night0.mjd"
   ]
  },
  {
   "cell_type": "code",
   "execution_count": null,
   "id": "bdcb7055-e898-42a4-b4e5-acba38f463be",
   "metadata": {},
   "outputs": [],
   "source": [
    "unscheduled_downtime[0:1]"
   ]
  },
  {
   "cell_type": "code",
   "execution_count": null,
   "id": "b66452c0-8714-4845-9ffc-8f35af2d599f",
   "metadata": {},
   "outputs": [],
   "source": [
    "# Looking for a short downtime example, and checking on other things -- just convert unscheduled downtimes in pandas\n",
    "udt = pd.DataFrame([[t.mjd for t in unscheduled_downtime['start']], \n",
    "                    [t.mjd for t in unscheduled_downtime['end']], \n",
    "                    unscheduled_downtime['activity']], \n",
    "                   index=[\"start\", \"end\", \"activity\"]).T\n",
    "udt['duration'] = udt['end'] - udt['start']\n",
    "#note that unscheduled downtime starts at the start of the year (as in UnscheduledDowntimeMoreYear1Data.t_start)\n",
    "plt.plot(udt.start, udt.duration, 'k', marker='.', linestyle=':')\n",
    "plt.axvline(SURVEY_START_MJD, color='r', linestyle=':')\n",
    "plt.axvline(SURVEY_START_MJD + 365.25, color='r', linestyle=':')\n",
    "plt.xlim(60675.66, SURVEY_START_MJD + 500)\n",
    "plt.ylim(0, 8)\n",
    "plt.grid(True, alpha=0.3)\n",
    "plt.ylabel(\"Days of downtime\")\n",
    "# GOOD - looks like even with 'night0' being the start of the year, the onset of short downtimes is correct, and they last throughout the year."
   ]
  },
  {
   "cell_type": "code",
   "execution_count": null,
   "id": "909da5c9-f557-458f-8852-0614050edb34",
   "metadata": {},
   "outputs": [],
   "source": [
    "udt.query(\"start > @SURVEY_START_MJD and start < @SURVEY_START_MJD + 400\")"
   ]
  },
  {
   "cell_type": "code",
   "execution_count": null,
   "id": "a0ba2d1b-dbee-4717-86cf-48ade93a3c32",
   "metadata": {},
   "outputs": [],
   "source": [
    "# What does the scheduler do around this short downtime?\n",
    "# What time is sunrise on this night? \n",
    "udt_i = 8\n",
    "mjd = udt.iloc[udt_i]['start']\n",
    "sunsets = almanac.get_sunset_info(mjd)#sunsets[1]['sun_n12_rising']\n",
    "sunrise = sunsets['sun_n12_rising']\n",
    "print(\"sunset\", sunsets['sun_n12_setting'], \"sunrise\", sunsets['sun_n12_rising'])\n",
    "print(\"downtime start\", udt.iloc[udt_i]['start'], \"downtime end\", udt.iloc[udt_i][\"end\"])\n",
    "start_dt = udt.iloc[udt_i]['start'] - 5 / 60 /24\n",
    "visits.query('observationStartMJD > @start_dt and observationStartMJD < @sunrise')"
   ]
  },
  {
   "cell_type": "code",
   "execution_count": null,
   "id": "81822560-3ee7-42eb-9f48-93d555d74e24",
   "metadata": {},
   "outputs": [],
   "source": [
    "# So visits after the downtime are missing .. is it clouds? -- doesn't look like it\n",
    "clouds = CloudData(start_time=Time(SURVEY_START_MJD, format='mjd', scale='utc'))\n",
    "clouds(Time(np.arange(start_dt, sunrise, 10/60/24), scale='utc', format='mjd')).max()"
   ]
  },
  {
   "cell_type": "code",
   "execution_count": null,
   "id": "6b1acd7d-eda8-4ac6-ac73-5f73f341678a",
   "metadata": {},
   "outputs": [],
   "source": [
    "# Let's look at downtime events:\n",
    "# Assign downtime hours from scheduled and unscheduled downtime events\n",
    "mjds = start_mjd + nights\n",
    "scheddown_hours = np.zeros(len(nights))\n",
    "for dt in scheduled_downtime:\n",
    "    idxs = np.where((mjds > dt['start'].mjd) & (mjds < dt['end'].mjd))[0]\n",
    "    scheddown_hours[idxs] = night_hours[idxs]\n",
    "\n",
    "unscheddown_hours = np.zeros(len(nights))\n",
    "for dt in unscheduled_downtime:\n",
    "    idxs = np.where((mjds > dt['start'].mjd) & (mjds < dt['end'].mjd))[0]\n",
    "    hours = (dt['end'].mjd - dt['start'].mjd) * 24\n",
    "    for idx in idxs:\n",
    "        if hours > night_hours[idx]:\n",
    "            unscheddown_hours[idx] = night_hours[idx]\n",
    "        else:\n",
    "            unscheddown_hours[idx] = hours\n",
    "\n",
    "# if unscheduled events overlap scheduled ones, use scheduled only\n",
    "overlaps = np.where((unscheddown_hours > 0) & (scheddown_hours >0))[0]\n",
    "unscheddown_hours[overlaps] = 0"
   ]
  },
  {
   "cell_type": "code",
   "execution_count": null,
   "id": "e8f582c5-4fd0-4a61-9300-f9567db5862b",
   "metadata": {},
   "outputs": [],
   "source": [
    "# Total amount of engineering downtime\n",
    "scheddown_hours.sum()/10/7, unscheddown_hours.sum()/10/7"
   ]
  },
  {
   "cell_type": "code",
   "execution_count": null,
   "id": "af5a1795-09ef-4497-9731-1c906fd3d1ed",
   "metadata": {},
   "outputs": [],
   "source": [
    "# number of nights with any observations\n",
    "len(visits.night.unique()),  visits.night.max(), len(visits.night.unique())/visits.night.max()"
   ]
  },
  {
   "cell_type": "code",
   "execution_count": null,
   "id": "5221ba39-651a-4e92-b8a5-314d84b92ea0",
   "metadata": {},
   "outputs": [],
   "source": [
    "# First - just amount of downtime on any given night, compared to length of night\n",
    "rr = rr = np.where((nights > 0) & (nights < 400))\n",
    "plt.plot(nights[rr], night_hours[rr], night18_hours[rr])\n",
    "plt.bar(nights[rr], scheddown_hours[rr], color='r')\n",
    "plt.bar(nights[rr], unscheddown_hours[rr], bottom=scheddown_hours[rr], color='k')"
   ]
  },
  {
   "cell_type": "code",
   "execution_count": null,
   "id": "7fe82f28-1841-49c9-81cc-e2da836959a9",
   "metadata": {},
   "outputs": [],
   "source": [
    "# Now let's calculate slewtime for all nights\n",
    "slewtime = y1.groupby('night').sum('slewTime')['slewTime']/60/60\n",
    "slewtime_hours = np.zeros(len(nights))\n",
    "slewtime_hours[slewtime.index] = slewtime.values"
   ]
  },
  {
   "cell_type": "code",
   "execution_count": null,
   "id": "24e2cbb1-59d0-4a52-81dd-82f72b2db402",
   "metadata": {},
   "outputs": [],
   "source": [
    "# And calculate time in visits (including overhead)\n",
    "visittime = y1.groupby('night').sum('visitTime')['visitTime']/60/60\n",
    "visit_hours = np.zeros(len(nights))\n",
    "visit_hours[visittime.index] = visittime.values"
   ]
  },
  {
   "cell_type": "code",
   "execution_count": null,
   "id": "064611af-ef44-4d02-8569-a4d93cd94317",
   "metadata": {},
   "outputs": [],
   "source": [
    "# And calculate open-shutter time\n",
    "onsky_time = y1.groupby('night').sum('visitExposureTime')['visitExposureTime']/60/60\n",
    "onsky_hours = np.zeros(len(nights))\n",
    "onsky_hours[onsky_time.index] = onsky_time.values\n",
    "\n",
    "# now can calculate overhead for each visit (not including slewtime, just readouts)\n",
    "visit_overhead = visit_hours - onsky_hours"
   ]
  },
  {
   "cell_type": "code",
   "execution_count": null,
   "id": "d6028ffb-353b-40df-a943-1eff6138439e",
   "metadata": {},
   "outputs": [],
   "source": [
    "# calculate actively observing hours\n",
    "active_hours = slewtime_hours + visit_hours\n",
    "# so downtime is time not actively observing -- due to scheduled, unscheduled and cloud downtime\n",
    "down_hours = night_hours - active_hours\n",
    "# we know downtime hours from scheduled and unscheduled -- assign what is left to clouds\n",
    "# If the simulation is working properly, this is fine. Unexplained downtime will be assigned to clouds though, if it's not.\n",
    "cloud_hours = down_hours - scheddown_hours - unscheddown_hours"
   ]
  },
  {
   "cell_type": "code",
   "execution_count": null,
   "id": "ec5881d2-412e-45f1-8233-3c54283d6bbc",
   "metadata": {},
   "outputs": [],
   "source": [
    "# what fraction of nights have some cloud down time\n",
    "len(np.where(cloud_hours > 20/60)[0]) /  3651, 1 - (active_hours / night_hours).mean()"
   ]
  },
  {
   "cell_type": "code",
   "execution_count": null,
   "id": "8f17dfa3-8476-4981-a09d-0812c132f505",
   "metadata": {},
   "outputs": [],
   "source": [
    "# What fraction of the night, on average, are we observing\n",
    "(onsky_hours / night_hours).mean(), (onsky_hours / night18_hours).mean()"
   ]
  },
  {
   "cell_type": "code",
   "execution_count": null,
   "id": "3f3ec763-7823-4e63-9c6e-0715f1fc76d8",
   "metadata": {},
   "outputs": [],
   "source": [
    "# Make plot of each of these contributions for the first 400 nights\n",
    "# Remember downtime will be called \"Weather\" (clouds) if it's not explicitly due to other sources\n",
    "rr = np.where((nights > 0) & (nights < 400))\n",
    "plt.plot(nights[rr], night_hours[rr], color='k', label='night time')\n",
    "plt.plot(nights[rr], night18_hours[rr], color='k', linestyle=':')\n",
    "base = 0\n",
    "plt.bar(nights[rr], onsky_hours[rr], width=1, label='onsky time')\n",
    "base = onsky_hours[rr] * 1\n",
    "plt.bar(nights[rr], visit_overhead[rr], bottom=base, width=1, label='shutter + 1 readout')\n",
    "base += visit_overhead[rr]\n",
    "plt.bar(nights[rr], slewtime_hours[rr], bottom=base, width=1, label=\"slew time\")\n",
    "base += slewtime_hours[rr]\n",
    "plt.bar(nights[rr], scheddown_hours[rr], bottom=base, width=1, label='scheduled downtime time')\n",
    "base += scheddown_hours[rr]\n",
    "plt.bar(nights[rr], unscheddown_hours[rr], bottom=base, width=1, label='unscheduled downtime time')\n",
    "base += unscheddown_hours[rr]\n",
    "plt.bar(nights[rr], cloud_hours[rr], bottom=base, width=1, label=\"Weather downtime\")\n",
    "plt.legend(loc=(1.01, 0.5))\n",
    "plt.ylim(0, 12)\n",
    "plt.xlim(0, 400)\n",
    "_ = plt.title('baseline_v3.6_10yrs')"
   ]
  },
  {
   "cell_type": "code",
   "execution_count": null,
   "id": "992b4130-e674-4122-8d90-8ad7ecfb1a65",
   "metadata": {},
   "outputs": [],
   "source": [
    "# Histogram of on-sky time\n",
    "on_sky = onsky_hours[np.where(onsky_hours[rr] > 0)]\n",
    "#_ = plt.hist(night_hours, bins=np.arange(0, 14, 0.5), histtype='step')\n",
    "_ = plt.hist(on_sky, bins=np.arange(0, 12, 1), alpha=0.8)\n",
    "plt.xlabel(\"Hours of on-sky exposure time\")\n",
    "plt.ylabel(\"Number of nights\")"
   ]
  },
  {
   "cell_type": "code",
   "execution_count": null,
   "id": "b350fe0a-fc81-4e8e-a37b-e3337dc60d52",
   "metadata": {},
   "outputs": [],
   "source": [
    "downtime_week = np.convolve(down_hours[rr], np.ones(7))\n",
    "_ = plt.hist(downtime_week, bins=50)\n",
    "plt.xlabel(\"Hours of downtime per week\")\n",
    "plt.ylabel(\"Frequency (sliding week window) over first year\")\n",
    "plt.grid(True, alpha=0.3)\n",
    "plt.xlim(0)"
   ]
  },
  {
   "cell_type": "code",
   "execution_count": null,
   "id": "f6f3378e-3d54-4030-a0af-24a1730d4096",
   "metadata": {},
   "outputs": [],
   "source": []
  }
 ],
 "metadata": {
  "kernelspec": {
   "display_name": "Python 3 (ipykernel)",
   "language": "python",
   "name": "python3"
  },
  "language_info": {
   "codemirror_mode": {
    "name": "ipython",
    "version": 3
   },
   "file_extension": ".py",
   "mimetype": "text/x-python",
   "name": "python",
   "nbconvert_exporter": "python",
   "pygments_lexer": "ipython3",
   "version": "3.11.9"
  }
 },
 "nbformat": 4,
 "nbformat_minor": 5
}
